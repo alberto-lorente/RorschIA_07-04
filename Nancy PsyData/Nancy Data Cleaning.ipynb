{
 "cells": [
  {
   "cell_type": "markdown",
   "metadata": {},
   "source": [
    "# DATA INFO"
   ]
  },
  {
   "cell_type": "markdown",
   "metadata": {},
   "source": [
    "This is the data provided by the psychology department "
   ]
  },
  {
   "cell_type": "markdown",
   "metadata": {},
   "source": [
    "# Data cleaning"
   ]
  },
  {
   "cell_type": "code",
   "execution_count": 37,
   "metadata": {},
   "outputs": [],
   "source": [
    "import os\n",
    "import pandas as pd "
   ]
  },
  {
   "cell_type": "code",
   "execution_count": 38,
   "metadata": {},
   "outputs": [],
   "source": [
    "list_files = os.listdir()\n",
    "list_files = [csv for csv in list_files if \"Protocoles\" in csv]"
   ]
  },
  {
   "cell_type": "code",
   "execution_count": 39,
   "metadata": {},
   "outputs": [
    {
     "data": {
      "text/plain": [
       "[]"
      ]
     },
     "execution_count": 39,
     "metadata": {},
     "output_type": "execute_result"
    }
   ],
   "source": [
    "list_files"
   ]
  },
  {
   "cell_type": "code",
   "execution_count": 40,
   "metadata": {},
   "outputs": [],
   "source": [
    "nancy_df = pd.DataFrame()"
   ]
  },
  {
   "cell_type": "code",
   "execution_count": 41,
   "metadata": {},
   "outputs": [],
   "source": [
    "for data in list_files:\n",
    "    df = pd.read_csv(data)\n",
    "    nancy_df = pd.concat([nancy_df, df])"
   ]
  },
  {
   "cell_type": "code",
   "execution_count": 42,
   "metadata": {},
   "outputs": [
    {
     "data": {
      "text/plain": [
       "RangeIndex(start=0, stop=0, step=1)"
      ]
     },
     "execution_count": 42,
     "metadata": {},
     "output_type": "execute_result"
    }
   ],
   "source": [
    "nancy_df.index"
   ]
  },
  {
   "cell_type": "code",
   "execution_count": 43,
   "metadata": {},
   "outputs": [
    {
     "data": {
      "text/plain": [
       "(0, 0)"
      ]
     },
     "execution_count": 43,
     "metadata": {},
     "output_type": "execute_result"
    }
   ],
   "source": [
    "nancy_df.shape"
   ]
  },
  {
   "cell_type": "code",
   "execution_count": 44,
   "metadata": {},
   "outputs": [
    {
     "data": {
      "text/plain": [
       "RangeIndex(start=0, stop=0, step=1)"
      ]
     },
     "execution_count": 44,
     "metadata": {},
     "output_type": "execute_result"
    }
   ],
   "source": [
    "nancy_df.columns"
   ]
  },
  {
   "cell_type": "markdown",
   "metadata": {},
   "source": [
    "We can see that Localisation, Determinant and Contenu are formated in two different columns"
   ]
  },
  {
   "cell_type": "code",
   "execution_count": 45,
   "metadata": {},
   "outputs": [],
   "source": [
    "# nancy_df[\"QUAL\"].notna().sum()"
   ]
  },
  {
   "cell_type": "code",
   "execution_count": 46,
   "metadata": {},
   "outputs": [],
   "source": [
    "# nancy_df['Réponse (French)']"
   ]
  },
  {
   "cell_type": "code",
   "execution_count": 47,
   "metadata": {},
   "outputs": [],
   "source": [
    "cols_drop = ['Pl', 'Numéros réponse', 'Position',\n",
    "            'Enquête (French)', 'Inquiry (English)',\n",
    "            'Localisation', '4e colonne',\n",
    "            'LOC', 'QUAL',\n",
    "            'Unnamed: 11', 'Unnamed: 7', \n",
    "            'Unnamed: 8', 'Unnamed: 9',\n",
    "            'Unnamed: 10']"
   ]
  },
  {
   "cell_type": "code",
   "execution_count": 48,
   "metadata": {},
   "outputs": [],
   "source": [
    "# nancy_df.drop(cols_drop, axis=1, inplace=True)"
   ]
  },
  {
   "cell_type": "code",
   "execution_count": 49,
   "metadata": {},
   "outputs": [],
   "source": [
    "# nancy_df[\"Déterminant\"] = nancy_df[[\"Déterminant\", \"DET\"]].bfill(axis=1).iloc[:,0]\n",
    "# nancy_df[\"Contenu\"] = nancy_df[[\"Contenu\", \"CON\"]].bfill(axis=1).iloc[:,0]"
   ]
  },
  {
   "cell_type": "code",
   "execution_count": 50,
   "metadata": {},
   "outputs": [
    {
     "ename": "KeyError",
     "evalue": "\"['DET', 'CON'] not found in axis\"",
     "output_type": "error",
     "traceback": [
      "\u001b[1;31m---------------------------------------------------------------------------\u001b[0m",
      "\u001b[1;31mKeyError\u001b[0m                                  Traceback (most recent call last)",
      "Cell \u001b[1;32mIn[50], line 1\u001b[0m\n\u001b[1;32m----> 1\u001b[0m \u001b[43mnancy_df\u001b[49m\u001b[38;5;241;43m.\u001b[39;49m\u001b[43mdrop\u001b[49m\u001b[43m(\u001b[49m\u001b[43m[\u001b[49m\u001b[38;5;124;43m\"\u001b[39;49m\u001b[38;5;124;43mDET\u001b[39;49m\u001b[38;5;124;43m\"\u001b[39;49m\u001b[43m,\u001b[49m\u001b[43m \u001b[49m\u001b[38;5;124;43m\"\u001b[39;49m\u001b[38;5;124;43mCON\u001b[39;49m\u001b[38;5;124;43m\"\u001b[39;49m\u001b[43m]\u001b[49m\u001b[43m,\u001b[49m\u001b[43m \u001b[49m\u001b[43maxis\u001b[49m\u001b[43m \u001b[49m\u001b[38;5;241;43m=\u001b[39;49m\u001b[43m \u001b[49m\u001b[38;5;241;43m1\u001b[39;49m\u001b[43m,\u001b[49m\u001b[43m \u001b[49m\u001b[43minplace\u001b[49m\u001b[38;5;241;43m=\u001b[39;49m\u001b[38;5;28;43;01mTrue\u001b[39;49;00m\u001b[43m)\u001b[49m\n",
      "File \u001b[1;32mc:\\Users\\alber\\AppData\\Local\\Programs\\Python\\Python312\\Lib\\site-packages\\pandas\\core\\frame.py:5347\u001b[0m, in \u001b[0;36mDataFrame.drop\u001b[1;34m(self, labels, axis, index, columns, level, inplace, errors)\u001b[0m\n\u001b[0;32m   5199\u001b[0m \u001b[38;5;28;01mdef\u001b[39;00m \u001b[38;5;21mdrop\u001b[39m(\n\u001b[0;32m   5200\u001b[0m     \u001b[38;5;28mself\u001b[39m,\n\u001b[0;32m   5201\u001b[0m     labels: IndexLabel \u001b[38;5;241m|\u001b[39m \u001b[38;5;28;01mNone\u001b[39;00m \u001b[38;5;241m=\u001b[39m \u001b[38;5;28;01mNone\u001b[39;00m,\n\u001b[1;32m   (...)\u001b[0m\n\u001b[0;32m   5208\u001b[0m     errors: IgnoreRaise \u001b[38;5;241m=\u001b[39m \u001b[38;5;124m\"\u001b[39m\u001b[38;5;124mraise\u001b[39m\u001b[38;5;124m\"\u001b[39m,\n\u001b[0;32m   5209\u001b[0m ) \u001b[38;5;241m-\u001b[39m\u001b[38;5;241m>\u001b[39m DataFrame \u001b[38;5;241m|\u001b[39m \u001b[38;5;28;01mNone\u001b[39;00m:\n\u001b[0;32m   5210\u001b[0m \u001b[38;5;250m    \u001b[39m\u001b[38;5;124;03m\"\"\"\u001b[39;00m\n\u001b[0;32m   5211\u001b[0m \u001b[38;5;124;03m    Drop specified labels from rows or columns.\u001b[39;00m\n\u001b[0;32m   5212\u001b[0m \n\u001b[1;32m   (...)\u001b[0m\n\u001b[0;32m   5345\u001b[0m \u001b[38;5;124;03m            weight  1.0     0.8\u001b[39;00m\n\u001b[0;32m   5346\u001b[0m \u001b[38;5;124;03m    \"\"\"\u001b[39;00m\n\u001b[1;32m-> 5347\u001b[0m     \u001b[38;5;28;01mreturn\u001b[39;00m \u001b[38;5;28;43msuper\u001b[39;49m\u001b[43m(\u001b[49m\u001b[43m)\u001b[49m\u001b[38;5;241;43m.\u001b[39;49m\u001b[43mdrop\u001b[49m\u001b[43m(\u001b[49m\n\u001b[0;32m   5348\u001b[0m \u001b[43m        \u001b[49m\u001b[43mlabels\u001b[49m\u001b[38;5;241;43m=\u001b[39;49m\u001b[43mlabels\u001b[49m\u001b[43m,\u001b[49m\n\u001b[0;32m   5349\u001b[0m \u001b[43m        \u001b[49m\u001b[43maxis\u001b[49m\u001b[38;5;241;43m=\u001b[39;49m\u001b[43maxis\u001b[49m\u001b[43m,\u001b[49m\n\u001b[0;32m   5350\u001b[0m \u001b[43m        \u001b[49m\u001b[43mindex\u001b[49m\u001b[38;5;241;43m=\u001b[39;49m\u001b[43mindex\u001b[49m\u001b[43m,\u001b[49m\n\u001b[0;32m   5351\u001b[0m \u001b[43m        \u001b[49m\u001b[43mcolumns\u001b[49m\u001b[38;5;241;43m=\u001b[39;49m\u001b[43mcolumns\u001b[49m\u001b[43m,\u001b[49m\n\u001b[0;32m   5352\u001b[0m \u001b[43m        \u001b[49m\u001b[43mlevel\u001b[49m\u001b[38;5;241;43m=\u001b[39;49m\u001b[43mlevel\u001b[49m\u001b[43m,\u001b[49m\n\u001b[0;32m   5353\u001b[0m \u001b[43m        \u001b[49m\u001b[43minplace\u001b[49m\u001b[38;5;241;43m=\u001b[39;49m\u001b[43minplace\u001b[49m\u001b[43m,\u001b[49m\n\u001b[0;32m   5354\u001b[0m \u001b[43m        \u001b[49m\u001b[43merrors\u001b[49m\u001b[38;5;241;43m=\u001b[39;49m\u001b[43merrors\u001b[49m\u001b[43m,\u001b[49m\n\u001b[0;32m   5355\u001b[0m \u001b[43m    \u001b[49m\u001b[43m)\u001b[49m\n",
      "File \u001b[1;32mc:\\Users\\alber\\AppData\\Local\\Programs\\Python\\Python312\\Lib\\site-packages\\pandas\\core\\generic.py:4711\u001b[0m, in \u001b[0;36mNDFrame.drop\u001b[1;34m(self, labels, axis, index, columns, level, inplace, errors)\u001b[0m\n\u001b[0;32m   4709\u001b[0m \u001b[38;5;28;01mfor\u001b[39;00m axis, labels \u001b[38;5;129;01min\u001b[39;00m axes\u001b[38;5;241m.\u001b[39mitems():\n\u001b[0;32m   4710\u001b[0m     \u001b[38;5;28;01mif\u001b[39;00m labels \u001b[38;5;129;01mis\u001b[39;00m \u001b[38;5;129;01mnot\u001b[39;00m \u001b[38;5;28;01mNone\u001b[39;00m:\n\u001b[1;32m-> 4711\u001b[0m         obj \u001b[38;5;241m=\u001b[39m \u001b[43mobj\u001b[49m\u001b[38;5;241;43m.\u001b[39;49m\u001b[43m_drop_axis\u001b[49m\u001b[43m(\u001b[49m\u001b[43mlabels\u001b[49m\u001b[43m,\u001b[49m\u001b[43m \u001b[49m\u001b[43maxis\u001b[49m\u001b[43m,\u001b[49m\u001b[43m \u001b[49m\u001b[43mlevel\u001b[49m\u001b[38;5;241;43m=\u001b[39;49m\u001b[43mlevel\u001b[49m\u001b[43m,\u001b[49m\u001b[43m \u001b[49m\u001b[43merrors\u001b[49m\u001b[38;5;241;43m=\u001b[39;49m\u001b[43merrors\u001b[49m\u001b[43m)\u001b[49m\n\u001b[0;32m   4713\u001b[0m \u001b[38;5;28;01mif\u001b[39;00m inplace:\n\u001b[0;32m   4714\u001b[0m     \u001b[38;5;28mself\u001b[39m\u001b[38;5;241m.\u001b[39m_update_inplace(obj)\n",
      "File \u001b[1;32mc:\\Users\\alber\\AppData\\Local\\Programs\\Python\\Python312\\Lib\\site-packages\\pandas\\core\\generic.py:4753\u001b[0m, in \u001b[0;36mNDFrame._drop_axis\u001b[1;34m(self, labels, axis, level, errors, only_slice)\u001b[0m\n\u001b[0;32m   4751\u001b[0m         new_axis \u001b[38;5;241m=\u001b[39m axis\u001b[38;5;241m.\u001b[39mdrop(labels, level\u001b[38;5;241m=\u001b[39mlevel, errors\u001b[38;5;241m=\u001b[39merrors)\n\u001b[0;32m   4752\u001b[0m     \u001b[38;5;28;01melse\u001b[39;00m:\n\u001b[1;32m-> 4753\u001b[0m         new_axis \u001b[38;5;241m=\u001b[39m \u001b[43maxis\u001b[49m\u001b[38;5;241;43m.\u001b[39;49m\u001b[43mdrop\u001b[49m\u001b[43m(\u001b[49m\u001b[43mlabels\u001b[49m\u001b[43m,\u001b[49m\u001b[43m \u001b[49m\u001b[43merrors\u001b[49m\u001b[38;5;241;43m=\u001b[39;49m\u001b[43merrors\u001b[49m\u001b[43m)\u001b[49m\n\u001b[0;32m   4754\u001b[0m     indexer \u001b[38;5;241m=\u001b[39m axis\u001b[38;5;241m.\u001b[39mget_indexer(new_axis)\n\u001b[0;32m   4756\u001b[0m \u001b[38;5;66;03m# Case for non-unique axis\u001b[39;00m\n\u001b[0;32m   4757\u001b[0m \u001b[38;5;28;01melse\u001b[39;00m:\n",
      "File \u001b[1;32mc:\\Users\\alber\\AppData\\Local\\Programs\\Python\\Python312\\Lib\\site-packages\\pandas\\core\\indexes\\base.py:6992\u001b[0m, in \u001b[0;36mIndex.drop\u001b[1;34m(self, labels, errors)\u001b[0m\n\u001b[0;32m   6990\u001b[0m \u001b[38;5;28;01mif\u001b[39;00m mask\u001b[38;5;241m.\u001b[39many():\n\u001b[0;32m   6991\u001b[0m     \u001b[38;5;28;01mif\u001b[39;00m errors \u001b[38;5;241m!=\u001b[39m \u001b[38;5;124m\"\u001b[39m\u001b[38;5;124mignore\u001b[39m\u001b[38;5;124m\"\u001b[39m:\n\u001b[1;32m-> 6992\u001b[0m         \u001b[38;5;28;01mraise\u001b[39;00m \u001b[38;5;167;01mKeyError\u001b[39;00m(\u001b[38;5;124mf\u001b[39m\u001b[38;5;124m\"\u001b[39m\u001b[38;5;132;01m{\u001b[39;00mlabels[mask]\u001b[38;5;241m.\u001b[39mtolist()\u001b[38;5;132;01m}\u001b[39;00m\u001b[38;5;124m not found in axis\u001b[39m\u001b[38;5;124m\"\u001b[39m)\n\u001b[0;32m   6993\u001b[0m     indexer \u001b[38;5;241m=\u001b[39m indexer[\u001b[38;5;241m~\u001b[39mmask]\n\u001b[0;32m   6994\u001b[0m \u001b[38;5;28;01mreturn\u001b[39;00m \u001b[38;5;28mself\u001b[39m\u001b[38;5;241m.\u001b[39mdelete(indexer)\n",
      "\u001b[1;31mKeyError\u001b[0m: \"['DET', 'CON'] not found in axis\""
     ]
    }
   ],
   "source": [
    "# nancy_df.drop([\"DET\", \"CON\"], axis = 1, inplace=True)"
   ]
  },
  {
   "cell_type": "markdown",
   "metadata": {},
   "source": [
    "There are responses that were not translated"
   ]
  },
  {
   "cell_type": "code",
   "execution_count": null,
   "metadata": {},
   "outputs": [
    {
     "data": {
      "text/html": [
       "<div>\n",
       "<style scoped>\n",
       "    .dataframe tbody tr th:only-of-type {\n",
       "        vertical-align: middle;\n",
       "    }\n",
       "\n",
       "    .dataframe tbody tr th {\n",
       "        vertical-align: top;\n",
       "    }\n",
       "\n",
       "    .dataframe thead th {\n",
       "        text-align: right;\n",
       "    }\n",
       "</style>\n",
       "<table border=\"1\" class=\"dataframe\">\n",
       "  <thead>\n",
       "    <tr style=\"text-align: right;\">\n",
       "      <th></th>\n",
       "      <th>Réponse (French)</th>\n",
       "      <th>Answer (English)</th>\n",
       "      <th>Déterminant</th>\n",
       "      <th>Contenu</th>\n",
       "    </tr>\n",
       "  </thead>\n",
       "  <tbody>\n",
       "    <tr>\n",
       "      <th>51</th>\n",
       "      <td>Argh en plus on peut\\n même faire un éléphant,...</td>\n",
       "      <td>NaN</td>\n",
       "      <td>F-</td>\n",
       "      <td>A</td>\n",
       "    </tr>\n",
       "    <tr>\n",
       "      <th>52</th>\n",
       "      <td>Ça peut être des chevaux\\n aussi</td>\n",
       "      <td>NaN</td>\n",
       "      <td>F-</td>\n",
       "      <td>A</td>\n",
       "    </tr>\n",
       "    <tr>\n",
       "      <th>53</th>\n",
       "      <td>Mais un peu sur la même\\n logique, en fait, je...</td>\n",
       "      <td>NaN</td>\n",
       "      <td>F-</td>\n",
       "      <td>(A)</td>\n",
       "    </tr>\n",
       "    <tr>\n",
       "      <th>54</th>\n",
       "      <td>Et là dans le sens-là (me\\n montre la planche ...</td>\n",
       "      <td>NaN</td>\n",
       "      <td>FC’E+</td>\n",
       "      <td>H / Vêt</td>\n",
       "    </tr>\n",
       "    <tr>\n",
       "      <th>55</th>\n",
       "      <td>Mais en fait, sur le\\n principe ça me fait plu...</td>\n",
       "      <td>NaN</td>\n",
       "      <td>kobC’E-</td>\n",
       "      <td>Frag / Art</td>\n",
       "    </tr>\n",
       "    <tr>\n",
       "      <th>56</th>\n",
       "      <td>Et aussi un éléphant, avec\\n les yeux, la trom...</td>\n",
       "      <td>NaN</td>\n",
       "      <td>F+</td>\n",
       "      <td>A</td>\n",
       "    </tr>\n",
       "    <tr>\n",
       "      <th>57</th>\n",
       "      <td>Et alors comme ça, ça\\n fait vachement penser ...</td>\n",
       "      <td>NaN</td>\n",
       "      <td>kob -</td>\n",
       "      <td>Elem</td>\n",
       "    </tr>\n",
       "    <tr>\n",
       "      <th>58</th>\n",
       "      <td>T’as une petite île où t’as\\n plein de fumée q...</td>\n",
       "      <td>NaN</td>\n",
       "      <td>kobE-</td>\n",
       "      <td>Pays/ Elem</td>\n",
       "    </tr>\n",
       "    <tr>\n",
       "      <th>59</th>\n",
       "      <td>Et maintenant que j’ai vu\\n ça, de l’autre côt...</td>\n",
       "      <td>NaN</td>\n",
       "      <td>kob-</td>\n",
       "      <td>Elem</td>\n",
       "    </tr>\n",
       "    <tr>\n",
       "      <th>60</th>\n",
       "      <td>Ça me fait penser à un\\n voilier aussi, mais a...</td>\n",
       "      <td>NaN</td>\n",
       "      <td>FC’-</td>\n",
       "      <td>Obj</td>\n",
       "    </tr>\n",
       "    <tr>\n",
       "      <th>61</th>\n",
       "      <td>Je vois et c’est très joli ça\\n un mix entre u...</td>\n",
       "      <td>NaN</td>\n",
       "      <td>FCE+/-</td>\n",
       "      <td>(A)</td>\n",
       "    </tr>\n",
       "    <tr>\n",
       "      <th>62</th>\n",
       "      <td>: Donc en fait t’as une\\n espèce de rocher là,...</td>\n",
       "      <td>NaN</td>\n",
       "      <td>kanC +</td>\n",
       "      <td>Nat / A</td>\n",
       "    </tr>\n",
       "    <tr>\n",
       "      <th>63</th>\n",
       "      <td>mais une fois encore ça\\n me fait penser à un,...</td>\n",
       "      <td>NaN</td>\n",
       "      <td>CF-</td>\n",
       "      <td>Anat</td>\n",
       "    </tr>\n",
       "    <tr>\n",
       "      <th>64</th>\n",
       "      <td>Ça, ça me fait penser à un\\n squelette mais je...</td>\n",
       "      <td>NaN</td>\n",
       "      <td>FC’Clob-</td>\n",
       "      <td>Squel /Ad</td>\n",
       "    </tr>\n",
       "    <tr>\n",
       "      <th>65</th>\n",
       "      <td>Ça fait un peu labyrinthe\\n de Pan</td>\n",
       "      <td>NaN</td>\n",
       "      <td>FC’-</td>\n",
       "      <td>Arch / Art</td>\n",
       "    </tr>\n",
       "    <tr>\n",
       "      <th>66</th>\n",
       "      <td>: Puis pour le coup, si on\\n occulte un peu l’...</td>\n",
       "      <td>NaN</td>\n",
       "      <td>CkobE -</td>\n",
       "      <td>Pays /\\n Elem /\\n Frag / Bot</td>\n",
       "    </tr>\n",
       "    <tr>\n",
       "      <th>67</th>\n",
       "      <td>humhum ; Là si on\\n regarde que le blanc, pas ...</td>\n",
       "      <td>NaN</td>\n",
       "      <td>KC’-</td>\n",
       "      <td>H / obj</td>\n",
       "    </tr>\n",
       "    <tr>\n",
       "      <th>68</th>\n",
       "      <td>là tu as genre les yeux\\n (montre), il y a que...</td>\n",
       "      <td>NaN</td>\n",
       "      <td>FC’-</td>\n",
       "      <td>H / Mq /\\n vêt</td>\n",
       "    </tr>\n",
       "    <tr>\n",
       "      <th>69</th>\n",
       "      <td>Ça me fait même penser\\n un peu au masque japo...</td>\n",
       "      <td>NaN</td>\n",
       "      <td>FC-</td>\n",
       "      <td>Mq</td>\n",
       "    </tr>\n",
       "    <tr>\n",
       "      <th>70</th>\n",
       "      <td>Tu vois on peut encore\\n retrouver le feu que ...</td>\n",
       "      <td>NaN</td>\n",
       "      <td>EC</td>\n",
       "      <td>Elem /\\n Frag</td>\n",
       "    </tr>\n",
       "    <tr>\n",
       "      <th>71</th>\n",
       "      <td>Au sens large, il y a\\n tellement de têtes gen...</td>\n",
       "      <td>NaN</td>\n",
       "      <td>FC’-</td>\n",
       "      <td>Ad</td>\n",
       "    </tr>\n",
       "    <tr>\n",
       "      <th>72</th>\n",
       "      <td>La encore des yeux, des\\n oreilles, ça me fait...</td>\n",
       "      <td>NaN</td>\n",
       "      <td>FC’-</td>\n",
       "      <td>A</td>\n",
       "    </tr>\n",
       "    <tr>\n",
       "      <th>73</th>\n",
       "      <td>Dans ce sens-là, on dirait\\n une robe de marié...</td>\n",
       "      <td>NaN</td>\n",
       "      <td>CF+</td>\n",
       "      <td>Vêt / Hd</td>\n",
       "    </tr>\n",
       "    <tr>\n",
       "      <th>74</th>\n",
       "      <td>Si on va plus loin, ces\\n trucs là, ça peut êt...</td>\n",
       "      <td>NaN</td>\n",
       "      <td>FC-</td>\n",
       "      <td>(Hd)</td>\n",
       "    </tr>\n",
       "    <tr>\n",
       "      <th>75</th>\n",
       "      <td>Après ça peut me faire\\n penser à tous les ani...</td>\n",
       "      <td>NaN</td>\n",
       "      <td>F+</td>\n",
       "      <td>A</td>\n",
       "    </tr>\n",
       "    <tr>\n",
       "      <th>76</th>\n",
       "      <td>Ça (rose), ça m’a fait\\n penser, c’est impossi...</td>\n",
       "      <td>NaN</td>\n",
       "      <td>F-</td>\n",
       "      <td>obj</td>\n",
       "    </tr>\n",
       "    <tr>\n",
       "      <th>77</th>\n",
       "      <td>maintenant si mais ça m’a\\n pris du temps… mai...</td>\n",
       "      <td>NaN</td>\n",
       "      <td>F-</td>\n",
       "      <td>Pays</td>\n",
       "    </tr>\n",
       "    <tr>\n",
       "      <th>78</th>\n",
       "      <td>Là je vais un peu plus loin\\n en termes d’inte...</td>\n",
       "      <td>NaN</td>\n",
       "      <td>CK-</td>\n",
       "      <td>H / Obj</td>\n",
       "    </tr>\n",
       "    <tr>\n",
       "      <th>79</th>\n",
       "      <td>Cette zone-là, une fois\\n encore, de t’façon j...</td>\n",
       "      <td>NaN</td>\n",
       "      <td>FCE-</td>\n",
       "      <td>Pays</td>\n",
       "    </tr>\n",
       "    <tr>\n",
       "      <th>80</th>\n",
       "      <td>Ça me fait penser à une\\n mouche, non à un mou...</td>\n",
       "      <td>NaN</td>\n",
       "      <td>F+/-</td>\n",
       "      <td>A</td>\n",
       "    </tr>\n",
       "    <tr>\n",
       "      <th>81</th>\n",
       "      <td>Bizarre, je vois un\\n bonhomme mais en négatif...</td>\n",
       "      <td>NaN</td>\n",
       "      <td>FC’-</td>\n",
       "      <td>(H) / vêt</td>\n",
       "    </tr>\n",
       "    <tr>\n",
       "      <th>82</th>\n",
       "      <td>Ça, ça me fait penser à la\\n tour Eiffel</td>\n",
       "      <td>NaN</td>\n",
       "      <td>FC+</td>\n",
       "      <td>Arch</td>\n",
       "    </tr>\n",
       "    <tr>\n",
       "      <th>83</th>\n",
       "      <td>Ça, ça me fait penser à\\n genre des crabes qui...</td>\n",
       "      <td>NaN</td>\n",
       "      <td>kan+</td>\n",
       "      <td>A / Bot</td>\n",
       "    </tr>\n",
       "    <tr>\n",
       "      <th>84</th>\n",
       "      <td>Ça, ça me fait penser à\\n une fourmi qui se ba...</td>\n",
       "      <td>NaN</td>\n",
       "      <td>kanC+</td>\n",
       "      <td>A/ Bot</td>\n",
       "    </tr>\n",
       "    <tr>\n",
       "      <th>85</th>\n",
       "      <td>: Ça, ça me fait penser à des\\n œufs Il y a pl...</td>\n",
       "      <td>NaN</td>\n",
       "      <td>CF-</td>\n",
       "      <td>Alim</td>\n",
       "    </tr>\n",
       "    <tr>\n",
       "      <th>86</th>\n",
       "      <td>Tu vois ça, ça me fait\\n penser à des crevette...</td>\n",
       "      <td>NaN</td>\n",
       "      <td>CF-</td>\n",
       "      <td>Alim</td>\n",
       "    </tr>\n",
       "    <tr>\n",
       "      <th>87</th>\n",
       "      <td>J’arrive vraiment pas à\\n voir l’ensemble, ça,...</td>\n",
       "      <td>NaN</td>\n",
       "      <td>FC +</td>\n",
       "      <td>A / Alim</td>\n",
       "    </tr>\n",
       "    <tr>\n",
       "      <th>88</th>\n",
       "      <td>C’est un peu capillotracté\\n un peu après, mai...</td>\n",
       "      <td>NaN</td>\n",
       "      <td>kobE-</td>\n",
       "      <td>Pays / arch\\n / Elem /\\n Frag</td>\n",
       "    </tr>\n",
       "    <tr>\n",
       "      <th>89</th>\n",
       "      <td>: Là ça me fait penser à une\\n chèvre (rires),...</td>\n",
       "      <td>NaN</td>\n",
       "      <td>FC’-</td>\n",
       "      <td>A</td>\n",
       "    </tr>\n",
       "    <tr>\n",
       "      <th>90</th>\n",
       "      <td>T’as un gouffre tu vois,\\n t’as le bord du gou...</td>\n",
       "      <td>NaN</td>\n",
       "      <td>KE-</td>\n",
       "      <td>H / Nat\\n /Scène</td>\n",
       "    </tr>\n",
       "  </tbody>\n",
       "</table>\n",
       "</div>"
      ],
      "text/plain": [
       "                                     Réponse (French) Answer (English)  \\\n",
       "51  Argh en plus on peut\\n même faire un éléphant,...              NaN   \n",
       "52                   Ça peut être des chevaux\\n aussi              NaN   \n",
       "53  Mais un peu sur la même\\n logique, en fait, je...              NaN   \n",
       "54  Et là dans le sens-là (me\\n montre la planche ...              NaN   \n",
       "55  Mais en fait, sur le\\n principe ça me fait plu...              NaN   \n",
       "56  Et aussi un éléphant, avec\\n les yeux, la trom...              NaN   \n",
       "57  Et alors comme ça, ça\\n fait vachement penser ...              NaN   \n",
       "58  T’as une petite île où t’as\\n plein de fumée q...              NaN   \n",
       "59  Et maintenant que j’ai vu\\n ça, de l’autre côt...              NaN   \n",
       "60  Ça me fait penser à un\\n voilier aussi, mais a...              NaN   \n",
       "61  Je vois et c’est très joli ça\\n un mix entre u...              NaN   \n",
       "62  : Donc en fait t’as une\\n espèce de rocher là,...              NaN   \n",
       "63  mais une fois encore ça\\n me fait penser à un,...              NaN   \n",
       "64  Ça, ça me fait penser à un\\n squelette mais je...              NaN   \n",
       "65                 Ça fait un peu labyrinthe\\n de Pan              NaN   \n",
       "66  : Puis pour le coup, si on\\n occulte un peu l’...              NaN   \n",
       "67  humhum ; Là si on\\n regarde que le blanc, pas ...              NaN   \n",
       "68  là tu as genre les yeux\\n (montre), il y a que...              NaN   \n",
       "69  Ça me fait même penser\\n un peu au masque japo...              NaN   \n",
       "70  Tu vois on peut encore\\n retrouver le feu que ...              NaN   \n",
       "71  Au sens large, il y a\\n tellement de têtes gen...              NaN   \n",
       "72  La encore des yeux, des\\n oreilles, ça me fait...              NaN   \n",
       "73  Dans ce sens-là, on dirait\\n une robe de marié...              NaN   \n",
       "74  Si on va plus loin, ces\\n trucs là, ça peut êt...              NaN   \n",
       "75  Après ça peut me faire\\n penser à tous les ani...              NaN   \n",
       "76  Ça (rose), ça m’a fait\\n penser, c’est impossi...              NaN   \n",
       "77  maintenant si mais ça m’a\\n pris du temps… mai...              NaN   \n",
       "78  Là je vais un peu plus loin\\n en termes d’inte...              NaN   \n",
       "79  Cette zone-là, une fois\\n encore, de t’façon j...              NaN   \n",
       "80  Ça me fait penser à une\\n mouche, non à un mou...              NaN   \n",
       "81  Bizarre, je vois un\\n bonhomme mais en négatif...              NaN   \n",
       "82           Ça, ça me fait penser à la\\n tour Eiffel              NaN   \n",
       "83  Ça, ça me fait penser à\\n genre des crabes qui...              NaN   \n",
       "84  Ça, ça me fait penser à\\n une fourmi qui se ba...              NaN   \n",
       "85  : Ça, ça me fait penser à des\\n œufs Il y a pl...              NaN   \n",
       "86  Tu vois ça, ça me fait\\n penser à des crevette...              NaN   \n",
       "87  J’arrive vraiment pas à\\n voir l’ensemble, ça,...              NaN   \n",
       "88  C’est un peu capillotracté\\n un peu après, mai...              NaN   \n",
       "89  : Là ça me fait penser à une\\n chèvre (rires),...              NaN   \n",
       "90  T’as un gouffre tu vois,\\n t’as le bord du gou...              NaN   \n",
       "\n",
       "   Déterminant                        Contenu  \n",
       "51          F-                              A  \n",
       "52          F-                              A  \n",
       "53          F-                            (A)  \n",
       "54       FC’E+                        H / Vêt  \n",
       "55     kobC’E-                     Frag / Art  \n",
       "56          F+                              A  \n",
       "57       kob -                           Elem  \n",
       "58       kobE-                     Pays/ Elem  \n",
       "59        kob-                           Elem  \n",
       "60        FC’-                            Obj  \n",
       "61      FCE+/-                            (A)  \n",
       "62      kanC +                        Nat / A  \n",
       "63         CF-                           Anat  \n",
       "64    FC’Clob-                      Squel /Ad  \n",
       "65        FC’-                     Arch / Art  \n",
       "66     CkobE -   Pays /\\n Elem /\\n Frag / Bot  \n",
       "67        KC’-                        H / obj  \n",
       "68        FC’-                 H / Mq /\\n vêt  \n",
       "69         FC-                             Mq  \n",
       "70          EC                  Elem /\\n Frag  \n",
       "71        FC’-                             Ad  \n",
       "72        FC’-                              A  \n",
       "73         CF+                       Vêt / Hd  \n",
       "74         FC-                           (Hd)  \n",
       "75          F+                              A  \n",
       "76          F-                            obj  \n",
       "77          F-                           Pays  \n",
       "78         CK-                        H / Obj  \n",
       "79        FCE-                           Pays  \n",
       "80        F+/-                              A  \n",
       "81        FC’-                      (H) / vêt  \n",
       "82         FC+                           Arch  \n",
       "83        kan+                        A / Bot  \n",
       "84       kanC+                         A/ Bot  \n",
       "85         CF-                           Alim  \n",
       "86         CF-                           Alim  \n",
       "87        FC +                       A / Alim  \n",
       "88       kobE-  Pays / arch\\n / Elem /\\n Frag  \n",
       "89        FC’-                              A  \n",
       "90         KE-               H / Nat\\n /Scène  "
      ]
     },
     "execution_count": 15,
     "metadata": {},
     "output_type": "execute_result"
    }
   ],
   "source": [
    "nancy_df[(nancy_df[\"Answer (English)\"].isna()) & (nancy_df[\"Réponse (French)\"].notna())]"
   ]
  },
  {
   "cell_type": "code",
   "execution_count": null,
   "metadata": {},
   "outputs": [],
   "source": [
    "to_translate = nancy_df[(nancy_df[\"Answer (English)\"].isna()) & (nancy_df[\"Réponse (French)\"].notna())]"
   ]
  },
  {
   "cell_type": "code",
   "execution_count": null,
   "metadata": {},
   "outputs": [],
   "source": [
    "# with open(r\"..\\DEEPL_KEY\\DEEPL_API_KEY.txt\", \"r\") as f:\n",
    "#     API_KEY = f.read().strip(\"\\n\")"
   ]
  },
  {
   "cell_type": "code",
   "execution_count": null,
   "metadata": {},
   "outputs": [],
   "source": [
    "import deepl\n",
    "\n",
    "def translate_text(text):\n",
    "    \n",
    "    translator = deepl.Translator(API_KEY)\n",
    "    result = translator.translate_text(text, target_lang=\"EN-US\", preserve_formatting=True)\n",
    "    return result"
   ]
  },
  {
   "cell_type": "code",
   "execution_count": null,
   "metadata": {},
   "outputs": [],
   "source": [
    "# to_translate[\"Answer (English)\"] = to_translate[\"Réponse (French)\"].apply(translate_text)"
   ]
  },
  {
   "cell_type": "code",
   "execution_count": null,
   "metadata": {},
   "outputs": [],
   "source": [
    "nancy_df = pd.concat([nancy_df.reset_index(drop=True), to_translate.reset_index(drop=True)], axis=0)"
   ]
  },
  {
   "cell_type": "code",
   "execution_count": null,
   "metadata": {},
   "outputs": [],
   "source": [
    "nancy_df.dropna(inplace=True)"
   ]
  },
  {
   "cell_type": "code",
   "execution_count": null,
   "metadata": {},
   "outputs": [],
   "source": [
    "# def clean_new_lines_text(text):\n",
    "#     text = text.replace(\"\\n\", \" \")\n",
    "#     return text"
   ]
  },
  {
   "cell_type": "code",
   "execution_count": null,
   "metadata": {},
   "outputs": [
    {
     "data": {
      "text/html": [
       "<div>\n",
       "<style scoped>\n",
       "    .dataframe tbody tr th:only-of-type {\n",
       "        vertical-align: middle;\n",
       "    }\n",
       "\n",
       "    .dataframe tbody tr th {\n",
       "        vertical-align: top;\n",
       "    }\n",
       "\n",
       "    .dataframe thead th {\n",
       "        text-align: right;\n",
       "    }\n",
       "</style>\n",
       "<table border=\"1\" class=\"dataframe\">\n",
       "  <thead>\n",
       "    <tr style=\"text-align: right;\">\n",
       "      <th></th>\n",
       "      <th>Réponse (French)</th>\n",
       "      <th>Answer (English)</th>\n",
       "      <th>Déterminant</th>\n",
       "      <th>Contenu</th>\n",
       "    </tr>\n",
       "  </thead>\n",
       "  <tbody>\n",
       "    <tr>\n",
       "      <th>0</th>\n",
       "      <td>Moi ça me fait penser à un papillon de nuit a...</td>\n",
       "      <td>It reminds me of a moth with mandibles. It lo...</td>\n",
       "      <td>FC'+</td>\n",
       "      <td>(A)</td>\n",
       "    </tr>\n",
       "    <tr>\n",
       "      <th>1</th>\n",
       "      <td>Une personne de chaque côté (forcément, c’est ...</td>\n",
       "      <td>One person on each side (obviously, it’s symme...</td>\n",
       "      <td>K+</td>\n",
       "      <td>H</td>\n",
       "    </tr>\n",
       "    <tr>\n",
       "      <th>2</th>\n",
       "      <td>Une casserole sur une gazinière de… de camping...</td>\n",
       "      <td>A saucepan on a…camping gas stove. The gas sto...</td>\n",
       "      <td>FE-</td>\n",
       "      <td>Obj</td>\n",
       "    </tr>\n",
       "    <tr>\n",
       "      <th>5</th>\n",
       "      <td>Ah deux lapins qui se tapent la main avec les ...</td>\n",
       "      <td>Ah two rabbits hitting each other's hands with...</td>\n",
       "      <td>kan</td>\n",
       "      <td>A</td>\n",
       "    </tr>\n",
       "    <tr>\n",
       "      <th>6</th>\n",
       "      <td>Et… Une personne avec des grosses lèvres, ses ...</td>\n",
       "      <td>And... A person with big lips, his eyes, his e...</td>\n",
       "      <td>EF</td>\n",
       "      <td>Hd</td>\n",
       "    </tr>\n",
       "    <tr>\n",
       "      <th>...</th>\n",
       "      <td>...</td>\n",
       "      <td>...</td>\n",
       "      <td>...</td>\n",
       "      <td>...</td>\n",
       "    </tr>\n",
       "    <tr>\n",
       "      <th>35</th>\n",
       "      <td>Tu vois ça, ça me fait\\n penser à des crevette...</td>\n",
       "      <td>You see that, it reminds me\\n reminds me of sh...</td>\n",
       "      <td>CF-</td>\n",
       "      <td>Alim</td>\n",
       "    </tr>\n",
       "    <tr>\n",
       "      <th>36</th>\n",
       "      <td>J’arrive vraiment pas à\\n voir l’ensemble, ça,...</td>\n",
       "      <td>I really can't\\n see the whole thing, it makes...</td>\n",
       "      <td>FC +</td>\n",
       "      <td>A / Alim</td>\n",
       "    </tr>\n",
       "    <tr>\n",
       "      <th>37</th>\n",
       "      <td>C’est un peu capillotracté\\n un peu après, mai...</td>\n",
       "      <td>It's a bit capillotint\\n a bit afterwards, but...</td>\n",
       "      <td>kobE-</td>\n",
       "      <td>Pays / arch\\n / Elem /\\n Frag</td>\n",
       "    </tr>\n",
       "    <tr>\n",
       "      <th>38</th>\n",
       "      <td>: Là ça me fait penser à une\\n chèvre (rires),...</td>\n",
       "      <td>: It reminds me of a goat\\n goat (laughs), and...</td>\n",
       "      <td>FC’-</td>\n",
       "      <td>A</td>\n",
       "    </tr>\n",
       "    <tr>\n",
       "      <th>39</th>\n",
       "      <td>T’as un gouffre tu vois,\\n t’as le bord du gou...</td>\n",
       "      <td>You've got a chasm, you see,\\n you've got the ...</td>\n",
       "      <td>KE-</td>\n",
       "      <td>H / Nat\\n /Scène</td>\n",
       "    </tr>\n",
       "  </tbody>\n",
       "</table>\n",
       "<p>380 rows × 4 columns</p>\n",
       "</div>"
      ],
      "text/plain": [
       "                                     Réponse (French)  \\\n",
       "0    Moi ça me fait penser à un papillon de nuit a...   \n",
       "1   Une personne de chaque côté (forcément, c’est ...   \n",
       "2   Une casserole sur une gazinière de… de camping...   \n",
       "5   Ah deux lapins qui se tapent la main avec les ...   \n",
       "6   Et… Une personne avec des grosses lèvres, ses ...   \n",
       "..                                                ...   \n",
       "35  Tu vois ça, ça me fait\\n penser à des crevette...   \n",
       "36  J’arrive vraiment pas à\\n voir l’ensemble, ça,...   \n",
       "37  C’est un peu capillotracté\\n un peu après, mai...   \n",
       "38  : Là ça me fait penser à une\\n chèvre (rires),...   \n",
       "39  T’as un gouffre tu vois,\\n t’as le bord du gou...   \n",
       "\n",
       "                                     Answer (English) Déterminant  \\\n",
       "0    It reminds me of a moth with mandibles. It lo...        FC'+   \n",
       "1   One person on each side (obviously, it’s symme...          K+   \n",
       "2   A saucepan on a…camping gas stove. The gas sto...         FE-   \n",
       "5   Ah two rabbits hitting each other's hands with...         kan   \n",
       "6   And... A person with big lips, his eyes, his e...          EF   \n",
       "..                                                ...         ...   \n",
       "35  You see that, it reminds me\\n reminds me of sh...         CF-   \n",
       "36  I really can't\\n see the whole thing, it makes...        FC +   \n",
       "37  It's a bit capillotint\\n a bit afterwards, but...       kobE-   \n",
       "38  : It reminds me of a goat\\n goat (laughs), and...        FC’-   \n",
       "39  You've got a chasm, you see,\\n you've got the ...         KE-   \n",
       "\n",
       "                          Contenu  \n",
       "0                             (A)  \n",
       "1                               H  \n",
       "2                             Obj  \n",
       "5                               A  \n",
       "6                              Hd  \n",
       "..                            ...  \n",
       "35                           Alim  \n",
       "36                       A / Alim  \n",
       "37  Pays / arch\\n / Elem /\\n Frag  \n",
       "38                              A  \n",
       "39               H / Nat\\n /Scène  \n",
       "\n",
       "[380 rows x 4 columns]"
      ]
     },
     "execution_count": 172,
     "metadata": {},
     "output_type": "execute_result"
    }
   ],
   "source": [
    "nancy_df"
   ]
  },
  {
   "cell_type": "code",
   "execution_count": null,
   "metadata": {},
   "outputs": [],
   "source": [
    "# nancy_df[\"Answer (English)\"] = nancy_df[\"Answer (English)\"].apply(clean_new_lines_text)\n",
    "# nancy_df[\"Réponse (French)\"] = nancy_df[\"Réponse (French)\"].apply(clean_new_lines_text)"
   ]
  },
  {
   "cell_type": "code",
   "execution_count": null,
   "metadata": {},
   "outputs": [],
   "source": [
    "# nancy_df.to_csv(\"Nancy_clean.csv\", index=False)"
   ]
  },
  {
   "cell_type": "markdown",
   "metadata": {},
   "source": [
    "# Boolean features from determinants and contents labels"
   ]
  },
  {
   "cell_type": "code",
   "execution_count": 294,
   "metadata": {},
   "outputs": [],
   "source": [
    "import pandas as pd \n",
    "import seaborn as sns\n",
    "import matplotlib.pyplot as plt\n",
    "import re\n",
    "\n",
    "nancy_df = pd.read_csv(\"Nancy_clean.csv\")"
   ]
  },
  {
   "cell_type": "code",
   "execution_count": 295,
   "metadata": {},
   "outputs": [],
   "source": [
    "nancy_contents = nancy_df[[\"Réponse (French)\", \"Answer (English)\", \"Contenu\"]]\n",
    "nancy_determinants = nancy_df[[\"Réponse (French)\", \"Answer (English)\", \"Déterminant\"]]"
   ]
  },
  {
   "cell_type": "markdown",
   "metadata": {},
   "source": [
    "### Content labels"
   ]
  },
  {
   "cell_type": "code",
   "execution_count": 296,
   "metadata": {},
   "outputs": [
    {
     "data": {
      "text/plain": [
       "Contenu\n",
       "A                   85\n",
       "Hd                  32\n",
       "Ad                  29\n",
       "Obj                 23\n",
       "Anat                14\n",
       "                    ..\n",
       "H/Obj/Vet            1\n",
       "(Hd)/Symb            1\n",
       "A/Frag/sg            1\n",
       "H/Hd                 1\n",
       "H / Nat\\n /Scène     1\n",
       "Name: count, Length: 109, dtype: int64"
      ]
     },
     "execution_count": 296,
     "metadata": {},
     "output_type": "execute_result"
    }
   ],
   "source": [
    "nancy_contents[\"Contenu\"].value_counts()"
   ]
  },
  {
   "cell_type": "code",
   "execution_count": 297,
   "metadata": {},
   "outputs": [
    {
     "name": "stderr",
     "output_type": "stream",
     "text": [
      "C:\\Users\\alber\\AppData\\Local\\Temp\\ipykernel_12452\\4195384464.py:2: SettingWithCopyWarning: \n",
      "A value is trying to be set on a copy of a slice from a DataFrame.\n",
      "Try using .loc[row_indexer,col_indexer] = value instead\n",
      "\n",
      "See the caveats in the documentation: https://pandas.pydata.org/pandas-docs/stable/user_guide/indexing.html#returning-a-view-versus-a-copy\n",
      "  nancy_contents[\"Contenu\"] = labels\n"
     ]
    }
   ],
   "source": [
    "labels = nancy_contents[\"Contenu\"].str.replace(\"\\n\", \"\")\n",
    "nancy_contents[\"Contenu\"] = labels\n",
    "# nancy_contents"
   ]
  },
  {
   "cell_type": "code",
   "execution_count": 298,
   "metadata": {},
   "outputs": [],
   "source": [
    "splits = []"
   ]
  },
  {
   "cell_type": "code",
   "execution_count": 299,
   "metadata": {},
   "outputs": [],
   "source": [
    "def split_labels(text, splits):\n",
    "    text = str(text).lower().replace(\" \", \"\").replace(\"\\r\", \"\").replace(\"vet\", \"vêt\").replace(\"geo\", \"géo\").replace(\"henf\", \"h\").replace(\"explosion\", \"sc\").replace(\"aenf\", \"a\").replace(\"scen\", \"scène\").replace(\"squel\", \"anat\").replace(\"symb\", \"abs\").replace(\"hbarré\", \"h\")\n",
    "    \n",
    "    regex = r\" |/\"\n",
    "    labels = re.split(regex, text)\n",
    "    filter_characters = [\"\", \"+\", \"-\", \"\\\\\", \"+-\", \"+/-\", \"stat\"]   # i am filtering the good and bad form\n",
    "    labels = [label.upper() for label in labels if label not in filter_characters]\n",
    "    splits.append(labels)\n",
    "    \n",
    "    return labels"
   ]
  },
  {
   "cell_type": "code",
   "execution_count": 300,
   "metadata": {},
   "outputs": [],
   "source": [
    "labels_contents = nancy_contents[\"Contenu\"].apply(lambda x: split_labels(x, splits))"
   ]
  },
  {
   "cell_type": "code",
   "execution_count": 301,
   "metadata": {},
   "outputs": [
    {
     "data": {
      "text/plain": [
       "0                         [(A)]\n",
       "1                           [H]\n",
       "2                         [OBJ]\n",
       "3                           [A]\n",
       "4                          [HD]\n",
       "                 ...           \n",
       "375                      [ALIM]\n",
       "376                   [A, ALIM]\n",
       "377    [PAYS, ARCH, ELEM, FRAG]\n",
       "378                         [A]\n",
       "379             [H, NAT, SCÈNE]\n",
       "Name: Contenu, Length: 380, dtype: object"
      ]
     },
     "execution_count": 301,
     "metadata": {},
     "output_type": "execute_result"
    }
   ],
   "source": [
    "labels_contents"
   ]
  },
  {
   "cell_type": "code",
   "execution_count": 302,
   "metadata": {},
   "outputs": [],
   "source": [
    "labels_contents = labels_contents.str.join('|').str.get_dummies()"
   ]
  },
  {
   "cell_type": "code",
   "execution_count": 303,
   "metadata": {},
   "outputs": [
    {
     "data": {
      "text/plain": [
       "Index(['(A)', '(AD)', '(H)', '(HD)', 'A', 'ABS', 'AD', 'ALIM', 'ANAT', 'ARCH',\n",
       "       'ART', 'BOT', 'ELEM', 'FRAG', 'GÉO', 'H', 'HD', 'MQ', 'NAT', 'OBJ',\n",
       "       'PAYS', 'RADIO', 'SC', 'SCÈNE', 'SEX', 'SG', 'VÊT'],\n",
       "      dtype='object')"
      ]
     },
     "execution_count": 303,
     "metadata": {},
     "output_type": "execute_result"
    }
   ],
   "source": [
    "labels_contents.columns"
   ]
  },
  {
   "cell_type": "markdown",
   "metadata": {},
   "source": [
    "aenf not in bible, explosion not in bible, henf not in bible\n",
    "\n",
    "Aenf seems to be just A.\n",
    "\n",
    "Explosion could be SC.\n",
    "\n",
    "Hbarré\n",
    "\n",
    "Scen =? Scène\n",
    "\n",
    "squel = skeleton  = anat?\n",
    "\n",
    "symb = symbolic meanings about death? - chnaged to abs\n"
   ]
  },
  {
   "cell_type": "markdown",
   "metadata": {},
   "source": [
    "#### Resolving the ambiguities\n",
    "\n",
    "Corrected in the .replace() of the function"
   ]
  },
  {
   "cell_type": "code",
   "execution_count": 304,
   "metadata": {},
   "outputs": [
    {
     "data": {
      "text/html": [
       "<div>\n",
       "<style scoped>\n",
       "    .dataframe tbody tr th:only-of-type {\n",
       "        vertical-align: middle;\n",
       "    }\n",
       "\n",
       "    .dataframe tbody tr th {\n",
       "        vertical-align: top;\n",
       "    }\n",
       "\n",
       "    .dataframe thead th {\n",
       "        text-align: right;\n",
       "    }\n",
       "</style>\n",
       "<table border=\"1\" class=\"dataframe\">\n",
       "  <thead>\n",
       "    <tr style=\"text-align: right;\">\n",
       "      <th></th>\n",
       "      <th>Réponse (French)</th>\n",
       "      <th>Answer (English)</th>\n",
       "      <th>Contenu</th>\n",
       "    </tr>\n",
       "  </thead>\n",
       "  <tbody>\n",
       "    <tr>\n",
       "      <th>293</th>\n",
       "      <td>Non c’est pas des cochons… un sorte de lapin, ...</td>\n",
       "      <td>No, it's not pigs... a kind of rabbit, no, don...</td>\n",
       "      <td>Aenf</td>\n",
       "    </tr>\n",
       "  </tbody>\n",
       "</table>\n",
       "</div>"
      ],
      "text/plain": [
       "                                      Réponse (French)  \\\n",
       "293  Non c’est pas des cochons… un sorte de lapin, ...   \n",
       "\n",
       "                                      Answer (English) Contenu  \n",
       "293  No, it's not pigs... a kind of rabbit, no, don...    Aenf  "
      ]
     },
     "execution_count": 304,
     "metadata": {},
     "output_type": "execute_result"
    }
   ],
   "source": [
    "nancy_contents[nancy_contents[\"Contenu\"].str.contains(\"Aenf\")]"
   ]
  },
  {
   "cell_type": "code",
   "execution_count": 305,
   "metadata": {},
   "outputs": [],
   "source": [
    "# nancy_contents.iloc[293][\"Answer (English)\"] "
   ]
  },
  {
   "cell_type": "code",
   "execution_count": 306,
   "metadata": {},
   "outputs": [],
   "source": [
    "# nancy_contents[nancy_contents[\"Contenu\"].str.contains(\"Explosion\")]\n",
    "# nancy_contents.iloc[337][\"Answer (English)\"] #could be sc"
   ]
  },
  {
   "cell_type": "code",
   "execution_count": 307,
   "metadata": {},
   "outputs": [],
   "source": [
    "# nancy_contents[nancy_contents[\"Contenu\"].str.contains(\"Henf\")]\n",
    "# nancy_contents.iloc[23][\"Answer (English)\"] # seems like just H "
   ]
  },
  {
   "cell_type": "code",
   "execution_count": 308,
   "metadata": {},
   "outputs": [],
   "source": [
    "# nancy_contents[nancy_contents[\"Contenu\"].str.contains(\"Henf\")]\n",
    "# nancy_contents.iloc[284][\"Answer (English)\"] # seems like just H "
   ]
  },
  {
   "cell_type": "code",
   "execution_count": 309,
   "metadata": {},
   "outputs": [],
   "source": [
    "# nancy_contents[nancy_contents[\"Contenu\"].str.contains(\"Squel\")]\n",
    "# # nancy_contents.iloc[353][\"Answer (English)\"] #Anat?\n",
    "# # nancy_contents.iloc[53][\"Answer (English)\"]"
   ]
  },
  {
   "cell_type": "code",
   "execution_count": 310,
   "metadata": {},
   "outputs": [],
   "source": [
    "# nancy_contents[nancy_contents[\"Contenu\"].str.contains(\"Symb\")]\n",
    "# nancy_contents.iloc[150][\"Answer (English)\"] #Anat?\n",
    "# nancy_contents.iloc[269][\"Answer (English)\"]\n",
    "# nancy_contents.iloc[272][\"Answer (English)\"]\n",
    "# nancy_contents.iloc[279][\"Answer (English)\"]"
   ]
  },
  {
   "cell_type": "code",
   "execution_count": 311,
   "metadata": {},
   "outputs": [
    {
     "data": {
      "text/plain": [
       "(380, 27)"
      ]
     },
     "execution_count": 311,
     "metadata": {},
     "output_type": "execute_result"
    }
   ],
   "source": [
    "labels_contents.shape"
   ]
  },
  {
   "cell_type": "code",
   "execution_count": 312,
   "metadata": {},
   "outputs": [
    {
     "data": {
      "text/html": [
       "<div>\n",
       "<style scoped>\n",
       "    .dataframe tbody tr th:only-of-type {\n",
       "        vertical-align: middle;\n",
       "    }\n",
       "\n",
       "    .dataframe tbody tr th {\n",
       "        vertical-align: top;\n",
       "    }\n",
       "\n",
       "    .dataframe thead th {\n",
       "        text-align: right;\n",
       "    }\n",
       "</style>\n",
       "<table border=\"1\" class=\"dataframe\">\n",
       "  <thead>\n",
       "    <tr style=\"text-align: right;\">\n",
       "      <th></th>\n",
       "      <th>Réponse (French)</th>\n",
       "      <th>Answer (English)</th>\n",
       "      <th>Contenu</th>\n",
       "      <th>(A)</th>\n",
       "      <th>(AD)</th>\n",
       "      <th>(H)</th>\n",
       "      <th>(HD)</th>\n",
       "      <th>A</th>\n",
       "      <th>ABS</th>\n",
       "      <th>AD</th>\n",
       "      <th>...</th>\n",
       "      <th>MQ</th>\n",
       "      <th>NAT</th>\n",
       "      <th>OBJ</th>\n",
       "      <th>PAYS</th>\n",
       "      <th>RADIO</th>\n",
       "      <th>SC</th>\n",
       "      <th>SCÈNE</th>\n",
       "      <th>SEX</th>\n",
       "      <th>SG</th>\n",
       "      <th>VÊT</th>\n",
       "    </tr>\n",
       "  </thead>\n",
       "  <tbody>\n",
       "    <tr>\n",
       "      <th>0</th>\n",
       "      <td>Moi ça me fait penser à un papillon de nuit a...</td>\n",
       "      <td>It reminds me of a moth with mandibles. It lo...</td>\n",
       "      <td>(A)</td>\n",
       "      <td>1</td>\n",
       "      <td>0</td>\n",
       "      <td>0</td>\n",
       "      <td>0</td>\n",
       "      <td>0</td>\n",
       "      <td>0</td>\n",
       "      <td>0</td>\n",
       "      <td>...</td>\n",
       "      <td>0</td>\n",
       "      <td>0</td>\n",
       "      <td>0</td>\n",
       "      <td>0</td>\n",
       "      <td>0</td>\n",
       "      <td>0</td>\n",
       "      <td>0</td>\n",
       "      <td>0</td>\n",
       "      <td>0</td>\n",
       "      <td>0</td>\n",
       "    </tr>\n",
       "    <tr>\n",
       "      <th>1</th>\n",
       "      <td>Une personne de chaque côté (forcément, c’est ...</td>\n",
       "      <td>One person on each side (obviously, it’s symme...</td>\n",
       "      <td>H</td>\n",
       "      <td>0</td>\n",
       "      <td>0</td>\n",
       "      <td>0</td>\n",
       "      <td>0</td>\n",
       "      <td>0</td>\n",
       "      <td>0</td>\n",
       "      <td>0</td>\n",
       "      <td>...</td>\n",
       "      <td>0</td>\n",
       "      <td>0</td>\n",
       "      <td>0</td>\n",
       "      <td>0</td>\n",
       "      <td>0</td>\n",
       "      <td>0</td>\n",
       "      <td>0</td>\n",
       "      <td>0</td>\n",
       "      <td>0</td>\n",
       "      <td>0</td>\n",
       "    </tr>\n",
       "    <tr>\n",
       "      <th>2</th>\n",
       "      <td>Une casserole sur une gazinière de… de camping...</td>\n",
       "      <td>A saucepan on a…camping gas stove. The gas sto...</td>\n",
       "      <td>Obj</td>\n",
       "      <td>0</td>\n",
       "      <td>0</td>\n",
       "      <td>0</td>\n",
       "      <td>0</td>\n",
       "      <td>0</td>\n",
       "      <td>0</td>\n",
       "      <td>0</td>\n",
       "      <td>...</td>\n",
       "      <td>0</td>\n",
       "      <td>0</td>\n",
       "      <td>1</td>\n",
       "      <td>0</td>\n",
       "      <td>0</td>\n",
       "      <td>0</td>\n",
       "      <td>0</td>\n",
       "      <td>0</td>\n",
       "      <td>0</td>\n",
       "      <td>0</td>\n",
       "    </tr>\n",
       "    <tr>\n",
       "      <th>3</th>\n",
       "      <td>Ah deux lapins qui se tapent la main avec les ...</td>\n",
       "      <td>Ah two rabbits hitting each other's hands with...</td>\n",
       "      <td>A</td>\n",
       "      <td>0</td>\n",
       "      <td>0</td>\n",
       "      <td>0</td>\n",
       "      <td>0</td>\n",
       "      <td>1</td>\n",
       "      <td>0</td>\n",
       "      <td>0</td>\n",
       "      <td>...</td>\n",
       "      <td>0</td>\n",
       "      <td>0</td>\n",
       "      <td>0</td>\n",
       "      <td>0</td>\n",
       "      <td>0</td>\n",
       "      <td>0</td>\n",
       "      <td>0</td>\n",
       "      <td>0</td>\n",
       "      <td>0</td>\n",
       "      <td>0</td>\n",
       "    </tr>\n",
       "    <tr>\n",
       "      <th>4</th>\n",
       "      <td>Et… Une personne avec des grosses lèvres, ses ...</td>\n",
       "      <td>And... A person with big lips, his eyes, his e...</td>\n",
       "      <td>Hd</td>\n",
       "      <td>0</td>\n",
       "      <td>0</td>\n",
       "      <td>0</td>\n",
       "      <td>0</td>\n",
       "      <td>0</td>\n",
       "      <td>0</td>\n",
       "      <td>0</td>\n",
       "      <td>...</td>\n",
       "      <td>0</td>\n",
       "      <td>0</td>\n",
       "      <td>0</td>\n",
       "      <td>0</td>\n",
       "      <td>0</td>\n",
       "      <td>0</td>\n",
       "      <td>0</td>\n",
       "      <td>0</td>\n",
       "      <td>0</td>\n",
       "      <td>0</td>\n",
       "    </tr>\n",
       "    <tr>\n",
       "      <th>...</th>\n",
       "      <td>...</td>\n",
       "      <td>...</td>\n",
       "      <td>...</td>\n",
       "      <td>...</td>\n",
       "      <td>...</td>\n",
       "      <td>...</td>\n",
       "      <td>...</td>\n",
       "      <td>...</td>\n",
       "      <td>...</td>\n",
       "      <td>...</td>\n",
       "      <td>...</td>\n",
       "      <td>...</td>\n",
       "      <td>...</td>\n",
       "      <td>...</td>\n",
       "      <td>...</td>\n",
       "      <td>...</td>\n",
       "      <td>...</td>\n",
       "      <td>...</td>\n",
       "      <td>...</td>\n",
       "      <td>...</td>\n",
       "      <td>...</td>\n",
       "    </tr>\n",
       "    <tr>\n",
       "      <th>375</th>\n",
       "      <td>Tu vois ça, ça me fait\\n penser à des crevette...</td>\n",
       "      <td>You see that, it reminds me\\n reminds me of sh...</td>\n",
       "      <td>Alim</td>\n",
       "      <td>0</td>\n",
       "      <td>0</td>\n",
       "      <td>0</td>\n",
       "      <td>0</td>\n",
       "      <td>0</td>\n",
       "      <td>0</td>\n",
       "      <td>0</td>\n",
       "      <td>...</td>\n",
       "      <td>0</td>\n",
       "      <td>0</td>\n",
       "      <td>0</td>\n",
       "      <td>0</td>\n",
       "      <td>0</td>\n",
       "      <td>0</td>\n",
       "      <td>0</td>\n",
       "      <td>0</td>\n",
       "      <td>0</td>\n",
       "      <td>0</td>\n",
       "    </tr>\n",
       "    <tr>\n",
       "      <th>376</th>\n",
       "      <td>J’arrive vraiment pas à\\n voir l’ensemble, ça,...</td>\n",
       "      <td>I really can't\\n see the whole thing, it makes...</td>\n",
       "      <td>A / Alim</td>\n",
       "      <td>0</td>\n",
       "      <td>0</td>\n",
       "      <td>0</td>\n",
       "      <td>0</td>\n",
       "      <td>1</td>\n",
       "      <td>0</td>\n",
       "      <td>0</td>\n",
       "      <td>...</td>\n",
       "      <td>0</td>\n",
       "      <td>0</td>\n",
       "      <td>0</td>\n",
       "      <td>0</td>\n",
       "      <td>0</td>\n",
       "      <td>0</td>\n",
       "      <td>0</td>\n",
       "      <td>0</td>\n",
       "      <td>0</td>\n",
       "      <td>0</td>\n",
       "    </tr>\n",
       "    <tr>\n",
       "      <th>377</th>\n",
       "      <td>C’est un peu capillotracté\\n un peu après, mai...</td>\n",
       "      <td>It's a bit capillotint\\n a bit afterwards, but...</td>\n",
       "      <td>Pays / arch / Elem / Frag</td>\n",
       "      <td>0</td>\n",
       "      <td>0</td>\n",
       "      <td>0</td>\n",
       "      <td>0</td>\n",
       "      <td>0</td>\n",
       "      <td>0</td>\n",
       "      <td>0</td>\n",
       "      <td>...</td>\n",
       "      <td>0</td>\n",
       "      <td>0</td>\n",
       "      <td>0</td>\n",
       "      <td>1</td>\n",
       "      <td>0</td>\n",
       "      <td>0</td>\n",
       "      <td>0</td>\n",
       "      <td>0</td>\n",
       "      <td>0</td>\n",
       "      <td>0</td>\n",
       "    </tr>\n",
       "    <tr>\n",
       "      <th>378</th>\n",
       "      <td>: Là ça me fait penser à une\\n chèvre (rires),...</td>\n",
       "      <td>: It reminds me of a goat\\n goat (laughs), and...</td>\n",
       "      <td>A</td>\n",
       "      <td>0</td>\n",
       "      <td>0</td>\n",
       "      <td>0</td>\n",
       "      <td>0</td>\n",
       "      <td>1</td>\n",
       "      <td>0</td>\n",
       "      <td>0</td>\n",
       "      <td>...</td>\n",
       "      <td>0</td>\n",
       "      <td>0</td>\n",
       "      <td>0</td>\n",
       "      <td>0</td>\n",
       "      <td>0</td>\n",
       "      <td>0</td>\n",
       "      <td>0</td>\n",
       "      <td>0</td>\n",
       "      <td>0</td>\n",
       "      <td>0</td>\n",
       "    </tr>\n",
       "    <tr>\n",
       "      <th>379</th>\n",
       "      <td>T’as un gouffre tu vois,\\n t’as le bord du gou...</td>\n",
       "      <td>You've got a chasm, you see,\\n you've got the ...</td>\n",
       "      <td>H / Nat /Scène</td>\n",
       "      <td>0</td>\n",
       "      <td>0</td>\n",
       "      <td>0</td>\n",
       "      <td>0</td>\n",
       "      <td>0</td>\n",
       "      <td>0</td>\n",
       "      <td>0</td>\n",
       "      <td>...</td>\n",
       "      <td>0</td>\n",
       "      <td>1</td>\n",
       "      <td>0</td>\n",
       "      <td>0</td>\n",
       "      <td>0</td>\n",
       "      <td>0</td>\n",
       "      <td>1</td>\n",
       "      <td>0</td>\n",
       "      <td>0</td>\n",
       "      <td>0</td>\n",
       "    </tr>\n",
       "  </tbody>\n",
       "</table>\n",
       "<p>380 rows × 30 columns</p>\n",
       "</div>"
      ],
      "text/plain": [
       "                                      Réponse (French)  \\\n",
       "0     Moi ça me fait penser à un papillon de nuit a...   \n",
       "1    Une personne de chaque côté (forcément, c’est ...   \n",
       "2    Une casserole sur une gazinière de… de camping...   \n",
       "3    Ah deux lapins qui se tapent la main avec les ...   \n",
       "4    Et… Une personne avec des grosses lèvres, ses ...   \n",
       "..                                                 ...   \n",
       "375  Tu vois ça, ça me fait\\n penser à des crevette...   \n",
       "376  J’arrive vraiment pas à\\n voir l’ensemble, ça,...   \n",
       "377  C’est un peu capillotracté\\n un peu après, mai...   \n",
       "378  : Là ça me fait penser à une\\n chèvre (rires),...   \n",
       "379  T’as un gouffre tu vois,\\n t’as le bord du gou...   \n",
       "\n",
       "                                      Answer (English)  \\\n",
       "0     It reminds me of a moth with mandibles. It lo...   \n",
       "1    One person on each side (obviously, it’s symme...   \n",
       "2    A saucepan on a…camping gas stove. The gas sto...   \n",
       "3    Ah two rabbits hitting each other's hands with...   \n",
       "4    And... A person with big lips, his eyes, his e...   \n",
       "..                                                 ...   \n",
       "375  You see that, it reminds me\\n reminds me of sh...   \n",
       "376  I really can't\\n see the whole thing, it makes...   \n",
       "377  It's a bit capillotint\\n a bit afterwards, but...   \n",
       "378  : It reminds me of a goat\\n goat (laughs), and...   \n",
       "379  You've got a chasm, you see,\\n you've got the ...   \n",
       "\n",
       "                       Contenu  (A)  (AD)  (H)  (HD)  A  ABS  AD  ...  MQ  \\\n",
       "0                          (A)    1     0    0     0  0    0   0  ...   0   \n",
       "1                            H    0     0    0     0  0    0   0  ...   0   \n",
       "2                          Obj    0     0    0     0  0    0   0  ...   0   \n",
       "3                            A    0     0    0     0  1    0   0  ...   0   \n",
       "4                           Hd    0     0    0     0  0    0   0  ...   0   \n",
       "..                         ...  ...   ...  ...   ... ..  ...  ..  ...  ..   \n",
       "375                       Alim    0     0    0     0  0    0   0  ...   0   \n",
       "376                   A / Alim    0     0    0     0  1    0   0  ...   0   \n",
       "377  Pays / arch / Elem / Frag    0     0    0     0  0    0   0  ...   0   \n",
       "378                          A    0     0    0     0  1    0   0  ...   0   \n",
       "379             H / Nat /Scène    0     0    0     0  0    0   0  ...   0   \n",
       "\n",
       "     NAT  OBJ  PAYS  RADIO  SC  SCÈNE  SEX  SG  VÊT  \n",
       "0      0    0     0      0   0      0    0   0    0  \n",
       "1      0    0     0      0   0      0    0   0    0  \n",
       "2      0    1     0      0   0      0    0   0    0  \n",
       "3      0    0     0      0   0      0    0   0    0  \n",
       "4      0    0     0      0   0      0    0   0    0  \n",
       "..   ...  ...   ...    ...  ..    ...  ...  ..  ...  \n",
       "375    0    0     0      0   0      0    0   0    0  \n",
       "376    0    0     0      0   0      0    0   0    0  \n",
       "377    0    0     1      0   0      0    0   0    0  \n",
       "378    0    0     0      0   0      0    0   0    0  \n",
       "379    1    0     0      0   0      1    0   0    0  \n",
       "\n",
       "[380 rows x 30 columns]"
      ]
     },
     "execution_count": 312,
     "metadata": {},
     "output_type": "execute_result"
    }
   ],
   "source": [
    "nancy_contents = pd.concat([nancy_contents, labels_contents], axis=1)\n",
    "nancy_contents"
   ]
  },
  {
   "cell_type": "code",
   "execution_count": 313,
   "metadata": {},
   "outputs": [
    {
     "data": {
      "text/plain": [
       "Index(['Réponse (French)', 'Answer (English)', 'Contenu', '(A)', '(AD)', '(H)',\n",
       "       '(HD)', 'A', 'ABS', 'AD', 'ALIM', 'ANAT', 'ARCH', 'ART', 'BOT', 'ELEM',\n",
       "       'FRAG', 'GÉO', 'H', 'HD', 'MQ', 'NAT', 'OBJ', 'PAYS', 'RADIO', 'SC',\n",
       "       'SCÈNE', 'SEX', 'SG', 'VÊT'],\n",
       "      dtype='object')"
      ]
     },
     "execution_count": 313,
     "metadata": {},
     "output_type": "execute_result"
    }
   ],
   "source": [
    "nancy_contents.columns"
   ]
  },
  {
   "cell_type": "code",
   "execution_count": 314,
   "metadata": {},
   "outputs": [],
   "source": [
    "nancy_contents_individual_labels_eng = nancy_contents.drop(columns=[\"Réponse (French)\", \"Contenu\"])\n",
    "nancy_contents_individual_labels_french = nancy_contents.drop(columns=[\"Answer (English)\", \"Contenu\"])"
   ]
  },
  {
   "cell_type": "code",
   "execution_count": 315,
   "metadata": {},
   "outputs": [],
   "source": [
    "# nancy_contents.to_csv(\"nancy_contents.csv\", index = False)\n",
    "# nancy_contents_individual_labels_french.to_csv(\"nancy_contents_individual_labels_french.csv\", index = False)\n",
    "# nancy_contents_individual_labels_eng.to_csv(\"nancy_contents_individual_labels_eng.csv\", index = False)"
   ]
  },
  {
   "cell_type": "markdown",
   "metadata": {},
   "source": [
    "### Determinant labels"
   ]
  },
  {
   "cell_type": "code",
   "execution_count": 316,
   "metadata": {},
   "outputs": [
    {
     "data": {
      "text/plain": [
       "Déterminant\n",
       "F-        82\n",
       "F+        55\n",
       "FC-       12\n",
       "FC’-       8\n",
       "F+/-       8\n",
       "          ..\n",
       "Fclob-     1\n",
       "Kclob-     1\n",
       "EF+/-      1\n",
       "F- C       1\n",
       "KE-        1\n",
       "Name: count, Length: 114, dtype: int64"
      ]
     },
     "execution_count": 316,
     "metadata": {},
     "output_type": "execute_result"
    }
   ],
   "source": [
    "nancy_determinants[\"Déterminant\"].value_counts()"
   ]
  },
  {
   "cell_type": "code",
   "execution_count": 317,
   "metadata": {},
   "outputs": [],
   "source": [
    "ex = \"KobE C'-\""
   ]
  },
  {
   "cell_type": "code",
   "execution_count": 318,
   "metadata": {},
   "outputs": [],
   "source": [
    "splits = []"
   ]
  },
  {
   "cell_type": "markdown",
   "metadata": {},
   "source": [
    "Important! I am taking away tge +- for now to make the splits easier"
   ]
  },
  {
   "cell_type": "code",
   "execution_count": 319,
   "metadata": {},
   "outputs": [],
   "source": [
    "def split_labels(text,splits):\n",
    "    text = str(text).replace(\" \", \"\").replace(\"\\r\", \"\").replace(\"\\n\", \"\").replace(\"'\", \"'\").replace(\"’\", \"'\").replace(\"+\", \"\").replace(\"-\", \"\").replace(\"\\\\\", \"\").replace(\"/\", \"\").lower()\n",
    "    # regex either one uppercase letter or a couple of lower case letters\n",
    "    # + and - symbols\n",
    "    # ' character\n",
    "\n",
    "    regex = r\"( |fclob|clobf|clob|kob|kan|kp|k|fc'|c'f|cf'|cf|fc|fe|ef|e)\"\n",
    "    labels = re.split(regex, text)\n",
    "    filter_characters = [\"\", \"+\", \"-\", \"\\\\\", \"+-\", \"+/-\", \"stat\"]   # i am filtering the good and bad form\n",
    "    labels = [label.upper() for label in labels if label not in filter_characters]\n",
    "    splits.append(labels)\n",
    "    return labels"
   ]
  },
  {
   "cell_type": "code",
   "execution_count": 320,
   "metadata": {},
   "outputs": [
    {
     "data": {
      "text/plain": [
       "['KOB', 'E', \"C'\"]"
      ]
     },
     "execution_count": 320,
     "metadata": {},
     "output_type": "execute_result"
    }
   ],
   "source": [
    "split_labels(ex, splits) # we would get a positive class in each of these labels"
   ]
  },
  {
   "cell_type": "code",
   "execution_count": 321,
   "metadata": {},
   "outputs": [
    {
     "data": {
      "text/plain": [
       "0         [FC']\n",
       "1           [K]\n",
       "2          [FE]\n",
       "3         [KAN]\n",
       "4          [EF]\n",
       "         ...   \n",
       "375        [CF]\n",
       "376        [FC]\n",
       "377    [KOB, E]\n",
       "378       [FC']\n",
       "379      [K, E]\n",
       "Name: Déterminant, Length: 380, dtype: object"
      ]
     },
     "execution_count": 321,
     "metadata": {},
     "output_type": "execute_result"
    }
   ],
   "source": [
    "labels_determinants = nancy_determinants[\"Déterminant\"].apply(lambda x: split_labels(x, splits))\n",
    "labels_determinants"
   ]
  },
  {
   "cell_type": "code",
   "execution_count": 322,
   "metadata": {},
   "outputs": [],
   "source": [
    "labels_determinants = labels_determinants.str.join('|').str.get_dummies()"
   ]
  },
  {
   "cell_type": "code",
   "execution_count": 323,
   "metadata": {},
   "outputs": [
    {
     "data": {
      "text/plain": [
       "Index(['C', 'C'', 'C'F', 'CF', 'CF'', 'CLOB', 'CLOBF', 'E', 'EF', 'F', 'FC',\n",
       "       'FC'', 'FCLOB', 'FE', 'K', 'KAN', 'KOB', 'KP'],\n",
       "      dtype='object')"
      ]
     },
     "execution_count": 323,
     "metadata": {},
     "output_type": "execute_result"
    }
   ],
   "source": [
    "labels_determinants.columns"
   ]
  },
  {
   "cell_type": "code",
   "execution_count": 324,
   "metadata": {},
   "outputs": [],
   "source": [
    "for l in splits:\n",
    "    if \"'\" in l:\n",
    "        print(l)"
   ]
  },
  {
   "cell_type": "code",
   "execution_count": 325,
   "metadata": {},
   "outputs": [
    {
     "data": {
      "text/html": [
       "<div>\n",
       "<style scoped>\n",
       "    .dataframe tbody tr th:only-of-type {\n",
       "        vertical-align: middle;\n",
       "    }\n",
       "\n",
       "    .dataframe tbody tr th {\n",
       "        vertical-align: top;\n",
       "    }\n",
       "\n",
       "    .dataframe thead th {\n",
       "        text-align: right;\n",
       "    }\n",
       "</style>\n",
       "<table border=\"1\" class=\"dataframe\">\n",
       "  <thead>\n",
       "    <tr style=\"text-align: right;\">\n",
       "      <th></th>\n",
       "      <th>Réponse (French)</th>\n",
       "      <th>Answer (English)</th>\n",
       "      <th>Déterminant</th>\n",
       "    </tr>\n",
       "  </thead>\n",
       "  <tbody>\n",
       "    <tr>\n",
       "      <th>243</th>\n",
       "      <td>Une tache d'encre non de sang... ouais</td>\n",
       "      <td>An ink stain not blood...yeah</td>\n",
       "      <td>CF'</td>\n",
       "    </tr>\n",
       "    <tr>\n",
       "      <th>271</th>\n",
       "      <td>Hm … Je sais pas … ça m’angoisse un peu … l’im...</td>\n",
       "      <td>Hm... I don't know... it worries me a little.....</td>\n",
       "      <td>CF'</td>\n",
       "    </tr>\n",
       "  </tbody>\n",
       "</table>\n",
       "</div>"
      ],
      "text/plain": [
       "                                      Réponse (French)  \\\n",
       "243             Une tache d'encre non de sang... ouais   \n",
       "271  Hm … Je sais pas … ça m’angoisse un peu … l’im...   \n",
       "\n",
       "                                      Answer (English) Déterminant  \n",
       "243                      An ink stain not blood...yeah         CF'  \n",
       "271  Hm... I don't know... it worries me a little.....         CF'  "
      ]
     },
     "execution_count": 325,
     "metadata": {},
     "output_type": "execute_result"
    }
   ],
   "source": [
    "nancy_determinants[nancy_determinants[\"Déterminant\"].str.contains(\"CF'\")]"
   ]
  },
  {
   "cell_type": "code",
   "execution_count": 326,
   "metadata": {},
   "outputs": [
    {
     "data": {
      "text/html": [
       "<div>\n",
       "<style scoped>\n",
       "    .dataframe tbody tr th:only-of-type {\n",
       "        vertical-align: middle;\n",
       "    }\n",
       "\n",
       "    .dataframe tbody tr th {\n",
       "        vertical-align: top;\n",
       "    }\n",
       "\n",
       "    .dataframe thead th {\n",
       "        text-align: right;\n",
       "    }\n",
       "</style>\n",
       "<table border=\"1\" class=\"dataframe\">\n",
       "  <thead>\n",
       "    <tr style=\"text-align: right;\">\n",
       "      <th></th>\n",
       "      <th>Réponse (French)</th>\n",
       "      <th>Answer (English)</th>\n",
       "      <th>Déterminant</th>\n",
       "      <th>C</th>\n",
       "      <th>C'</th>\n",
       "      <th>C'F</th>\n",
       "      <th>CF</th>\n",
       "      <th>CF'</th>\n",
       "      <th>CLOB</th>\n",
       "      <th>CLOBF</th>\n",
       "      <th>...</th>\n",
       "      <th>EF</th>\n",
       "      <th>F</th>\n",
       "      <th>FC</th>\n",
       "      <th>FC'</th>\n",
       "      <th>FCLOB</th>\n",
       "      <th>FE</th>\n",
       "      <th>K</th>\n",
       "      <th>KAN</th>\n",
       "      <th>KOB</th>\n",
       "      <th>KP</th>\n",
       "    </tr>\n",
       "  </thead>\n",
       "  <tbody>\n",
       "    <tr>\n",
       "      <th>0</th>\n",
       "      <td>Moi ça me fait penser à un papillon de nuit a...</td>\n",
       "      <td>It reminds me of a moth with mandibles. It lo...</td>\n",
       "      <td>FC'+</td>\n",
       "      <td>0</td>\n",
       "      <td>0</td>\n",
       "      <td>0</td>\n",
       "      <td>0</td>\n",
       "      <td>0</td>\n",
       "      <td>0</td>\n",
       "      <td>0</td>\n",
       "      <td>...</td>\n",
       "      <td>0</td>\n",
       "      <td>0</td>\n",
       "      <td>0</td>\n",
       "      <td>1</td>\n",
       "      <td>0</td>\n",
       "      <td>0</td>\n",
       "      <td>0</td>\n",
       "      <td>0</td>\n",
       "      <td>0</td>\n",
       "      <td>0</td>\n",
       "    </tr>\n",
       "    <tr>\n",
       "      <th>1</th>\n",
       "      <td>Une personne de chaque côté (forcément, c’est ...</td>\n",
       "      <td>One person on each side (obviously, it’s symme...</td>\n",
       "      <td>K+</td>\n",
       "      <td>0</td>\n",
       "      <td>0</td>\n",
       "      <td>0</td>\n",
       "      <td>0</td>\n",
       "      <td>0</td>\n",
       "      <td>0</td>\n",
       "      <td>0</td>\n",
       "      <td>...</td>\n",
       "      <td>0</td>\n",
       "      <td>0</td>\n",
       "      <td>0</td>\n",
       "      <td>0</td>\n",
       "      <td>0</td>\n",
       "      <td>0</td>\n",
       "      <td>1</td>\n",
       "      <td>0</td>\n",
       "      <td>0</td>\n",
       "      <td>0</td>\n",
       "    </tr>\n",
       "    <tr>\n",
       "      <th>2</th>\n",
       "      <td>Une casserole sur une gazinière de… de camping...</td>\n",
       "      <td>A saucepan on a…camping gas stove. The gas sto...</td>\n",
       "      <td>FE-</td>\n",
       "      <td>0</td>\n",
       "      <td>0</td>\n",
       "      <td>0</td>\n",
       "      <td>0</td>\n",
       "      <td>0</td>\n",
       "      <td>0</td>\n",
       "      <td>0</td>\n",
       "      <td>...</td>\n",
       "      <td>0</td>\n",
       "      <td>0</td>\n",
       "      <td>0</td>\n",
       "      <td>0</td>\n",
       "      <td>0</td>\n",
       "      <td>1</td>\n",
       "      <td>0</td>\n",
       "      <td>0</td>\n",
       "      <td>0</td>\n",
       "      <td>0</td>\n",
       "    </tr>\n",
       "    <tr>\n",
       "      <th>3</th>\n",
       "      <td>Ah deux lapins qui se tapent la main avec les ...</td>\n",
       "      <td>Ah two rabbits hitting each other's hands with...</td>\n",
       "      <td>kan</td>\n",
       "      <td>0</td>\n",
       "      <td>0</td>\n",
       "      <td>0</td>\n",
       "      <td>0</td>\n",
       "      <td>0</td>\n",
       "      <td>0</td>\n",
       "      <td>0</td>\n",
       "      <td>...</td>\n",
       "      <td>0</td>\n",
       "      <td>0</td>\n",
       "      <td>0</td>\n",
       "      <td>0</td>\n",
       "      <td>0</td>\n",
       "      <td>0</td>\n",
       "      <td>0</td>\n",
       "      <td>1</td>\n",
       "      <td>0</td>\n",
       "      <td>0</td>\n",
       "    </tr>\n",
       "    <tr>\n",
       "      <th>4</th>\n",
       "      <td>Et… Une personne avec des grosses lèvres, ses ...</td>\n",
       "      <td>And... A person with big lips, his eyes, his e...</td>\n",
       "      <td>EF</td>\n",
       "      <td>0</td>\n",
       "      <td>0</td>\n",
       "      <td>0</td>\n",
       "      <td>0</td>\n",
       "      <td>0</td>\n",
       "      <td>0</td>\n",
       "      <td>0</td>\n",
       "      <td>...</td>\n",
       "      <td>1</td>\n",
       "      <td>0</td>\n",
       "      <td>0</td>\n",
       "      <td>0</td>\n",
       "      <td>0</td>\n",
       "      <td>0</td>\n",
       "      <td>0</td>\n",
       "      <td>0</td>\n",
       "      <td>0</td>\n",
       "      <td>0</td>\n",
       "    </tr>\n",
       "    <tr>\n",
       "      <th>...</th>\n",
       "      <td>...</td>\n",
       "      <td>...</td>\n",
       "      <td>...</td>\n",
       "      <td>...</td>\n",
       "      <td>...</td>\n",
       "      <td>...</td>\n",
       "      <td>...</td>\n",
       "      <td>...</td>\n",
       "      <td>...</td>\n",
       "      <td>...</td>\n",
       "      <td>...</td>\n",
       "      <td>...</td>\n",
       "      <td>...</td>\n",
       "      <td>...</td>\n",
       "      <td>...</td>\n",
       "      <td>...</td>\n",
       "      <td>...</td>\n",
       "      <td>...</td>\n",
       "      <td>...</td>\n",
       "      <td>...</td>\n",
       "      <td>...</td>\n",
       "    </tr>\n",
       "    <tr>\n",
       "      <th>375</th>\n",
       "      <td>Tu vois ça, ça me fait\\n penser à des crevette...</td>\n",
       "      <td>You see that, it reminds me\\n reminds me of sh...</td>\n",
       "      <td>CF-</td>\n",
       "      <td>0</td>\n",
       "      <td>0</td>\n",
       "      <td>0</td>\n",
       "      <td>1</td>\n",
       "      <td>0</td>\n",
       "      <td>0</td>\n",
       "      <td>0</td>\n",
       "      <td>...</td>\n",
       "      <td>0</td>\n",
       "      <td>0</td>\n",
       "      <td>0</td>\n",
       "      <td>0</td>\n",
       "      <td>0</td>\n",
       "      <td>0</td>\n",
       "      <td>0</td>\n",
       "      <td>0</td>\n",
       "      <td>0</td>\n",
       "      <td>0</td>\n",
       "    </tr>\n",
       "    <tr>\n",
       "      <th>376</th>\n",
       "      <td>J’arrive vraiment pas à\\n voir l’ensemble, ça,...</td>\n",
       "      <td>I really can't\\n see the whole thing, it makes...</td>\n",
       "      <td>FC +</td>\n",
       "      <td>0</td>\n",
       "      <td>0</td>\n",
       "      <td>0</td>\n",
       "      <td>0</td>\n",
       "      <td>0</td>\n",
       "      <td>0</td>\n",
       "      <td>0</td>\n",
       "      <td>...</td>\n",
       "      <td>0</td>\n",
       "      <td>0</td>\n",
       "      <td>1</td>\n",
       "      <td>0</td>\n",
       "      <td>0</td>\n",
       "      <td>0</td>\n",
       "      <td>0</td>\n",
       "      <td>0</td>\n",
       "      <td>0</td>\n",
       "      <td>0</td>\n",
       "    </tr>\n",
       "    <tr>\n",
       "      <th>377</th>\n",
       "      <td>C’est un peu capillotracté\\n un peu après, mai...</td>\n",
       "      <td>It's a bit capillotint\\n a bit afterwards, but...</td>\n",
       "      <td>kobE-</td>\n",
       "      <td>0</td>\n",
       "      <td>0</td>\n",
       "      <td>0</td>\n",
       "      <td>0</td>\n",
       "      <td>0</td>\n",
       "      <td>0</td>\n",
       "      <td>0</td>\n",
       "      <td>...</td>\n",
       "      <td>0</td>\n",
       "      <td>0</td>\n",
       "      <td>0</td>\n",
       "      <td>0</td>\n",
       "      <td>0</td>\n",
       "      <td>0</td>\n",
       "      <td>0</td>\n",
       "      <td>0</td>\n",
       "      <td>1</td>\n",
       "      <td>0</td>\n",
       "    </tr>\n",
       "    <tr>\n",
       "      <th>378</th>\n",
       "      <td>: Là ça me fait penser à une\\n chèvre (rires),...</td>\n",
       "      <td>: It reminds me of a goat\\n goat (laughs), and...</td>\n",
       "      <td>FC’-</td>\n",
       "      <td>0</td>\n",
       "      <td>0</td>\n",
       "      <td>0</td>\n",
       "      <td>0</td>\n",
       "      <td>0</td>\n",
       "      <td>0</td>\n",
       "      <td>0</td>\n",
       "      <td>...</td>\n",
       "      <td>0</td>\n",
       "      <td>0</td>\n",
       "      <td>0</td>\n",
       "      <td>1</td>\n",
       "      <td>0</td>\n",
       "      <td>0</td>\n",
       "      <td>0</td>\n",
       "      <td>0</td>\n",
       "      <td>0</td>\n",
       "      <td>0</td>\n",
       "    </tr>\n",
       "    <tr>\n",
       "      <th>379</th>\n",
       "      <td>T’as un gouffre tu vois,\\n t’as le bord du gou...</td>\n",
       "      <td>You've got a chasm, you see,\\n you've got the ...</td>\n",
       "      <td>KE-</td>\n",
       "      <td>0</td>\n",
       "      <td>0</td>\n",
       "      <td>0</td>\n",
       "      <td>0</td>\n",
       "      <td>0</td>\n",
       "      <td>0</td>\n",
       "      <td>0</td>\n",
       "      <td>...</td>\n",
       "      <td>0</td>\n",
       "      <td>0</td>\n",
       "      <td>0</td>\n",
       "      <td>0</td>\n",
       "      <td>0</td>\n",
       "      <td>0</td>\n",
       "      <td>1</td>\n",
       "      <td>0</td>\n",
       "      <td>0</td>\n",
       "      <td>0</td>\n",
       "    </tr>\n",
       "  </tbody>\n",
       "</table>\n",
       "<p>380 rows × 21 columns</p>\n",
       "</div>"
      ],
      "text/plain": [
       "                                      Réponse (French)  \\\n",
       "0     Moi ça me fait penser à un papillon de nuit a...   \n",
       "1    Une personne de chaque côté (forcément, c’est ...   \n",
       "2    Une casserole sur une gazinière de… de camping...   \n",
       "3    Ah deux lapins qui se tapent la main avec les ...   \n",
       "4    Et… Une personne avec des grosses lèvres, ses ...   \n",
       "..                                                 ...   \n",
       "375  Tu vois ça, ça me fait\\n penser à des crevette...   \n",
       "376  J’arrive vraiment pas à\\n voir l’ensemble, ça,...   \n",
       "377  C’est un peu capillotracté\\n un peu après, mai...   \n",
       "378  : Là ça me fait penser à une\\n chèvre (rires),...   \n",
       "379  T’as un gouffre tu vois,\\n t’as le bord du gou...   \n",
       "\n",
       "                                      Answer (English) Déterminant  C  C'  \\\n",
       "0     It reminds me of a moth with mandibles. It lo...        FC'+  0   0   \n",
       "1    One person on each side (obviously, it’s symme...          K+  0   0   \n",
       "2    A saucepan on a…camping gas stove. The gas sto...         FE-  0   0   \n",
       "3    Ah two rabbits hitting each other's hands with...         kan  0   0   \n",
       "4    And... A person with big lips, his eyes, his e...          EF  0   0   \n",
       "..                                                 ...         ... ..  ..   \n",
       "375  You see that, it reminds me\\n reminds me of sh...         CF-  0   0   \n",
       "376  I really can't\\n see the whole thing, it makes...        FC +  0   0   \n",
       "377  It's a bit capillotint\\n a bit afterwards, but...       kobE-  0   0   \n",
       "378  : It reminds me of a goat\\n goat (laughs), and...        FC’-  0   0   \n",
       "379  You've got a chasm, you see,\\n you've got the ...         KE-  0   0   \n",
       "\n",
       "     C'F  CF  CF'  CLOB  CLOBF  ...  EF  F  FC  FC'  FCLOB  FE  K  KAN  KOB  \\\n",
       "0      0   0    0     0      0  ...   0  0   0    1      0   0  0    0    0   \n",
       "1      0   0    0     0      0  ...   0  0   0    0      0   0  1    0    0   \n",
       "2      0   0    0     0      0  ...   0  0   0    0      0   1  0    0    0   \n",
       "3      0   0    0     0      0  ...   0  0   0    0      0   0  0    1    0   \n",
       "4      0   0    0     0      0  ...   1  0   0    0      0   0  0    0    0   \n",
       "..   ...  ..  ...   ...    ...  ...  .. ..  ..  ...    ...  .. ..  ...  ...   \n",
       "375    0   1    0     0      0  ...   0  0   0    0      0   0  0    0    0   \n",
       "376    0   0    0     0      0  ...   0  0   1    0      0   0  0    0    0   \n",
       "377    0   0    0     0      0  ...   0  0   0    0      0   0  0    0    1   \n",
       "378    0   0    0     0      0  ...   0  0   0    1      0   0  0    0    0   \n",
       "379    0   0    0     0      0  ...   0  0   0    0      0   0  1    0    0   \n",
       "\n",
       "     KP  \n",
       "0     0  \n",
       "1     0  \n",
       "2     0  \n",
       "3     0  \n",
       "4     0  \n",
       "..   ..  \n",
       "375   0  \n",
       "376   0  \n",
       "377   0  \n",
       "378   0  \n",
       "379   0  \n",
       "\n",
       "[380 rows x 21 columns]"
      ]
     },
     "execution_count": 326,
     "metadata": {},
     "output_type": "execute_result"
    }
   ],
   "source": [
    "nancy_determinants = pd.concat([nancy_determinants, labels_determinants], axis=1)\n",
    "nancy_determinants"
   ]
  },
  {
   "cell_type": "code",
   "execution_count": 327,
   "metadata": {},
   "outputs": [
    {
     "data": {
      "text/plain": [
       "Index(['Réponse (French)', 'Answer (English)', 'Déterminant', 'C', 'C'', 'C'F',\n",
       "       'CF', 'CF'', 'CLOB', 'CLOBF', 'E', 'EF', 'F', 'FC', 'FC'', 'FCLOB',\n",
       "       'FE', 'K', 'KAN', 'KOB', 'KP'],\n",
       "      dtype='object')"
      ]
     },
     "execution_count": 327,
     "metadata": {},
     "output_type": "execute_result"
    }
   ],
   "source": [
    "nancy_determinants.columns"
   ]
  },
  {
   "cell_type": "code",
   "execution_count": 328,
   "metadata": {},
   "outputs": [],
   "source": [
    "nancy_determinants_individual_labels_eng = nancy_determinants.drop(columns=[\"Réponse (French)\", \"Déterminant\"])\n",
    "nancy_determinants_individual_labels_french = nancy_determinants.drop(columns=[\"Answer (English)\", \"Déterminant\"])"
   ]
  },
  {
   "cell_type": "code",
   "execution_count": 329,
   "metadata": {},
   "outputs": [],
   "source": [
    "# nancy_determinants.to_csv(\"nancy_determinants.csv\", index = False)\n",
    "# nancy_determinants_individual_labels_eng.to_csv(\"nancy_determinants_individual_labels_eng.csv\", index = False)\n",
    "# nancy_determinants_individual_labels_french.to_csv(\"nancy_determinants_individual_labels_french.csv\", index = False)\n"
   ]
  },
  {
   "cell_type": "markdown",
   "metadata": {},
   "source": [
    "# Content labels distribution"
   ]
  },
  {
   "cell_type": "code",
   "execution_count": 330,
   "metadata": {},
   "outputs": [
    {
     "data": {
      "text/html": [
       "<div>\n",
       "<style scoped>\n",
       "    .dataframe tbody tr th:only-of-type {\n",
       "        vertical-align: middle;\n",
       "    }\n",
       "\n",
       "    .dataframe tbody tr th {\n",
       "        vertical-align: top;\n",
       "    }\n",
       "\n",
       "    .dataframe thead th {\n",
       "        text-align: right;\n",
       "    }\n",
       "</style>\n",
       "<table border=\"1\" class=\"dataframe\">\n",
       "  <thead>\n",
       "    <tr style=\"text-align: right;\">\n",
       "      <th></th>\n",
       "      <th>(A)</th>\n",
       "      <th>(AD)</th>\n",
       "      <th>(H)</th>\n",
       "      <th>(HD)</th>\n",
       "      <th>A</th>\n",
       "      <th>ABS</th>\n",
       "      <th>AD</th>\n",
       "      <th>ALIM</th>\n",
       "      <th>ANAT</th>\n",
       "      <th>ARCH</th>\n",
       "      <th>...</th>\n",
       "      <th>MQ</th>\n",
       "      <th>NAT</th>\n",
       "      <th>OBJ</th>\n",
       "      <th>PAYS</th>\n",
       "      <th>RADIO</th>\n",
       "      <th>SC</th>\n",
       "      <th>SCÈNE</th>\n",
       "      <th>SEX</th>\n",
       "      <th>SG</th>\n",
       "      <th>VÊT</th>\n",
       "    </tr>\n",
       "  </thead>\n",
       "  <tbody>\n",
       "    <tr>\n",
       "      <th>0</th>\n",
       "      <td>1</td>\n",
       "      <td>0</td>\n",
       "      <td>0</td>\n",
       "      <td>0</td>\n",
       "      <td>0</td>\n",
       "      <td>0</td>\n",
       "      <td>0</td>\n",
       "      <td>0</td>\n",
       "      <td>0</td>\n",
       "      <td>0</td>\n",
       "      <td>...</td>\n",
       "      <td>0</td>\n",
       "      <td>0</td>\n",
       "      <td>0</td>\n",
       "      <td>0</td>\n",
       "      <td>0</td>\n",
       "      <td>0</td>\n",
       "      <td>0</td>\n",
       "      <td>0</td>\n",
       "      <td>0</td>\n",
       "      <td>0</td>\n",
       "    </tr>\n",
       "    <tr>\n",
       "      <th>1</th>\n",
       "      <td>0</td>\n",
       "      <td>0</td>\n",
       "      <td>0</td>\n",
       "      <td>0</td>\n",
       "      <td>0</td>\n",
       "      <td>0</td>\n",
       "      <td>0</td>\n",
       "      <td>0</td>\n",
       "      <td>0</td>\n",
       "      <td>0</td>\n",
       "      <td>...</td>\n",
       "      <td>0</td>\n",
       "      <td>0</td>\n",
       "      <td>0</td>\n",
       "      <td>0</td>\n",
       "      <td>0</td>\n",
       "      <td>0</td>\n",
       "      <td>0</td>\n",
       "      <td>0</td>\n",
       "      <td>0</td>\n",
       "      <td>0</td>\n",
       "    </tr>\n",
       "    <tr>\n",
       "      <th>2</th>\n",
       "      <td>0</td>\n",
       "      <td>0</td>\n",
       "      <td>0</td>\n",
       "      <td>0</td>\n",
       "      <td>0</td>\n",
       "      <td>0</td>\n",
       "      <td>0</td>\n",
       "      <td>0</td>\n",
       "      <td>0</td>\n",
       "      <td>0</td>\n",
       "      <td>...</td>\n",
       "      <td>0</td>\n",
       "      <td>0</td>\n",
       "      <td>1</td>\n",
       "      <td>0</td>\n",
       "      <td>0</td>\n",
       "      <td>0</td>\n",
       "      <td>0</td>\n",
       "      <td>0</td>\n",
       "      <td>0</td>\n",
       "      <td>0</td>\n",
       "    </tr>\n",
       "    <tr>\n",
       "      <th>3</th>\n",
       "      <td>0</td>\n",
       "      <td>0</td>\n",
       "      <td>0</td>\n",
       "      <td>0</td>\n",
       "      <td>1</td>\n",
       "      <td>0</td>\n",
       "      <td>0</td>\n",
       "      <td>0</td>\n",
       "      <td>0</td>\n",
       "      <td>0</td>\n",
       "      <td>...</td>\n",
       "      <td>0</td>\n",
       "      <td>0</td>\n",
       "      <td>0</td>\n",
       "      <td>0</td>\n",
       "      <td>0</td>\n",
       "      <td>0</td>\n",
       "      <td>0</td>\n",
       "      <td>0</td>\n",
       "      <td>0</td>\n",
       "      <td>0</td>\n",
       "    </tr>\n",
       "    <tr>\n",
       "      <th>4</th>\n",
       "      <td>0</td>\n",
       "      <td>0</td>\n",
       "      <td>0</td>\n",
       "      <td>0</td>\n",
       "      <td>0</td>\n",
       "      <td>0</td>\n",
       "      <td>0</td>\n",
       "      <td>0</td>\n",
       "      <td>0</td>\n",
       "      <td>0</td>\n",
       "      <td>...</td>\n",
       "      <td>0</td>\n",
       "      <td>0</td>\n",
       "      <td>0</td>\n",
       "      <td>0</td>\n",
       "      <td>0</td>\n",
       "      <td>0</td>\n",
       "      <td>0</td>\n",
       "      <td>0</td>\n",
       "      <td>0</td>\n",
       "      <td>0</td>\n",
       "    </tr>\n",
       "    <tr>\n",
       "      <th>...</th>\n",
       "      <td>...</td>\n",
       "      <td>...</td>\n",
       "      <td>...</td>\n",
       "      <td>...</td>\n",
       "      <td>...</td>\n",
       "      <td>...</td>\n",
       "      <td>...</td>\n",
       "      <td>...</td>\n",
       "      <td>...</td>\n",
       "      <td>...</td>\n",
       "      <td>...</td>\n",
       "      <td>...</td>\n",
       "      <td>...</td>\n",
       "      <td>...</td>\n",
       "      <td>...</td>\n",
       "      <td>...</td>\n",
       "      <td>...</td>\n",
       "      <td>...</td>\n",
       "      <td>...</td>\n",
       "      <td>...</td>\n",
       "      <td>...</td>\n",
       "    </tr>\n",
       "    <tr>\n",
       "      <th>375</th>\n",
       "      <td>0</td>\n",
       "      <td>0</td>\n",
       "      <td>0</td>\n",
       "      <td>0</td>\n",
       "      <td>0</td>\n",
       "      <td>0</td>\n",
       "      <td>0</td>\n",
       "      <td>1</td>\n",
       "      <td>0</td>\n",
       "      <td>0</td>\n",
       "      <td>...</td>\n",
       "      <td>0</td>\n",
       "      <td>0</td>\n",
       "      <td>0</td>\n",
       "      <td>0</td>\n",
       "      <td>0</td>\n",
       "      <td>0</td>\n",
       "      <td>0</td>\n",
       "      <td>0</td>\n",
       "      <td>0</td>\n",
       "      <td>0</td>\n",
       "    </tr>\n",
       "    <tr>\n",
       "      <th>376</th>\n",
       "      <td>0</td>\n",
       "      <td>0</td>\n",
       "      <td>0</td>\n",
       "      <td>0</td>\n",
       "      <td>1</td>\n",
       "      <td>0</td>\n",
       "      <td>0</td>\n",
       "      <td>1</td>\n",
       "      <td>0</td>\n",
       "      <td>0</td>\n",
       "      <td>...</td>\n",
       "      <td>0</td>\n",
       "      <td>0</td>\n",
       "      <td>0</td>\n",
       "      <td>0</td>\n",
       "      <td>0</td>\n",
       "      <td>0</td>\n",
       "      <td>0</td>\n",
       "      <td>0</td>\n",
       "      <td>0</td>\n",
       "      <td>0</td>\n",
       "    </tr>\n",
       "    <tr>\n",
       "      <th>377</th>\n",
       "      <td>0</td>\n",
       "      <td>0</td>\n",
       "      <td>0</td>\n",
       "      <td>0</td>\n",
       "      <td>0</td>\n",
       "      <td>0</td>\n",
       "      <td>0</td>\n",
       "      <td>0</td>\n",
       "      <td>0</td>\n",
       "      <td>1</td>\n",
       "      <td>...</td>\n",
       "      <td>0</td>\n",
       "      <td>0</td>\n",
       "      <td>0</td>\n",
       "      <td>1</td>\n",
       "      <td>0</td>\n",
       "      <td>0</td>\n",
       "      <td>0</td>\n",
       "      <td>0</td>\n",
       "      <td>0</td>\n",
       "      <td>0</td>\n",
       "    </tr>\n",
       "    <tr>\n",
       "      <th>378</th>\n",
       "      <td>0</td>\n",
       "      <td>0</td>\n",
       "      <td>0</td>\n",
       "      <td>0</td>\n",
       "      <td>1</td>\n",
       "      <td>0</td>\n",
       "      <td>0</td>\n",
       "      <td>0</td>\n",
       "      <td>0</td>\n",
       "      <td>0</td>\n",
       "      <td>...</td>\n",
       "      <td>0</td>\n",
       "      <td>0</td>\n",
       "      <td>0</td>\n",
       "      <td>0</td>\n",
       "      <td>0</td>\n",
       "      <td>0</td>\n",
       "      <td>0</td>\n",
       "      <td>0</td>\n",
       "      <td>0</td>\n",
       "      <td>0</td>\n",
       "    </tr>\n",
       "    <tr>\n",
       "      <th>379</th>\n",
       "      <td>0</td>\n",
       "      <td>0</td>\n",
       "      <td>0</td>\n",
       "      <td>0</td>\n",
       "      <td>0</td>\n",
       "      <td>0</td>\n",
       "      <td>0</td>\n",
       "      <td>0</td>\n",
       "      <td>0</td>\n",
       "      <td>0</td>\n",
       "      <td>...</td>\n",
       "      <td>0</td>\n",
       "      <td>1</td>\n",
       "      <td>0</td>\n",
       "      <td>0</td>\n",
       "      <td>0</td>\n",
       "      <td>0</td>\n",
       "      <td>1</td>\n",
       "      <td>0</td>\n",
       "      <td>0</td>\n",
       "      <td>0</td>\n",
       "    </tr>\n",
       "  </tbody>\n",
       "</table>\n",
       "<p>380 rows × 27 columns</p>\n",
       "</div>"
      ],
      "text/plain": [
       "     (A)  (AD)  (H)  (HD)  A  ABS  AD  ALIM  ANAT  ARCH  ...  MQ  NAT  OBJ  \\\n",
       "0      1     0    0     0  0    0   0     0     0     0  ...   0    0    0   \n",
       "1      0     0    0     0  0    0   0     0     0     0  ...   0    0    0   \n",
       "2      0     0    0     0  0    0   0     0     0     0  ...   0    0    1   \n",
       "3      0     0    0     0  1    0   0     0     0     0  ...   0    0    0   \n",
       "4      0     0    0     0  0    0   0     0     0     0  ...   0    0    0   \n",
       "..   ...   ...  ...   ... ..  ...  ..   ...   ...   ...  ...  ..  ...  ...   \n",
       "375    0     0    0     0  0    0   0     1     0     0  ...   0    0    0   \n",
       "376    0     0    0     0  1    0   0     1     0     0  ...   0    0    0   \n",
       "377    0     0    0     0  0    0   0     0     0     1  ...   0    0    0   \n",
       "378    0     0    0     0  1    0   0     0     0     0  ...   0    0    0   \n",
       "379    0     0    0     0  0    0   0     0     0     0  ...   0    1    0   \n",
       "\n",
       "     PAYS  RADIO  SC  SCÈNE  SEX  SG  VÊT  \n",
       "0       0      0   0      0    0   0    0  \n",
       "1       0      0   0      0    0   0    0  \n",
       "2       0      0   0      0    0   0    0  \n",
       "3       0      0   0      0    0   0    0  \n",
       "4       0      0   0      0    0   0    0  \n",
       "..    ...    ...  ..    ...  ...  ..  ...  \n",
       "375     0      0   0      0    0   0    0  \n",
       "376     0      0   0      0    0   0    0  \n",
       "377     1      0   0      0    0   0    0  \n",
       "378     0      0   0      0    0   0    0  \n",
       "379     0      0   0      1    0   0    0  \n",
       "\n",
       "[380 rows x 27 columns]"
      ]
     },
     "execution_count": 330,
     "metadata": {},
     "output_type": "execute_result"
    }
   ],
   "source": [
    "labels_contents"
   ]
  },
  {
   "cell_type": "code",
   "execution_count": 331,
   "metadata": {},
   "outputs": [
    {
     "data": {
      "text/plain": [
       "{'(A)': 12,\n",
       " '(AD)': 5,\n",
       " '(H)': 18,\n",
       " '(HD)': 7,\n",
       " 'A': 111,\n",
       " 'ABS': 18,\n",
       " 'AD': 46,\n",
       " 'ALIM': 6,\n",
       " 'ANAT': 21,\n",
       " 'ARCH': 8,\n",
       " 'ART': 4,\n",
       " 'BOT': 19,\n",
       " 'ELEM': 23,\n",
       " 'FRAG': 23,\n",
       " 'GÉO': 2,\n",
       " 'H': 36,\n",
       " 'HD': 46,\n",
       " 'MQ': 4,\n",
       " 'NAT': 8,\n",
       " 'OBJ': 42,\n",
       " 'PAYS': 18,\n",
       " 'RADIO': 1,\n",
       " 'SC': 1,\n",
       " 'SCÈNE': 3,\n",
       " 'SEX': 7,\n",
       " 'SG': 12,\n",
       " 'VÊT': 13}"
      ]
     },
     "execution_count": 331,
     "metadata": {},
     "output_type": "execute_result"
    }
   ],
   "source": [
    "agg_dict_content = {}\n",
    "total = 0\n",
    "for label in labels_contents.columns:\n",
    "    total_label = sum(labels_contents[label])\n",
    "    total = total + total_label\n",
    "    agg_dict_content[label] = total_label\n",
    "# agg_dict_content[\"total\"] = total\n",
    "agg_dict_content"
   ]
  },
  {
   "cell_type": "code",
   "execution_count": 332,
   "metadata": {},
   "outputs": [],
   "source": [
    "df_old_content = pd.DataFrame(agg_dict_content, index=[0])"
   ]
  },
  {
   "cell_type": "code",
   "execution_count": 333,
   "metadata": {},
   "outputs": [
    {
     "data": {
      "image/png": "[encoded data removed]",
      "text/plain": [
       "<Figure size 1400x800 with 1 Axes>"
      ]
     },
     "metadata": {},
     "output_type": "display_data"
    }
   ],
   "source": [
    "fig, ax = plt.subplots(figsize=(14,8))\n",
    "sns.barplot(data=df_old_content)\n",
    "plt.title(\"Content Canonical Labels Distribution\")\n",
    "ax.set_xlabel(\"Content Label\")\n",
    "ax.set_ylabel(\"Frequency\")\n",
    "plt.show()"
   ]
  },
  {
   "cell_type": "markdown",
   "metadata": {},
   "source": [
    "# Determinant labels distribution"
   ]
  },
  {
   "cell_type": "code",
   "execution_count": 334,
   "metadata": {},
   "outputs": [
    {
     "data": {
      "text/plain": [
       "{'C': 37,\n",
       " \"C'\": 24,\n",
       " \"C'F\": 3,\n",
       " 'CF': 16,\n",
       " \"CF'\": 2,\n",
       " 'CLOB': 16,\n",
       " 'CLOBF': 4,\n",
       " 'E': 28,\n",
       " 'EF': 6,\n",
       " 'F': 150,\n",
       " 'FC': 33,\n",
       " \"FC'\": 23,\n",
       " 'FCLOB': 5,\n",
       " 'FE': 8,\n",
       " 'K': 44,\n",
       " 'KAN': 34,\n",
       " 'KOB': 23,\n",
       " 'KP': 14}"
      ]
     },
     "execution_count": 334,
     "metadata": {},
     "output_type": "execute_result"
    }
   ],
   "source": [
    "agg_dict_determinants = {}\n",
    "total = 0\n",
    "for label in labels_determinants.columns:\n",
    "    total_label = sum(labels_determinants[label])\n",
    "    total = total + total_label\n",
    "    agg_dict_determinants[label] = total_label\n",
    "# agg_dict_determinants[\"total\"] = total\n",
    "agg_dict_determinants"
   ]
  },
  {
   "cell_type": "code",
   "execution_count": 335,
   "metadata": {},
   "outputs": [],
   "source": [
    "\n",
    "df_old_dets = pd.DataFrame(agg_dict_determinants, index=[0])"
   ]
  },
  {
   "cell_type": "code",
   "execution_count": 336,
   "metadata": {},
   "outputs": [
    {
     "data": {
      "image/png": "[encoded data removed]",
      "text/plain": [
       "<Figure size 1400x800 with 1 Axes>"
      ]
     },
     "metadata": {},
     "output_type": "display_data"
    }
   ],
   "source": [
    "fig, ax = plt.subplots(figsize=(14,8))\n",
    "sns.barplot(data=df_old_dets)\n",
    "plt.title(\"Determinant Canonical Labels Distribution\")\n",
    "ax.set_xlabel(\"Determinant Label\")\n",
    "ax.set_ylabel(\"Frequency\")\n",
    "plt.show()"
   ]
  },
  {
   "cell_type": "markdown",
   "metadata": {},
   "source": [
    "# Grouping labels in their larger groups"
   ]
  },
  {
   "cell_type": "markdown",
   "metadata": {},
   "source": [
    "## Determinants"
   ]
  },
  {
   "cell_type": "code",
   "execution_count": 337,
   "metadata": {},
   "outputs": [],
   "source": [
    "groups_determinants = [(\"kinesthetics\", [\"K\", \"KAN\", \"KOB\", \"KP\"]),\n",
    "                        (\"form\", [\"F\"]),\n",
    "                        (\"color\", [\"FC\", \"CF\", \"C\", \"FC'\", \"CF'\", \"C'F\", \"F'C\", \"C'\"]),\n",
    "                        (\"fading\", [\"FE\", \"EF\", \"E\"]),\n",
    "                        (\"threat\", [\"FCLOB\", \"CLOBF\", \"CLOB\"])]"
   ]
  },
  {
   "cell_type": "code",
   "execution_count": 338,
   "metadata": {},
   "outputs": [
    {
     "name": "stdout",
     "output_type": "stream",
     "text": [
      "\\begin{tabular}{lll}\n",
      "\\toprule\n",
      " & 0 & 1 \\\\\n",
      "\\midrule\n",
      "0 & kinesthetics & ['K', 'KAN', 'KOB', 'KP'] \\\\\n",
      "1 & form & ['F'] \\\\\n",
      "2 & color & ['FC', 'CF', 'C', \"FC'\", \"CF'\", \"C'F\", \"F'C\", \"C'\"] \\\\\n",
      "3 & fading & ['FE', 'EF', 'E'] \\\\\n",
      "4 & threat & ['FCLOB', 'CLOBF', 'CLOB'] \\\\\n",
      "\\bottomrule\n",
      "\\end{tabular}\n",
      "\n"
     ]
    }
   ],
   "source": [
    "print(pd.DataFrame(groups_determinants).to_latex())"
   ]
  },
  {
   "cell_type": "code",
   "execution_count": 339,
   "metadata": {},
   "outputs": [
    {
     "data": {
      "text/plain": [
       "{'kinesthetics': 115, 'form': 150, 'color': 138, 'fading': 42, 'threat': 25}"
      ]
     },
     "execution_count": 339,
     "metadata": {},
     "output_type": "execute_result"
    }
   ],
   "source": [
    "agg_dict_new_dets = {tuple[0]: 0 for tuple in groups_determinants}\n",
    "for key in agg_dict_determinants.keys():\n",
    "    for tuple_cats in groups_determinants:\n",
    "        if key in tuple_cats[1]:\n",
    "            agg_dict_new_dets[tuple_cats[0]] = agg_dict_new_dets[tuple_cats[0]] + agg_dict_determinants[key]\n",
    "agg_dict_new_dets           "
   ]
  },
  {
   "cell_type": "code",
   "execution_count": 340,
   "metadata": {},
   "outputs": [],
   "source": [
    "df = pd.DataFrame(agg_dict_new_dets, index=[0])"
   ]
  },
  {
   "cell_type": "code",
   "execution_count": 341,
   "metadata": {},
   "outputs": [],
   "source": [
    "df.columns = [\"Kinesthetics\", \"Form\", \"Color\", \"Fading\", \"Threat\"]"
   ]
  },
  {
   "cell_type": "code",
   "execution_count": 342,
   "metadata": {},
   "outputs": [
    {
     "data": {
      "image/png": "[encoded data removed]",
      "text/plain": [
       "<Figure size 1000x800 with 1 Axes>"
      ]
     },
     "metadata": {},
     "output_type": "display_data"
    }
   ],
   "source": [
    "fig, ax = plt.subplots(figsize=(10,8))\n",
    "sns.barplot(data=df)\n",
    "plt.title(\"Determinant Macro Labels Distribution\")\n",
    "ax.set_xlabel(\"Determinant Label\")\n",
    "ax.set_ylabel(\"Frequency\")\n",
    "plt.show()"
   ]
  },
  {
   "cell_type": "markdown",
   "metadata": {},
   "source": [
    "## Contents"
   ]
  },
  {
   "cell_type": "code",
   "execution_count": 343,
   "metadata": {},
   "outputs": [],
   "source": [
    "groups_contents = [(\"animal\", [\"(A)\", \"(AD)\", \"A\", \"AD\", \"ANAT\"]),\n",
    "                    (\"human\", [\"(H)\", \"(HD)\", \"ANAT\", \"H\", \"HD\"]),\n",
    "                    (\"abs\", [\"ABS\", \"SYMB\"]),\n",
    "                    (\"food\", [\"ALIM\"]),\n",
    "                    (\"art_arch\", [\"ARCH\", \"ART\", \"SCÈNE\"]),\n",
    "                    (\"nature\", [\"BOT\", \"ELEM\", \"PAYS\", \"NAT\"]),\n",
    "                    (\"fragment\", [\"FRAG\"]),\n",
    "                    (\"geo\", [\"GÉO\"]),\n",
    "                    (\"hybrid\", [\"H/A\", \"H/AD\"]),\n",
    "                    (\"object\", [\"MQ\", \"OBJ\", \"VÊT\"]),\n",
    "                    (\"science\", [\"RADIO\", \"SC\"]),\n",
    "                    (\"graphic\", [\"SEX\", \"SG\"])]"
   ]
  },
  {
   "cell_type": "code",
   "execution_count": 344,
   "metadata": {},
   "outputs": [
    {
     "name": "stdout",
     "output_type": "stream",
     "text": [
      "\\begin{tabular}{lll}\n",
      "\\toprule\n",
      " & 0 & 1 \\\\\n",
      "\\midrule\n",
      "0 & animal & ['(A)', '(AD)', 'A', 'AD', 'ANAT'] \\\\\n",
      "1 & human & ['(H)', '(HD)', 'ANAT', 'H', 'HD'] \\\\\n",
      "2 & abs & ['ABS', 'SYMB'] \\\\\n",
      "3 & food & ['ALIM'] \\\\\n",
      "4 & art_arch & ['ARCH', 'ART', 'SCÈNE'] \\\\\n",
      "5 & nature & ['BOT', 'ELEM', 'PAYS', 'NAT'] \\\\\n",
      "6 & fragment & ['FRAG'] \\\\\n",
      "7 & geo & ['GÉO'] \\\\\n",
      "8 & hybrid & ['H/A', 'H/AD'] \\\\\n",
      "9 & object & ['MQ', 'OBJ', 'VÊT'] \\\\\n",
      "10 & science & ['RADIO', 'SC'] \\\\\n",
      "11 & graphic & ['SEX', 'SG'] \\\\\n",
      "\\bottomrule\n",
      "\\end{tabular}\n",
      "\n"
     ]
    }
   ],
   "source": [
    "print(pd.DataFrame(groups_contents).to_latex())"
   ]
  },
  {
   "cell_type": "code",
   "execution_count": 345,
   "metadata": {},
   "outputs": [
    {
     "data": {
      "text/plain": [
       "{'animal': 195,\n",
       " 'human': 128,\n",
       " 'abs': 18,\n",
       " 'food': 6,\n",
       " 'art_arch': 15,\n",
       " 'nature': 68,\n",
       " 'fragment': 23,\n",
       " 'geo': 2,\n",
       " 'hybrid': 0,\n",
       " 'object': 59,\n",
       " 'science': 2,\n",
       " 'graphic': 19}"
      ]
     },
     "execution_count": 345,
     "metadata": {},
     "output_type": "execute_result"
    }
   ],
   "source": [
    "agg_dict_new_contents = {tuple[0]: 0 for tuple in groups_contents}\n",
    "for key in agg_dict_content.keys():\n",
    "    for tuple_cats in groups_contents:\n",
    "        if key in tuple_cats[1]:\n",
    "            agg_dict_new_contents[tuple_cats[0]] = agg_dict_new_contents[tuple_cats[0]] + agg_dict_content[key]\n",
    "agg_dict_new_contents"
   ]
  },
  {
   "cell_type": "code",
   "execution_count": 346,
   "metadata": {},
   "outputs": [],
   "source": [
    "df_new_contents = pd.DataFrame(agg_dict_new_contents, index=[0])"
   ]
  },
  {
   "cell_type": "code",
   "execution_count": 347,
   "metadata": {},
   "outputs": [],
   "source": [
    "df_new_contents.columns = [\"Animal\", \"Human\", \"Abs\", \"Food\", \"Art and Architecture\", \"Nature\", \"Fragment\", \"Geo\", \"Hybrid\", \"Object\", \"Science\", \"Graphic\"]"
   ]
  },
  {
   "cell_type": "code",
   "execution_count": 348,
   "metadata": {},
   "outputs": [
    {
     "data": {
      "image/png": "[encoded data removed]",
      "text/plain": [
       "<Figure size 1400x800 with 1 Axes>"
      ]
     },
     "metadata": {},
     "output_type": "display_data"
    }
   ],
   "source": [
    "fig, ax = plt.subplots(figsize=(14,8))\n",
    "sns.barplot(data=df_new_contents)\n",
    "plt.title(\"Content Macro Labels Distribution\")\n",
    "plt.xticks(fontsize=8.5)\n",
    "\n",
    "ax.set_xlabel(\"Content Label\")\n",
    "ax.set_ylabel(\"Frequency\")\n",
    "plt.show()"
   ]
  },
  {
   "cell_type": "markdown",
   "metadata": {},
   "source": [
    "# New labels"
   ]
  },
  {
   "cell_type": "markdown",
   "metadata": {},
   "source": [
    "### Determinants"
   ]
  },
  {
   "cell_type": "code",
   "execution_count": 349,
   "metadata": {},
   "outputs": [],
   "source": [
    "def rename_cols(df):\n",
    "    for col in df:\n",
    "        for tuple_cats in groups_determinants:\n",
    "            if col in tuple_cats[1]:\n",
    "                df = df.rename(columns={col:tuple_cats[0]})\n",
    "    for col in df:\n",
    "        for tuple_cats in groups_contents:\n",
    "            if col in tuple_cats[1]:\n",
    "                df = df.rename(columns={col:tuple_cats[0]})\n",
    "    return df"
   ]
  },
  {
   "cell_type": "code",
   "execution_count": 350,
   "metadata": {},
   "outputs": [],
   "source": [
    "labels_determinants = rename_cols(labels_determinants)\n",
    "labels_contents = rename_cols(labels_contents)"
   ]
  },
  {
   "cell_type": "code",
   "execution_count": 351,
   "metadata": {},
   "outputs": [
    {
     "data": {
      "text/plain": [
       "18"
      ]
     },
     "execution_count": 351,
     "metadata": {},
     "output_type": "execute_result"
    }
   ],
   "source": [
    "list_cols_dets = list(labels_determinants.columns)\n",
    "len(list_cols_dets)"
   ]
  },
  {
   "cell_type": "code",
   "execution_count": 352,
   "metadata": {},
   "outputs": [],
   "source": [
    "# list_cols_dets"
   ]
  },
  {
   "cell_type": "code",
   "execution_count": 353,
   "metadata": {},
   "outputs": [
    {
     "data": {
      "text/plain": [
       "{'color': [0, 1, 2, 3, 4, 10, 11],\n",
       " 'threat': [5, 6, 12],\n",
       " 'fading': [7, 8, 13],\n",
       " 'form': [9],\n",
       " 'kinesthetics': [14, 15, 16, 17]}"
      ]
     },
     "execution_count": 353,
     "metadata": {},
     "output_type": "execute_result"
    }
   ],
   "source": [
    "indexes_dets = {}\n",
    "i = 0\n",
    "while i < len(list_cols_dets):\n",
    "    item = list_cols_dets[i]\n",
    "    if item not in indexes_dets.keys():\n",
    "        indexes_dets[item] = [i]\n",
    "    else:\n",
    "        indexes_dets[item].append(i)\n",
    "    i = i + 1\n",
    "indexes_dets"
   ]
  },
  {
   "cell_type": "code",
   "execution_count": 354,
   "metadata": {},
   "outputs": [
    {
     "data": {
      "text/plain": [
       "color\n",
       "0    377\n",
       "1      3\n",
       "Name: count, dtype: int64"
      ]
     },
     "execution_count": 354,
     "metadata": {},
     "output_type": "execute_result"
    }
   ],
   "source": [
    "labels_determinants.iloc[:, 2].value_counts()"
   ]
  },
  {
   "cell_type": "markdown",
   "metadata": {},
   "source": [
    "Checking that the sum would work. Bare in mind the columns are exclusive in this way so we should get 0 and 1 values"
   ]
  },
  {
   "cell_type": "code",
   "execution_count": 355,
   "metadata": {},
   "outputs": [],
   "source": [
    "# labels_determinants.iloc[:, indexes_dets[\"color\"]].sum(axis=1).value_counts()"
   ]
  },
  {
   "cell_type": "code",
   "execution_count": 356,
   "metadata": {},
   "outputs": [],
   "source": [
    "# (labels_determinants.iloc[:, 0].sum(axis=1)).value_counts()"
   ]
  },
  {
   "cell_type": "code",
   "execution_count": 357,
   "metadata": {},
   "outputs": [],
   "source": [
    "labels_determinants[\"color_sum\"] = labels_determinants.iloc[:, indexes_dets[\"color\"]].sum(axis=1)\n",
    "labels_determinants[\"threat_sum\"] = labels_determinants.iloc[:, indexes_dets[\"threat\"]].sum(axis=1)\n",
    "labels_determinants[\"fading_sum\"] = labels_determinants.iloc[:, indexes_dets[\"fading\"]].sum(axis=1)\n",
    "labels_determinants[\"form_sum\"] = labels_determinants.iloc[:, indexes_dets[\"form\"]].sum(axis=1)\n",
    "labels_determinants[\"kinesthetics_sum\"] = labels_determinants.iloc[:, indexes_dets[\"kinesthetics\"]].sum(axis=1)"
   ]
  },
  {
   "cell_type": "code",
   "execution_count": 358,
   "metadata": {},
   "outputs": [],
   "source": [
    "new_labels_determinants = labels_determinants[[\"color_sum\", \"threat_sum\", \"fading_sum\",\"form_sum\",\"kinesthetics_sum\"]]"
   ]
  },
  {
   "cell_type": "code",
   "execution_count": 359,
   "metadata": {},
   "outputs": [
    {
     "data": {
      "text/plain": [
       "Index(['Réponse (French)', 'Answer (English)', 'Déterminant', 'C', 'C'', 'C'F',\n",
       "       'CF', 'CF'', 'CLOB', 'CLOBF', 'E', 'EF', 'F', 'FC', 'FC'', 'FCLOB',\n",
       "       'FE', 'K', 'KAN', 'KOB', 'KP'],\n",
       "      dtype='object')"
      ]
     },
     "execution_count": 359,
     "metadata": {},
     "output_type": "execute_result"
    }
   ],
   "source": [
    "nancy_determinants.columns"
   ]
  },
  {
   "cell_type": "code",
   "execution_count": 360,
   "metadata": {},
   "outputs": [],
   "source": [
    "nancy_determinants_macro_labels_french = pd.concat([nancy_determinants[\"Réponse (French)\"], new_labels_determinants], axis=1)\n",
    "nancy_determinants_macro_labels_english = pd.concat([nancy_determinants['Answer (English)'], new_labels_determinants], axis=1)\n",
    "nancy_determinants_full = pd.concat([nancy_determinants, new_labels_determinants], axis=1)"
   ]
  },
  {
   "cell_type": "code",
   "execution_count": 361,
   "metadata": {},
   "outputs": [],
   "source": [
    "# nancy_determinants"
   ]
  },
  {
   "cell_type": "code",
   "execution_count": 362,
   "metadata": {},
   "outputs": [],
   "source": [
    "# nancy_determinants_macro_labels_french.to_csv(\"nancy_determinants_macro_labels_french.csv\", index = False)\n",
    "# nancy_determinants_macro_labels_english.to_csv(\"nancy_determinants_macro_labels_english.csv\", index = False)\n",
    "# nancy_determinants_full.to_csv(\"nancy_determinants_full.csv\", index = False)\n"
   ]
  },
  {
   "cell_type": "markdown",
   "metadata": {},
   "source": [
    "### Contents"
   ]
  },
  {
   "cell_type": "code",
   "execution_count": 363,
   "metadata": {},
   "outputs": [
    {
     "data": {
      "text/plain": [
       "27"
      ]
     },
     "execution_count": 363,
     "metadata": {},
     "output_type": "execute_result"
    }
   ],
   "source": [
    "list_cols_contents = list(labels_contents.columns)\n",
    "len(list_cols_contents)"
   ]
  },
  {
   "cell_type": "code",
   "execution_count": 364,
   "metadata": {},
   "outputs": [
    {
     "data": {
      "text/plain": [
       "{'animal': [0, 1, 4, 6, 8],\n",
       " 'human': [2, 3, 15, 16],\n",
       " 'abs': [5],\n",
       " 'food': [7],\n",
       " 'art_arch': [9, 10, 23],\n",
       " 'nature': [11, 12, 18, 20],\n",
       " 'fragment': [13],\n",
       " 'geo': [14],\n",
       " 'object': [17, 19, 26],\n",
       " 'science': [21, 22],\n",
       " 'graphic': [24, 25]}"
      ]
     },
     "execution_count": 364,
     "metadata": {},
     "output_type": "execute_result"
    }
   ],
   "source": [
    "indexes_contents = {}\n",
    "i = 0\n",
    "while i < len(list_cols_contents):\n",
    "    item = list_cols_contents[i]\n",
    "    if item not in indexes_contents.keys():\n",
    "        indexes_contents[item] = [i]\n",
    "    else:\n",
    "        indexes_contents[item].append(i)\n",
    "    i = i + 1\n",
    "indexes_contents"
   ]
  },
  {
   "cell_type": "code",
   "execution_count": 365,
   "metadata": {},
   "outputs": [],
   "source": [
    "for key, indexes in indexes_contents.items():\n",
    "    labels_contents[\"{}_sum\".format(key)] = labels_contents.iloc[:, indexes].sum(axis=1)"
   ]
  },
  {
   "cell_type": "code",
   "execution_count": 366,
   "metadata": {},
   "outputs": [
    {
     "data": {
      "text/plain": [
       "Index(['animal', 'animal', 'human', 'human', 'animal', 'abs', 'animal', 'food',\n",
       "       'animal', 'art_arch', 'art_arch', 'nature', 'nature', 'fragment', 'geo',\n",
       "       'human', 'human', 'object', 'nature', 'object', 'nature', 'science',\n",
       "       'science', 'art_arch', 'graphic', 'graphic', 'object', 'animal_sum',\n",
       "       'human_sum', 'abs_sum', 'food_sum', 'art_arch_sum', 'nature_sum',\n",
       "       'fragment_sum', 'geo_sum', 'object_sum', 'science_sum', 'graphic_sum'],\n",
       "      dtype='object')"
      ]
     },
     "execution_count": 366,
     "metadata": {},
     "output_type": "execute_result"
    }
   ],
   "source": [
    "labels_contents.columns"
   ]
  },
  {
   "cell_type": "code",
   "execution_count": 367,
   "metadata": {},
   "outputs": [],
   "source": [
    "new_labels_contents = labels_contents[['animal_sum',\n",
    "       'human_sum', 'abs_sum', 'food_sum', 'art_arch_sum', 'nature_sum',\n",
    "       'fragment_sum', 'geo_sum', 'object_sum', 'science_sum', 'graphic_sum']]"
   ]
  },
  {
   "cell_type": "code",
   "execution_count": 368,
   "metadata": {},
   "outputs": [
    {
     "name": "stderr",
     "output_type": "stream",
     "text": [
      "C:\\Users\\alber\\AppData\\Local\\Temp\\ipykernel_12452\\2453822471.py:1: SettingWithCopyWarning: \n",
      "A value is trying to be set on a copy of a slice from a DataFrame\n",
      "\n",
      "See the caveats in the documentation: https://pandas.pydata.org/pandas-docs/stable/user_guide/indexing.html#returning-a-view-versus-a-copy\n",
      "  new_labels_contents.replace({2:1, 3:1, 4:1, 5:1, 6:1}, inplace=True)\n"
     ]
    }
   ],
   "source": [
    "new_labels_contents.replace({2:1, 3:1, 4:1, 5:1, 6:1}, inplace=True)"
   ]
  },
  {
   "cell_type": "code",
   "execution_count": 369,
   "metadata": {},
   "outputs": [
    {
     "name": "stdout",
     "output_type": "stream",
     "text": [
      "animal_sum\n",
      "0    201\n",
      "1    179\n",
      "Name: count, dtype: int64\n",
      "human_sum\n",
      "0    281\n",
      "1     99\n",
      "Name: count, dtype: int64\n",
      "abs_sum\n",
      "0    362\n",
      "1     18\n",
      "Name: count, dtype: int64\n",
      "food_sum\n",
      "0    374\n",
      "1      6\n",
      "Name: count, dtype: int64\n",
      "art_arch_sum\n",
      "0    366\n",
      "1     14\n",
      "Name: count, dtype: int64\n",
      "nature_sum\n",
      "0    333\n",
      "1     47\n",
      "Name: count, dtype: int64\n",
      "fragment_sum\n",
      "0    357\n",
      "1     23\n",
      "Name: count, dtype: int64\n",
      "geo_sum\n",
      "0    378\n",
      "1      2\n",
      "Name: count, dtype: int64\n",
      "object_sum\n",
      "0    323\n",
      "1     57\n",
      "Name: count, dtype: int64\n",
      "science_sum\n",
      "0    378\n",
      "1      2\n",
      "Name: count, dtype: int64\n",
      "graphic_sum\n",
      "0    361\n",
      "1     19\n",
      "Name: count, dtype: int64\n"
     ]
    }
   ],
   "source": [
    "for col in new_labels_contents:\n",
    "    print(new_labels_contents[col].value_counts())"
   ]
  },
  {
   "cell_type": "code",
   "execution_count": 370,
   "metadata": {},
   "outputs": [],
   "source": [
    "nancy_contents_macro_labels_french = pd.concat([nancy_contents[\"Réponse (French)\"], new_labels_contents], axis=1)\n",
    "nancy_contents_macro_labels_english = pd.concat([nancy_contents['Answer (English)'], new_labels_contents], axis=1)\n",
    "nancy_contents_full = pd.concat([nancy_contents, new_labels_determinants], axis=1)"
   ]
  },
  {
   "cell_type": "code",
   "execution_count": 371,
   "metadata": {},
   "outputs": [],
   "source": [
    "# nancy_contents_full.to_csv(\"nancy_contents_full.csv\", index = False)\n",
    "# nancy_contents_macro_labels_english.to_csv(\"nancy_contents_macro_labels_english.csv\", index = False)\n",
    "# nancy_contents_macro_labels_french.to_csv(\"nancy_contents_macro_labels_french.csv\", index = False)"
   ]
  },
  {
   "cell_type": "markdown",
   "metadata": {},
   "source": [
    "# Length of the Text Answers"
   ]
  },
  {
   "cell_type": "markdown",
   "metadata": {},
   "source": [
    "### Character length"
   ]
  },
  {
   "cell_type": "code",
   "execution_count": 372,
   "metadata": {},
   "outputs": [
    {
     "data": {
      "image/png": "[encoded data removed]",
      "text/plain": [
       "<Figure size 640x480 with 1 Axes>"
      ]
     },
     "metadata": {},
     "output_type": "display_data"
    }
   ],
   "source": [
    "nancy_df[\"Answer (English)\"].str.len().plot.hist(bins=50)\n",
    "plt.title(\"Character length per response\")\n",
    "plt.xlabel(\"Number of characters per response\")\n",
    "plt.show()"
   ]
  },
  {
   "cell_type": "code",
   "execution_count": 373,
   "metadata": {},
   "outputs": [
    {
     "data": {
      "image/png": "[encoded data removed]",
      "text/plain": [
       "<Figure size 640x480 with 1 Axes>"
      ]
     },
     "metadata": {},
     "output_type": "display_data"
    }
   ],
   "source": [
    "nancy_df[\"Réponse (French)\"].str.len().plot.hist(bins=50)\n",
    "plt.xlabel(\"Character length per answer distribution\")\n",
    "plt.show()"
   ]
  },
  {
   "cell_type": "markdown",
   "metadata": {},
   "source": [
    "## Token length"
   ]
  },
  {
   "cell_type": "code",
   "execution_count": 374,
   "metadata": {},
   "outputs": [],
   "source": [
    "import spacy\n",
    "\n",
    "nlp = spacy.load(\"en_core_web_sm\")"
   ]
  },
  {
   "cell_type": "code",
   "execution_count": 375,
   "metadata": {},
   "outputs": [],
   "source": [
    "def n_tokens(row):\n",
    "    doc = nlp(row)\n",
    "    tokens = [token for token in doc]\n",
    "    len_tokens = len(tokens)\n",
    "    return len_tokens"
   ]
  },
  {
   "cell_type": "code",
   "execution_count": 376,
   "metadata": {},
   "outputs": [],
   "source": [
    "nancy_df[\"num_tokens\"] = nancy_df[\"Answer (English)\"].apply(n_tokens)"
   ]
  },
  {
   "cell_type": "code",
   "execution_count": 377,
   "metadata": {},
   "outputs": [
    {
     "data": {
      "text/plain": [
       "count    380.000000\n",
       "mean      34.460526\n",
       "std       38.341350\n",
       "min        2.000000\n",
       "25%       12.000000\n",
       "50%       22.000000\n",
       "75%       42.250000\n",
       "max      323.000000\n",
       "Name: num_tokens, dtype: float64"
      ]
     },
     "execution_count": 377,
     "metadata": {},
     "output_type": "execute_result"
    }
   ],
   "source": [
    "nancy_df[\"num_tokens\"].describe()"
   ]
  },
  {
   "cell_type": "code",
   "execution_count": 378,
   "metadata": {},
   "outputs": [
    {
     "data": {
      "image/png": "[encoded data removed]",
      "text/plain": [
       "<Figure size 640x480 with 1 Axes>"
      ]
     },
     "metadata": {},
     "output_type": "display_data"
    }
   ],
   "source": [
    "nancy_df[\"num_tokens\"].plot.hist(bins=30)\n",
    "plt.title(\"Number of tokens per response\")\n",
    "plt.xlabel(\"Number of tokens\")\n",
    "plt.show()"
   ]
  }
 ],
 "metadata": {
  "kernelspec": {
   "display_name": "Python 3",
   "language": "python",
   "name": "python3"
  },
  "language_info": {
   "codemirror_mode": {
    "name": "ipython",
    "version": 3
   },
   "file_extension": ".py",
   "mimetype": "text/x-python",
   "name": "python",
   "nbconvert_exporter": "python",
   "pygments_lexer": "ipython3",
   "version": "3.12.0"
  }
 },
 "nbformat": 4,
 "nbformat_minor": 2
}

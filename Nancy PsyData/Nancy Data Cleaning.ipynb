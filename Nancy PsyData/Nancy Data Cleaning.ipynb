{
 "cells": [
  {
   "cell_type": "markdown",
   "metadata": {},
   "source": [
    "# DATA INFO"
   ]
  },
  {
   "cell_type": "markdown",
   "metadata": {},
   "source": [
    "This is the data provided by the psychology department "
   ]
  },
  {
   "cell_type": "markdown",
   "metadata": {},
   "source": [
    "# Data cleaning"
   ]
  },
  {
   "cell_type": "code",
   "execution_count": 3,
   "metadata": {},
   "outputs": [],
   "source": [
    "import os\n",
    "import pandas as pd "
   ]
  },
  {
   "cell_type": "code",
   "execution_count": 4,
   "metadata": {},
   "outputs": [],
   "source": [
    "list_files = os.listdir()\n",
    "list_files = [csv for csv in list_files if \"Protocoles\" in csv]"
   ]
  },
  {
   "cell_type": "code",
   "execution_count": 5,
   "metadata": {},
   "outputs": [
    {
     "data": {
      "text/plain": [
       "['Protocoles Rorschach (RorschIA) - Abel.csv',\n",
       " 'Protocoles Rorschach (RorschIA) - Egger.csv',\n",
       " 'Protocoles Rorschach (RorschIA) - Francis.csv',\n",
       " 'Protocoles Rorschach (RorschIA) - Jolivalt.csv',\n",
       " 'Protocoles Rorschach (RorschIA) - Mme B.csv',\n",
       " 'Protocoles Rorschach (RorschIA) - Mme L.csv',\n",
       " 'Protocoles Rorschach (RorschIA) - Mme T.csv',\n",
       " 'Protocoles Rorschach (RorschIA) - Piraud.csv',\n",
       " 'Protocoles Rorschach (RorschIA) - Rosa.csv',\n",
       " 'Protocoles Rorschach (RorschIA) - Sara.csv']"
      ]
     },
     "execution_count": 5,
     "metadata": {},
     "output_type": "execute_result"
    }
   ],
   "source": [
    "list_files"
   ]
  },
  {
   "cell_type": "code",
   "execution_count": 6,
   "metadata": {},
   "outputs": [],
   "source": [
    "nancy_df = pd.DataFrame()"
   ]
  },
  {
   "cell_type": "code",
   "execution_count": 7,
   "metadata": {},
   "outputs": [],
   "source": [
    "for data in list_files:\n",
    "    df = pd.read_csv(data)\n",
    "    nancy_df = pd.concat([nancy_df, df])"
   ]
  },
  {
   "cell_type": "code",
   "execution_count": 8,
   "metadata": {},
   "outputs": [
    {
     "data": {
      "text/plain": [
       "Index([ 0,  1,  2,  3,  4,  5,  6,  7,  8,  9,\n",
       "       ...\n",
       "       41, 42, 43, 44, 45, 46, 47, 48, 49, 50],\n",
       "      dtype='int64', length=567)"
      ]
     },
     "execution_count": 8,
     "metadata": {},
     "output_type": "execute_result"
    }
   ],
   "source": [
    "nancy_df.index"
   ]
  },
  {
   "cell_type": "code",
   "execution_count": 9,
   "metadata": {},
   "outputs": [
    {
     "data": {
      "text/plain": [
       "(567, 20)"
      ]
     },
     "execution_count": 9,
     "metadata": {},
     "output_type": "execute_result"
    }
   ],
   "source": [
    "nancy_df.shape"
   ]
  },
  {
   "cell_type": "code",
   "execution_count": 10,
   "metadata": {},
   "outputs": [
    {
     "data": {
      "text/plain": [
       "Index(['Pl', 'Numéros réponse', 'Position', 'Réponse (French)',\n",
       "       'Answer (English)', 'Enquête (French)', 'Inquiry (English)',\n",
       "       'Localisation', 'Déterminant', 'Contenu', '4e colonne', 'LOC', 'DET',\n",
       "       'CON', 'QUAL', 'Unnamed: 11', 'Unnamed: 7', 'Unnamed: 8', 'Unnamed: 9',\n",
       "       'Unnamed: 10'],\n",
       "      dtype='object')"
      ]
     },
     "execution_count": 10,
     "metadata": {},
     "output_type": "execute_result"
    }
   ],
   "source": [
    "nancy_df.columns"
   ]
  },
  {
   "cell_type": "markdown",
   "metadata": {},
   "source": [
    "We can see that Localisation, Determinant and Contenu are formated in two different columns"
   ]
  },
  {
   "cell_type": "code",
   "execution_count": 11,
   "metadata": {},
   "outputs": [
    {
     "data": {
      "text/plain": [
       "84"
      ]
     },
     "execution_count": 11,
     "metadata": {},
     "output_type": "execute_result"
    }
   ],
   "source": [
    "nancy_df[\"QUAL\"].notna().sum()"
   ]
  },
  {
   "cell_type": "code",
   "execution_count": 12,
   "metadata": {},
   "outputs": [],
   "source": [
    "# nancy_df['Réponse (French)']"
   ]
  },
  {
   "cell_type": "code",
   "execution_count": 13,
   "metadata": {},
   "outputs": [],
   "source": [
    "cols_drop = ['Pl', 'Numéros réponse', 'Position',\n",
    "            'Enquête (French)', 'Inquiry (English)',\n",
    "            'Localisation', '4e colonne',\n",
    "            'LOC', 'QUAL',\n",
    "            'Unnamed: 11', 'Unnamed: 7', \n",
    "            'Unnamed: 8', 'Unnamed: 9',\n",
    "            'Unnamed: 10']"
   ]
  },
  {
   "cell_type": "code",
   "execution_count": 14,
   "metadata": {},
   "outputs": [],
   "source": [
    "nancy_df.drop(cols_drop, axis=1, inplace=True)"
   ]
  },
  {
   "cell_type": "code",
   "execution_count": 15,
   "metadata": {},
   "outputs": [],
   "source": [
    "nancy_df[\"Déterminant\"] = nancy_df[[\"Déterminant\", \"DET\"]].bfill(axis=1).iloc[:,0]\n",
    "nancy_df[\"Contenu\"] = nancy_df[[\"Contenu\", \"CON\"]].bfill(axis=1).iloc[:,0]"
   ]
  },
  {
   "cell_type": "code",
   "execution_count": 16,
   "metadata": {},
   "outputs": [],
   "source": [
    "nancy_df.drop([\"DET\", \"CON\"], axis = 1, inplace=True)"
   ]
  },
  {
   "cell_type": "markdown",
   "metadata": {},
   "source": [
    "There are responses that were not translated"
   ]
  },
  {
   "cell_type": "code",
   "execution_count": 17,
   "metadata": {},
   "outputs": [
    {
     "data": {
      "text/html": [
       "<div>\n",
       "<style scoped>\n",
       "    .dataframe tbody tr th:only-of-type {\n",
       "        vertical-align: middle;\n",
       "    }\n",
       "\n",
       "    .dataframe tbody tr th {\n",
       "        vertical-align: top;\n",
       "    }\n",
       "\n",
       "    .dataframe thead th {\n",
       "        text-align: right;\n",
       "    }\n",
       "</style>\n",
       "<table border=\"1\" class=\"dataframe\">\n",
       "  <thead>\n",
       "    <tr style=\"text-align: right;\">\n",
       "      <th></th>\n",
       "      <th>Réponse (French)</th>\n",
       "      <th>Answer (English)</th>\n",
       "      <th>Déterminant</th>\n",
       "      <th>Contenu</th>\n",
       "    </tr>\n",
       "  </thead>\n",
       "  <tbody>\n",
       "    <tr>\n",
       "      <th>51</th>\n",
       "      <td>Argh en plus on peut\\n même faire un éléphant,...</td>\n",
       "      <td>NaN</td>\n",
       "      <td>F-</td>\n",
       "      <td>A</td>\n",
       "    </tr>\n",
       "    <tr>\n",
       "      <th>52</th>\n",
       "      <td>Ça peut être des chevaux\\n aussi</td>\n",
       "      <td>NaN</td>\n",
       "      <td>F-</td>\n",
       "      <td>A</td>\n",
       "    </tr>\n",
       "    <tr>\n",
       "      <th>53</th>\n",
       "      <td>Mais un peu sur la même\\n logique, en fait, je...</td>\n",
       "      <td>NaN</td>\n",
       "      <td>F-</td>\n",
       "      <td>(A)</td>\n",
       "    </tr>\n",
       "    <tr>\n",
       "      <th>54</th>\n",
       "      <td>Et là dans le sens-là (me\\n montre la planche ...</td>\n",
       "      <td>NaN</td>\n",
       "      <td>FC’E+</td>\n",
       "      <td>H / Vêt</td>\n",
       "    </tr>\n",
       "    <tr>\n",
       "      <th>55</th>\n",
       "      <td>Mais en fait, sur le\\n principe ça me fait plu...</td>\n",
       "      <td>NaN</td>\n",
       "      <td>kobC’E-</td>\n",
       "      <td>Frag / Art</td>\n",
       "    </tr>\n",
       "    <tr>\n",
       "      <th>56</th>\n",
       "      <td>Et aussi un éléphant, avec\\n les yeux, la trom...</td>\n",
       "      <td>NaN</td>\n",
       "      <td>F+</td>\n",
       "      <td>A</td>\n",
       "    </tr>\n",
       "    <tr>\n",
       "      <th>57</th>\n",
       "      <td>Et alors comme ça, ça\\n fait vachement penser ...</td>\n",
       "      <td>NaN</td>\n",
       "      <td>kob -</td>\n",
       "      <td>Elem</td>\n",
       "    </tr>\n",
       "    <tr>\n",
       "      <th>58</th>\n",
       "      <td>T’as une petite île où t’as\\n plein de fumée q...</td>\n",
       "      <td>NaN</td>\n",
       "      <td>kobE-</td>\n",
       "      <td>Pays/ Elem</td>\n",
       "    </tr>\n",
       "    <tr>\n",
       "      <th>59</th>\n",
       "      <td>Et maintenant que j’ai vu\\n ça, de l’autre côt...</td>\n",
       "      <td>NaN</td>\n",
       "      <td>kob-</td>\n",
       "      <td>Elem</td>\n",
       "    </tr>\n",
       "    <tr>\n",
       "      <th>60</th>\n",
       "      <td>Ça me fait penser à un\\n voilier aussi, mais a...</td>\n",
       "      <td>NaN</td>\n",
       "      <td>FC’-</td>\n",
       "      <td>Obj</td>\n",
       "    </tr>\n",
       "    <tr>\n",
       "      <th>61</th>\n",
       "      <td>Je vois et c’est très joli ça\\n un mix entre u...</td>\n",
       "      <td>NaN</td>\n",
       "      <td>FCE+/-</td>\n",
       "      <td>(A)</td>\n",
       "    </tr>\n",
       "    <tr>\n",
       "      <th>62</th>\n",
       "      <td>: Donc en fait t’as une\\n espèce de rocher là,...</td>\n",
       "      <td>NaN</td>\n",
       "      <td>kanC +</td>\n",
       "      <td>Nat / A</td>\n",
       "    </tr>\n",
       "    <tr>\n",
       "      <th>63</th>\n",
       "      <td>mais une fois encore ça\\n me fait penser à un,...</td>\n",
       "      <td>NaN</td>\n",
       "      <td>CF-</td>\n",
       "      <td>Anat</td>\n",
       "    </tr>\n",
       "    <tr>\n",
       "      <th>64</th>\n",
       "      <td>Ça, ça me fait penser à un\\n squelette mais je...</td>\n",
       "      <td>NaN</td>\n",
       "      <td>FC’Clob-</td>\n",
       "      <td>Squel /Ad</td>\n",
       "    </tr>\n",
       "    <tr>\n",
       "      <th>65</th>\n",
       "      <td>Ça fait un peu labyrinthe\\n de Pan</td>\n",
       "      <td>NaN</td>\n",
       "      <td>FC’-</td>\n",
       "      <td>Arch / Art</td>\n",
       "    </tr>\n",
       "    <tr>\n",
       "      <th>66</th>\n",
       "      <td>: Puis pour le coup, si on\\n occulte un peu l’...</td>\n",
       "      <td>NaN</td>\n",
       "      <td>CkobE -</td>\n",
       "      <td>Pays /\\n Elem /\\n Frag / Bot</td>\n",
       "    </tr>\n",
       "    <tr>\n",
       "      <th>67</th>\n",
       "      <td>humhum ; Là si on\\n regarde que le blanc, pas ...</td>\n",
       "      <td>NaN</td>\n",
       "      <td>KC’-</td>\n",
       "      <td>H / obj</td>\n",
       "    </tr>\n",
       "    <tr>\n",
       "      <th>68</th>\n",
       "      <td>là tu as genre les yeux\\n (montre), il y a que...</td>\n",
       "      <td>NaN</td>\n",
       "      <td>FC’-</td>\n",
       "      <td>H / Mq /\\n vêt</td>\n",
       "    </tr>\n",
       "    <tr>\n",
       "      <th>69</th>\n",
       "      <td>Ça me fait même penser\\n un peu au masque japo...</td>\n",
       "      <td>NaN</td>\n",
       "      <td>FC-</td>\n",
       "      <td>Mq</td>\n",
       "    </tr>\n",
       "    <tr>\n",
       "      <th>70</th>\n",
       "      <td>Tu vois on peut encore\\n retrouver le feu que ...</td>\n",
       "      <td>NaN</td>\n",
       "      <td>EC</td>\n",
       "      <td>Elem /\\n Frag</td>\n",
       "    </tr>\n",
       "    <tr>\n",
       "      <th>71</th>\n",
       "      <td>Au sens large, il y a\\n tellement de têtes gen...</td>\n",
       "      <td>NaN</td>\n",
       "      <td>FC’-</td>\n",
       "      <td>Ad</td>\n",
       "    </tr>\n",
       "    <tr>\n",
       "      <th>72</th>\n",
       "      <td>La encore des yeux, des\\n oreilles, ça me fait...</td>\n",
       "      <td>NaN</td>\n",
       "      <td>FC’-</td>\n",
       "      <td>A</td>\n",
       "    </tr>\n",
       "    <tr>\n",
       "      <th>73</th>\n",
       "      <td>Dans ce sens-là, on dirait\\n une robe de marié...</td>\n",
       "      <td>NaN</td>\n",
       "      <td>CF+</td>\n",
       "      <td>Vêt / Hd</td>\n",
       "    </tr>\n",
       "    <tr>\n",
       "      <th>74</th>\n",
       "      <td>Si on va plus loin, ces\\n trucs là, ça peut êt...</td>\n",
       "      <td>NaN</td>\n",
       "      <td>FC-</td>\n",
       "      <td>(Hd)</td>\n",
       "    </tr>\n",
       "    <tr>\n",
       "      <th>75</th>\n",
       "      <td>Après ça peut me faire\\n penser à tous les ani...</td>\n",
       "      <td>NaN</td>\n",
       "      <td>F+</td>\n",
       "      <td>A</td>\n",
       "    </tr>\n",
       "    <tr>\n",
       "      <th>76</th>\n",
       "      <td>Ça (rose), ça m’a fait\\n penser, c’est impossi...</td>\n",
       "      <td>NaN</td>\n",
       "      <td>F-</td>\n",
       "      <td>obj</td>\n",
       "    </tr>\n",
       "    <tr>\n",
       "      <th>77</th>\n",
       "      <td>maintenant si mais ça m’a\\n pris du temps… mai...</td>\n",
       "      <td>NaN</td>\n",
       "      <td>F-</td>\n",
       "      <td>Pays</td>\n",
       "    </tr>\n",
       "    <tr>\n",
       "      <th>78</th>\n",
       "      <td>Là je vais un peu plus loin\\n en termes d’inte...</td>\n",
       "      <td>NaN</td>\n",
       "      <td>CK-</td>\n",
       "      <td>H / Obj</td>\n",
       "    </tr>\n",
       "    <tr>\n",
       "      <th>79</th>\n",
       "      <td>Cette zone-là, une fois\\n encore, de t’façon j...</td>\n",
       "      <td>NaN</td>\n",
       "      <td>FCE-</td>\n",
       "      <td>Pays</td>\n",
       "    </tr>\n",
       "    <tr>\n",
       "      <th>80</th>\n",
       "      <td>Ça me fait penser à une\\n mouche, non à un mou...</td>\n",
       "      <td>NaN</td>\n",
       "      <td>F+/-</td>\n",
       "      <td>A</td>\n",
       "    </tr>\n",
       "    <tr>\n",
       "      <th>81</th>\n",
       "      <td>Bizarre, je vois un\\n bonhomme mais en négatif...</td>\n",
       "      <td>NaN</td>\n",
       "      <td>FC’-</td>\n",
       "      <td>(H) / vêt</td>\n",
       "    </tr>\n",
       "    <tr>\n",
       "      <th>82</th>\n",
       "      <td>Ça, ça me fait penser à la\\n tour Eiffel</td>\n",
       "      <td>NaN</td>\n",
       "      <td>FC+</td>\n",
       "      <td>Arch</td>\n",
       "    </tr>\n",
       "    <tr>\n",
       "      <th>83</th>\n",
       "      <td>Ça, ça me fait penser à\\n genre des crabes qui...</td>\n",
       "      <td>NaN</td>\n",
       "      <td>kan+</td>\n",
       "      <td>A / Bot</td>\n",
       "    </tr>\n",
       "    <tr>\n",
       "      <th>84</th>\n",
       "      <td>Ça, ça me fait penser à\\n une fourmi qui se ba...</td>\n",
       "      <td>NaN</td>\n",
       "      <td>kanC+</td>\n",
       "      <td>A/ Bot</td>\n",
       "    </tr>\n",
       "    <tr>\n",
       "      <th>85</th>\n",
       "      <td>: Ça, ça me fait penser à des\\n œufs Il y a pl...</td>\n",
       "      <td>NaN</td>\n",
       "      <td>CF-</td>\n",
       "      <td>Alim</td>\n",
       "    </tr>\n",
       "    <tr>\n",
       "      <th>86</th>\n",
       "      <td>Tu vois ça, ça me fait\\n penser à des crevette...</td>\n",
       "      <td>NaN</td>\n",
       "      <td>CF-</td>\n",
       "      <td>Alim</td>\n",
       "    </tr>\n",
       "    <tr>\n",
       "      <th>87</th>\n",
       "      <td>J’arrive vraiment pas à\\n voir l’ensemble, ça,...</td>\n",
       "      <td>NaN</td>\n",
       "      <td>FC +</td>\n",
       "      <td>A / Alim</td>\n",
       "    </tr>\n",
       "    <tr>\n",
       "      <th>88</th>\n",
       "      <td>C’est un peu capillotracté\\n un peu après, mai...</td>\n",
       "      <td>NaN</td>\n",
       "      <td>kobE-</td>\n",
       "      <td>Pays / arch\\n / Elem /\\n Frag</td>\n",
       "    </tr>\n",
       "    <tr>\n",
       "      <th>89</th>\n",
       "      <td>: Là ça me fait penser à une\\n chèvre (rires),...</td>\n",
       "      <td>NaN</td>\n",
       "      <td>FC’-</td>\n",
       "      <td>A</td>\n",
       "    </tr>\n",
       "    <tr>\n",
       "      <th>90</th>\n",
       "      <td>T’as un gouffre tu vois,\\n t’as le bord du gou...</td>\n",
       "      <td>NaN</td>\n",
       "      <td>KE-</td>\n",
       "      <td>H / Nat\\n /Scène</td>\n",
       "    </tr>\n",
       "  </tbody>\n",
       "</table>\n",
       "</div>"
      ],
      "text/plain": [
       "                                     Réponse (French) Answer (English)  \\\n",
       "51  Argh en plus on peut\\n même faire un éléphant,...              NaN   \n",
       "52                   Ça peut être des chevaux\\n aussi              NaN   \n",
       "53  Mais un peu sur la même\\n logique, en fait, je...              NaN   \n",
       "54  Et là dans le sens-là (me\\n montre la planche ...              NaN   \n",
       "55  Mais en fait, sur le\\n principe ça me fait plu...              NaN   \n",
       "56  Et aussi un éléphant, avec\\n les yeux, la trom...              NaN   \n",
       "57  Et alors comme ça, ça\\n fait vachement penser ...              NaN   \n",
       "58  T’as une petite île où t’as\\n plein de fumée q...              NaN   \n",
       "59  Et maintenant que j’ai vu\\n ça, de l’autre côt...              NaN   \n",
       "60  Ça me fait penser à un\\n voilier aussi, mais a...              NaN   \n",
       "61  Je vois et c’est très joli ça\\n un mix entre u...              NaN   \n",
       "62  : Donc en fait t’as une\\n espèce de rocher là,...              NaN   \n",
       "63  mais une fois encore ça\\n me fait penser à un,...              NaN   \n",
       "64  Ça, ça me fait penser à un\\n squelette mais je...              NaN   \n",
       "65                 Ça fait un peu labyrinthe\\n de Pan              NaN   \n",
       "66  : Puis pour le coup, si on\\n occulte un peu l’...              NaN   \n",
       "67  humhum ; Là si on\\n regarde que le blanc, pas ...              NaN   \n",
       "68  là tu as genre les yeux\\n (montre), il y a que...              NaN   \n",
       "69  Ça me fait même penser\\n un peu au masque japo...              NaN   \n",
       "70  Tu vois on peut encore\\n retrouver le feu que ...              NaN   \n",
       "71  Au sens large, il y a\\n tellement de têtes gen...              NaN   \n",
       "72  La encore des yeux, des\\n oreilles, ça me fait...              NaN   \n",
       "73  Dans ce sens-là, on dirait\\n une robe de marié...              NaN   \n",
       "74  Si on va plus loin, ces\\n trucs là, ça peut êt...              NaN   \n",
       "75  Après ça peut me faire\\n penser à tous les ani...              NaN   \n",
       "76  Ça (rose), ça m’a fait\\n penser, c’est impossi...              NaN   \n",
       "77  maintenant si mais ça m’a\\n pris du temps… mai...              NaN   \n",
       "78  Là je vais un peu plus loin\\n en termes d’inte...              NaN   \n",
       "79  Cette zone-là, une fois\\n encore, de t’façon j...              NaN   \n",
       "80  Ça me fait penser à une\\n mouche, non à un mou...              NaN   \n",
       "81  Bizarre, je vois un\\n bonhomme mais en négatif...              NaN   \n",
       "82           Ça, ça me fait penser à la\\n tour Eiffel              NaN   \n",
       "83  Ça, ça me fait penser à\\n genre des crabes qui...              NaN   \n",
       "84  Ça, ça me fait penser à\\n une fourmi qui se ba...              NaN   \n",
       "85  : Ça, ça me fait penser à des\\n œufs Il y a pl...              NaN   \n",
       "86  Tu vois ça, ça me fait\\n penser à des crevette...              NaN   \n",
       "87  J’arrive vraiment pas à\\n voir l’ensemble, ça,...              NaN   \n",
       "88  C’est un peu capillotracté\\n un peu après, mai...              NaN   \n",
       "89  : Là ça me fait penser à une\\n chèvre (rires),...              NaN   \n",
       "90  T’as un gouffre tu vois,\\n t’as le bord du gou...              NaN   \n",
       "\n",
       "   Déterminant                        Contenu  \n",
       "51          F-                              A  \n",
       "52          F-                              A  \n",
       "53          F-                            (A)  \n",
       "54       FC’E+                        H / Vêt  \n",
       "55     kobC’E-                     Frag / Art  \n",
       "56          F+                              A  \n",
       "57       kob -                           Elem  \n",
       "58       kobE-                     Pays/ Elem  \n",
       "59        kob-                           Elem  \n",
       "60        FC’-                            Obj  \n",
       "61      FCE+/-                            (A)  \n",
       "62      kanC +                        Nat / A  \n",
       "63         CF-                           Anat  \n",
       "64    FC’Clob-                      Squel /Ad  \n",
       "65        FC’-                     Arch / Art  \n",
       "66     CkobE -   Pays /\\n Elem /\\n Frag / Bot  \n",
       "67        KC’-                        H / obj  \n",
       "68        FC’-                 H / Mq /\\n vêt  \n",
       "69         FC-                             Mq  \n",
       "70          EC                  Elem /\\n Frag  \n",
       "71        FC’-                             Ad  \n",
       "72        FC’-                              A  \n",
       "73         CF+                       Vêt / Hd  \n",
       "74         FC-                           (Hd)  \n",
       "75          F+                              A  \n",
       "76          F-                            obj  \n",
       "77          F-                           Pays  \n",
       "78         CK-                        H / Obj  \n",
       "79        FCE-                           Pays  \n",
       "80        F+/-                              A  \n",
       "81        FC’-                      (H) / vêt  \n",
       "82         FC+                           Arch  \n",
       "83        kan+                        A / Bot  \n",
       "84       kanC+                         A/ Bot  \n",
       "85         CF-                           Alim  \n",
       "86         CF-                           Alim  \n",
       "87        FC +                       A / Alim  \n",
       "88       kobE-  Pays / arch\\n / Elem /\\n Frag  \n",
       "89        FC’-                              A  \n",
       "90         KE-               H / Nat\\n /Scène  "
      ]
     },
     "execution_count": 17,
     "metadata": {},
     "output_type": "execute_result"
    }
   ],
   "source": [
    "nancy_df[(nancy_df[\"Answer (English)\"].isna()) & (nancy_df[\"Réponse (French)\"].notna())]"
   ]
  },
  {
   "cell_type": "code",
   "execution_count": 18,
   "metadata": {},
   "outputs": [],
   "source": [
    "to_translate = nancy_df[(nancy_df[\"Answer (English)\"].isna()) & (nancy_df[\"Réponse (French)\"].notna())]"
   ]
  },
  {
   "cell_type": "code",
   "execution_count": 19,
   "metadata": {},
   "outputs": [],
   "source": [
    "with open(r\"..\\DEEPL_KEY\\DEEPL_API_KEY.txt\", \"r\") as f:\n",
    "    API_KEY = f.read().strip(\"\\n\")"
   ]
  },
  {
   "cell_type": "code",
   "execution_count": 20,
   "metadata": {},
   "outputs": [],
   "source": [
    "import deepl\n",
    "\n",
    "def translate_text(text):\n",
    "    \n",
    "    translator = deepl.Translator(API_KEY)\n",
    "    result = translator.translate_text(text, target_lang=\"EN-US\", preserve_formatting=True)\n",
    "    return result"
   ]
  },
  {
   "cell_type": "code",
   "execution_count": 21,
   "metadata": {},
   "outputs": [
    {
     "ename": "KeyboardInterrupt",
     "evalue": "",
     "output_type": "error",
     "traceback": [
      "\u001b[1;31m---------------------------------------------------------------------------\u001b[0m",
      "\u001b[1;31mKeyboardInterrupt\u001b[0m                         Traceback (most recent call last)",
      "Cell \u001b[1;32mIn[21], line 1\u001b[0m\n\u001b[1;32m----> 1\u001b[0m to_translate[\u001b[38;5;124m\"\u001b[39m\u001b[38;5;124mAnswer (English)\u001b[39m\u001b[38;5;124m\"\u001b[39m] \u001b[38;5;241m=\u001b[39m \u001b[43mto_translate\u001b[49m\u001b[43m[\u001b[49m\u001b[38;5;124;43m\"\u001b[39;49m\u001b[38;5;124;43mRéponse (French)\u001b[39;49m\u001b[38;5;124;43m\"\u001b[39;49m\u001b[43m]\u001b[49m\u001b[38;5;241;43m.\u001b[39;49m\u001b[43mapply\u001b[49m\u001b[43m(\u001b[49m\u001b[43mtranslate_text\u001b[49m\u001b[43m)\u001b[49m\n",
      "File \u001b[1;32mc:\\Users\\alber\\AppData\\Local\\Programs\\Python\\Python312\\Lib\\site-packages\\pandas\\core\\series.py:4760\u001b[0m, in \u001b[0;36mSeries.apply\u001b[1;34m(self, func, convert_dtype, args, by_row, **kwargs)\u001b[0m\n\u001b[0;32m   4625\u001b[0m \u001b[38;5;28;01mdef\u001b[39;00m \u001b[38;5;21mapply\u001b[39m(\n\u001b[0;32m   4626\u001b[0m     \u001b[38;5;28mself\u001b[39m,\n\u001b[0;32m   4627\u001b[0m     func: AggFuncType,\n\u001b[1;32m   (...)\u001b[0m\n\u001b[0;32m   4632\u001b[0m     \u001b[38;5;241m*\u001b[39m\u001b[38;5;241m*\u001b[39mkwargs,\n\u001b[0;32m   4633\u001b[0m ) \u001b[38;5;241m-\u001b[39m\u001b[38;5;241m>\u001b[39m DataFrame \u001b[38;5;241m|\u001b[39m Series:\n\u001b[0;32m   4634\u001b[0m \u001b[38;5;250m    \u001b[39m\u001b[38;5;124;03m\"\"\"\u001b[39;00m\n\u001b[0;32m   4635\u001b[0m \u001b[38;5;124;03m    Invoke function on values of Series.\u001b[39;00m\n\u001b[0;32m   4636\u001b[0m \n\u001b[1;32m   (...)\u001b[0m\n\u001b[0;32m   4751\u001b[0m \u001b[38;5;124;03m    dtype: float64\u001b[39;00m\n\u001b[0;32m   4752\u001b[0m \u001b[38;5;124;03m    \"\"\"\u001b[39;00m\n\u001b[0;32m   4753\u001b[0m     \u001b[38;5;28;01mreturn\u001b[39;00m \u001b[43mSeriesApply\u001b[49m\u001b[43m(\u001b[49m\n\u001b[0;32m   4754\u001b[0m \u001b[43m        \u001b[49m\u001b[38;5;28;43mself\u001b[39;49m\u001b[43m,\u001b[49m\n\u001b[0;32m   4755\u001b[0m \u001b[43m        \u001b[49m\u001b[43mfunc\u001b[49m\u001b[43m,\u001b[49m\n\u001b[0;32m   4756\u001b[0m \u001b[43m        \u001b[49m\u001b[43mconvert_dtype\u001b[49m\u001b[38;5;241;43m=\u001b[39;49m\u001b[43mconvert_dtype\u001b[49m\u001b[43m,\u001b[49m\n\u001b[0;32m   4757\u001b[0m \u001b[43m        \u001b[49m\u001b[43mby_row\u001b[49m\u001b[38;5;241;43m=\u001b[39;49m\u001b[43mby_row\u001b[49m\u001b[43m,\u001b[49m\n\u001b[0;32m   4758\u001b[0m \u001b[43m        \u001b[49m\u001b[43margs\u001b[49m\u001b[38;5;241;43m=\u001b[39;49m\u001b[43margs\u001b[49m\u001b[43m,\u001b[49m\n\u001b[0;32m   4759\u001b[0m \u001b[43m        \u001b[49m\u001b[43mkwargs\u001b[49m\u001b[38;5;241;43m=\u001b[39;49m\u001b[43mkwargs\u001b[49m\u001b[43m,\u001b[49m\n\u001b[1;32m-> 4760\u001b[0m \u001b[43m    \u001b[49m\u001b[43m)\u001b[49m\u001b[38;5;241;43m.\u001b[39;49m\u001b[43mapply\u001b[49m\u001b[43m(\u001b[49m\u001b[43m)\u001b[49m\n",
      "File \u001b[1;32mc:\\Users\\alber\\AppData\\Local\\Programs\\Python\\Python312\\Lib\\site-packages\\pandas\\core\\apply.py:1207\u001b[0m, in \u001b[0;36mSeriesApply.apply\u001b[1;34m(self)\u001b[0m\n\u001b[0;32m   1204\u001b[0m     \u001b[38;5;28;01mreturn\u001b[39;00m \u001b[38;5;28mself\u001b[39m\u001b[38;5;241m.\u001b[39mapply_compat()\n\u001b[0;32m   1206\u001b[0m \u001b[38;5;66;03m# self.func is Callable\u001b[39;00m\n\u001b[1;32m-> 1207\u001b[0m \u001b[38;5;28;01mreturn\u001b[39;00m \u001b[38;5;28;43mself\u001b[39;49m\u001b[38;5;241;43m.\u001b[39;49m\u001b[43mapply_standard\u001b[49m\u001b[43m(\u001b[49m\u001b[43m)\u001b[49m\n",
      "File \u001b[1;32mc:\\Users\\alber\\AppData\\Local\\Programs\\Python\\Python312\\Lib\\site-packages\\pandas\\core\\apply.py:1287\u001b[0m, in \u001b[0;36mSeriesApply.apply_standard\u001b[1;34m(self)\u001b[0m\n\u001b[0;32m   1281\u001b[0m \u001b[38;5;66;03m# row-wise access\u001b[39;00m\n\u001b[0;32m   1282\u001b[0m \u001b[38;5;66;03m# apply doesn't have a `na_action` keyword and for backward compat reasons\u001b[39;00m\n\u001b[0;32m   1283\u001b[0m \u001b[38;5;66;03m# we need to give `na_action=\"ignore\"` for categorical data.\u001b[39;00m\n\u001b[0;32m   1284\u001b[0m \u001b[38;5;66;03m# TODO: remove the `na_action=\"ignore\"` when that default has been changed in\u001b[39;00m\n\u001b[0;32m   1285\u001b[0m \u001b[38;5;66;03m#  Categorical (GH51645).\u001b[39;00m\n\u001b[0;32m   1286\u001b[0m action \u001b[38;5;241m=\u001b[39m \u001b[38;5;124m\"\u001b[39m\u001b[38;5;124mignore\u001b[39m\u001b[38;5;124m\"\u001b[39m \u001b[38;5;28;01mif\u001b[39;00m \u001b[38;5;28misinstance\u001b[39m(obj\u001b[38;5;241m.\u001b[39mdtype, CategoricalDtype) \u001b[38;5;28;01melse\u001b[39;00m \u001b[38;5;28;01mNone\u001b[39;00m\n\u001b[1;32m-> 1287\u001b[0m mapped \u001b[38;5;241m=\u001b[39m \u001b[43mobj\u001b[49m\u001b[38;5;241;43m.\u001b[39;49m\u001b[43m_map_values\u001b[49m\u001b[43m(\u001b[49m\n\u001b[0;32m   1288\u001b[0m \u001b[43m    \u001b[49m\u001b[43mmapper\u001b[49m\u001b[38;5;241;43m=\u001b[39;49m\u001b[43mcurried\u001b[49m\u001b[43m,\u001b[49m\u001b[43m \u001b[49m\u001b[43mna_action\u001b[49m\u001b[38;5;241;43m=\u001b[39;49m\u001b[43maction\u001b[49m\u001b[43m,\u001b[49m\u001b[43m \u001b[49m\u001b[43mconvert\u001b[49m\u001b[38;5;241;43m=\u001b[39;49m\u001b[38;5;28;43mself\u001b[39;49m\u001b[38;5;241;43m.\u001b[39;49m\u001b[43mconvert_dtype\u001b[49m\n\u001b[0;32m   1289\u001b[0m \u001b[43m\u001b[49m\u001b[43m)\u001b[49m\n\u001b[0;32m   1291\u001b[0m \u001b[38;5;28;01mif\u001b[39;00m \u001b[38;5;28mlen\u001b[39m(mapped) \u001b[38;5;129;01mand\u001b[39;00m \u001b[38;5;28misinstance\u001b[39m(mapped[\u001b[38;5;241m0\u001b[39m], ABCSeries):\n\u001b[0;32m   1292\u001b[0m     \u001b[38;5;66;03m# GH#43986 Need to do list(mapped) in order to get treated as nested\u001b[39;00m\n\u001b[0;32m   1293\u001b[0m     \u001b[38;5;66;03m#  See also GH#25959 regarding EA support\u001b[39;00m\n\u001b[0;32m   1294\u001b[0m     \u001b[38;5;28;01mreturn\u001b[39;00m obj\u001b[38;5;241m.\u001b[39m_constructor_expanddim(\u001b[38;5;28mlist\u001b[39m(mapped), index\u001b[38;5;241m=\u001b[39mobj\u001b[38;5;241m.\u001b[39mindex)\n",
      "File \u001b[1;32mc:\\Users\\alber\\AppData\\Local\\Programs\\Python\\Python312\\Lib\\site-packages\\pandas\\core\\base.py:921\u001b[0m, in \u001b[0;36mIndexOpsMixin._map_values\u001b[1;34m(self, mapper, na_action, convert)\u001b[0m\n\u001b[0;32m    918\u001b[0m \u001b[38;5;28;01mif\u001b[39;00m \u001b[38;5;28misinstance\u001b[39m(arr, ExtensionArray):\n\u001b[0;32m    919\u001b[0m     \u001b[38;5;28;01mreturn\u001b[39;00m arr\u001b[38;5;241m.\u001b[39mmap(mapper, na_action\u001b[38;5;241m=\u001b[39mna_action)\n\u001b[1;32m--> 921\u001b[0m \u001b[38;5;28;01mreturn\u001b[39;00m \u001b[43malgorithms\u001b[49m\u001b[38;5;241;43m.\u001b[39;49m\u001b[43mmap_array\u001b[49m\u001b[43m(\u001b[49m\u001b[43marr\u001b[49m\u001b[43m,\u001b[49m\u001b[43m \u001b[49m\u001b[43mmapper\u001b[49m\u001b[43m,\u001b[49m\u001b[43m \u001b[49m\u001b[43mna_action\u001b[49m\u001b[38;5;241;43m=\u001b[39;49m\u001b[43mna_action\u001b[49m\u001b[43m,\u001b[49m\u001b[43m \u001b[49m\u001b[43mconvert\u001b[49m\u001b[38;5;241;43m=\u001b[39;49m\u001b[43mconvert\u001b[49m\u001b[43m)\u001b[49m\n",
      "File \u001b[1;32mc:\\Users\\alber\\AppData\\Local\\Programs\\Python\\Python312\\Lib\\site-packages\\pandas\\core\\algorithms.py:1814\u001b[0m, in \u001b[0;36mmap_array\u001b[1;34m(arr, mapper, na_action, convert)\u001b[0m\n\u001b[0;32m   1812\u001b[0m values \u001b[38;5;241m=\u001b[39m arr\u001b[38;5;241m.\u001b[39mastype(\u001b[38;5;28mobject\u001b[39m, copy\u001b[38;5;241m=\u001b[39m\u001b[38;5;28;01mFalse\u001b[39;00m)\n\u001b[0;32m   1813\u001b[0m \u001b[38;5;28;01mif\u001b[39;00m na_action \u001b[38;5;129;01mis\u001b[39;00m \u001b[38;5;28;01mNone\u001b[39;00m:\n\u001b[1;32m-> 1814\u001b[0m     \u001b[38;5;28;01mreturn\u001b[39;00m \u001b[43mlib\u001b[49m\u001b[38;5;241;43m.\u001b[39;49m\u001b[43mmap_infer\u001b[49m\u001b[43m(\u001b[49m\u001b[43mvalues\u001b[49m\u001b[43m,\u001b[49m\u001b[43m \u001b[49m\u001b[43mmapper\u001b[49m\u001b[43m,\u001b[49m\u001b[43m \u001b[49m\u001b[43mconvert\u001b[49m\u001b[38;5;241;43m=\u001b[39;49m\u001b[43mconvert\u001b[49m\u001b[43m)\u001b[49m\n\u001b[0;32m   1815\u001b[0m \u001b[38;5;28;01melse\u001b[39;00m:\n\u001b[0;32m   1816\u001b[0m     \u001b[38;5;28;01mreturn\u001b[39;00m lib\u001b[38;5;241m.\u001b[39mmap_infer_mask(\n\u001b[0;32m   1817\u001b[0m         values, mapper, mask\u001b[38;5;241m=\u001b[39misna(values)\u001b[38;5;241m.\u001b[39mview(np\u001b[38;5;241m.\u001b[39muint8), convert\u001b[38;5;241m=\u001b[39mconvert\n\u001b[0;32m   1818\u001b[0m     )\n",
      "File \u001b[1;32mlib.pyx:2917\u001b[0m, in \u001b[0;36mpandas._libs.lib.map_infer\u001b[1;34m()\u001b[0m\n",
      "Cell \u001b[1;32mIn[20], line 6\u001b[0m, in \u001b[0;36mtranslate_text\u001b[1;34m(text)\u001b[0m\n\u001b[0;32m      3\u001b[0m \u001b[38;5;28;01mdef\u001b[39;00m \u001b[38;5;21mtranslate_text\u001b[39m(text):\n\u001b[0;32m      5\u001b[0m     translator \u001b[38;5;241m=\u001b[39m deepl\u001b[38;5;241m.\u001b[39mTranslator(API_KEY)\n\u001b[1;32m----> 6\u001b[0m     result \u001b[38;5;241m=\u001b[39m \u001b[43mtranslator\u001b[49m\u001b[38;5;241;43m.\u001b[39;49m\u001b[43mtranslate_text\u001b[49m\u001b[43m(\u001b[49m\u001b[43mtext\u001b[49m\u001b[43m,\u001b[49m\u001b[43m \u001b[49m\u001b[43mtarget_lang\u001b[49m\u001b[38;5;241;43m=\u001b[39;49m\u001b[38;5;124;43m\"\u001b[39;49m\u001b[38;5;124;43mEN-US\u001b[39;49m\u001b[38;5;124;43m\"\u001b[39;49m\u001b[43m,\u001b[49m\u001b[43m \u001b[49m\u001b[43mpreserve_formatting\u001b[49m\u001b[38;5;241;43m=\u001b[39;49m\u001b[38;5;28;43;01mTrue\u001b[39;49;00m\u001b[43m)\u001b[49m\n\u001b[0;32m      7\u001b[0m     \u001b[38;5;28;01mreturn\u001b[39;00m result\n",
      "File \u001b[1;32mc:\\Users\\alber\\AppData\\Local\\Programs\\Python\\Python312\\Lib\\site-packages\\deepl\\translator.py:442\u001b[0m, in \u001b[0;36mTranslator.translate_text\u001b[1;34m(self, text, source_lang, target_lang, context, split_sentences, preserve_formatting, formality, glossary, tag_handling, outline_detection, non_splitting_tags, splitting_tags, ignore_tags)\u001b[0m\n\u001b[0;32m    439\u001b[0m \u001b[38;5;28;01mif\u001b[39;00m ignore_tags \u001b[38;5;129;01mis\u001b[39;00m \u001b[38;5;129;01mnot\u001b[39;00m \u001b[38;5;28;01mNone\u001b[39;00m:\n\u001b[0;32m    440\u001b[0m     request_data[\u001b[38;5;124m\"\u001b[39m\u001b[38;5;124mignore_tags\u001b[39m\u001b[38;5;124m\"\u001b[39m] \u001b[38;5;241m=\u001b[39m join_tags(ignore_tags)\n\u001b[1;32m--> 442\u001b[0m status, content, json \u001b[38;5;241m=\u001b[39m \u001b[38;5;28;43mself\u001b[39;49m\u001b[38;5;241;43m.\u001b[39;49m\u001b[43m_api_call\u001b[49m\u001b[43m(\u001b[49m\n\u001b[0;32m    443\u001b[0m \u001b[43m    \u001b[49m\u001b[38;5;124;43m\"\u001b[39;49m\u001b[38;5;124;43mv2/translate\u001b[39;49m\u001b[38;5;124;43m\"\u001b[39;49m\u001b[43m,\u001b[49m\u001b[43m \u001b[49m\u001b[43mjson\u001b[49m\u001b[38;5;241;43m=\u001b[39;49m\u001b[43mrequest_data\u001b[49m\n\u001b[0;32m    444\u001b[0m \u001b[43m\u001b[49m\u001b[43m)\u001b[49m\n\u001b[0;32m    446\u001b[0m \u001b[38;5;28mself\u001b[39m\u001b[38;5;241m.\u001b[39m_raise_for_status(status, content, json)\n\u001b[0;32m    448\u001b[0m translations \u001b[38;5;241m=\u001b[39m (\n\u001b[0;32m    449\u001b[0m     json\u001b[38;5;241m.\u001b[39mget(\u001b[38;5;124m\"\u001b[39m\u001b[38;5;124mtranslations\u001b[39m\u001b[38;5;124m\"\u001b[39m, [])\n\u001b[0;32m    450\u001b[0m     \u001b[38;5;28;01mif\u001b[39;00m (json \u001b[38;5;129;01mand\u001b[39;00m \u001b[38;5;28misinstance\u001b[39m(json, \u001b[38;5;28mdict\u001b[39m))\n\u001b[0;32m    451\u001b[0m     \u001b[38;5;28;01melse\u001b[39;00m []\n\u001b[0;32m    452\u001b[0m )\n",
      "File \u001b[1;32mc:\\Users\\alber\\AppData\\Local\\Programs\\Python\\Python312\\Lib\\site-packages\\deepl\\translator.py:141\u001b[0m, in \u001b[0;36mTranslator._api_call\u001b[1;34m(self, url, method, data, json, stream, headers, **kwargs)\u001b[0m\n\u001b[0;32m    136\u001b[0m     headers \u001b[38;5;241m=\u001b[39m \u001b[38;5;28mdict\u001b[39m()\n\u001b[0;32m    137\u001b[0m headers\u001b[38;5;241m.\u001b[39mupdate(\n\u001b[0;32m    138\u001b[0m     {k: v \u001b[38;5;28;01mfor\u001b[39;00m k, v \u001b[38;5;129;01min\u001b[39;00m \u001b[38;5;28mself\u001b[39m\u001b[38;5;241m.\u001b[39mheaders\u001b[38;5;241m.\u001b[39mitems() \u001b[38;5;28;01mif\u001b[39;00m k \u001b[38;5;129;01mnot\u001b[39;00m \u001b[38;5;129;01min\u001b[39;00m headers}\n\u001b[0;32m    139\u001b[0m )\n\u001b[1;32m--> 141\u001b[0m status_code, content \u001b[38;5;241m=\u001b[39m \u001b[38;5;28;43mself\u001b[39;49m\u001b[38;5;241;43m.\u001b[39;49m\u001b[43m_client\u001b[49m\u001b[38;5;241;43m.\u001b[39;49m\u001b[43mrequest_with_backoff\u001b[49m\u001b[43m(\u001b[49m\n\u001b[0;32m    142\u001b[0m \u001b[43m    \u001b[49m\u001b[43mmethod\u001b[49m\u001b[43m,\u001b[49m\n\u001b[0;32m    143\u001b[0m \u001b[43m    \u001b[49m\u001b[43murl\u001b[49m\u001b[43m,\u001b[49m\n\u001b[0;32m    144\u001b[0m \u001b[43m    \u001b[49m\u001b[43mdata\u001b[49m\u001b[38;5;241;43m=\u001b[39;49m\u001b[43mdata\u001b[49m\u001b[43m,\u001b[49m\n\u001b[0;32m    145\u001b[0m \u001b[43m    \u001b[49m\u001b[43mjson\u001b[49m\u001b[38;5;241;43m=\u001b[39;49m\u001b[43mjson\u001b[49m\u001b[43m,\u001b[49m\n\u001b[0;32m    146\u001b[0m \u001b[43m    \u001b[49m\u001b[43mstream\u001b[49m\u001b[38;5;241;43m=\u001b[39;49m\u001b[43mstream\u001b[49m\u001b[43m,\u001b[49m\n\u001b[0;32m    147\u001b[0m \u001b[43m    \u001b[49m\u001b[43mheaders\u001b[49m\u001b[38;5;241;43m=\u001b[39;49m\u001b[43mheaders\u001b[49m\u001b[43m,\u001b[49m\n\u001b[0;32m    148\u001b[0m \u001b[43m    \u001b[49m\u001b[38;5;241;43m*\u001b[39;49m\u001b[38;5;241;43m*\u001b[39;49m\u001b[43mkwargs\u001b[49m\u001b[43m,\u001b[49m\n\u001b[0;32m    149\u001b[0m \u001b[43m\u001b[49m\u001b[43m)\u001b[49m\n\u001b[0;32m    151\u001b[0m json \u001b[38;5;241m=\u001b[39m \u001b[38;5;28;01mNone\u001b[39;00m\n\u001b[0;32m    152\u001b[0m \u001b[38;5;28;01mif\u001b[39;00m \u001b[38;5;28misinstance\u001b[39m(content, \u001b[38;5;28mstr\u001b[39m):\n",
      "File \u001b[1;32mc:\\Users\\alber\\AppData\\Local\\Programs\\Python\\Python312\\Lib\\site-packages\\deepl\\http_client.py:117\u001b[0m, in \u001b[0;36mHttpClient.request_with_backoff\u001b[1;34m(self, method, url, data, json, headers, stream, **kwargs)\u001b[0m\n\u001b[0;32m    115\u001b[0m response: Optional[Tuple[\u001b[38;5;28mint\u001b[39m, Union[\u001b[38;5;28mstr\u001b[39m, requests\u001b[38;5;241m.\u001b[39mResponse]]]\n\u001b[0;32m    116\u001b[0m \u001b[38;5;28;01mtry\u001b[39;00m:\n\u001b[1;32m--> 117\u001b[0m     response \u001b[38;5;241m=\u001b[39m \u001b[38;5;28;43mself\u001b[39;49m\u001b[38;5;241;43m.\u001b[39;49m\u001b[43m_internal_request\u001b[49m\u001b[43m(\u001b[49m\n\u001b[0;32m    118\u001b[0m \u001b[43m        \u001b[49m\u001b[43mrequest\u001b[49m\u001b[43m,\u001b[49m\u001b[43m \u001b[49m\u001b[43mstream\u001b[49m\u001b[38;5;241;43m=\u001b[39;49m\u001b[43mstream\u001b[49m\u001b[43m,\u001b[49m\u001b[43m \u001b[49m\u001b[43mtimeout\u001b[49m\u001b[38;5;241;43m=\u001b[39;49m\u001b[43mbackoff\u001b[49m\u001b[38;5;241;43m.\u001b[39;49m\u001b[43mget_timeout\u001b[49m\u001b[43m(\u001b[49m\u001b[43m)\u001b[49m\n\u001b[0;32m    119\u001b[0m \u001b[43m    \u001b[49m\u001b[43m)\u001b[49m\n\u001b[0;32m    120\u001b[0m     exception \u001b[38;5;241m=\u001b[39m \u001b[38;5;28;01mNone\u001b[39;00m\n\u001b[0;32m    121\u001b[0m \u001b[38;5;28;01mexcept\u001b[39;00m \u001b[38;5;167;01mException\u001b[39;00m \u001b[38;5;28;01mas\u001b[39;00m e:\n",
      "File \u001b[1;32mc:\\Users\\alber\\AppData\\Local\\Programs\\Python\\Python312\\Lib\\site-packages\\deepl\\http_client.py:175\u001b[0m, in \u001b[0;36mHttpClient._internal_request\u001b[1;34m(self, request, stream, timeout, **kwargs)\u001b[0m\n\u001b[0;32m    167\u001b[0m \u001b[38;5;28;01mdef\u001b[39;00m \u001b[38;5;21m_internal_request\u001b[39m(\n\u001b[0;32m    168\u001b[0m     \u001b[38;5;28mself\u001b[39m,\n\u001b[0;32m    169\u001b[0m     request: requests\u001b[38;5;241m.\u001b[39mPreparedRequest,\n\u001b[1;32m   (...)\u001b[0m\n\u001b[0;32m    172\u001b[0m     \u001b[38;5;241m*\u001b[39m\u001b[38;5;241m*\u001b[39mkwargs,\n\u001b[0;32m    173\u001b[0m ) \u001b[38;5;241m-\u001b[39m\u001b[38;5;241m>\u001b[39m Tuple[\u001b[38;5;28mint\u001b[39m, Union[\u001b[38;5;28mstr\u001b[39m, requests\u001b[38;5;241m.\u001b[39mResponse]]:\n\u001b[0;32m    174\u001b[0m     \u001b[38;5;28;01mtry\u001b[39;00m:\n\u001b[1;32m--> 175\u001b[0m         response \u001b[38;5;241m=\u001b[39m \u001b[38;5;28;43mself\u001b[39;49m\u001b[38;5;241;43m.\u001b[39;49m\u001b[43m_session\u001b[49m\u001b[38;5;241;43m.\u001b[39;49m\u001b[43msend\u001b[49m\u001b[43m(\u001b[49m\n\u001b[0;32m    176\u001b[0m \u001b[43m            \u001b[49m\u001b[43mrequest\u001b[49m\u001b[43m,\u001b[49m\u001b[43m \u001b[49m\u001b[43mstream\u001b[49m\u001b[38;5;241;43m=\u001b[39;49m\u001b[43mstream\u001b[49m\u001b[43m,\u001b[49m\u001b[43m \u001b[49m\u001b[43mtimeout\u001b[49m\u001b[38;5;241;43m=\u001b[39;49m\u001b[43mtimeout\u001b[49m\u001b[43m,\u001b[49m\u001b[43m \u001b[49m\u001b[38;5;241;43m*\u001b[39;49m\u001b[38;5;241;43m*\u001b[39;49m\u001b[43mkwargs\u001b[49m\n\u001b[0;32m    177\u001b[0m \u001b[43m        \u001b[49m\u001b[43m)\u001b[49m\n\u001b[0;32m    178\u001b[0m         \u001b[38;5;28;01mif\u001b[39;00m stream:\n\u001b[0;32m    179\u001b[0m             \u001b[38;5;28;01mreturn\u001b[39;00m response\u001b[38;5;241m.\u001b[39mstatus_code, response\n",
      "File \u001b[1;32mc:\\Users\\alber\\AppData\\Local\\Programs\\Python\\Python312\\Lib\\site-packages\\requests\\sessions.py:703\u001b[0m, in \u001b[0;36mSession.send\u001b[1;34m(self, request, **kwargs)\u001b[0m\n\u001b[0;32m    700\u001b[0m start \u001b[38;5;241m=\u001b[39m preferred_clock()\n\u001b[0;32m    702\u001b[0m \u001b[38;5;66;03m# Send the request\u001b[39;00m\n\u001b[1;32m--> 703\u001b[0m r \u001b[38;5;241m=\u001b[39m \u001b[43madapter\u001b[49m\u001b[38;5;241;43m.\u001b[39;49m\u001b[43msend\u001b[49m\u001b[43m(\u001b[49m\u001b[43mrequest\u001b[49m\u001b[43m,\u001b[49m\u001b[43m \u001b[49m\u001b[38;5;241;43m*\u001b[39;49m\u001b[38;5;241;43m*\u001b[39;49m\u001b[43mkwargs\u001b[49m\u001b[43m)\u001b[49m\n\u001b[0;32m    705\u001b[0m \u001b[38;5;66;03m# Total elapsed time of the request (approximately)\u001b[39;00m\n\u001b[0;32m    706\u001b[0m elapsed \u001b[38;5;241m=\u001b[39m preferred_clock() \u001b[38;5;241m-\u001b[39m start\n",
      "File \u001b[1;32mc:\\Users\\alber\\AppData\\Local\\Programs\\Python\\Python312\\Lib\\site-packages\\requests\\adapters.py:486\u001b[0m, in \u001b[0;36mHTTPAdapter.send\u001b[1;34m(self, request, stream, timeout, verify, cert, proxies)\u001b[0m\n\u001b[0;32m    483\u001b[0m     timeout \u001b[38;5;241m=\u001b[39m TimeoutSauce(connect\u001b[38;5;241m=\u001b[39mtimeout, read\u001b[38;5;241m=\u001b[39mtimeout)\n\u001b[0;32m    485\u001b[0m \u001b[38;5;28;01mtry\u001b[39;00m:\n\u001b[1;32m--> 486\u001b[0m     resp \u001b[38;5;241m=\u001b[39m \u001b[43mconn\u001b[49m\u001b[38;5;241;43m.\u001b[39;49m\u001b[43murlopen\u001b[49m\u001b[43m(\u001b[49m\n\u001b[0;32m    487\u001b[0m \u001b[43m        \u001b[49m\u001b[43mmethod\u001b[49m\u001b[38;5;241;43m=\u001b[39;49m\u001b[43mrequest\u001b[49m\u001b[38;5;241;43m.\u001b[39;49m\u001b[43mmethod\u001b[49m\u001b[43m,\u001b[49m\n\u001b[0;32m    488\u001b[0m \u001b[43m        \u001b[49m\u001b[43murl\u001b[49m\u001b[38;5;241;43m=\u001b[39;49m\u001b[43murl\u001b[49m\u001b[43m,\u001b[49m\n\u001b[0;32m    489\u001b[0m \u001b[43m        \u001b[49m\u001b[43mbody\u001b[49m\u001b[38;5;241;43m=\u001b[39;49m\u001b[43mrequest\u001b[49m\u001b[38;5;241;43m.\u001b[39;49m\u001b[43mbody\u001b[49m\u001b[43m,\u001b[49m\n\u001b[0;32m    490\u001b[0m \u001b[43m        \u001b[49m\u001b[43mheaders\u001b[49m\u001b[38;5;241;43m=\u001b[39;49m\u001b[43mrequest\u001b[49m\u001b[38;5;241;43m.\u001b[39;49m\u001b[43mheaders\u001b[49m\u001b[43m,\u001b[49m\n\u001b[0;32m    491\u001b[0m \u001b[43m        \u001b[49m\u001b[43mredirect\u001b[49m\u001b[38;5;241;43m=\u001b[39;49m\u001b[38;5;28;43;01mFalse\u001b[39;49;00m\u001b[43m,\u001b[49m\n\u001b[0;32m    492\u001b[0m \u001b[43m        \u001b[49m\u001b[43massert_same_host\u001b[49m\u001b[38;5;241;43m=\u001b[39;49m\u001b[38;5;28;43;01mFalse\u001b[39;49;00m\u001b[43m,\u001b[49m\n\u001b[0;32m    493\u001b[0m \u001b[43m        \u001b[49m\u001b[43mpreload_content\u001b[49m\u001b[38;5;241;43m=\u001b[39;49m\u001b[38;5;28;43;01mFalse\u001b[39;49;00m\u001b[43m,\u001b[49m\n\u001b[0;32m    494\u001b[0m \u001b[43m        \u001b[49m\u001b[43mdecode_content\u001b[49m\u001b[38;5;241;43m=\u001b[39;49m\u001b[38;5;28;43;01mFalse\u001b[39;49;00m\u001b[43m,\u001b[49m\n\u001b[0;32m    495\u001b[0m \u001b[43m        \u001b[49m\u001b[43mretries\u001b[49m\u001b[38;5;241;43m=\u001b[39;49m\u001b[38;5;28;43mself\u001b[39;49m\u001b[38;5;241;43m.\u001b[39;49m\u001b[43mmax_retries\u001b[49m\u001b[43m,\u001b[49m\n\u001b[0;32m    496\u001b[0m \u001b[43m        \u001b[49m\u001b[43mtimeout\u001b[49m\u001b[38;5;241;43m=\u001b[39;49m\u001b[43mtimeout\u001b[49m\u001b[43m,\u001b[49m\n\u001b[0;32m    497\u001b[0m \u001b[43m        \u001b[49m\u001b[43mchunked\u001b[49m\u001b[38;5;241;43m=\u001b[39;49m\u001b[43mchunked\u001b[49m\u001b[43m,\u001b[49m\n\u001b[0;32m    498\u001b[0m \u001b[43m    \u001b[49m\u001b[43m)\u001b[49m\n\u001b[0;32m    500\u001b[0m \u001b[38;5;28;01mexcept\u001b[39;00m (ProtocolError, \u001b[38;5;167;01mOSError\u001b[39;00m) \u001b[38;5;28;01mas\u001b[39;00m err:\n\u001b[0;32m    501\u001b[0m     \u001b[38;5;28;01mraise\u001b[39;00m \u001b[38;5;167;01mConnectionError\u001b[39;00m(err, request\u001b[38;5;241m=\u001b[39mrequest)\n",
      "File \u001b[1;32mc:\\Users\\alber\\AppData\\Local\\Programs\\Python\\Python312\\Lib\\site-packages\\urllib3\\connectionpool.py:791\u001b[0m, in \u001b[0;36mHTTPConnectionPool.urlopen\u001b[1;34m(self, method, url, body, headers, retries, redirect, assert_same_host, timeout, pool_timeout, release_conn, chunked, body_pos, preload_content, decode_content, **response_kw)\u001b[0m\n\u001b[0;32m    788\u001b[0m response_conn \u001b[38;5;241m=\u001b[39m conn \u001b[38;5;28;01mif\u001b[39;00m \u001b[38;5;129;01mnot\u001b[39;00m release_conn \u001b[38;5;28;01melse\u001b[39;00m \u001b[38;5;28;01mNone\u001b[39;00m\n\u001b[0;32m    790\u001b[0m \u001b[38;5;66;03m# Make the request on the HTTPConnection object\u001b[39;00m\n\u001b[1;32m--> 791\u001b[0m response \u001b[38;5;241m=\u001b[39m \u001b[38;5;28;43mself\u001b[39;49m\u001b[38;5;241;43m.\u001b[39;49m\u001b[43m_make_request\u001b[49m\u001b[43m(\u001b[49m\n\u001b[0;32m    792\u001b[0m \u001b[43m    \u001b[49m\u001b[43mconn\u001b[49m\u001b[43m,\u001b[49m\n\u001b[0;32m    793\u001b[0m \u001b[43m    \u001b[49m\u001b[43mmethod\u001b[49m\u001b[43m,\u001b[49m\n\u001b[0;32m    794\u001b[0m \u001b[43m    \u001b[49m\u001b[43murl\u001b[49m\u001b[43m,\u001b[49m\n\u001b[0;32m    795\u001b[0m \u001b[43m    \u001b[49m\u001b[43mtimeout\u001b[49m\u001b[38;5;241;43m=\u001b[39;49m\u001b[43mtimeout_obj\u001b[49m\u001b[43m,\u001b[49m\n\u001b[0;32m    796\u001b[0m \u001b[43m    \u001b[49m\u001b[43mbody\u001b[49m\u001b[38;5;241;43m=\u001b[39;49m\u001b[43mbody\u001b[49m\u001b[43m,\u001b[49m\n\u001b[0;32m    797\u001b[0m \u001b[43m    \u001b[49m\u001b[43mheaders\u001b[49m\u001b[38;5;241;43m=\u001b[39;49m\u001b[43mheaders\u001b[49m\u001b[43m,\u001b[49m\n\u001b[0;32m    798\u001b[0m \u001b[43m    \u001b[49m\u001b[43mchunked\u001b[49m\u001b[38;5;241;43m=\u001b[39;49m\u001b[43mchunked\u001b[49m\u001b[43m,\u001b[49m\n\u001b[0;32m    799\u001b[0m \u001b[43m    \u001b[49m\u001b[43mretries\u001b[49m\u001b[38;5;241;43m=\u001b[39;49m\u001b[43mretries\u001b[49m\u001b[43m,\u001b[49m\n\u001b[0;32m    800\u001b[0m \u001b[43m    \u001b[49m\u001b[43mresponse_conn\u001b[49m\u001b[38;5;241;43m=\u001b[39;49m\u001b[43mresponse_conn\u001b[49m\u001b[43m,\u001b[49m\n\u001b[0;32m    801\u001b[0m \u001b[43m    \u001b[49m\u001b[43mpreload_content\u001b[49m\u001b[38;5;241;43m=\u001b[39;49m\u001b[43mpreload_content\u001b[49m\u001b[43m,\u001b[49m\n\u001b[0;32m    802\u001b[0m \u001b[43m    \u001b[49m\u001b[43mdecode_content\u001b[49m\u001b[38;5;241;43m=\u001b[39;49m\u001b[43mdecode_content\u001b[49m\u001b[43m,\u001b[49m\n\u001b[0;32m    803\u001b[0m \u001b[43m    \u001b[49m\u001b[38;5;241;43m*\u001b[39;49m\u001b[38;5;241;43m*\u001b[39;49m\u001b[43mresponse_kw\u001b[49m\u001b[43m,\u001b[49m\n\u001b[0;32m    804\u001b[0m \u001b[43m\u001b[49m\u001b[43m)\u001b[49m\n\u001b[0;32m    806\u001b[0m \u001b[38;5;66;03m# Everything went great!\u001b[39;00m\n\u001b[0;32m    807\u001b[0m clean_exit \u001b[38;5;241m=\u001b[39m \u001b[38;5;28;01mTrue\u001b[39;00m\n",
      "File \u001b[1;32mc:\\Users\\alber\\AppData\\Local\\Programs\\Python\\Python312\\Lib\\site-packages\\urllib3\\connectionpool.py:537\u001b[0m, in \u001b[0;36mHTTPConnectionPool._make_request\u001b[1;34m(self, conn, method, url, body, headers, retries, timeout, chunked, response_conn, preload_content, decode_content, enforce_content_length)\u001b[0m\n\u001b[0;32m    535\u001b[0m \u001b[38;5;66;03m# Receive the response from the server\u001b[39;00m\n\u001b[0;32m    536\u001b[0m \u001b[38;5;28;01mtry\u001b[39;00m:\n\u001b[1;32m--> 537\u001b[0m     response \u001b[38;5;241m=\u001b[39m \u001b[43mconn\u001b[49m\u001b[38;5;241;43m.\u001b[39;49m\u001b[43mgetresponse\u001b[49m\u001b[43m(\u001b[49m\u001b[43m)\u001b[49m\n\u001b[0;32m    538\u001b[0m \u001b[38;5;28;01mexcept\u001b[39;00m (BaseSSLError, \u001b[38;5;167;01mOSError\u001b[39;00m) \u001b[38;5;28;01mas\u001b[39;00m e:\n\u001b[0;32m    539\u001b[0m     \u001b[38;5;28mself\u001b[39m\u001b[38;5;241m.\u001b[39m_raise_timeout(err\u001b[38;5;241m=\u001b[39me, url\u001b[38;5;241m=\u001b[39murl, timeout_value\u001b[38;5;241m=\u001b[39mread_timeout)\n",
      "File \u001b[1;32mc:\\Users\\alber\\AppData\\Local\\Programs\\Python\\Python312\\Lib\\site-packages\\urllib3\\connection.py:461\u001b[0m, in \u001b[0;36mHTTPConnection.getresponse\u001b[1;34m(self)\u001b[0m\n\u001b[0;32m    458\u001b[0m \u001b[38;5;28;01mfrom\u001b[39;00m \u001b[38;5;21;01m.\u001b[39;00m\u001b[38;5;21;01mresponse\u001b[39;00m \u001b[38;5;28;01mimport\u001b[39;00m HTTPResponse\n\u001b[0;32m    460\u001b[0m \u001b[38;5;66;03m# Get the response from http.client.HTTPConnection\u001b[39;00m\n\u001b[1;32m--> 461\u001b[0m httplib_response \u001b[38;5;241m=\u001b[39m \u001b[38;5;28;43msuper\u001b[39;49m\u001b[43m(\u001b[49m\u001b[43m)\u001b[49m\u001b[38;5;241;43m.\u001b[39;49m\u001b[43mgetresponse\u001b[49m\u001b[43m(\u001b[49m\u001b[43m)\u001b[49m\n\u001b[0;32m    463\u001b[0m \u001b[38;5;28;01mtry\u001b[39;00m:\n\u001b[0;32m    464\u001b[0m     assert_header_parsing(httplib_response\u001b[38;5;241m.\u001b[39mmsg)\n",
      "File \u001b[1;32mc:\\Users\\alber\\AppData\\Local\\Programs\\Python\\Python312\\Lib\\http\\client.py:1411\u001b[0m, in \u001b[0;36mHTTPConnection.getresponse\u001b[1;34m(self)\u001b[0m\n\u001b[0;32m   1409\u001b[0m \u001b[38;5;28;01mtry\u001b[39;00m:\n\u001b[0;32m   1410\u001b[0m     \u001b[38;5;28;01mtry\u001b[39;00m:\n\u001b[1;32m-> 1411\u001b[0m         \u001b[43mresponse\u001b[49m\u001b[38;5;241;43m.\u001b[39;49m\u001b[43mbegin\u001b[49m\u001b[43m(\u001b[49m\u001b[43m)\u001b[49m\n\u001b[0;32m   1412\u001b[0m     \u001b[38;5;28;01mexcept\u001b[39;00m \u001b[38;5;167;01mConnectionError\u001b[39;00m:\n\u001b[0;32m   1413\u001b[0m         \u001b[38;5;28mself\u001b[39m\u001b[38;5;241m.\u001b[39mclose()\n",
      "File \u001b[1;32mc:\\Users\\alber\\AppData\\Local\\Programs\\Python\\Python312\\Lib\\http\\client.py:324\u001b[0m, in \u001b[0;36mHTTPResponse.begin\u001b[1;34m(self)\u001b[0m\n\u001b[0;32m    322\u001b[0m \u001b[38;5;66;03m# read until we get a non-100 response\u001b[39;00m\n\u001b[0;32m    323\u001b[0m \u001b[38;5;28;01mwhile\u001b[39;00m \u001b[38;5;28;01mTrue\u001b[39;00m:\n\u001b[1;32m--> 324\u001b[0m     version, status, reason \u001b[38;5;241m=\u001b[39m \u001b[38;5;28;43mself\u001b[39;49m\u001b[38;5;241;43m.\u001b[39;49m\u001b[43m_read_status\u001b[49m\u001b[43m(\u001b[49m\u001b[43m)\u001b[49m\n\u001b[0;32m    325\u001b[0m     \u001b[38;5;28;01mif\u001b[39;00m status \u001b[38;5;241m!=\u001b[39m CONTINUE:\n\u001b[0;32m    326\u001b[0m         \u001b[38;5;28;01mbreak\u001b[39;00m\n",
      "File \u001b[1;32mc:\\Users\\alber\\AppData\\Local\\Programs\\Python\\Python312\\Lib\\http\\client.py:285\u001b[0m, in \u001b[0;36mHTTPResponse._read_status\u001b[1;34m(self)\u001b[0m\n\u001b[0;32m    284\u001b[0m \u001b[38;5;28;01mdef\u001b[39;00m \u001b[38;5;21m_read_status\u001b[39m(\u001b[38;5;28mself\u001b[39m):\n\u001b[1;32m--> 285\u001b[0m     line \u001b[38;5;241m=\u001b[39m \u001b[38;5;28mstr\u001b[39m(\u001b[38;5;28;43mself\u001b[39;49m\u001b[38;5;241;43m.\u001b[39;49m\u001b[43mfp\u001b[49m\u001b[38;5;241;43m.\u001b[39;49m\u001b[43mreadline\u001b[49m\u001b[43m(\u001b[49m\u001b[43m_MAXLINE\u001b[49m\u001b[43m \u001b[49m\u001b[38;5;241;43m+\u001b[39;49m\u001b[43m \u001b[49m\u001b[38;5;241;43m1\u001b[39;49m\u001b[43m)\u001b[49m, \u001b[38;5;124m\"\u001b[39m\u001b[38;5;124miso-8859-1\u001b[39m\u001b[38;5;124m\"\u001b[39m)\n\u001b[0;32m    286\u001b[0m     \u001b[38;5;28;01mif\u001b[39;00m \u001b[38;5;28mlen\u001b[39m(line) \u001b[38;5;241m>\u001b[39m _MAXLINE:\n\u001b[0;32m    287\u001b[0m         \u001b[38;5;28;01mraise\u001b[39;00m LineTooLong(\u001b[38;5;124m\"\u001b[39m\u001b[38;5;124mstatus line\u001b[39m\u001b[38;5;124m\"\u001b[39m)\n",
      "File \u001b[1;32mc:\\Users\\alber\\AppData\\Local\\Programs\\Python\\Python312\\Lib\\socket.py:707\u001b[0m, in \u001b[0;36mSocketIO.readinto\u001b[1;34m(self, b)\u001b[0m\n\u001b[0;32m    705\u001b[0m \u001b[38;5;28;01mwhile\u001b[39;00m \u001b[38;5;28;01mTrue\u001b[39;00m:\n\u001b[0;32m    706\u001b[0m     \u001b[38;5;28;01mtry\u001b[39;00m:\n\u001b[1;32m--> 707\u001b[0m         \u001b[38;5;28;01mreturn\u001b[39;00m \u001b[38;5;28;43mself\u001b[39;49m\u001b[38;5;241;43m.\u001b[39;49m\u001b[43m_sock\u001b[49m\u001b[38;5;241;43m.\u001b[39;49m\u001b[43mrecv_into\u001b[49m\u001b[43m(\u001b[49m\u001b[43mb\u001b[49m\u001b[43m)\u001b[49m\n\u001b[0;32m    708\u001b[0m     \u001b[38;5;28;01mexcept\u001b[39;00m timeout:\n\u001b[0;32m    709\u001b[0m         \u001b[38;5;28mself\u001b[39m\u001b[38;5;241m.\u001b[39m_timeout_occurred \u001b[38;5;241m=\u001b[39m \u001b[38;5;28;01mTrue\u001b[39;00m\n",
      "File \u001b[1;32mc:\\Users\\alber\\AppData\\Local\\Programs\\Python\\Python312\\Lib\\ssl.py:1249\u001b[0m, in \u001b[0;36mSSLSocket.recv_into\u001b[1;34m(self, buffer, nbytes, flags)\u001b[0m\n\u001b[0;32m   1245\u001b[0m     \u001b[38;5;28;01mif\u001b[39;00m flags \u001b[38;5;241m!=\u001b[39m \u001b[38;5;241m0\u001b[39m:\n\u001b[0;32m   1246\u001b[0m         \u001b[38;5;28;01mraise\u001b[39;00m \u001b[38;5;167;01mValueError\u001b[39;00m(\n\u001b[0;32m   1247\u001b[0m           \u001b[38;5;124m\"\u001b[39m\u001b[38;5;124mnon-zero flags not allowed in calls to recv_into() on \u001b[39m\u001b[38;5;132;01m%s\u001b[39;00m\u001b[38;5;124m\"\u001b[39m \u001b[38;5;241m%\u001b[39m\n\u001b[0;32m   1248\u001b[0m           \u001b[38;5;28mself\u001b[39m\u001b[38;5;241m.\u001b[39m\u001b[38;5;18m__class__\u001b[39m)\n\u001b[1;32m-> 1249\u001b[0m     \u001b[38;5;28;01mreturn\u001b[39;00m \u001b[38;5;28;43mself\u001b[39;49m\u001b[38;5;241;43m.\u001b[39;49m\u001b[43mread\u001b[49m\u001b[43m(\u001b[49m\u001b[43mnbytes\u001b[49m\u001b[43m,\u001b[49m\u001b[43m \u001b[49m\u001b[43mbuffer\u001b[49m\u001b[43m)\u001b[49m\n\u001b[0;32m   1250\u001b[0m \u001b[38;5;28;01melse\u001b[39;00m:\n\u001b[0;32m   1251\u001b[0m     \u001b[38;5;28;01mreturn\u001b[39;00m \u001b[38;5;28msuper\u001b[39m()\u001b[38;5;241m.\u001b[39mrecv_into(buffer, nbytes, flags)\n",
      "File \u001b[1;32mc:\\Users\\alber\\AppData\\Local\\Programs\\Python\\Python312\\Lib\\ssl.py:1105\u001b[0m, in \u001b[0;36mSSLSocket.read\u001b[1;34m(self, len, buffer)\u001b[0m\n\u001b[0;32m   1103\u001b[0m \u001b[38;5;28;01mtry\u001b[39;00m:\n\u001b[0;32m   1104\u001b[0m     \u001b[38;5;28;01mif\u001b[39;00m buffer \u001b[38;5;129;01mis\u001b[39;00m \u001b[38;5;129;01mnot\u001b[39;00m \u001b[38;5;28;01mNone\u001b[39;00m:\n\u001b[1;32m-> 1105\u001b[0m         \u001b[38;5;28;01mreturn\u001b[39;00m \u001b[38;5;28;43mself\u001b[39;49m\u001b[38;5;241;43m.\u001b[39;49m\u001b[43m_sslobj\u001b[49m\u001b[38;5;241;43m.\u001b[39;49m\u001b[43mread\u001b[49m\u001b[43m(\u001b[49m\u001b[38;5;28;43mlen\u001b[39;49m\u001b[43m,\u001b[49m\u001b[43m \u001b[49m\u001b[43mbuffer\u001b[49m\u001b[43m)\u001b[49m\n\u001b[0;32m   1106\u001b[0m     \u001b[38;5;28;01melse\u001b[39;00m:\n\u001b[0;32m   1107\u001b[0m         \u001b[38;5;28;01mreturn\u001b[39;00m \u001b[38;5;28mself\u001b[39m\u001b[38;5;241m.\u001b[39m_sslobj\u001b[38;5;241m.\u001b[39mread(\u001b[38;5;28mlen\u001b[39m)\n",
      "\u001b[1;31mKeyboardInterrupt\u001b[0m: "
     ]
    }
   ],
   "source": [
    "to_translate[\"Answer (English)\"] = to_translate[\"Réponse (French)\"].apply(translate_text)"
   ]
  },
  {
   "cell_type": "code",
   "execution_count": null,
   "metadata": {},
   "outputs": [],
   "source": [
    "nancy_df = pd.concat([nancy_df.reset_index(drop=True), to_translate.reset_index(drop=True)], axis=0)"
   ]
  },
  {
   "cell_type": "code",
   "execution_count": null,
   "metadata": {},
   "outputs": [],
   "source": [
    "nancy_df.dropna(inplace=True)"
   ]
  },
  {
   "cell_type": "code",
   "execution_count": null,
   "metadata": {},
   "outputs": [],
   "source": [
    "# def clean_new_lines_text(text):\n",
    "#     text = text.replace(\"\\n\", \" \")\n",
    "#     return text"
   ]
  },
  {
   "cell_type": "code",
   "execution_count": null,
   "metadata": {},
   "outputs": [
    {
     "data": {
      "text/html": [
       "<div>\n",
       "<style scoped>\n",
       "    .dataframe tbody tr th:only-of-type {\n",
       "        vertical-align: middle;\n",
       "    }\n",
       "\n",
       "    .dataframe tbody tr th {\n",
       "        vertical-align: top;\n",
       "    }\n",
       "\n",
       "    .dataframe thead th {\n",
       "        text-align: right;\n",
       "    }\n",
       "</style>\n",
       "<table border=\"1\" class=\"dataframe\">\n",
       "  <thead>\n",
       "    <tr style=\"text-align: right;\">\n",
       "      <th></th>\n",
       "      <th>Réponse (French)</th>\n",
       "      <th>Answer (English)</th>\n",
       "      <th>Déterminant</th>\n",
       "      <th>Contenu</th>\n",
       "    </tr>\n",
       "  </thead>\n",
       "  <tbody>\n",
       "    <tr>\n",
       "      <th>0</th>\n",
       "      <td>Moi ça me fait penser à un papillon de nuit a...</td>\n",
       "      <td>It reminds me of a moth with mandibles. It lo...</td>\n",
       "      <td>FC'+</td>\n",
       "      <td>(A)</td>\n",
       "    </tr>\n",
       "    <tr>\n",
       "      <th>1</th>\n",
       "      <td>Une personne de chaque côté (forcément, c’est ...</td>\n",
       "      <td>One person on each side (obviously, it’s symme...</td>\n",
       "      <td>K+</td>\n",
       "      <td>H</td>\n",
       "    </tr>\n",
       "    <tr>\n",
       "      <th>2</th>\n",
       "      <td>Une casserole sur une gazinière de… de camping...</td>\n",
       "      <td>A saucepan on a…camping gas stove. The gas sto...</td>\n",
       "      <td>FE-</td>\n",
       "      <td>Obj</td>\n",
       "    </tr>\n",
       "    <tr>\n",
       "      <th>5</th>\n",
       "      <td>Ah deux lapins qui se tapent la main avec les ...</td>\n",
       "      <td>Ah two rabbits hitting each other's hands with...</td>\n",
       "      <td>kan</td>\n",
       "      <td>A</td>\n",
       "    </tr>\n",
       "    <tr>\n",
       "      <th>6</th>\n",
       "      <td>Et… Une personne avec des grosses lèvres, ses ...</td>\n",
       "      <td>And... A person with big lips, his eyes, his e...</td>\n",
       "      <td>EF</td>\n",
       "      <td>Hd</td>\n",
       "    </tr>\n",
       "    <tr>\n",
       "      <th>...</th>\n",
       "      <td>...</td>\n",
       "      <td>...</td>\n",
       "      <td>...</td>\n",
       "      <td>...</td>\n",
       "    </tr>\n",
       "    <tr>\n",
       "      <th>35</th>\n",
       "      <td>Tu vois ça, ça me fait\\n penser à des crevette...</td>\n",
       "      <td>You see that, it reminds me\\n reminds me of sh...</td>\n",
       "      <td>CF-</td>\n",
       "      <td>Alim</td>\n",
       "    </tr>\n",
       "    <tr>\n",
       "      <th>36</th>\n",
       "      <td>J’arrive vraiment pas à\\n voir l’ensemble, ça,...</td>\n",
       "      <td>I really can't\\n see the whole thing, it makes...</td>\n",
       "      <td>FC +</td>\n",
       "      <td>A / Alim</td>\n",
       "    </tr>\n",
       "    <tr>\n",
       "      <th>37</th>\n",
       "      <td>C’est un peu capillotracté\\n un peu après, mai...</td>\n",
       "      <td>It's a bit capillotint\\n a bit afterwards, but...</td>\n",
       "      <td>kobE-</td>\n",
       "      <td>Pays / arch\\n / Elem /\\n Frag</td>\n",
       "    </tr>\n",
       "    <tr>\n",
       "      <th>38</th>\n",
       "      <td>: Là ça me fait penser à une\\n chèvre (rires),...</td>\n",
       "      <td>: It reminds me of a goat\\n goat (laughs), and...</td>\n",
       "      <td>FC’-</td>\n",
       "      <td>A</td>\n",
       "    </tr>\n",
       "    <tr>\n",
       "      <th>39</th>\n",
       "      <td>T’as un gouffre tu vois,\\n t’as le bord du gou...</td>\n",
       "      <td>You've got a chasm, you see,\\n you've got the ...</td>\n",
       "      <td>KE-</td>\n",
       "      <td>H / Nat\\n /Scène</td>\n",
       "    </tr>\n",
       "  </tbody>\n",
       "</table>\n",
       "<p>380 rows × 4 columns</p>\n",
       "</div>"
      ],
      "text/plain": [
       "                                     Réponse (French)  \\\n",
       "0    Moi ça me fait penser à un papillon de nuit a...   \n",
       "1   Une personne de chaque côté (forcément, c’est ...   \n",
       "2   Une casserole sur une gazinière de… de camping...   \n",
       "5   Ah deux lapins qui se tapent la main avec les ...   \n",
       "6   Et… Une personne avec des grosses lèvres, ses ...   \n",
       "..                                                ...   \n",
       "35  Tu vois ça, ça me fait\\n penser à des crevette...   \n",
       "36  J’arrive vraiment pas à\\n voir l’ensemble, ça,...   \n",
       "37  C’est un peu capillotracté\\n un peu après, mai...   \n",
       "38  : Là ça me fait penser à une\\n chèvre (rires),...   \n",
       "39  T’as un gouffre tu vois,\\n t’as le bord du gou...   \n",
       "\n",
       "                                     Answer (English) Déterminant  \\\n",
       "0    It reminds me of a moth with mandibles. It lo...        FC'+   \n",
       "1   One person on each side (obviously, it’s symme...          K+   \n",
       "2   A saucepan on a…camping gas stove. The gas sto...         FE-   \n",
       "5   Ah two rabbits hitting each other's hands with...         kan   \n",
       "6   And... A person with big lips, his eyes, his e...          EF   \n",
       "..                                                ...         ...   \n",
       "35  You see that, it reminds me\\n reminds me of sh...         CF-   \n",
       "36  I really can't\\n see the whole thing, it makes...        FC +   \n",
       "37  It's a bit capillotint\\n a bit afterwards, but...       kobE-   \n",
       "38  : It reminds me of a goat\\n goat (laughs), and...        FC’-   \n",
       "39  You've got a chasm, you see,\\n you've got the ...         KE-   \n",
       "\n",
       "                          Contenu  \n",
       "0                             (A)  \n",
       "1                               H  \n",
       "2                             Obj  \n",
       "5                               A  \n",
       "6                              Hd  \n",
       "..                            ...  \n",
       "35                           Alim  \n",
       "36                       A / Alim  \n",
       "37  Pays / arch\\n / Elem /\\n Frag  \n",
       "38                              A  \n",
       "39               H / Nat\\n /Scène  \n",
       "\n",
       "[380 rows x 4 columns]"
      ]
     },
     "execution_count": 172,
     "metadata": {},
     "output_type": "execute_result"
    }
   ],
   "source": [
    "nancy_df"
   ]
  },
  {
   "cell_type": "code",
   "execution_count": null,
   "metadata": {},
   "outputs": [],
   "source": [
    "# nancy_df[\"Answer (English)\"] = nancy_df[\"Answer (English)\"].apply(clean_new_lines_text)\n",
    "# nancy_df[\"Réponse (French)\"] = nancy_df[\"Réponse (French)\"].apply(clean_new_lines_text)"
   ]
  },
  {
   "cell_type": "code",
   "execution_count": null,
   "metadata": {},
   "outputs": [],
   "source": [
    "nancy_df.to_csv(\"Nancy_clean.csv\", index=False)"
   ]
  },
  {
   "cell_type": "markdown",
   "metadata": {},
   "source": [
    "# Boolean features from determinants and contents labels"
   ]
  },
  {
   "cell_type": "code",
   "execution_count": 71,
   "metadata": {},
   "outputs": [],
   "source": [
    "import pandas as pd \n",
    "import seaborn as sns\n",
    "import matplotlib.pyplot as plt\n",
    "import re\n",
    "\n",
    "nancy_df = pd.read_csv(\"Nancy_clean.csv\")"
   ]
  },
  {
   "cell_type": "code",
   "execution_count": 72,
   "metadata": {},
   "outputs": [],
   "source": [
    "nancy_contents = nancy_df[[\"Réponse (French)\", \"Answer (English)\", \"Contenu\"]]\n",
    "nancy_determinants = nancy_df[[\"Réponse (French)\", \"Answer (English)\", \"Déterminant\"]]"
   ]
  },
  {
   "cell_type": "markdown",
   "metadata": {},
   "source": [
    "### Content labels"
   ]
  },
  {
   "cell_type": "code",
   "execution_count": 73,
   "metadata": {},
   "outputs": [
    {
     "data": {
      "text/plain": [
       "Contenu\n",
       "A                   85\n",
       "Hd                  32\n",
       "Ad                  29\n",
       "Obj                 23\n",
       "Anat                14\n",
       "                    ..\n",
       "H/Obj/Vet            1\n",
       "(Hd)/Symb            1\n",
       "A/Frag/sg            1\n",
       "H/Hd                 1\n",
       "H / Nat\\n /Scène     1\n",
       "Name: count, Length: 109, dtype: int64"
      ]
     },
     "execution_count": 73,
     "metadata": {},
     "output_type": "execute_result"
    }
   ],
   "source": [
    "nancy_contents[\"Contenu\"].value_counts()"
   ]
  },
  {
   "cell_type": "code",
   "execution_count": 74,
   "metadata": {},
   "outputs": [
    {
     "name": "stderr",
     "output_type": "stream",
     "text": [
      "C:\\Users\\alber\\AppData\\Local\\Temp\\ipykernel_16032\\4195384464.py:2: SettingWithCopyWarning: \n",
      "A value is trying to be set on a copy of a slice from a DataFrame.\n",
      "Try using .loc[row_indexer,col_indexer] = value instead\n",
      "\n",
      "See the caveats in the documentation: https://pandas.pydata.org/pandas-docs/stable/user_guide/indexing.html#returning-a-view-versus-a-copy\n",
      "  nancy_contents[\"Contenu\"] = labels\n"
     ]
    }
   ],
   "source": [
    "labels = nancy_contents[\"Contenu\"].str.replace(\"\\n\", \"\")\n",
    "nancy_contents[\"Contenu\"] = labels\n",
    "# nancy_contents"
   ]
  },
  {
   "cell_type": "code",
   "execution_count": 75,
   "metadata": {},
   "outputs": [],
   "source": [
    "splits = []"
   ]
  },
  {
   "cell_type": "code",
   "execution_count": 76,
   "metadata": {},
   "outputs": [],
   "source": [
    "def split_labels(text, splits):\n",
    "    text = str(text).lower().replace(\" \", \"\").replace(\"\\r\", \"\").replace(\"vet\", \"vêt\").replace(\"geo\", \"géo\").replace(\"henf\", \"h\").replace(\"explosion\", \"sc\").replace(\"aenf\", \"a\").replace(\"scen\", \"scène\").replace(\"squel\", \"anat\").replace(\"symb\", \"abs\").replace(\"hbarré\", \"h\")\n",
    "    \n",
    "    regex = r\" |/\"\n",
    "    labels = re.split(regex, text)\n",
    "    filter_characters = [\"\", \"+\", \"-\", \"\\\\\", \"+-\", \"+/-\", \"stat\"]   # i am filtering the good and bad form\n",
    "    labels = [label.upper() for label in labels if label not in filter_characters]\n",
    "    splits.append(labels)\n",
    "    \n",
    "    return labels"
   ]
  },
  {
   "cell_type": "code",
   "execution_count": 77,
   "metadata": {},
   "outputs": [],
   "source": [
    "labels_contents = nancy_contents[\"Contenu\"].apply(lambda x: split_labels(x, splits))"
   ]
  },
  {
   "cell_type": "code",
   "execution_count": 78,
   "metadata": {},
   "outputs": [
    {
     "data": {
      "text/plain": [
       "0                         [(A)]\n",
       "1                           [H]\n",
       "2                         [OBJ]\n",
       "3                           [A]\n",
       "4                          [HD]\n",
       "                 ...           \n",
       "375                      [ALIM]\n",
       "376                   [A, ALIM]\n",
       "377    [PAYS, ARCH, ELEM, FRAG]\n",
       "378                         [A]\n",
       "379             [H, NAT, SCÈNE]\n",
       "Name: Contenu, Length: 380, dtype: object"
      ]
     },
     "execution_count": 78,
     "metadata": {},
     "output_type": "execute_result"
    }
   ],
   "source": [
    "labels_contents"
   ]
  },
  {
   "cell_type": "code",
   "execution_count": 79,
   "metadata": {},
   "outputs": [],
   "source": [
    "labels_contents = labels_contents.str.join('|').str.get_dummies()"
   ]
  },
  {
   "cell_type": "code",
   "execution_count": 80,
   "metadata": {},
   "outputs": [
    {
     "data": {
      "text/plain": [
       "Index(['(A)', '(AD)', '(H)', '(HD)', 'A', 'ABS', 'AD', 'ALIM', 'ANAT', 'ARCH',\n",
       "       'ART', 'BOT', 'ELEM', 'FRAG', 'GÉO', 'H', 'HD', 'MQ', 'NAT', 'OBJ',\n",
       "       'PAYS', 'RADIO', 'SC', 'SCÈNE', 'SEX', 'SG', 'VÊT'],\n",
       "      dtype='object')"
      ]
     },
     "execution_count": 80,
     "metadata": {},
     "output_type": "execute_result"
    }
   ],
   "source": [
    "labels_contents.columns"
   ]
  },
  {
   "cell_type": "markdown",
   "metadata": {},
   "source": [
    "aenf not in bible, explosion not in bible, henf not in bible\n",
    "\n",
    "Aenf seems to be just A.\n",
    "\n",
    "Explosion could be SC.\n",
    "\n",
    "Hbarré\n",
    "\n",
    "Scen =? Scène\n",
    "\n",
    "squel = skeleton  = anat?\n",
    "\n",
    "symb = symbolic meanings about death? - chnaged to abs\n"
   ]
  },
  {
   "cell_type": "markdown",
   "metadata": {},
   "source": [
    "#### Resolving the ambiguities\n",
    "\n",
    "Corrected in the .replace() of the function"
   ]
  },
  {
   "cell_type": "code",
   "execution_count": 81,
   "metadata": {},
   "outputs": [
    {
     "data": {
      "text/html": [
       "<div>\n",
       "<style scoped>\n",
       "    .dataframe tbody tr th:only-of-type {\n",
       "        vertical-align: middle;\n",
       "    }\n",
       "\n",
       "    .dataframe tbody tr th {\n",
       "        vertical-align: top;\n",
       "    }\n",
       "\n",
       "    .dataframe thead th {\n",
       "        text-align: right;\n",
       "    }\n",
       "</style>\n",
       "<table border=\"1\" class=\"dataframe\">\n",
       "  <thead>\n",
       "    <tr style=\"text-align: right;\">\n",
       "      <th></th>\n",
       "      <th>Réponse (French)</th>\n",
       "      <th>Answer (English)</th>\n",
       "      <th>Contenu</th>\n",
       "    </tr>\n",
       "  </thead>\n",
       "  <tbody>\n",
       "    <tr>\n",
       "      <th>293</th>\n",
       "      <td>Non c’est pas des cochons… un sorte de lapin, ...</td>\n",
       "      <td>No, it's not pigs... a kind of rabbit, no, don...</td>\n",
       "      <td>Aenf</td>\n",
       "    </tr>\n",
       "  </tbody>\n",
       "</table>\n",
       "</div>"
      ],
      "text/plain": [
       "                                      Réponse (French)  \\\n",
       "293  Non c’est pas des cochons… un sorte de lapin, ...   \n",
       "\n",
       "                                      Answer (English) Contenu  \n",
       "293  No, it's not pigs... a kind of rabbit, no, don...    Aenf  "
      ]
     },
     "execution_count": 81,
     "metadata": {},
     "output_type": "execute_result"
    }
   ],
   "source": [
    "nancy_contents[nancy_contents[\"Contenu\"].str.contains(\"Aenf\")]"
   ]
  },
  {
   "cell_type": "code",
   "execution_count": 82,
   "metadata": {},
   "outputs": [],
   "source": [
    "# nancy_contents.iloc[293][\"Answer (English)\"] "
   ]
  },
  {
   "cell_type": "code",
   "execution_count": 83,
   "metadata": {},
   "outputs": [],
   "source": [
    "# nancy_contents[nancy_contents[\"Contenu\"].str.contains(\"Explosion\")]\n",
    "# nancy_contents.iloc[337][\"Answer (English)\"] #could be sc"
   ]
  },
  {
   "cell_type": "code",
   "execution_count": 84,
   "metadata": {},
   "outputs": [],
   "source": [
    "# nancy_contents[nancy_contents[\"Contenu\"].str.contains(\"Henf\")]\n",
    "# nancy_contents.iloc[23][\"Answer (English)\"] # seems like just H "
   ]
  },
  {
   "cell_type": "code",
   "execution_count": 85,
   "metadata": {},
   "outputs": [],
   "source": [
    "# nancy_contents[nancy_contents[\"Contenu\"].str.contains(\"Henf\")]\n",
    "# nancy_contents.iloc[284][\"Answer (English)\"] # seems like just H "
   ]
  },
  {
   "cell_type": "code",
   "execution_count": 86,
   "metadata": {},
   "outputs": [],
   "source": [
    "# nancy_contents[nancy_contents[\"Contenu\"].str.contains(\"Squel\")]\n",
    "# # nancy_contents.iloc[353][\"Answer (English)\"] #Anat?\n",
    "# # nancy_contents.iloc[53][\"Answer (English)\"]"
   ]
  },
  {
   "cell_type": "code",
   "execution_count": 87,
   "metadata": {},
   "outputs": [],
   "source": [
    "# nancy_contents[nancy_contents[\"Contenu\"].str.contains(\"Symb\")]\n",
    "# nancy_contents.iloc[150][\"Answer (English)\"] #Anat?\n",
    "# nancy_contents.iloc[269][\"Answer (English)\"]\n",
    "# nancy_contents.iloc[272][\"Answer (English)\"]\n",
    "# nancy_contents.iloc[279][\"Answer (English)\"]"
   ]
  },
  {
   "cell_type": "code",
   "execution_count": 88,
   "metadata": {},
   "outputs": [
    {
     "data": {
      "text/plain": [
       "(380, 27)"
      ]
     },
     "execution_count": 88,
     "metadata": {},
     "output_type": "execute_result"
    }
   ],
   "source": [
    "labels_contents.shape"
   ]
  },
  {
   "cell_type": "code",
   "execution_count": 89,
   "metadata": {},
   "outputs": [
    {
     "data": {
      "text/html": [
       "<div>\n",
       "<style scoped>\n",
       "    .dataframe tbody tr th:only-of-type {\n",
       "        vertical-align: middle;\n",
       "    }\n",
       "\n",
       "    .dataframe tbody tr th {\n",
       "        vertical-align: top;\n",
       "    }\n",
       "\n",
       "    .dataframe thead th {\n",
       "        text-align: right;\n",
       "    }\n",
       "</style>\n",
       "<table border=\"1\" class=\"dataframe\">\n",
       "  <thead>\n",
       "    <tr style=\"text-align: right;\">\n",
       "      <th></th>\n",
       "      <th>Réponse (French)</th>\n",
       "      <th>Answer (English)</th>\n",
       "      <th>Contenu</th>\n",
       "      <th>(A)</th>\n",
       "      <th>(AD)</th>\n",
       "      <th>(H)</th>\n",
       "      <th>(HD)</th>\n",
       "      <th>A</th>\n",
       "      <th>ABS</th>\n",
       "      <th>AD</th>\n",
       "      <th>...</th>\n",
       "      <th>MQ</th>\n",
       "      <th>NAT</th>\n",
       "      <th>OBJ</th>\n",
       "      <th>PAYS</th>\n",
       "      <th>RADIO</th>\n",
       "      <th>SC</th>\n",
       "      <th>SCÈNE</th>\n",
       "      <th>SEX</th>\n",
       "      <th>SG</th>\n",
       "      <th>VÊT</th>\n",
       "    </tr>\n",
       "  </thead>\n",
       "  <tbody>\n",
       "    <tr>\n",
       "      <th>0</th>\n",
       "      <td>Moi ça me fait penser à un papillon de nuit a...</td>\n",
       "      <td>It reminds me of a moth with mandibles. It lo...</td>\n",
       "      <td>(A)</td>\n",
       "      <td>1</td>\n",
       "      <td>0</td>\n",
       "      <td>0</td>\n",
       "      <td>0</td>\n",
       "      <td>0</td>\n",
       "      <td>0</td>\n",
       "      <td>0</td>\n",
       "      <td>...</td>\n",
       "      <td>0</td>\n",
       "      <td>0</td>\n",
       "      <td>0</td>\n",
       "      <td>0</td>\n",
       "      <td>0</td>\n",
       "      <td>0</td>\n",
       "      <td>0</td>\n",
       "      <td>0</td>\n",
       "      <td>0</td>\n",
       "      <td>0</td>\n",
       "    </tr>\n",
       "    <tr>\n",
       "      <th>1</th>\n",
       "      <td>Une personne de chaque côté (forcément, c’est ...</td>\n",
       "      <td>One person on each side (obviously, it’s symme...</td>\n",
       "      <td>H</td>\n",
       "      <td>0</td>\n",
       "      <td>0</td>\n",
       "      <td>0</td>\n",
       "      <td>0</td>\n",
       "      <td>0</td>\n",
       "      <td>0</td>\n",
       "      <td>0</td>\n",
       "      <td>...</td>\n",
       "      <td>0</td>\n",
       "      <td>0</td>\n",
       "      <td>0</td>\n",
       "      <td>0</td>\n",
       "      <td>0</td>\n",
       "      <td>0</td>\n",
       "      <td>0</td>\n",
       "      <td>0</td>\n",
       "      <td>0</td>\n",
       "      <td>0</td>\n",
       "    </tr>\n",
       "    <tr>\n",
       "      <th>2</th>\n",
       "      <td>Une casserole sur une gazinière de… de camping...</td>\n",
       "      <td>A saucepan on a…camping gas stove. The gas sto...</td>\n",
       "      <td>Obj</td>\n",
       "      <td>0</td>\n",
       "      <td>0</td>\n",
       "      <td>0</td>\n",
       "      <td>0</td>\n",
       "      <td>0</td>\n",
       "      <td>0</td>\n",
       "      <td>0</td>\n",
       "      <td>...</td>\n",
       "      <td>0</td>\n",
       "      <td>0</td>\n",
       "      <td>1</td>\n",
       "      <td>0</td>\n",
       "      <td>0</td>\n",
       "      <td>0</td>\n",
       "      <td>0</td>\n",
       "      <td>0</td>\n",
       "      <td>0</td>\n",
       "      <td>0</td>\n",
       "    </tr>\n",
       "    <tr>\n",
       "      <th>3</th>\n",
       "      <td>Ah deux lapins qui se tapent la main avec les ...</td>\n",
       "      <td>Ah two rabbits hitting each other's hands with...</td>\n",
       "      <td>A</td>\n",
       "      <td>0</td>\n",
       "      <td>0</td>\n",
       "      <td>0</td>\n",
       "      <td>0</td>\n",
       "      <td>1</td>\n",
       "      <td>0</td>\n",
       "      <td>0</td>\n",
       "      <td>...</td>\n",
       "      <td>0</td>\n",
       "      <td>0</td>\n",
       "      <td>0</td>\n",
       "      <td>0</td>\n",
       "      <td>0</td>\n",
       "      <td>0</td>\n",
       "      <td>0</td>\n",
       "      <td>0</td>\n",
       "      <td>0</td>\n",
       "      <td>0</td>\n",
       "    </tr>\n",
       "    <tr>\n",
       "      <th>4</th>\n",
       "      <td>Et… Une personne avec des grosses lèvres, ses ...</td>\n",
       "      <td>And... A person with big lips, his eyes, his e...</td>\n",
       "      <td>Hd</td>\n",
       "      <td>0</td>\n",
       "      <td>0</td>\n",
       "      <td>0</td>\n",
       "      <td>0</td>\n",
       "      <td>0</td>\n",
       "      <td>0</td>\n",
       "      <td>0</td>\n",
       "      <td>...</td>\n",
       "      <td>0</td>\n",
       "      <td>0</td>\n",
       "      <td>0</td>\n",
       "      <td>0</td>\n",
       "      <td>0</td>\n",
       "      <td>0</td>\n",
       "      <td>0</td>\n",
       "      <td>0</td>\n",
       "      <td>0</td>\n",
       "      <td>0</td>\n",
       "    </tr>\n",
       "    <tr>\n",
       "      <th>...</th>\n",
       "      <td>...</td>\n",
       "      <td>...</td>\n",
       "      <td>...</td>\n",
       "      <td>...</td>\n",
       "      <td>...</td>\n",
       "      <td>...</td>\n",
       "      <td>...</td>\n",
       "      <td>...</td>\n",
       "      <td>...</td>\n",
       "      <td>...</td>\n",
       "      <td>...</td>\n",
       "      <td>...</td>\n",
       "      <td>...</td>\n",
       "      <td>...</td>\n",
       "      <td>...</td>\n",
       "      <td>...</td>\n",
       "      <td>...</td>\n",
       "      <td>...</td>\n",
       "      <td>...</td>\n",
       "      <td>...</td>\n",
       "      <td>...</td>\n",
       "    </tr>\n",
       "    <tr>\n",
       "      <th>375</th>\n",
       "      <td>Tu vois ça, ça me fait\\n penser à des crevette...</td>\n",
       "      <td>You see that, it reminds me\\n reminds me of sh...</td>\n",
       "      <td>Alim</td>\n",
       "      <td>0</td>\n",
       "      <td>0</td>\n",
       "      <td>0</td>\n",
       "      <td>0</td>\n",
       "      <td>0</td>\n",
       "      <td>0</td>\n",
       "      <td>0</td>\n",
       "      <td>...</td>\n",
       "      <td>0</td>\n",
       "      <td>0</td>\n",
       "      <td>0</td>\n",
       "      <td>0</td>\n",
       "      <td>0</td>\n",
       "      <td>0</td>\n",
       "      <td>0</td>\n",
       "      <td>0</td>\n",
       "      <td>0</td>\n",
       "      <td>0</td>\n",
       "    </tr>\n",
       "    <tr>\n",
       "      <th>376</th>\n",
       "      <td>J’arrive vraiment pas à\\n voir l’ensemble, ça,...</td>\n",
       "      <td>I really can't\\n see the whole thing, it makes...</td>\n",
       "      <td>A / Alim</td>\n",
       "      <td>0</td>\n",
       "      <td>0</td>\n",
       "      <td>0</td>\n",
       "      <td>0</td>\n",
       "      <td>1</td>\n",
       "      <td>0</td>\n",
       "      <td>0</td>\n",
       "      <td>...</td>\n",
       "      <td>0</td>\n",
       "      <td>0</td>\n",
       "      <td>0</td>\n",
       "      <td>0</td>\n",
       "      <td>0</td>\n",
       "      <td>0</td>\n",
       "      <td>0</td>\n",
       "      <td>0</td>\n",
       "      <td>0</td>\n",
       "      <td>0</td>\n",
       "    </tr>\n",
       "    <tr>\n",
       "      <th>377</th>\n",
       "      <td>C’est un peu capillotracté\\n un peu après, mai...</td>\n",
       "      <td>It's a bit capillotint\\n a bit afterwards, but...</td>\n",
       "      <td>Pays / arch / Elem / Frag</td>\n",
       "      <td>0</td>\n",
       "      <td>0</td>\n",
       "      <td>0</td>\n",
       "      <td>0</td>\n",
       "      <td>0</td>\n",
       "      <td>0</td>\n",
       "      <td>0</td>\n",
       "      <td>...</td>\n",
       "      <td>0</td>\n",
       "      <td>0</td>\n",
       "      <td>0</td>\n",
       "      <td>1</td>\n",
       "      <td>0</td>\n",
       "      <td>0</td>\n",
       "      <td>0</td>\n",
       "      <td>0</td>\n",
       "      <td>0</td>\n",
       "      <td>0</td>\n",
       "    </tr>\n",
       "    <tr>\n",
       "      <th>378</th>\n",
       "      <td>: Là ça me fait penser à une\\n chèvre (rires),...</td>\n",
       "      <td>: It reminds me of a goat\\n goat (laughs), and...</td>\n",
       "      <td>A</td>\n",
       "      <td>0</td>\n",
       "      <td>0</td>\n",
       "      <td>0</td>\n",
       "      <td>0</td>\n",
       "      <td>1</td>\n",
       "      <td>0</td>\n",
       "      <td>0</td>\n",
       "      <td>...</td>\n",
       "      <td>0</td>\n",
       "      <td>0</td>\n",
       "      <td>0</td>\n",
       "      <td>0</td>\n",
       "      <td>0</td>\n",
       "      <td>0</td>\n",
       "      <td>0</td>\n",
       "      <td>0</td>\n",
       "      <td>0</td>\n",
       "      <td>0</td>\n",
       "    </tr>\n",
       "    <tr>\n",
       "      <th>379</th>\n",
       "      <td>T’as un gouffre tu vois,\\n t’as le bord du gou...</td>\n",
       "      <td>You've got a chasm, you see,\\n you've got the ...</td>\n",
       "      <td>H / Nat /Scène</td>\n",
       "      <td>0</td>\n",
       "      <td>0</td>\n",
       "      <td>0</td>\n",
       "      <td>0</td>\n",
       "      <td>0</td>\n",
       "      <td>0</td>\n",
       "      <td>0</td>\n",
       "      <td>...</td>\n",
       "      <td>0</td>\n",
       "      <td>1</td>\n",
       "      <td>0</td>\n",
       "      <td>0</td>\n",
       "      <td>0</td>\n",
       "      <td>0</td>\n",
       "      <td>1</td>\n",
       "      <td>0</td>\n",
       "      <td>0</td>\n",
       "      <td>0</td>\n",
       "    </tr>\n",
       "  </tbody>\n",
       "</table>\n",
       "<p>380 rows × 30 columns</p>\n",
       "</div>"
      ],
      "text/plain": [
       "                                      Réponse (French)  \\\n",
       "0     Moi ça me fait penser à un papillon de nuit a...   \n",
       "1    Une personne de chaque côté (forcément, c’est ...   \n",
       "2    Une casserole sur une gazinière de… de camping...   \n",
       "3    Ah deux lapins qui se tapent la main avec les ...   \n",
       "4    Et… Une personne avec des grosses lèvres, ses ...   \n",
       "..                                                 ...   \n",
       "375  Tu vois ça, ça me fait\\n penser à des crevette...   \n",
       "376  J’arrive vraiment pas à\\n voir l’ensemble, ça,...   \n",
       "377  C’est un peu capillotracté\\n un peu après, mai...   \n",
       "378  : Là ça me fait penser à une\\n chèvre (rires),...   \n",
       "379  T’as un gouffre tu vois,\\n t’as le bord du gou...   \n",
       "\n",
       "                                      Answer (English)  \\\n",
       "0     It reminds me of a moth with mandibles. It lo...   \n",
       "1    One person on each side (obviously, it’s symme...   \n",
       "2    A saucepan on a…camping gas stove. The gas sto...   \n",
       "3    Ah two rabbits hitting each other's hands with...   \n",
       "4    And... A person with big lips, his eyes, his e...   \n",
       "..                                                 ...   \n",
       "375  You see that, it reminds me\\n reminds me of sh...   \n",
       "376  I really can't\\n see the whole thing, it makes...   \n",
       "377  It's a bit capillotint\\n a bit afterwards, but...   \n",
       "378  : It reminds me of a goat\\n goat (laughs), and...   \n",
       "379  You've got a chasm, you see,\\n you've got the ...   \n",
       "\n",
       "                       Contenu  (A)  (AD)  (H)  (HD)  A  ABS  AD  ...  MQ  \\\n",
       "0                          (A)    1     0    0     0  0    0   0  ...   0   \n",
       "1                            H    0     0    0     0  0    0   0  ...   0   \n",
       "2                          Obj    0     0    0     0  0    0   0  ...   0   \n",
       "3                            A    0     0    0     0  1    0   0  ...   0   \n",
       "4                           Hd    0     0    0     0  0    0   0  ...   0   \n",
       "..                         ...  ...   ...  ...   ... ..  ...  ..  ...  ..   \n",
       "375                       Alim    0     0    0     0  0    0   0  ...   0   \n",
       "376                   A / Alim    0     0    0     0  1    0   0  ...   0   \n",
       "377  Pays / arch / Elem / Frag    0     0    0     0  0    0   0  ...   0   \n",
       "378                          A    0     0    0     0  1    0   0  ...   0   \n",
       "379             H / Nat /Scène    0     0    0     0  0    0   0  ...   0   \n",
       "\n",
       "     NAT  OBJ  PAYS  RADIO  SC  SCÈNE  SEX  SG  VÊT  \n",
       "0      0    0     0      0   0      0    0   0    0  \n",
       "1      0    0     0      0   0      0    0   0    0  \n",
       "2      0    1     0      0   0      0    0   0    0  \n",
       "3      0    0     0      0   0      0    0   0    0  \n",
       "4      0    0     0      0   0      0    0   0    0  \n",
       "..   ...  ...   ...    ...  ..    ...  ...  ..  ...  \n",
       "375    0    0     0      0   0      0    0   0    0  \n",
       "376    0    0     0      0   0      0    0   0    0  \n",
       "377    0    0     1      0   0      0    0   0    0  \n",
       "378    0    0     0      0   0      0    0   0    0  \n",
       "379    1    0     0      0   0      1    0   0    0  \n",
       "\n",
       "[380 rows x 30 columns]"
      ]
     },
     "execution_count": 89,
     "metadata": {},
     "output_type": "execute_result"
    }
   ],
   "source": [
    "nancy_contents = pd.concat([nancy_contents, labels_contents], axis=1)\n",
    "nancy_contents"
   ]
  },
  {
   "cell_type": "code",
   "execution_count": 90,
   "metadata": {},
   "outputs": [],
   "source": [
    "nancy_contents.to_csv(\"nancy_contents.csv\", index = False)"
   ]
  },
  {
   "cell_type": "markdown",
   "metadata": {},
   "source": [
    "### Determinant labels"
   ]
  },
  {
   "cell_type": "code",
   "execution_count": 91,
   "metadata": {},
   "outputs": [
    {
     "data": {
      "text/plain": [
       "Déterminant\n",
       "F-        82\n",
       "F+        55\n",
       "FC-       12\n",
       "FC’-       8\n",
       "F+/-       8\n",
       "          ..\n",
       "Fclob-     1\n",
       "Kclob-     1\n",
       "EF+/-      1\n",
       "F- C       1\n",
       "KE-        1\n",
       "Name: count, Length: 114, dtype: int64"
      ]
     },
     "execution_count": 91,
     "metadata": {},
     "output_type": "execute_result"
    }
   ],
   "source": [
    "nancy_determinants[\"Déterminant\"].value_counts()"
   ]
  },
  {
   "cell_type": "code",
   "execution_count": 92,
   "metadata": {},
   "outputs": [],
   "source": [
    "ex = \"KobE C'-\""
   ]
  },
  {
   "cell_type": "code",
   "execution_count": 93,
   "metadata": {},
   "outputs": [],
   "source": [
    "splits = []"
   ]
  },
  {
   "cell_type": "markdown",
   "metadata": {},
   "source": [
    "Important! I am taking away tge +- for now to make the splits easier"
   ]
  },
  {
   "cell_type": "code",
   "execution_count": 94,
   "metadata": {},
   "outputs": [],
   "source": [
    "def split_labels(text,splits):\n",
    "    text = str(text).replace(\" \", \"\").replace(\"\\r\", \"\").replace(\"\\n\", \"\").replace(\"'\", \"'\").replace(\"’\", \"'\").replace(\"+\", \"\").replace(\"-\", \"\").replace(\"\\\\\", \"\").replace(\"/\", \"\").lower()\n",
    "    # regex either one uppercase letter or a couple of lower case letters\n",
    "    # + and - symbols\n",
    "    # ' character\n",
    "\n",
    "    regex = r\"( |fclob|clobf|clob|kob|kan|kp|k|fc'|c'f|cf'|cf|fc|fe|ef|e)\"\n",
    "    labels = re.split(regex, text)\n",
    "    filter_characters = [\"\", \"+\", \"-\", \"\\\\\", \"+-\", \"+/-\", \"stat\"]   # i am filtering the good and bad form\n",
    "    labels = [label.upper() for label in labels if label not in filter_characters]\n",
    "    splits.append(labels)\n",
    "    return labels"
   ]
  },
  {
   "cell_type": "code",
   "execution_count": 95,
   "metadata": {},
   "outputs": [
    {
     "data": {
      "text/plain": [
       "['KOB', 'E', \"C'\"]"
      ]
     },
     "execution_count": 95,
     "metadata": {},
     "output_type": "execute_result"
    }
   ],
   "source": [
    "split_labels(ex, splits) # we would get a positive class in each of these labels"
   ]
  },
  {
   "cell_type": "code",
   "execution_count": 96,
   "metadata": {},
   "outputs": [
    {
     "data": {
      "text/plain": [
       "0         [FC']\n",
       "1           [K]\n",
       "2          [FE]\n",
       "3         [KAN]\n",
       "4          [EF]\n",
       "         ...   \n",
       "375        [CF]\n",
       "376        [FC]\n",
       "377    [KOB, E]\n",
       "378       [FC']\n",
       "379      [K, E]\n",
       "Name: Déterminant, Length: 380, dtype: object"
      ]
     },
     "execution_count": 96,
     "metadata": {},
     "output_type": "execute_result"
    }
   ],
   "source": [
    "labels_determinants = nancy_determinants[\"Déterminant\"].apply(lambda x: split_labels(x, splits))\n",
    "labels_determinants"
   ]
  },
  {
   "cell_type": "code",
   "execution_count": 97,
   "metadata": {},
   "outputs": [],
   "source": [
    "labels_determinants = labels_determinants.str.join('|').str.get_dummies()"
   ]
  },
  {
   "cell_type": "code",
   "execution_count": 98,
   "metadata": {},
   "outputs": [
    {
     "data": {
      "text/plain": [
       "Index(['C', 'C'', 'C'F', 'CF', 'CF'', 'CLOB', 'CLOBF', 'E', 'EF', 'F', 'FC',\n",
       "       'FC'', 'FCLOB', 'FE', 'K', 'KAN', 'KOB', 'KP'],\n",
       "      dtype='object')"
      ]
     },
     "execution_count": 98,
     "metadata": {},
     "output_type": "execute_result"
    }
   ],
   "source": [
    "labels_determinants.columns"
   ]
  },
  {
   "cell_type": "code",
   "execution_count": 99,
   "metadata": {},
   "outputs": [],
   "source": [
    "for l in splits:\n",
    "    if \"'\" in l:\n",
    "        print(l)"
   ]
  },
  {
   "cell_type": "code",
   "execution_count": 100,
   "metadata": {},
   "outputs": [
    {
     "data": {
      "text/html": [
       "<div>\n",
       "<style scoped>\n",
       "    .dataframe tbody tr th:only-of-type {\n",
       "        vertical-align: middle;\n",
       "    }\n",
       "\n",
       "    .dataframe tbody tr th {\n",
       "        vertical-align: top;\n",
       "    }\n",
       "\n",
       "    .dataframe thead th {\n",
       "        text-align: right;\n",
       "    }\n",
       "</style>\n",
       "<table border=\"1\" class=\"dataframe\">\n",
       "  <thead>\n",
       "    <tr style=\"text-align: right;\">\n",
       "      <th></th>\n",
       "      <th>Réponse (French)</th>\n",
       "      <th>Answer (English)</th>\n",
       "      <th>Déterminant</th>\n",
       "    </tr>\n",
       "  </thead>\n",
       "  <tbody>\n",
       "    <tr>\n",
       "      <th>243</th>\n",
       "      <td>Une tache d'encre non de sang... ouais</td>\n",
       "      <td>An ink stain not blood...yeah</td>\n",
       "      <td>CF'</td>\n",
       "    </tr>\n",
       "    <tr>\n",
       "      <th>271</th>\n",
       "      <td>Hm … Je sais pas … ça m’angoisse un peu … l’im...</td>\n",
       "      <td>Hm... I don't know... it worries me a little.....</td>\n",
       "      <td>CF'</td>\n",
       "    </tr>\n",
       "  </tbody>\n",
       "</table>\n",
       "</div>"
      ],
      "text/plain": [
       "                                      Réponse (French)  \\\n",
       "243             Une tache d'encre non de sang... ouais   \n",
       "271  Hm … Je sais pas … ça m’angoisse un peu … l’im...   \n",
       "\n",
       "                                      Answer (English) Déterminant  \n",
       "243                      An ink stain not blood...yeah         CF'  \n",
       "271  Hm... I don't know... it worries me a little.....         CF'  "
      ]
     },
     "execution_count": 100,
     "metadata": {},
     "output_type": "execute_result"
    }
   ],
   "source": [
    "nancy_determinants[nancy_determinants[\"Déterminant\"].str.contains(\"CF'\")]"
   ]
  },
  {
   "cell_type": "code",
   "execution_count": 101,
   "metadata": {},
   "outputs": [
    {
     "data": {
      "text/html": [
       "<div>\n",
       "<style scoped>\n",
       "    .dataframe tbody tr th:only-of-type {\n",
       "        vertical-align: middle;\n",
       "    }\n",
       "\n",
       "    .dataframe tbody tr th {\n",
       "        vertical-align: top;\n",
       "    }\n",
       "\n",
       "    .dataframe thead th {\n",
       "        text-align: right;\n",
       "    }\n",
       "</style>\n",
       "<table border=\"1\" class=\"dataframe\">\n",
       "  <thead>\n",
       "    <tr style=\"text-align: right;\">\n",
       "      <th></th>\n",
       "      <th>Réponse (French)</th>\n",
       "      <th>Answer (English)</th>\n",
       "      <th>Déterminant</th>\n",
       "      <th>C</th>\n",
       "      <th>C'</th>\n",
       "      <th>C'F</th>\n",
       "      <th>CF</th>\n",
       "      <th>CF'</th>\n",
       "      <th>CLOB</th>\n",
       "      <th>CLOBF</th>\n",
       "      <th>...</th>\n",
       "      <th>EF</th>\n",
       "      <th>F</th>\n",
       "      <th>FC</th>\n",
       "      <th>FC'</th>\n",
       "      <th>FCLOB</th>\n",
       "      <th>FE</th>\n",
       "      <th>K</th>\n",
       "      <th>KAN</th>\n",
       "      <th>KOB</th>\n",
       "      <th>KP</th>\n",
       "    </tr>\n",
       "  </thead>\n",
       "  <tbody>\n",
       "    <tr>\n",
       "      <th>0</th>\n",
       "      <td>Moi ça me fait penser à un papillon de nuit a...</td>\n",
       "      <td>It reminds me of a moth with mandibles. It lo...</td>\n",
       "      <td>FC'+</td>\n",
       "      <td>0</td>\n",
       "      <td>0</td>\n",
       "      <td>0</td>\n",
       "      <td>0</td>\n",
       "      <td>0</td>\n",
       "      <td>0</td>\n",
       "      <td>0</td>\n",
       "      <td>...</td>\n",
       "      <td>0</td>\n",
       "      <td>0</td>\n",
       "      <td>0</td>\n",
       "      <td>1</td>\n",
       "      <td>0</td>\n",
       "      <td>0</td>\n",
       "      <td>0</td>\n",
       "      <td>0</td>\n",
       "      <td>0</td>\n",
       "      <td>0</td>\n",
       "    </tr>\n",
       "    <tr>\n",
       "      <th>1</th>\n",
       "      <td>Une personne de chaque côté (forcément, c’est ...</td>\n",
       "      <td>One person on each side (obviously, it’s symme...</td>\n",
       "      <td>K+</td>\n",
       "      <td>0</td>\n",
       "      <td>0</td>\n",
       "      <td>0</td>\n",
       "      <td>0</td>\n",
       "      <td>0</td>\n",
       "      <td>0</td>\n",
       "      <td>0</td>\n",
       "      <td>...</td>\n",
       "      <td>0</td>\n",
       "      <td>0</td>\n",
       "      <td>0</td>\n",
       "      <td>0</td>\n",
       "      <td>0</td>\n",
       "      <td>0</td>\n",
       "      <td>1</td>\n",
       "      <td>0</td>\n",
       "      <td>0</td>\n",
       "      <td>0</td>\n",
       "    </tr>\n",
       "    <tr>\n",
       "      <th>2</th>\n",
       "      <td>Une casserole sur une gazinière de… de camping...</td>\n",
       "      <td>A saucepan on a…camping gas stove. The gas sto...</td>\n",
       "      <td>FE-</td>\n",
       "      <td>0</td>\n",
       "      <td>0</td>\n",
       "      <td>0</td>\n",
       "      <td>0</td>\n",
       "      <td>0</td>\n",
       "      <td>0</td>\n",
       "      <td>0</td>\n",
       "      <td>...</td>\n",
       "      <td>0</td>\n",
       "      <td>0</td>\n",
       "      <td>0</td>\n",
       "      <td>0</td>\n",
       "      <td>0</td>\n",
       "      <td>1</td>\n",
       "      <td>0</td>\n",
       "      <td>0</td>\n",
       "      <td>0</td>\n",
       "      <td>0</td>\n",
       "    </tr>\n",
       "    <tr>\n",
       "      <th>3</th>\n",
       "      <td>Ah deux lapins qui se tapent la main avec les ...</td>\n",
       "      <td>Ah two rabbits hitting each other's hands with...</td>\n",
       "      <td>kan</td>\n",
       "      <td>0</td>\n",
       "      <td>0</td>\n",
       "      <td>0</td>\n",
       "      <td>0</td>\n",
       "      <td>0</td>\n",
       "      <td>0</td>\n",
       "      <td>0</td>\n",
       "      <td>...</td>\n",
       "      <td>0</td>\n",
       "      <td>0</td>\n",
       "      <td>0</td>\n",
       "      <td>0</td>\n",
       "      <td>0</td>\n",
       "      <td>0</td>\n",
       "      <td>0</td>\n",
       "      <td>1</td>\n",
       "      <td>0</td>\n",
       "      <td>0</td>\n",
       "    </tr>\n",
       "    <tr>\n",
       "      <th>4</th>\n",
       "      <td>Et… Une personne avec des grosses lèvres, ses ...</td>\n",
       "      <td>And... A person with big lips, his eyes, his e...</td>\n",
       "      <td>EF</td>\n",
       "      <td>0</td>\n",
       "      <td>0</td>\n",
       "      <td>0</td>\n",
       "      <td>0</td>\n",
       "      <td>0</td>\n",
       "      <td>0</td>\n",
       "      <td>0</td>\n",
       "      <td>...</td>\n",
       "      <td>1</td>\n",
       "      <td>0</td>\n",
       "      <td>0</td>\n",
       "      <td>0</td>\n",
       "      <td>0</td>\n",
       "      <td>0</td>\n",
       "      <td>0</td>\n",
       "      <td>0</td>\n",
       "      <td>0</td>\n",
       "      <td>0</td>\n",
       "    </tr>\n",
       "    <tr>\n",
       "      <th>...</th>\n",
       "      <td>...</td>\n",
       "      <td>...</td>\n",
       "      <td>...</td>\n",
       "      <td>...</td>\n",
       "      <td>...</td>\n",
       "      <td>...</td>\n",
       "      <td>...</td>\n",
       "      <td>...</td>\n",
       "      <td>...</td>\n",
       "      <td>...</td>\n",
       "      <td>...</td>\n",
       "      <td>...</td>\n",
       "      <td>...</td>\n",
       "      <td>...</td>\n",
       "      <td>...</td>\n",
       "      <td>...</td>\n",
       "      <td>...</td>\n",
       "      <td>...</td>\n",
       "      <td>...</td>\n",
       "      <td>...</td>\n",
       "      <td>...</td>\n",
       "    </tr>\n",
       "    <tr>\n",
       "      <th>375</th>\n",
       "      <td>Tu vois ça, ça me fait\\n penser à des crevette...</td>\n",
       "      <td>You see that, it reminds me\\n reminds me of sh...</td>\n",
       "      <td>CF-</td>\n",
       "      <td>0</td>\n",
       "      <td>0</td>\n",
       "      <td>0</td>\n",
       "      <td>1</td>\n",
       "      <td>0</td>\n",
       "      <td>0</td>\n",
       "      <td>0</td>\n",
       "      <td>...</td>\n",
       "      <td>0</td>\n",
       "      <td>0</td>\n",
       "      <td>0</td>\n",
       "      <td>0</td>\n",
       "      <td>0</td>\n",
       "      <td>0</td>\n",
       "      <td>0</td>\n",
       "      <td>0</td>\n",
       "      <td>0</td>\n",
       "      <td>0</td>\n",
       "    </tr>\n",
       "    <tr>\n",
       "      <th>376</th>\n",
       "      <td>J’arrive vraiment pas à\\n voir l’ensemble, ça,...</td>\n",
       "      <td>I really can't\\n see the whole thing, it makes...</td>\n",
       "      <td>FC +</td>\n",
       "      <td>0</td>\n",
       "      <td>0</td>\n",
       "      <td>0</td>\n",
       "      <td>0</td>\n",
       "      <td>0</td>\n",
       "      <td>0</td>\n",
       "      <td>0</td>\n",
       "      <td>...</td>\n",
       "      <td>0</td>\n",
       "      <td>0</td>\n",
       "      <td>1</td>\n",
       "      <td>0</td>\n",
       "      <td>0</td>\n",
       "      <td>0</td>\n",
       "      <td>0</td>\n",
       "      <td>0</td>\n",
       "      <td>0</td>\n",
       "      <td>0</td>\n",
       "    </tr>\n",
       "    <tr>\n",
       "      <th>377</th>\n",
       "      <td>C’est un peu capillotracté\\n un peu après, mai...</td>\n",
       "      <td>It's a bit capillotint\\n a bit afterwards, but...</td>\n",
       "      <td>kobE-</td>\n",
       "      <td>0</td>\n",
       "      <td>0</td>\n",
       "      <td>0</td>\n",
       "      <td>0</td>\n",
       "      <td>0</td>\n",
       "      <td>0</td>\n",
       "      <td>0</td>\n",
       "      <td>...</td>\n",
       "      <td>0</td>\n",
       "      <td>0</td>\n",
       "      <td>0</td>\n",
       "      <td>0</td>\n",
       "      <td>0</td>\n",
       "      <td>0</td>\n",
       "      <td>0</td>\n",
       "      <td>0</td>\n",
       "      <td>1</td>\n",
       "      <td>0</td>\n",
       "    </tr>\n",
       "    <tr>\n",
       "      <th>378</th>\n",
       "      <td>: Là ça me fait penser à une\\n chèvre (rires),...</td>\n",
       "      <td>: It reminds me of a goat\\n goat (laughs), and...</td>\n",
       "      <td>FC’-</td>\n",
       "      <td>0</td>\n",
       "      <td>0</td>\n",
       "      <td>0</td>\n",
       "      <td>0</td>\n",
       "      <td>0</td>\n",
       "      <td>0</td>\n",
       "      <td>0</td>\n",
       "      <td>...</td>\n",
       "      <td>0</td>\n",
       "      <td>0</td>\n",
       "      <td>0</td>\n",
       "      <td>1</td>\n",
       "      <td>0</td>\n",
       "      <td>0</td>\n",
       "      <td>0</td>\n",
       "      <td>0</td>\n",
       "      <td>0</td>\n",
       "      <td>0</td>\n",
       "    </tr>\n",
       "    <tr>\n",
       "      <th>379</th>\n",
       "      <td>T’as un gouffre tu vois,\\n t’as le bord du gou...</td>\n",
       "      <td>You've got a chasm, you see,\\n you've got the ...</td>\n",
       "      <td>KE-</td>\n",
       "      <td>0</td>\n",
       "      <td>0</td>\n",
       "      <td>0</td>\n",
       "      <td>0</td>\n",
       "      <td>0</td>\n",
       "      <td>0</td>\n",
       "      <td>0</td>\n",
       "      <td>...</td>\n",
       "      <td>0</td>\n",
       "      <td>0</td>\n",
       "      <td>0</td>\n",
       "      <td>0</td>\n",
       "      <td>0</td>\n",
       "      <td>0</td>\n",
       "      <td>1</td>\n",
       "      <td>0</td>\n",
       "      <td>0</td>\n",
       "      <td>0</td>\n",
       "    </tr>\n",
       "  </tbody>\n",
       "</table>\n",
       "<p>380 rows × 21 columns</p>\n",
       "</div>"
      ],
      "text/plain": [
       "                                      Réponse (French)  \\\n",
       "0     Moi ça me fait penser à un papillon de nuit a...   \n",
       "1    Une personne de chaque côté (forcément, c’est ...   \n",
       "2    Une casserole sur une gazinière de… de camping...   \n",
       "3    Ah deux lapins qui se tapent la main avec les ...   \n",
       "4    Et… Une personne avec des grosses lèvres, ses ...   \n",
       "..                                                 ...   \n",
       "375  Tu vois ça, ça me fait\\n penser à des crevette...   \n",
       "376  J’arrive vraiment pas à\\n voir l’ensemble, ça,...   \n",
       "377  C’est un peu capillotracté\\n un peu après, mai...   \n",
       "378  : Là ça me fait penser à une\\n chèvre (rires),...   \n",
       "379  T’as un gouffre tu vois,\\n t’as le bord du gou...   \n",
       "\n",
       "                                      Answer (English) Déterminant  C  C'  \\\n",
       "0     It reminds me of a moth with mandibles. It lo...        FC'+  0   0   \n",
       "1    One person on each side (obviously, it’s symme...          K+  0   0   \n",
       "2    A saucepan on a…camping gas stove. The gas sto...         FE-  0   0   \n",
       "3    Ah two rabbits hitting each other's hands with...         kan  0   0   \n",
       "4    And... A person with big lips, his eyes, his e...          EF  0   0   \n",
       "..                                                 ...         ... ..  ..   \n",
       "375  You see that, it reminds me\\n reminds me of sh...         CF-  0   0   \n",
       "376  I really can't\\n see the whole thing, it makes...        FC +  0   0   \n",
       "377  It's a bit capillotint\\n a bit afterwards, but...       kobE-  0   0   \n",
       "378  : It reminds me of a goat\\n goat (laughs), and...        FC’-  0   0   \n",
       "379  You've got a chasm, you see,\\n you've got the ...         KE-  0   0   \n",
       "\n",
       "     C'F  CF  CF'  CLOB  CLOBF  ...  EF  F  FC  FC'  FCLOB  FE  K  KAN  KOB  \\\n",
       "0      0   0    0     0      0  ...   0  0   0    1      0   0  0    0    0   \n",
       "1      0   0    0     0      0  ...   0  0   0    0      0   0  1    0    0   \n",
       "2      0   0    0     0      0  ...   0  0   0    0      0   1  0    0    0   \n",
       "3      0   0    0     0      0  ...   0  0   0    0      0   0  0    1    0   \n",
       "4      0   0    0     0      0  ...   1  0   0    0      0   0  0    0    0   \n",
       "..   ...  ..  ...   ...    ...  ...  .. ..  ..  ...    ...  .. ..  ...  ...   \n",
       "375    0   1    0     0      0  ...   0  0   0    0      0   0  0    0    0   \n",
       "376    0   0    0     0      0  ...   0  0   1    0      0   0  0    0    0   \n",
       "377    0   0    0     0      0  ...   0  0   0    0      0   0  0    0    1   \n",
       "378    0   0    0     0      0  ...   0  0   0    1      0   0  0    0    0   \n",
       "379    0   0    0     0      0  ...   0  0   0    0      0   0  1    0    0   \n",
       "\n",
       "     KP  \n",
       "0     0  \n",
       "1     0  \n",
       "2     0  \n",
       "3     0  \n",
       "4     0  \n",
       "..   ..  \n",
       "375   0  \n",
       "376   0  \n",
       "377   0  \n",
       "378   0  \n",
       "379   0  \n",
       "\n",
       "[380 rows x 21 columns]"
      ]
     },
     "execution_count": 101,
     "metadata": {},
     "output_type": "execute_result"
    }
   ],
   "source": [
    "nancy_determinants = pd.concat([nancy_determinants, labels_determinants], axis=1)\n",
    "nancy_determinants"
   ]
  },
  {
   "cell_type": "code",
   "execution_count": 102,
   "metadata": {},
   "outputs": [],
   "source": [
    "nancy_determinants.to_csv(\"nancy_determinants.csv\", index = False)"
   ]
  },
  {
   "cell_type": "markdown",
   "metadata": {},
   "source": [
    "# Content labels distribution"
   ]
  },
  {
   "cell_type": "code",
   "execution_count": 103,
   "metadata": {},
   "outputs": [
    {
     "data": {
      "text/html": [
       "<div>\n",
       "<style scoped>\n",
       "    .dataframe tbody tr th:only-of-type {\n",
       "        vertical-align: middle;\n",
       "    }\n",
       "\n",
       "    .dataframe tbody tr th {\n",
       "        vertical-align: top;\n",
       "    }\n",
       "\n",
       "    .dataframe thead th {\n",
       "        text-align: right;\n",
       "    }\n",
       "</style>\n",
       "<table border=\"1\" class=\"dataframe\">\n",
       "  <thead>\n",
       "    <tr style=\"text-align: right;\">\n",
       "      <th></th>\n",
       "      <th>(A)</th>\n",
       "      <th>(AD)</th>\n",
       "      <th>(H)</th>\n",
       "      <th>(HD)</th>\n",
       "      <th>A</th>\n",
       "      <th>ABS</th>\n",
       "      <th>AD</th>\n",
       "      <th>ALIM</th>\n",
       "      <th>ANAT</th>\n",
       "      <th>ARCH</th>\n",
       "      <th>...</th>\n",
       "      <th>MQ</th>\n",
       "      <th>NAT</th>\n",
       "      <th>OBJ</th>\n",
       "      <th>PAYS</th>\n",
       "      <th>RADIO</th>\n",
       "      <th>SC</th>\n",
       "      <th>SCÈNE</th>\n",
       "      <th>SEX</th>\n",
       "      <th>SG</th>\n",
       "      <th>VÊT</th>\n",
       "    </tr>\n",
       "  </thead>\n",
       "  <tbody>\n",
       "    <tr>\n",
       "      <th>0</th>\n",
       "      <td>1</td>\n",
       "      <td>0</td>\n",
       "      <td>0</td>\n",
       "      <td>0</td>\n",
       "      <td>0</td>\n",
       "      <td>0</td>\n",
       "      <td>0</td>\n",
       "      <td>0</td>\n",
       "      <td>0</td>\n",
       "      <td>0</td>\n",
       "      <td>...</td>\n",
       "      <td>0</td>\n",
       "      <td>0</td>\n",
       "      <td>0</td>\n",
       "      <td>0</td>\n",
       "      <td>0</td>\n",
       "      <td>0</td>\n",
       "      <td>0</td>\n",
       "      <td>0</td>\n",
       "      <td>0</td>\n",
       "      <td>0</td>\n",
       "    </tr>\n",
       "    <tr>\n",
       "      <th>1</th>\n",
       "      <td>0</td>\n",
       "      <td>0</td>\n",
       "      <td>0</td>\n",
       "      <td>0</td>\n",
       "      <td>0</td>\n",
       "      <td>0</td>\n",
       "      <td>0</td>\n",
       "      <td>0</td>\n",
       "      <td>0</td>\n",
       "      <td>0</td>\n",
       "      <td>...</td>\n",
       "      <td>0</td>\n",
       "      <td>0</td>\n",
       "      <td>0</td>\n",
       "      <td>0</td>\n",
       "      <td>0</td>\n",
       "      <td>0</td>\n",
       "      <td>0</td>\n",
       "      <td>0</td>\n",
       "      <td>0</td>\n",
       "      <td>0</td>\n",
       "    </tr>\n",
       "    <tr>\n",
       "      <th>2</th>\n",
       "      <td>0</td>\n",
       "      <td>0</td>\n",
       "      <td>0</td>\n",
       "      <td>0</td>\n",
       "      <td>0</td>\n",
       "      <td>0</td>\n",
       "      <td>0</td>\n",
       "      <td>0</td>\n",
       "      <td>0</td>\n",
       "      <td>0</td>\n",
       "      <td>...</td>\n",
       "      <td>0</td>\n",
       "      <td>0</td>\n",
       "      <td>1</td>\n",
       "      <td>0</td>\n",
       "      <td>0</td>\n",
       "      <td>0</td>\n",
       "      <td>0</td>\n",
       "      <td>0</td>\n",
       "      <td>0</td>\n",
       "      <td>0</td>\n",
       "    </tr>\n",
       "    <tr>\n",
       "      <th>3</th>\n",
       "      <td>0</td>\n",
       "      <td>0</td>\n",
       "      <td>0</td>\n",
       "      <td>0</td>\n",
       "      <td>1</td>\n",
       "      <td>0</td>\n",
       "      <td>0</td>\n",
       "      <td>0</td>\n",
       "      <td>0</td>\n",
       "      <td>0</td>\n",
       "      <td>...</td>\n",
       "      <td>0</td>\n",
       "      <td>0</td>\n",
       "      <td>0</td>\n",
       "      <td>0</td>\n",
       "      <td>0</td>\n",
       "      <td>0</td>\n",
       "      <td>0</td>\n",
       "      <td>0</td>\n",
       "      <td>0</td>\n",
       "      <td>0</td>\n",
       "    </tr>\n",
       "    <tr>\n",
       "      <th>4</th>\n",
       "      <td>0</td>\n",
       "      <td>0</td>\n",
       "      <td>0</td>\n",
       "      <td>0</td>\n",
       "      <td>0</td>\n",
       "      <td>0</td>\n",
       "      <td>0</td>\n",
       "      <td>0</td>\n",
       "      <td>0</td>\n",
       "      <td>0</td>\n",
       "      <td>...</td>\n",
       "      <td>0</td>\n",
       "      <td>0</td>\n",
       "      <td>0</td>\n",
       "      <td>0</td>\n",
       "      <td>0</td>\n",
       "      <td>0</td>\n",
       "      <td>0</td>\n",
       "      <td>0</td>\n",
       "      <td>0</td>\n",
       "      <td>0</td>\n",
       "    </tr>\n",
       "    <tr>\n",
       "      <th>...</th>\n",
       "      <td>...</td>\n",
       "      <td>...</td>\n",
       "      <td>...</td>\n",
       "      <td>...</td>\n",
       "      <td>...</td>\n",
       "      <td>...</td>\n",
       "      <td>...</td>\n",
       "      <td>...</td>\n",
       "      <td>...</td>\n",
       "      <td>...</td>\n",
       "      <td>...</td>\n",
       "      <td>...</td>\n",
       "      <td>...</td>\n",
       "      <td>...</td>\n",
       "      <td>...</td>\n",
       "      <td>...</td>\n",
       "      <td>...</td>\n",
       "      <td>...</td>\n",
       "      <td>...</td>\n",
       "      <td>...</td>\n",
       "      <td>...</td>\n",
       "    </tr>\n",
       "    <tr>\n",
       "      <th>375</th>\n",
       "      <td>0</td>\n",
       "      <td>0</td>\n",
       "      <td>0</td>\n",
       "      <td>0</td>\n",
       "      <td>0</td>\n",
       "      <td>0</td>\n",
       "      <td>0</td>\n",
       "      <td>1</td>\n",
       "      <td>0</td>\n",
       "      <td>0</td>\n",
       "      <td>...</td>\n",
       "      <td>0</td>\n",
       "      <td>0</td>\n",
       "      <td>0</td>\n",
       "      <td>0</td>\n",
       "      <td>0</td>\n",
       "      <td>0</td>\n",
       "      <td>0</td>\n",
       "      <td>0</td>\n",
       "      <td>0</td>\n",
       "      <td>0</td>\n",
       "    </tr>\n",
       "    <tr>\n",
       "      <th>376</th>\n",
       "      <td>0</td>\n",
       "      <td>0</td>\n",
       "      <td>0</td>\n",
       "      <td>0</td>\n",
       "      <td>1</td>\n",
       "      <td>0</td>\n",
       "      <td>0</td>\n",
       "      <td>1</td>\n",
       "      <td>0</td>\n",
       "      <td>0</td>\n",
       "      <td>...</td>\n",
       "      <td>0</td>\n",
       "      <td>0</td>\n",
       "      <td>0</td>\n",
       "      <td>0</td>\n",
       "      <td>0</td>\n",
       "      <td>0</td>\n",
       "      <td>0</td>\n",
       "      <td>0</td>\n",
       "      <td>0</td>\n",
       "      <td>0</td>\n",
       "    </tr>\n",
       "    <tr>\n",
       "      <th>377</th>\n",
       "      <td>0</td>\n",
       "      <td>0</td>\n",
       "      <td>0</td>\n",
       "      <td>0</td>\n",
       "      <td>0</td>\n",
       "      <td>0</td>\n",
       "      <td>0</td>\n",
       "      <td>0</td>\n",
       "      <td>0</td>\n",
       "      <td>1</td>\n",
       "      <td>...</td>\n",
       "      <td>0</td>\n",
       "      <td>0</td>\n",
       "      <td>0</td>\n",
       "      <td>1</td>\n",
       "      <td>0</td>\n",
       "      <td>0</td>\n",
       "      <td>0</td>\n",
       "      <td>0</td>\n",
       "      <td>0</td>\n",
       "      <td>0</td>\n",
       "    </tr>\n",
       "    <tr>\n",
       "      <th>378</th>\n",
       "      <td>0</td>\n",
       "      <td>0</td>\n",
       "      <td>0</td>\n",
       "      <td>0</td>\n",
       "      <td>1</td>\n",
       "      <td>0</td>\n",
       "      <td>0</td>\n",
       "      <td>0</td>\n",
       "      <td>0</td>\n",
       "      <td>0</td>\n",
       "      <td>...</td>\n",
       "      <td>0</td>\n",
       "      <td>0</td>\n",
       "      <td>0</td>\n",
       "      <td>0</td>\n",
       "      <td>0</td>\n",
       "      <td>0</td>\n",
       "      <td>0</td>\n",
       "      <td>0</td>\n",
       "      <td>0</td>\n",
       "      <td>0</td>\n",
       "    </tr>\n",
       "    <tr>\n",
       "      <th>379</th>\n",
       "      <td>0</td>\n",
       "      <td>0</td>\n",
       "      <td>0</td>\n",
       "      <td>0</td>\n",
       "      <td>0</td>\n",
       "      <td>0</td>\n",
       "      <td>0</td>\n",
       "      <td>0</td>\n",
       "      <td>0</td>\n",
       "      <td>0</td>\n",
       "      <td>...</td>\n",
       "      <td>0</td>\n",
       "      <td>1</td>\n",
       "      <td>0</td>\n",
       "      <td>0</td>\n",
       "      <td>0</td>\n",
       "      <td>0</td>\n",
       "      <td>1</td>\n",
       "      <td>0</td>\n",
       "      <td>0</td>\n",
       "      <td>0</td>\n",
       "    </tr>\n",
       "  </tbody>\n",
       "</table>\n",
       "<p>380 rows × 27 columns</p>\n",
       "</div>"
      ],
      "text/plain": [
       "     (A)  (AD)  (H)  (HD)  A  ABS  AD  ALIM  ANAT  ARCH  ...  MQ  NAT  OBJ  \\\n",
       "0      1     0    0     0  0    0   0     0     0     0  ...   0    0    0   \n",
       "1      0     0    0     0  0    0   0     0     0     0  ...   0    0    0   \n",
       "2      0     0    0     0  0    0   0     0     0     0  ...   0    0    1   \n",
       "3      0     0    0     0  1    0   0     0     0     0  ...   0    0    0   \n",
       "4      0     0    0     0  0    0   0     0     0     0  ...   0    0    0   \n",
       "..   ...   ...  ...   ... ..  ...  ..   ...   ...   ...  ...  ..  ...  ...   \n",
       "375    0     0    0     0  0    0   0     1     0     0  ...   0    0    0   \n",
       "376    0     0    0     0  1    0   0     1     0     0  ...   0    0    0   \n",
       "377    0     0    0     0  0    0   0     0     0     1  ...   0    0    0   \n",
       "378    0     0    0     0  1    0   0     0     0     0  ...   0    0    0   \n",
       "379    0     0    0     0  0    0   0     0     0     0  ...   0    1    0   \n",
       "\n",
       "     PAYS  RADIO  SC  SCÈNE  SEX  SG  VÊT  \n",
       "0       0      0   0      0    0   0    0  \n",
       "1       0      0   0      0    0   0    0  \n",
       "2       0      0   0      0    0   0    0  \n",
       "3       0      0   0      0    0   0    0  \n",
       "4       0      0   0      0    0   0    0  \n",
       "..    ...    ...  ..    ...  ...  ..  ...  \n",
       "375     0      0   0      0    0   0    0  \n",
       "376     0      0   0      0    0   0    0  \n",
       "377     1      0   0      0    0   0    0  \n",
       "378     0      0   0      0    0   0    0  \n",
       "379     0      0   0      1    0   0    0  \n",
       "\n",
       "[380 rows x 27 columns]"
      ]
     },
     "execution_count": 103,
     "metadata": {},
     "output_type": "execute_result"
    }
   ],
   "source": [
    "labels_contents"
   ]
  },
  {
   "cell_type": "code",
   "execution_count": 104,
   "metadata": {},
   "outputs": [
    {
     "data": {
      "text/plain": [
       "{'(A)': 12,\n",
       " '(AD)': 5,\n",
       " '(H)': 18,\n",
       " '(HD)': 7,\n",
       " 'A': 111,\n",
       " 'ABS': 18,\n",
       " 'AD': 46,\n",
       " 'ALIM': 6,\n",
       " 'ANAT': 21,\n",
       " 'ARCH': 8,\n",
       " 'ART': 4,\n",
       " 'BOT': 19,\n",
       " 'ELEM': 23,\n",
       " 'FRAG': 23,\n",
       " 'GÉO': 2,\n",
       " 'H': 36,\n",
       " 'HD': 46,\n",
       " 'MQ': 4,\n",
       " 'NAT': 8,\n",
       " 'OBJ': 42,\n",
       " 'PAYS': 18,\n",
       " 'RADIO': 1,\n",
       " 'SC': 1,\n",
       " 'SCÈNE': 3,\n",
       " 'SEX': 7,\n",
       " 'SG': 12,\n",
       " 'VÊT': 13,\n",
       " 'total': 514}"
      ]
     },
     "execution_count": 104,
     "metadata": {},
     "output_type": "execute_result"
    }
   ],
   "source": [
    "agg_dict_content = {}\n",
    "total = 0\n",
    "for label in labels_contents.columns:\n",
    "    total_label = sum(labels_contents[label])\n",
    "    total = total + total_label\n",
    "    agg_dict_content[label] = total_label\n",
    "agg_dict_content[\"total\"] = total\n",
    "agg_dict_content"
   ]
  },
  {
   "cell_type": "code",
   "execution_count": 105,
   "metadata": {},
   "outputs": [
    {
     "data": {
      "image/png": "[encoded data removed]",
      "text/plain": [
       "<Figure size 1400x1200 with 1 Axes>"
      ]
     },
     "metadata": {},
     "output_type": "display_data"
    }
   ],
   "source": [
    "fig, ax = plt.subplots(figsize=(14,12))\n",
    "sns.barplot(data=labels_contents)\n",
    "ax.set_xlabel(\"Content Labels Distribution\")\n",
    "ax.set_ylabel(\"Frequency\")\n",
    "plt.show()"
   ]
  },
  {
   "cell_type": "markdown",
   "metadata": {},
   "source": [
    "# Determinant labels distribution"
   ]
  },
  {
   "cell_type": "code",
   "execution_count": 106,
   "metadata": {},
   "outputs": [
    {
     "data": {
      "text/plain": [
       "{'C': 37,\n",
       " \"C'\": 24,\n",
       " \"C'F\": 3,\n",
       " 'CF': 16,\n",
       " \"CF'\": 2,\n",
       " 'CLOB': 16,\n",
       " 'CLOBF': 4,\n",
       " 'E': 28,\n",
       " 'EF': 6,\n",
       " 'F': 150,\n",
       " 'FC': 33,\n",
       " \"FC'\": 23,\n",
       " 'FCLOB': 5,\n",
       " 'FE': 8,\n",
       " 'K': 44,\n",
       " 'KAN': 34,\n",
       " 'KOB': 23,\n",
       " 'KP': 14,\n",
       " 'total': 470}"
      ]
     },
     "execution_count": 106,
     "metadata": {},
     "output_type": "execute_result"
    }
   ],
   "source": [
    "agg_dict_determinants = {}\n",
    "total = 0\n",
    "for label in labels_determinants.columns:\n",
    "    total_label = sum(labels_determinants[label])\n",
    "    total = total + total_label\n",
    "    agg_dict_determinants[label] = total_label\n",
    "agg_dict_determinants[\"total\"] = total\n",
    "agg_dict_determinants"
   ]
  },
  {
   "cell_type": "code",
   "execution_count": 107,
   "metadata": {},
   "outputs": [
    {
     "data": {
      "image/png": "[encoded data removed]",
      "text/plain": [
       "<Figure size 1400x1000 with 1 Axes>"
      ]
     },
     "metadata": {},
     "output_type": "display_data"
    }
   ],
   "source": [
    "fig, ax = plt.subplots(figsize=(14,10))\n",
    "sns.barplot(data=labels_determinants)\n",
    "ax.set_xlabel(\"Determinant Labels Distribution\")\n",
    "ax.set_ylabel(\"Frequency\")\n",
    "plt.show()"
   ]
  },
  {
   "cell_type": "markdown",
   "metadata": {},
   "source": [
    "# Grouping labels in their larger groups"
   ]
  },
  {
   "cell_type": "markdown",
   "metadata": {},
   "source": [
    "## Determinants"
   ]
  },
  {
   "cell_type": "code",
   "execution_count": 108,
   "metadata": {},
   "outputs": [],
   "source": [
    "groups_determinants = [(\"kinesthetics\", [\"K\", \"KAN\", \"KOB\", \"KP\"]),\n",
    "                        (\"form\", [\"F\"]),\n",
    "                        (\"color\", [\"FC\", \"CF\", \"C\", \"FC'\", \"CF'\", \"C'F\", \"F'C\", \"C'\"]),\n",
    "                        (\"fading\", [\"FE\", \"EF\", \"E\"]),\n",
    "                        (\"threat\", [\"FCLOB\", \"CLOBF\", \"CLOB\"])]"
   ]
  },
  {
   "cell_type": "code",
   "execution_count": 109,
   "metadata": {},
   "outputs": [
    {
     "data": {
      "text/plain": [
       "{'kinesthetics': 115, 'form': 150, 'color': 138, 'fading': 42, 'threat': 25}"
      ]
     },
     "execution_count": 109,
     "metadata": {},
     "output_type": "execute_result"
    }
   ],
   "source": [
    "agg_dict_new_dets = {tuple[0]: 0 for tuple in groups_determinants}\n",
    "for key in agg_dict_determinants.keys():\n",
    "    for tuple_cats in groups_determinants:\n",
    "        if key in tuple_cats[1]:\n",
    "            agg_dict_new_dets[tuple_cats[0]] = agg_dict_new_dets[tuple_cats[0]] + agg_dict_determinants[key]\n",
    "agg_dict_new_dets           "
   ]
  },
  {
   "cell_type": "code",
   "execution_count": 110,
   "metadata": {},
   "outputs": [
    {
     "data": {
      "image/png": "[encoded data removed]",
      "text/plain": [
       "<Figure size 1000x800 with 1 Axes>"
      ]
     },
     "metadata": {},
     "output_type": "display_data"
    }
   ],
   "source": [
    "fig, ax = plt.subplots(figsize=(10,8))\n",
    "sns.barplot(data=agg_dict_new_dets)\n",
    "ax.set_xlabel(\"Determinant Labels Distribution\")\n",
    "ax.set_ylabel(\"Frequency\")\n",
    "plt.show()"
   ]
  },
  {
   "cell_type": "markdown",
   "metadata": {},
   "source": [
    "## Contents"
   ]
  },
  {
   "cell_type": "code",
   "execution_count": 111,
   "metadata": {},
   "outputs": [],
   "source": [
    "groups_contents = [(\"animal\", [\"(A)\", \"(AD)\", \"A\", \"AD\", \"ANAT\"]),\n",
    "                    (\"human\", [\"(H)\", \"(HD)\", \"ANAT\", \"H\", \"HD\"]),\n",
    "                    (\"abs\", [\"ABS\", \"SYMB\"]),\n",
    "                    (\"food\", [\"ALIM\"]),\n",
    "                    (\"art_arch\", [\"ARCH\", \"ART\", \"SCÈNE\"]),\n",
    "                    (\"nature\", [\"BOT\", \"ELEM\", \"PAYS\", \"NAT\"]),\n",
    "                    (\"fragment\", [\"FRAG\"]),\n",
    "                    (\"geo\", [\"GÉO\"]),\n",
    "                    (\"hybrid\", [\"H/A\", \"H/AD\"]),\n",
    "                    (\"object\", [\"MQ\", \"OBJ\", \"VÊT\"]),\n",
    "                    (\"science\", [\"RADIO\", \"SC\"]),\n",
    "                    (\"graphic\", [\"SEX\", \"SG\"])]"
   ]
  },
  {
   "cell_type": "code",
   "execution_count": 112,
   "metadata": {},
   "outputs": [
    {
     "data": {
      "text/plain": [
       "{'animal': 195,\n",
       " 'human': 128,\n",
       " 'abs': 18,\n",
       " 'food': 6,\n",
       " 'art_arch': 15,\n",
       " 'nature': 68,\n",
       " 'fragment': 23,\n",
       " 'geo': 2,\n",
       " 'hybrid': 0,\n",
       " 'object': 59,\n",
       " 'science': 2,\n",
       " 'graphic': 19}"
      ]
     },
     "execution_count": 112,
     "metadata": {},
     "output_type": "execute_result"
    }
   ],
   "source": [
    "agg_dict_new_contents = {tuple[0]: 0 for tuple in groups_contents}\n",
    "for key in agg_dict_content.keys():\n",
    "    for tuple_cats in groups_contents:\n",
    "        if key in tuple_cats[1]:\n",
    "            agg_dict_new_contents[tuple_cats[0]] = agg_dict_new_contents[tuple_cats[0]] + agg_dict_content[key]\n",
    "agg_dict_new_contents"
   ]
  },
  {
   "cell_type": "code",
   "execution_count": 113,
   "metadata": {},
   "outputs": [
    {
     "data": {
      "image/png": "[encoded data removed]",
      "text/plain": [
       "<Figure size 1000x800 with 1 Axes>"
      ]
     },
     "metadata": {},
     "output_type": "display_data"
    }
   ],
   "source": [
    "fig, ax = plt.subplots(figsize=(10,8))\n",
    "sns.barplot(data=agg_dict_new_contents)\n",
    "ax.set_xlabel(\"Content Labels Distribution\")\n",
    "ax.set_ylabel(\"Frequency\")\n",
    "plt.show()"
   ]
  },
  {
   "cell_type": "markdown",
   "metadata": {},
   "source": [
    "# New labels"
   ]
  },
  {
   "cell_type": "markdown",
   "metadata": {},
   "source": [
    "### Determinants"
   ]
  },
  {
   "cell_type": "code",
   "execution_count": 114,
   "metadata": {},
   "outputs": [],
   "source": [
    "def rename_cols(df):\n",
    "    for col in df:\n",
    "        for tuple_cats in groups_determinants:\n",
    "            if col in tuple_cats[1]:\n",
    "                df = df.rename(columns={col:tuple_cats[0]})\n",
    "    for col in df:\n",
    "        for tuple_cats in groups_contents:\n",
    "            if col in tuple_cats[1]:\n",
    "                df = df.rename(columns={col:tuple_cats[0]})\n",
    "    return df"
   ]
  },
  {
   "cell_type": "code",
   "execution_count": 115,
   "metadata": {},
   "outputs": [],
   "source": [
    "labels_determinants = rename_cols(labels_determinants)\n",
    "labels_contents = rename_cols(labels_contents)"
   ]
  },
  {
   "cell_type": "code",
   "execution_count": 116,
   "metadata": {},
   "outputs": [
    {
     "data": {
      "text/plain": [
       "18"
      ]
     },
     "execution_count": 116,
     "metadata": {},
     "output_type": "execute_result"
    }
   ],
   "source": [
    "list_cols_dets = list(labels_determinants.columns)\n",
    "len(list_cols_dets)"
   ]
  },
  {
   "cell_type": "code",
   "execution_count": 117,
   "metadata": {},
   "outputs": [],
   "source": [
    "# list_cols_dets"
   ]
  },
  {
   "cell_type": "code",
   "execution_count": 118,
   "metadata": {},
   "outputs": [
    {
     "data": {
      "text/plain": [
       "{'color': [0, 1, 2, 3, 4, 10, 11],\n",
       " 'threat': [5, 6, 12],\n",
       " 'fading': [7, 8, 13],\n",
       " 'form': [9],\n",
       " 'kinesthetics': [14, 15, 16, 17]}"
      ]
     },
     "execution_count": 118,
     "metadata": {},
     "output_type": "execute_result"
    }
   ],
   "source": [
    "indexes_dets = {}\n",
    "i = 0\n",
    "while i < len(list_cols_dets):\n",
    "    item = list_cols_dets[i]\n",
    "    if item not in indexes_dets.keys():\n",
    "        indexes_dets[item] = [i]\n",
    "    else:\n",
    "        indexes_dets[item].append(i)\n",
    "    i = i + 1\n",
    "indexes_dets"
   ]
  },
  {
   "cell_type": "code",
   "execution_count": 119,
   "metadata": {},
   "outputs": [
    {
     "data": {
      "text/plain": [
       "color\n",
       "0    377\n",
       "1      3\n",
       "Name: count, dtype: int64"
      ]
     },
     "execution_count": 119,
     "metadata": {},
     "output_type": "execute_result"
    }
   ],
   "source": [
    "labels_determinants.iloc[:, 2].value_counts()"
   ]
  },
  {
   "cell_type": "markdown",
   "metadata": {},
   "source": [
    "Checking that the sum would work. Bare in mind the columns are exclusive in this way so we should get 0 and 1 values"
   ]
  },
  {
   "cell_type": "code",
   "execution_count": 120,
   "metadata": {},
   "outputs": [],
   "source": [
    "# labels_determinants.iloc[:, indexes_dets[\"color\"]].sum(axis=1).value_counts()"
   ]
  },
  {
   "cell_type": "code",
   "execution_count": 121,
   "metadata": {},
   "outputs": [],
   "source": [
    "# (labels_determinants.iloc[:, 0].sum(axis=1)).value_counts()"
   ]
  },
  {
   "cell_type": "code",
   "execution_count": 122,
   "metadata": {},
   "outputs": [],
   "source": [
    "labels_determinants[\"color_sum\"] = labels_determinants.iloc[:, indexes_dets[\"color\"]].sum(axis=1)\n",
    "labels_determinants[\"threat_sum\"] = labels_determinants.iloc[:, indexes_dets[\"threat\"]].sum(axis=1)\n",
    "labels_determinants[\"fading_sum\"] = labels_determinants.iloc[:, indexes_dets[\"fading\"]].sum(axis=1)\n",
    "labels_determinants[\"form_sum\"] = labels_determinants.iloc[:, indexes_dets[\"form\"]].sum(axis=1)\n",
    "labels_determinants[\"kinesthetics_sum\"] = labels_determinants.iloc[:, indexes_dets[\"kinesthetics\"]].sum(axis=1)"
   ]
  },
  {
   "cell_type": "code",
   "execution_count": 123,
   "metadata": {},
   "outputs": [],
   "source": [
    "new_labels_determinants = labels_determinants[[\"color_sum\", \"threat_sum\", \"fading_sum\",\"form_sum\",\"kinesthetics_sum\"]]"
   ]
  },
  {
   "cell_type": "code",
   "execution_count": 124,
   "metadata": {},
   "outputs": [],
   "source": [
    "nancy_determinants = pd.concat([nancy_determinants, new_labels_determinants], axis=1)"
   ]
  },
  {
   "cell_type": "code",
   "execution_count": 125,
   "metadata": {},
   "outputs": [],
   "source": [
    "# nancy_determinants"
   ]
  },
  {
   "cell_type": "code",
   "execution_count": 126,
   "metadata": {},
   "outputs": [],
   "source": [
    "nancy_determinants.to_csv(\"nancy_determinants_grouped.csv\", index = False)"
   ]
  },
  {
   "cell_type": "markdown",
   "metadata": {},
   "source": [
    "### Contents"
   ]
  },
  {
   "cell_type": "code",
   "execution_count": 127,
   "metadata": {},
   "outputs": [
    {
     "data": {
      "text/plain": [
       "27"
      ]
     },
     "execution_count": 127,
     "metadata": {},
     "output_type": "execute_result"
    }
   ],
   "source": [
    "list_cols_contents = list(labels_contents.columns)\n",
    "len(list_cols_contents)"
   ]
  },
  {
   "cell_type": "code",
   "execution_count": 128,
   "metadata": {},
   "outputs": [
    {
     "data": {
      "text/plain": [
       "{'animal': [0, 1, 4, 6, 8],\n",
       " 'human': [2, 3, 15, 16],\n",
       " 'abs': [5],\n",
       " 'food': [7],\n",
       " 'art_arch': [9, 10, 23],\n",
       " 'nature': [11, 12, 18, 20],\n",
       " 'fragment': [13],\n",
       " 'geo': [14],\n",
       " 'object': [17, 19, 26],\n",
       " 'science': [21, 22],\n",
       " 'graphic': [24, 25]}"
      ]
     },
     "execution_count": 128,
     "metadata": {},
     "output_type": "execute_result"
    }
   ],
   "source": [
    "indexes_contents = {}\n",
    "i = 0\n",
    "while i < len(list_cols_contents):\n",
    "    item = list_cols_contents[i]\n",
    "    if item not in indexes_contents.keys():\n",
    "        indexes_contents[item] = [i]\n",
    "    else:\n",
    "        indexes_contents[item].append(i)\n",
    "    i = i + 1\n",
    "indexes_contents"
   ]
  },
  {
   "cell_type": "code",
   "execution_count": 129,
   "metadata": {},
   "outputs": [],
   "source": [
    "for key, indexes in indexes_contents.items():\n",
    "    labels_contents[\"{}_sum\".format(key)] = labels_contents.iloc[:, indexes].sum(axis=1)"
   ]
  },
  {
   "cell_type": "code",
   "execution_count": 130,
   "metadata": {},
   "outputs": [
    {
     "data": {
      "text/plain": [
       "Index(['animal', 'animal', 'human', 'human', 'animal', 'abs', 'animal', 'food',\n",
       "       'animal', 'art_arch', 'art_arch', 'nature', 'nature', 'fragment', 'geo',\n",
       "       'human', 'human', 'object', 'nature', 'object', 'nature', 'science',\n",
       "       'science', 'art_arch', 'graphic', 'graphic', 'object', 'animal_sum',\n",
       "       'human_sum', 'abs_sum', 'food_sum', 'art_arch_sum', 'nature_sum',\n",
       "       'fragment_sum', 'geo_sum', 'object_sum', 'science_sum', 'graphic_sum'],\n",
       "      dtype='object')"
      ]
     },
     "execution_count": 130,
     "metadata": {},
     "output_type": "execute_result"
    }
   ],
   "source": [
    "labels_contents.columns"
   ]
  },
  {
   "cell_type": "code",
   "execution_count": 131,
   "metadata": {},
   "outputs": [],
   "source": [
    "new_labels_contents = labels_contents[['animal_sum',\n",
    "       'human_sum', 'abs_sum', 'food_sum', 'art_arch_sum', 'nature_sum',\n",
    "       'fragment_sum', 'geo_sum', 'object_sum', 'science_sum', 'graphic_sum']]"
   ]
  },
  {
   "cell_type": "code",
   "execution_count": 132,
   "metadata": {},
   "outputs": [
    {
     "name": "stderr",
     "output_type": "stream",
     "text": [
      "C:\\Users\\alber\\AppData\\Local\\Temp\\ipykernel_16032\\2453822471.py:1: SettingWithCopyWarning: \n",
      "A value is trying to be set on a copy of a slice from a DataFrame\n",
      "\n",
      "See the caveats in the documentation: https://pandas.pydata.org/pandas-docs/stable/user_guide/indexing.html#returning-a-view-versus-a-copy\n",
      "  new_labels_contents.replace({2:1, 3:1, 4:1, 5:1, 6:1}, inplace=True)\n"
     ]
    }
   ],
   "source": [
    "new_labels_contents.replace({2:1, 3:1, 4:1, 5:1, 6:1}, inplace=True)"
   ]
  },
  {
   "cell_type": "code",
   "execution_count": 133,
   "metadata": {},
   "outputs": [
    {
     "name": "stdout",
     "output_type": "stream",
     "text": [
      "animal_sum\n",
      "0    201\n",
      "1    179\n",
      "Name: count, dtype: int64\n",
      "human_sum\n",
      "0    281\n",
      "1     99\n",
      "Name: count, dtype: int64\n",
      "abs_sum\n",
      "0    362\n",
      "1     18\n",
      "Name: count, dtype: int64\n",
      "food_sum\n",
      "0    374\n",
      "1      6\n",
      "Name: count, dtype: int64\n",
      "art_arch_sum\n",
      "0    366\n",
      "1     14\n",
      "Name: count, dtype: int64\n",
      "nature_sum\n",
      "0    333\n",
      "1     47\n",
      "Name: count, dtype: int64\n",
      "fragment_sum\n",
      "0    357\n",
      "1     23\n",
      "Name: count, dtype: int64\n",
      "geo_sum\n",
      "0    378\n",
      "1      2\n",
      "Name: count, dtype: int64\n",
      "object_sum\n",
      "0    323\n",
      "1     57\n",
      "Name: count, dtype: int64\n",
      "science_sum\n",
      "0    378\n",
      "1      2\n",
      "Name: count, dtype: int64\n",
      "graphic_sum\n",
      "0    361\n",
      "1     19\n",
      "Name: count, dtype: int64\n"
     ]
    }
   ],
   "source": [
    "for col in new_labels_contents:\n",
    "    print(new_labels_contents[col].value_counts())"
   ]
  },
  {
   "cell_type": "code",
   "execution_count": 134,
   "metadata": {},
   "outputs": [],
   "source": [
    "nancy_contents = pd.concat([nancy_contents, new_labels_contents], axis=1)"
   ]
  },
  {
   "cell_type": "code",
   "execution_count": 138,
   "metadata": {},
   "outputs": [],
   "source": [
    "# nancy_contents"
   ]
  },
  {
   "cell_type": "code",
   "execution_count": 136,
   "metadata": {},
   "outputs": [],
   "source": [
    "nancy_contents.to_csv(\"nancy_contents_grouped.csv\", index = False)"
   ]
  }
 ],
 "metadata": {
  "kernelspec": {
   "display_name": "Python 3",
   "language": "python",
   "name": "python3"
  },
  "language_info": {
   "codemirror_mode": {
    "name": "ipython",
    "version": 3
   },
   "file_extension": ".py",
   "mimetype": "text/x-python",
   "name": "python",
   "nbconvert_exporter": "python",
   "pygments_lexer": "ipython3",
   "version": "3.12.0"
  }
 },
 "nbformat": 4,
 "nbformat_minor": 2
}

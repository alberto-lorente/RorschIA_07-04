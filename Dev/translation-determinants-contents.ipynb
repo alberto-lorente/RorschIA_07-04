{
 "cells": [
  {
   "cell_type": "markdown",
   "metadata": {},
   "source": [
    "Translation for the English - French Determinants and Contents"
   ]
  },
  {
   "cell_type": "code",
   "execution_count": 8,
   "metadata": {},
   "outputs": [],
   "source": [
    "import json"
   ]
  },
  {
   "cell_type": "code",
   "execution_count": 9,
   "metadata": {},
   "outputs": [],
   "source": [
    "deter_translations = {\"FD\": \"FE\",\n",
    "                      \"FMa\": \"kan\",\n",
    "                      \"FMa-p\": \"kan\",\n",
    "                      \"FMap\": \"kan\",\n",
    "                      \"FMp\": \"kan\",\n",
    "                      \"FT\": \"FE\",\n",
    "                      \"FV\": \"FE\",\n",
    "                      \"FY\": \"FE\",\n",
    "                      \"Ma\": \"K\",\n",
    "                      \"Ma-p\": \"K\",\n",
    "                      \"Mp\": \"K\",\n",
    "                      \"T\": \"E\",\n",
    "                      \"TF\": \"EF\",\n",
    "                      \"V\": \"E\",\n",
    "                      \"VF\": \"C\",\n",
    "                      \"Y\": \"EF\",\n",
    "                      \"YF\": \"E\",\n",
    "                      \"Fr\": \"EF\",\n",
    "                      \"rF\": \"F\"}"
   ]
  },
  {
   "cell_type": "code",
   "execution_count": 10,
   "metadata": {},
   "outputs": [],
   "source": [
    "# deter_translations = {\"FD\": \"FE_1\",\n",
    "#                       \"FMa\": \"kan_1\",\n",
    "#                       \"FMa-p\": \"kan_2\",\n",
    "#                       \"FMap\": \"kan_3\",\n",
    "#                       \"FMp\": \"kan_4\",\n",
    "#                       \"FT\": \"FE_2\",\n",
    "#                       \"FV\": \"FE_3\",\n",
    "#                       \"FY\": \"FE_4\",\n",
    "#                       \"Ma\": \"K_1\",\n",
    "#                       \"Ma-p\": \"K_2\",\n",
    "#                       \"Mp\": \"K_3\",\n",
    "#                       \"T\": \"E_3\",\n",
    "#                       \"TF\": \"EF_2\",\n",
    "#                       \"V\": \"E_2\",\n",
    "#                       \"VF\": \"C_1\",\n",
    "#                       \"Y\": \"EF_3\",\n",
    "#                       \"YF\": \"E_1\",\n",
    "#                       \"Fr\": \"EF_1\",\n",
    "#                       \"rF\": \"F_1\"}"
   ]
  },
  {
   "cell_type": "code",
   "execution_count": 11,
   "metadata": {},
   "outputs": [],
   "source": [
    "with open(\"translation_determinant.json\", \"w\") as f:\n",
    "    json.dump(deter_translations, f)"
   ]
  },
  {
   "cell_type": "code",
   "execution_count": 12,
   "metadata": {},
   "outputs": [],
   "source": [
    "contents_translations = {\"An\":\"Anat\",\n",
    "                         \"Ay\":\"Obj\",\n",
    "                         \"Bl\":\"Sg\",\n",
    "                         \"Bt\":\"Bot\",\n",
    "                         \"Cg\":\"Vet\",\n",
    "                         \"Cl\":\"Frag\",\n",
    "                         \"Ex\":\"Frag\",\n",
    "                         \"Fd\":\"Alim\",\n",
    "                         \"Fi\":\"Elem\",\n",
    "                         \"Hh\":\"Obj\",\n",
    "                         \"Hx\":\"Abs\",\n",
    "                         \"Ls\":\"Pays\",\n",
    "                         \"Na\":\"Nat\",\n",
    "                         \"Sx\":\"Sex\",\n",
    "                         \"Xy\":\"Radio\"}"
   ]
  },
  {
   "cell_type": "code",
   "execution_count": 13,
   "metadata": {},
   "outputs": [],
   "source": [
    "# contents_translations = {\"An\":\"Anat_1\",\n",
    "#                          \"Ay\":\"Obj_2\",\n",
    "#                          \"Bl\":\"Sg_1\",\n",
    "#                          \"Bt\":\"Bot_1\",\n",
    "#                          \"Cg\":\"Vet_1\",\n",
    "#                          \"Cl\":\"Frag_1\",\n",
    "#                          \"Ex\":\"Frag_2\",\n",
    "#                          \"Fd\":\"Alim_1\",\n",
    "#                          \"Fi\":\"Elem_1\",\n",
    "#                          \"Hh\":\"Obj_1\",\n",
    "#                          \"Hx\":\"Abs_1\",\n",
    "#                          \"Ls\":\"Pays_1\",\n",
    "#                          \"Na\":\"Nat_1\",\n",
    "#                          \"Sx\":\"Sex_1\",\n",
    "#                          \"Xy\":\"Radio_1\"}"
   ]
  },
  {
   "cell_type": "code",
   "execution_count": 14,
   "metadata": {},
   "outputs": [],
   "source": [
    "with open(\"translation_contents.json\", \"w\") as f:\n",
    "    json.dump(contents_translations, f)"
   ]
  }
 ],
 "metadata": {
  "kernelspec": {
   "display_name": "Python 3",
   "language": "python",
   "name": "python3"
  },
  "language_info": {
   "codemirror_mode": {
    "name": "ipython",
    "version": 3
   },
   "file_extension": ".py",
   "mimetype": "text/x-python",
   "name": "python",
   "nbconvert_exporter": "python",
   "pygments_lexer": "ipython3",
   "version": "3.12.0"
  }
 },
 "nbformat": 4,
 "nbformat_minor": 2
}

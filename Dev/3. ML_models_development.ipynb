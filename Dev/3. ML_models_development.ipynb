{
  "cells": [
    {
      "cell_type": "markdown",
      "metadata": {},
      "source": [
        "# DATA"
      ]
    },
    {
      "cell_type": "markdown",
      "metadata": {},
      "source": [
        "Source of the data: \n",
        "https://www.kaggle.com/code/surekharamireddy/covid-19-rorschach-test-dataset/"
      ]
    },
    {
      "cell_type": "markdown",
      "metadata": {},
      "source": [
        "Straight away, the dataset was used for a study about the evolution of Rorschach protocols before and after the Pandemic: \"Perform between-subject statistical analysis (covariance & clustering) of all the sample variables, to detect changes between pre and post pandemic responses to the Rorschach test.\""
      ]
    },
    {
      "cell_type": "markdown",
      "metadata": {},
      "source": [
        "Some important information about the data: \n",
        "\n",
        "    User : User Id number\n",
        "    PQlevel : Professional qualifications levels are based on the\n",
        "    Clinet : Client Id number\n",
        "    Age : Client age in Years\n",
        "    Gender : Client Gender\n",
        "    Country : Client Country\n",
        "    Protocol : Protocol Id Number\n",
        "    Test Date : The Date the RAP3 protocol was created\n",
        "    R : The total number of the responses associated with the protocol\n",
        "    ResponseOrder : The order of responses in the protocol\n",
        "    CardId : Rorschach cardnumber 1 to 10\n",
        "    Location : Indicated to which area of the blot the responses referred to\n",
        "    LocationNumber : The location Normative Number\n",
        "    Developmental Quality : The quality of processing that has been involved in the formation of the responses\n",
        "    Determinants : All the visual stimulli in the blot that shaped the reported objects in the response .\n",
        "    Pair : Two identical objects are reported , based on the symmetry of the blot\n",
        "    Form Quality : Indicates how good is the fitness between the area of blot being used and the form requirements of the object specified in the response\n",
        "    FQtext : The form quality associated Normative Text\n",
        "    Contents : Content Coding is consisting of abbrevations for the category to which the responded object Belongs\n",
        "    Popular : Responses that occur with a high frequency with a normative sample .\n",
        "    ZCode : ZCode is coded in responses that involve organizational activity of relationships between distinct blot areas .\n",
        "    ZScore : A Numerical value assigned to responses in which such Organizational activity occurs .\n",
        "    Special Scores : Indicate the presence of special features in the response\n",
        "    Rejection : The number of card rejections in the Protocol .\n"
      ]
    },
    {
      "cell_type": "markdown",
      "metadata": {},
      "source": [
        "The translation for the French version is in the Dev folder"
      ]
    },
    {
      "cell_type": "markdown",
      "metadata": {},
      "source": [
        "# Data exploration and cleaning"
      ]
    },
    {
      "cell_type": "code",
      "execution_count": 2,
      "metadata": {
        "id": "hxOZDGR-S4oq"
      },
      "outputs": [],
      "source": [
        "import pandas as pd\n",
        "import numpy as np\n",
        "import matplotlib.pyplot as plt\n",
        "import seaborn as sns\n",
        "import pickle\n"
      ]
    },
    {
      "cell_type": "code",
      "execution_count": 3,
      "metadata": {},
      "outputs": [],
      "source": [
        "data = pd.read_csv(r\"rap_dataset.tsv\", sep = \"\\t\")"
      ]
    },
    {
      "cell_type": "code",
      "execution_count": 4,
      "metadata": {},
      "outputs": [
        {
          "data": {
            "text/plain": [
              "User                         0\n",
              "PQLevel                      0\n",
              "Client                       0\n",
              "Age                          0\n",
              "Gender                       0\n",
              "Country                      0\n",
              "Protocol                     0\n",
              "TestDate                     0\n",
              "R                            0\n",
              "ResponseOrder                0\n",
              "cardID                       0\n",
              "Location                     0\n",
              "LocationNumber          119435\n",
              "DevelopmentalQuality         0\n",
              "Determinants                 0\n",
              "Pair                         0\n",
              "FormQuality                  0\n",
              "FQText                  442103\n",
              "Contents                     0\n",
              "Popular                      0\n",
              "ZCode                   238068\n",
              "ZScore                  238069\n",
              "SpecialScores           298146\n",
              "Rejection                    0\n",
              "dtype: int64"
            ]
          },
          "execution_count": 4,
          "metadata": {},
          "output_type": "execute_result"
        }
      ],
      "source": [
        "data.isna().sum()"
      ]
    },
    {
      "cell_type": "code",
      "execution_count": 5,
      "metadata": {},
      "outputs": [],
      "source": [
        "df = data.dropna()"
      ]
    },
    {
      "cell_type": "code",
      "execution_count": 6,
      "metadata": {},
      "outputs": [
        {
          "data": {
            "text/plain": [
              "Index(['User', 'PQLevel', 'Client', 'Age', 'Gender', 'Country', 'Protocol',\n",
              "       'TestDate', 'R', 'ResponseOrder', 'cardID', 'Location',\n",
              "       'LocationNumber', 'DevelopmentalQuality', 'Determinants', 'Pair',\n",
              "       'FormQuality', 'FQText', 'Contents', 'Popular', 'ZCode', 'ZScore',\n",
              "       'SpecialScores', 'Rejection'],\n",
              "      dtype='object')"
            ]
          },
          "execution_count": 6,
          "metadata": {},
          "output_type": "execute_result"
        }
      ],
      "source": [
        "df.columns"
      ]
    },
    {
      "cell_type": "code",
      "execution_count": 7,
      "metadata": {},
      "outputs": [
        {
          "data": {
            "text/plain": [
              "(14351, 24)"
            ]
          },
          "execution_count": 7,
          "metadata": {},
          "output_type": "execute_result"
        }
      ],
      "source": [
        "df.shape"
      ]
    },
    {
      "cell_type": "markdown",
      "metadata": {},
      "source": [
        "For the initial 2 models the aim is to get a model for the determinants and the content labels"
      ]
    },
    {
      "cell_type": "markdown",
      "metadata": {},
      "source": [
        "Possible Content labels"
      ]
    },
    {
      "cell_type": "code",
      "execution_count": 8,
      "metadata": {},
      "outputs": [],
      "source": [
        "labels = df[['Contents']]"
      ]
    },
    {
      "cell_type": "code",
      "execution_count": 9,
      "metadata": {},
      "outputs": [
        {
          "data": {
            "text/plain": [
              "1029"
            ]
          },
          "execution_count": 9,
          "metadata": {},
          "output_type": "execute_result"
        }
      ],
      "source": [
        "len(df['Contents'].unique())"
      ]
    },
    {
      "cell_type": "markdown",
      "metadata": {},
      "source": [
        "The explanation for the amount of labels is that there are different possible combinations of labels and they appear all together the the columns."
      ]
    },
    {
      "cell_type": "code",
      "execution_count": 10,
      "metadata": {},
      "outputs": [
        {
          "data": {
            "text/html": [
              "<div>\n",
              "<style scoped>\n",
              "    .dataframe tbody tr th:only-of-type {\n",
              "        vertical-align: middle;\n",
              "    }\n",
              "\n",
              "    .dataframe tbody tr th {\n",
              "        vertical-align: top;\n",
              "    }\n",
              "\n",
              "    .dataframe thead th {\n",
              "        text-align: right;\n",
              "    }\n",
              "</style>\n",
              "<table border=\"1\" class=\"dataframe\">\n",
              "  <thead>\n",
              "    <tr style=\"text-align: right;\">\n",
              "      <th></th>\n",
              "      <th>count</th>\n",
              "    </tr>\n",
              "    <tr>\n",
              "      <th>Contents</th>\n",
              "      <th></th>\n",
              "    </tr>\n",
              "  </thead>\n",
              "  <tbody>\n",
              "    <tr>\n",
              "      <th>H,Cg,Ay</th>\n",
              "      <td>9</td>\n",
              "    </tr>\n",
              "    <tr>\n",
              "      <th>(H),Sx</th>\n",
              "      <td>9</td>\n",
              "    </tr>\n",
              "    <tr>\n",
              "      <th>Hh,A</th>\n",
              "      <td>9</td>\n",
              "    </tr>\n",
              "    <tr>\n",
              "      <th>Hd,Na</th>\n",
              "      <td>9</td>\n",
              "    </tr>\n",
              "    <tr>\n",
              "      <th>Ex</th>\n",
              "      <td>9</td>\n",
              "    </tr>\n",
              "    <tr>\n",
              "      <th>...</th>\n",
              "      <td>...</td>\n",
              "    </tr>\n",
              "    <tr>\n",
              "      <th>H,A,Art</th>\n",
              "      <td>1</td>\n",
              "    </tr>\n",
              "    <tr>\n",
              "      <th>A,Bl,An</th>\n",
              "      <td>1</td>\n",
              "    </tr>\n",
              "    <tr>\n",
              "      <th>A,Ay,Ls</th>\n",
              "      <td>1</td>\n",
              "    </tr>\n",
              "    <tr>\n",
              "      <th>H,A,Cg,Hh</th>\n",
              "      <td>1</td>\n",
              "    </tr>\n",
              "    <tr>\n",
              "      <th>Xy,Sx,Sc,Hd</th>\n",
              "      <td>1</td>\n",
              "    </tr>\n",
              "  </tbody>\n",
              "</table>\n",
              "<p>911 rows × 1 columns</p>\n",
              "</div>"
            ],
            "text/plain": [
              "             count\n",
              "Contents          \n",
              "H,Cg,Ay          9\n",
              "(H),Sx           9\n",
              "Hh,A             9\n",
              "Hd,Na            9\n",
              "Ex               9\n",
              "...            ...\n",
              "H,A,Art          1\n",
              "A,Bl,An          1\n",
              "A,Ay,Ls          1\n",
              "H,A,Cg,Hh        1\n",
              "Xy,Sx,Sc,Hd      1\n",
              "\n",
              "[911 rows x 1 columns]"
            ]
          },
          "execution_count": 10,
          "metadata": {},
          "output_type": "execute_result"
        }
      ],
      "source": [
        "counts = pd.DataFrame(labels.value_counts(), columns=[\"count\"])\n",
        "counts = counts[counts[\"count\"] < 10]\n",
        "counts"
      ]
    },
    {
      "cell_type": "code",
      "execution_count": 11,
      "metadata": {},
      "outputs": [
        {
          "data": {
            "text/plain": [
              "439          (H)\n",
              "441            A\n",
              "447         A,Id\n",
              "452            A\n",
              "458            A\n",
              "466      (Hd),Fi\n",
              "468           Ad\n",
              "469         H,Cg\n",
              "481            H\n",
              "498           Bt\n",
              "500     H,Art,Ls\n",
              "791         H,Cg\n",
              "792          (H)\n",
              "800          (H)\n",
              "1309        H,Id\n",
              "1314       Art,H\n",
              "1318        H,Cg\n",
              "1322     (Hd),Ay\n",
              "1327          An\n",
              "1373        H,Cg\n",
              "Name: Contents, dtype: object"
            ]
          },
          "execution_count": 11,
          "metadata": {},
          "output_type": "execute_result"
        }
      ],
      "source": [
        "df['Contents'].iloc[30:50]"
      ]
    },
    {
      "cell_type": "markdown",
      "metadata": {},
      "source": [
        "And that is the case for the determinants as well."
      ]
    },
    {
      "cell_type": "code",
      "execution_count": 12,
      "metadata": {},
      "outputs": [
        {
          "data": {
            "text/html": [
              "<div>\n",
              "<style scoped>\n",
              "    .dataframe tbody tr th:only-of-type {\n",
              "        vertical-align: middle;\n",
              "    }\n",
              "\n",
              "    .dataframe tbody tr th {\n",
              "        vertical-align: top;\n",
              "    }\n",
              "\n",
              "    .dataframe thead th {\n",
              "        text-align: right;\n",
              "    }\n",
              "</style>\n",
              "<table border=\"1\" class=\"dataframe\">\n",
              "  <thead>\n",
              "    <tr style=\"text-align: right;\">\n",
              "      <th></th>\n",
              "      <th>Determinants</th>\n",
              "    </tr>\n",
              "  </thead>\n",
              "  <tbody>\n",
              "    <tr>\n",
              "      <th>121</th>\n",
              "      <td>Ma</td>\n",
              "    </tr>\n",
              "    <tr>\n",
              "      <th>129</th>\n",
              "      <td>Mp</td>\n",
              "    </tr>\n",
              "    <tr>\n",
              "      <th>130</th>\n",
              "      <td>Ma,FC</td>\n",
              "    </tr>\n",
              "    <tr>\n",
              "      <th>144</th>\n",
              "      <td>F</td>\n",
              "    </tr>\n",
              "    <tr>\n",
              "      <th>155</th>\n",
              "      <td>Mp,Fr</td>\n",
              "    </tr>\n",
              "    <tr>\n",
              "      <th>...</th>\n",
              "      <td>...</td>\n",
              "    </tr>\n",
              "    <tr>\n",
              "      <th>506392</th>\n",
              "      <td>Fr,FMp</td>\n",
              "    </tr>\n",
              "    <tr>\n",
              "      <th>506395</th>\n",
              "      <td>FT</td>\n",
              "    </tr>\n",
              "    <tr>\n",
              "      <th>506398</th>\n",
              "      <td>FV,FMa</td>\n",
              "    </tr>\n",
              "    <tr>\n",
              "      <th>506451</th>\n",
              "      <td>FD,CF</td>\n",
              "    </tr>\n",
              "    <tr>\n",
              "      <th>506456</th>\n",
              "      <td>FMa-p</td>\n",
              "    </tr>\n",
              "  </tbody>\n",
              "</table>\n",
              "<p>14351 rows × 1 columns</p>\n",
              "</div>"
            ],
            "text/plain": [
              "       Determinants\n",
              "121              Ma\n",
              "129              Mp\n",
              "130           Ma,FC\n",
              "144               F\n",
              "155           Mp,Fr\n",
              "...             ...\n",
              "506392       Fr,FMp\n",
              "506395           FT\n",
              "506398       FV,FMa\n",
              "506451        FD,CF\n",
              "506456        FMa-p\n",
              "\n",
              "[14351 rows x 1 columns]"
            ]
          },
          "execution_count": 12,
          "metadata": {},
          "output_type": "execute_result"
        }
      ],
      "source": [
        "df[[\"Determinants\"]]"
      ]
    },
    {
      "cell_type": "markdown",
      "metadata": {},
      "source": [
        "Translating the labels to the French version of the test"
      ]
    },
    {
      "cell_type": "code",
      "execution_count": 13,
      "metadata": {},
      "outputs": [],
      "source": [
        "import json"
      ]
    },
    {
      "cell_type": "code",
      "execution_count": 14,
      "metadata": {},
      "outputs": [],
      "source": [
        "with open(\"translation_contents.json\", \"r\") as f:\n",
        "    translation_conts = json.load(f)\n",
        "    \n",
        "with open(\"translation_determinant.json\", \"r\") as f:\n",
        "    translation_dets = json.load(f)"
      ]
    },
    {
      "cell_type": "markdown",
      "metadata": {},
      "source": [
        "There are some duplicate (upper and lowercase) determinants in the original dataset so we'll deal with those now as well."
      ]
    },
    {
      "cell_type": "code",
      "execution_count": 15,
      "metadata": {},
      "outputs": [],
      "source": [
        "translation_determinants = {}\n",
        "for k, v in translation_dets.items():\n",
        "    translation_determinants[k] = v + \"_2\"\n",
        "    translation_determinants[str(k).lower()] = v +\"_1\"\n",
        "    translation_determinants[str(k).upper()] = v +\"_3\""
      ]
    },
    {
      "cell_type": "code",
      "execution_count": 16,
      "metadata": {},
      "outputs": [
        {
          "data": {
            "text/plain": [
              "{'FD': 'FE_1_3',\n",
              " 'fd': 'FE_1_1',\n",
              " 'FMa': 'kan_1_2',\n",
              " 'fma': 'kan_1_1',\n",
              " 'FMA': 'kan_1_3',\n",
              " 'FMa-p': 'kan_2_2',\n",
              " 'fma-p': 'kan_2_1',\n",
              " 'FMA-P': 'kan_2_3',\n",
              " 'FMap': 'kan_3_2',\n",
              " 'fmap': 'kan_3_1',\n",
              " 'FMAP': 'kan_3_3',\n",
              " 'FT': 'FE_2_3',\n",
              " 'ft': 'FE_2_1',\n",
              " 'FV': 'FE_3_3',\n",
              " 'fv': 'FE_3_1',\n",
              " 'FY': 'FE_4_3',\n",
              " 'fy': 'FE_4_1',\n",
              " 'Ma': 'K_1_2',\n",
              " 'ma': 'K_1_1',\n",
              " 'MA': 'K_1_3',\n",
              " 'Ma-p': 'K_2_2',\n",
              " 'ma-p': 'K_2_1',\n",
              " 'MA-P': 'K_2_3',\n",
              " 'Mp': 'K_3_2',\n",
              " 'mp': 'K_3_1',\n",
              " 'MP': 'K_3_3',\n",
              " 'T': 'E_3_3',\n",
              " 't': 'E_3_1',\n",
              " 'TF': 'EF_2_3',\n",
              " 'tf': 'EF_2_1',\n",
              " 'V': 'E_2_3',\n",
              " 'v': 'E_2_1',\n",
              " 'VF': 'C_1_3',\n",
              " 'vf': 'C_1_1',\n",
              " 'Y': 'EF_3_3',\n",
              " 'y': 'EF_3_1',\n",
              " 'YF': 'E_1_3',\n",
              " 'yf': 'E_1_1',\n",
              " 'Fr': 'EF_1_2',\n",
              " 'fr': 'EF_1_1',\n",
              " 'FR': 'EF_1_3',\n",
              " 'rF': 'F_1_2',\n",
              " 'rf': 'F_1_1',\n",
              " 'RF': 'F_1_3'}"
            ]
          },
          "execution_count": 16,
          "metadata": {},
          "output_type": "execute_result"
        }
      ],
      "source": [
        "translation_determinants"
      ]
    },
    {
      "cell_type": "code",
      "execution_count": 17,
      "metadata": {},
      "outputs": [],
      "source": [
        "translation_contents = {}\n",
        "for k, v in translation_conts.items():\n",
        "    translation_contents[k] = v + \"_1\"\n",
        "    translation_contents[str(k).lower()] = v + \"_2\"\n",
        "    translation_contents[str(k).upper()] = v + \"_3\""
      ]
    },
    {
      "cell_type": "code",
      "execution_count": 18,
      "metadata": {},
      "outputs": [
        {
          "data": {
            "text/plain": [
              "{'An': 'Anat_1_1',\n",
              " 'an': 'Anat_1_2',\n",
              " 'AN': 'Anat_1_3',\n",
              " 'Ay': 'Obj_2_1',\n",
              " 'ay': 'Obj_2_2',\n",
              " 'AY': 'Obj_2_3',\n",
              " 'Bl': 'Sg_1_1',\n",
              " 'bl': 'Sg_1_2',\n",
              " 'BL': 'Sg_1_3',\n",
              " 'Bt': 'Bot_1_1',\n",
              " 'bt': 'Bot_1_2',\n",
              " 'BT': 'Bot_1_3',\n",
              " 'Cg': 'Vet_1_1',\n",
              " 'cg': 'Vet_1_2',\n",
              " 'CG': 'Vet_1_3',\n",
              " 'Cl': 'Frag_1_1',\n",
              " 'cl': 'Frag_1_2',\n",
              " 'CL': 'Frag_1_3',\n",
              " 'Ex': 'Frag_2_1',\n",
              " 'ex': 'Frag_2_2',\n",
              " 'EX': 'Frag_2_3',\n",
              " 'Fd': 'Alim_1_1',\n",
              " 'fd': 'Alim_1_2',\n",
              " 'FD': 'Alim_1_3',\n",
              " 'Fi': 'Elem_1_1',\n",
              " 'fi': 'Elem_1_2',\n",
              " 'FI': 'Elem_1_3',\n",
              " 'Hh': 'Obj_1_1',\n",
              " 'hh': 'Obj_1_2',\n",
              " 'HH': 'Obj_1_3',\n",
              " 'Hx': 'Abs_1_1',\n",
              " 'hx': 'Abs_1_2',\n",
              " 'HX': 'Abs_1_3',\n",
              " 'Ls': 'Pays_1_1',\n",
              " 'ls': 'Pays_1_2',\n",
              " 'LS': 'Pays_1_3',\n",
              " 'Na': 'Nat_1_1',\n",
              " 'na': 'Nat_1_2',\n",
              " 'NA': 'Nat_1_3',\n",
              " 'Sx': 'Sex_1_1',\n",
              " 'sx': 'Sex_1_2',\n",
              " 'SX': 'Sex_1_3',\n",
              " 'Xy': 'Radio_1_1',\n",
              " 'xy': 'Radio_1_2',\n",
              " 'XY': 'Radio_1_3'}"
            ]
          },
          "execution_count": 18,
          "metadata": {},
          "output_type": "execute_result"
        }
      ],
      "source": [
        "translation_contents"
      ]
    },
    {
      "cell_type": "code",
      "execution_count": 19,
      "metadata": {},
      "outputs": [],
      "source": [
        "# for k, val in translation_contents.items():\n",
        "#     df[\"Contents\"] = df[\"Contents\"].str.replace(k, val)\n",
        "    \n",
        "# for k, val in translation_determinants.items():\n",
        "#     df[\"Determinants\"] = df[\"Determinants\"].str.replace(k, val)"
      ]
    },
    {
      "cell_type": "markdown",
      "metadata": {},
      "source": [
        "MULTILABEL CLASSIFICATION"
      ]
    },
    {
      "cell_type": "markdown",
      "metadata": {},
      "source": [
        "If we were to leave the labels as they are, the models would be predicting the whole string corresponding to the data instead of the label. To model this problem, I will make dummy variables for each possible label"
      ]
    },
    {
      "cell_type": "code",
      "execution_count": 20,
      "metadata": {},
      "outputs": [],
      "source": [
        "labels = df[[\"Determinants\"]]"
      ]
    },
    {
      "cell_type": "code",
      "execution_count": 21,
      "metadata": {},
      "outputs": [],
      "source": [
        "# np.unique(labels) checking that the replacement worked"
      ]
    },
    {
      "cell_type": "code",
      "execution_count": 22,
      "metadata": {},
      "outputs": [],
      "source": [
        "labels_contents = df[[\"Contents\"]]"
      ]
    },
    {
      "cell_type": "markdown",
      "metadata": {},
      "source": [
        "### Exploring the determinant labels"
      ]
    },
    {
      "cell_type": "markdown",
      "metadata": {},
      "source": [
        "Since the determinants columns can contain multiple determinant values for each entry, I will get dummy variables. "
      ]
    },
    {
      "cell_type": "code",
      "execution_count": 23,
      "metadata": {},
      "outputs": [],
      "source": [
        "labels = labels.apply(lambda labels: [x.split(\",\") for x in labels])\n",
        "labels_determinants = labels['Determinants'].str.join('|').str.get_dummies()"
      ]
    },
    {
      "cell_type": "code",
      "execution_count": 24,
      "metadata": {},
      "outputs": [
        {
          "data": {
            "text/html": [
              "<div>\n",
              "<style scoped>\n",
              "    .dataframe tbody tr th:only-of-type {\n",
              "        vertical-align: middle;\n",
              "    }\n",
              "\n",
              "    .dataframe tbody tr th {\n",
              "        vertical-align: top;\n",
              "    }\n",
              "\n",
              "    .dataframe thead th {\n",
              "        text-align: right;\n",
              "    }\n",
              "</style>\n",
              "<table border=\"1\" class=\"dataframe\">\n",
              "  <thead>\n",
              "    <tr style=\"text-align: right;\">\n",
              "      <th></th>\n",
              "      <th>C</th>\n",
              "      <th>C'</th>\n",
              "      <th>C'F</th>\n",
              "      <th>CF</th>\n",
              "      <th>Cn</th>\n",
              "      <th>F</th>\n",
              "      <th>FC</th>\n",
              "      <th>FC'</th>\n",
              "      <th>FD</th>\n",
              "      <th>FMa</th>\n",
              "      <th>...</th>\n",
              "      <th>T</th>\n",
              "      <th>TF</th>\n",
              "      <th>V</th>\n",
              "      <th>VF</th>\n",
              "      <th>Y</th>\n",
              "      <th>YF</th>\n",
              "      <th>ma</th>\n",
              "      <th>ma-p</th>\n",
              "      <th>mp</th>\n",
              "      <th>rF</th>\n",
              "    </tr>\n",
              "  </thead>\n",
              "  <tbody>\n",
              "    <tr>\n",
              "      <th>121</th>\n",
              "      <td>0</td>\n",
              "      <td>0</td>\n",
              "      <td>0</td>\n",
              "      <td>0</td>\n",
              "      <td>0</td>\n",
              "      <td>0</td>\n",
              "      <td>0</td>\n",
              "      <td>0</td>\n",
              "      <td>0</td>\n",
              "      <td>0</td>\n",
              "      <td>...</td>\n",
              "      <td>0</td>\n",
              "      <td>0</td>\n",
              "      <td>0</td>\n",
              "      <td>0</td>\n",
              "      <td>0</td>\n",
              "      <td>0</td>\n",
              "      <td>0</td>\n",
              "      <td>0</td>\n",
              "      <td>0</td>\n",
              "      <td>0</td>\n",
              "    </tr>\n",
              "    <tr>\n",
              "      <th>129</th>\n",
              "      <td>0</td>\n",
              "      <td>0</td>\n",
              "      <td>0</td>\n",
              "      <td>0</td>\n",
              "      <td>0</td>\n",
              "      <td>0</td>\n",
              "      <td>0</td>\n",
              "      <td>0</td>\n",
              "      <td>0</td>\n",
              "      <td>0</td>\n",
              "      <td>...</td>\n",
              "      <td>0</td>\n",
              "      <td>0</td>\n",
              "      <td>0</td>\n",
              "      <td>0</td>\n",
              "      <td>0</td>\n",
              "      <td>0</td>\n",
              "      <td>0</td>\n",
              "      <td>0</td>\n",
              "      <td>0</td>\n",
              "      <td>0</td>\n",
              "    </tr>\n",
              "    <tr>\n",
              "      <th>130</th>\n",
              "      <td>0</td>\n",
              "      <td>0</td>\n",
              "      <td>0</td>\n",
              "      <td>0</td>\n",
              "      <td>0</td>\n",
              "      <td>0</td>\n",
              "      <td>1</td>\n",
              "      <td>0</td>\n",
              "      <td>0</td>\n",
              "      <td>0</td>\n",
              "      <td>...</td>\n",
              "      <td>0</td>\n",
              "      <td>0</td>\n",
              "      <td>0</td>\n",
              "      <td>0</td>\n",
              "      <td>0</td>\n",
              "      <td>0</td>\n",
              "      <td>0</td>\n",
              "      <td>0</td>\n",
              "      <td>0</td>\n",
              "      <td>0</td>\n",
              "    </tr>\n",
              "    <tr>\n",
              "      <th>144</th>\n",
              "      <td>0</td>\n",
              "      <td>0</td>\n",
              "      <td>0</td>\n",
              "      <td>0</td>\n",
              "      <td>0</td>\n",
              "      <td>1</td>\n",
              "      <td>0</td>\n",
              "      <td>0</td>\n",
              "      <td>0</td>\n",
              "      <td>0</td>\n",
              "      <td>...</td>\n",
              "      <td>0</td>\n",
              "      <td>0</td>\n",
              "      <td>0</td>\n",
              "      <td>0</td>\n",
              "      <td>0</td>\n",
              "      <td>0</td>\n",
              "      <td>0</td>\n",
              "      <td>0</td>\n",
              "      <td>0</td>\n",
              "      <td>0</td>\n",
              "    </tr>\n",
              "    <tr>\n",
              "      <th>155</th>\n",
              "      <td>0</td>\n",
              "      <td>0</td>\n",
              "      <td>0</td>\n",
              "      <td>0</td>\n",
              "      <td>0</td>\n",
              "      <td>0</td>\n",
              "      <td>0</td>\n",
              "      <td>0</td>\n",
              "      <td>0</td>\n",
              "      <td>0</td>\n",
              "      <td>...</td>\n",
              "      <td>0</td>\n",
              "      <td>0</td>\n",
              "      <td>0</td>\n",
              "      <td>0</td>\n",
              "      <td>0</td>\n",
              "      <td>0</td>\n",
              "      <td>0</td>\n",
              "      <td>0</td>\n",
              "      <td>0</td>\n",
              "      <td>0</td>\n",
              "    </tr>\n",
              "    <tr>\n",
              "      <th>...</th>\n",
              "      <td>...</td>\n",
              "      <td>...</td>\n",
              "      <td>...</td>\n",
              "      <td>...</td>\n",
              "      <td>...</td>\n",
              "      <td>...</td>\n",
              "      <td>...</td>\n",
              "      <td>...</td>\n",
              "      <td>...</td>\n",
              "      <td>...</td>\n",
              "      <td>...</td>\n",
              "      <td>...</td>\n",
              "      <td>...</td>\n",
              "      <td>...</td>\n",
              "      <td>...</td>\n",
              "      <td>...</td>\n",
              "      <td>...</td>\n",
              "      <td>...</td>\n",
              "      <td>...</td>\n",
              "      <td>...</td>\n",
              "      <td>...</td>\n",
              "    </tr>\n",
              "    <tr>\n",
              "      <th>506392</th>\n",
              "      <td>0</td>\n",
              "      <td>0</td>\n",
              "      <td>0</td>\n",
              "      <td>0</td>\n",
              "      <td>0</td>\n",
              "      <td>0</td>\n",
              "      <td>0</td>\n",
              "      <td>0</td>\n",
              "      <td>0</td>\n",
              "      <td>0</td>\n",
              "      <td>...</td>\n",
              "      <td>0</td>\n",
              "      <td>0</td>\n",
              "      <td>0</td>\n",
              "      <td>0</td>\n",
              "      <td>0</td>\n",
              "      <td>0</td>\n",
              "      <td>0</td>\n",
              "      <td>0</td>\n",
              "      <td>0</td>\n",
              "      <td>0</td>\n",
              "    </tr>\n",
              "    <tr>\n",
              "      <th>506395</th>\n",
              "      <td>0</td>\n",
              "      <td>0</td>\n",
              "      <td>0</td>\n",
              "      <td>0</td>\n",
              "      <td>0</td>\n",
              "      <td>0</td>\n",
              "      <td>0</td>\n",
              "      <td>0</td>\n",
              "      <td>0</td>\n",
              "      <td>0</td>\n",
              "      <td>...</td>\n",
              "      <td>0</td>\n",
              "      <td>0</td>\n",
              "      <td>0</td>\n",
              "      <td>0</td>\n",
              "      <td>0</td>\n",
              "      <td>0</td>\n",
              "      <td>0</td>\n",
              "      <td>0</td>\n",
              "      <td>0</td>\n",
              "      <td>0</td>\n",
              "    </tr>\n",
              "    <tr>\n",
              "      <th>506398</th>\n",
              "      <td>0</td>\n",
              "      <td>0</td>\n",
              "      <td>0</td>\n",
              "      <td>0</td>\n",
              "      <td>0</td>\n",
              "      <td>0</td>\n",
              "      <td>0</td>\n",
              "      <td>0</td>\n",
              "      <td>0</td>\n",
              "      <td>1</td>\n",
              "      <td>...</td>\n",
              "      <td>0</td>\n",
              "      <td>0</td>\n",
              "      <td>0</td>\n",
              "      <td>0</td>\n",
              "      <td>0</td>\n",
              "      <td>0</td>\n",
              "      <td>0</td>\n",
              "      <td>0</td>\n",
              "      <td>0</td>\n",
              "      <td>0</td>\n",
              "    </tr>\n",
              "    <tr>\n",
              "      <th>506451</th>\n",
              "      <td>0</td>\n",
              "      <td>0</td>\n",
              "      <td>0</td>\n",
              "      <td>1</td>\n",
              "      <td>0</td>\n",
              "      <td>0</td>\n",
              "      <td>0</td>\n",
              "      <td>0</td>\n",
              "      <td>1</td>\n",
              "      <td>0</td>\n",
              "      <td>...</td>\n",
              "      <td>0</td>\n",
              "      <td>0</td>\n",
              "      <td>0</td>\n",
              "      <td>0</td>\n",
              "      <td>0</td>\n",
              "      <td>0</td>\n",
              "      <td>0</td>\n",
              "      <td>0</td>\n",
              "      <td>0</td>\n",
              "      <td>0</td>\n",
              "    </tr>\n",
              "    <tr>\n",
              "      <th>506456</th>\n",
              "      <td>0</td>\n",
              "      <td>0</td>\n",
              "      <td>0</td>\n",
              "      <td>0</td>\n",
              "      <td>0</td>\n",
              "      <td>0</td>\n",
              "      <td>0</td>\n",
              "      <td>0</td>\n",
              "      <td>0</td>\n",
              "      <td>0</td>\n",
              "      <td>...</td>\n",
              "      <td>0</td>\n",
              "      <td>0</td>\n",
              "      <td>0</td>\n",
              "      <td>0</td>\n",
              "      <td>0</td>\n",
              "      <td>0</td>\n",
              "      <td>0</td>\n",
              "      <td>0</td>\n",
              "      <td>0</td>\n",
              "      <td>0</td>\n",
              "    </tr>\n",
              "  </tbody>\n",
              "</table>\n",
              "<p>14351 rows × 29 columns</p>\n",
              "</div>"
            ],
            "text/plain": [
              "        C  C'  C'F  CF  Cn  F  FC  FC'  FD  FMa  ...  T  TF  V  VF  Y  YF  ma  \\\n",
              "121     0   0    0   0   0  0   0    0   0    0  ...  0   0  0   0  0   0   0   \n",
              "129     0   0    0   0   0  0   0    0   0    0  ...  0   0  0   0  0   0   0   \n",
              "130     0   0    0   0   0  0   1    0   0    0  ...  0   0  0   0  0   0   0   \n",
              "144     0   0    0   0   0  1   0    0   0    0  ...  0   0  0   0  0   0   0   \n",
              "155     0   0    0   0   0  0   0    0   0    0  ...  0   0  0   0  0   0   0   \n",
              "...    ..  ..  ...  ..  .. ..  ..  ...  ..  ...  ... ..  .. ..  .. ..  ..  ..   \n",
              "506392  0   0    0   0   0  0   0    0   0    0  ...  0   0  0   0  0   0   0   \n",
              "506395  0   0    0   0   0  0   0    0   0    0  ...  0   0  0   0  0   0   0   \n",
              "506398  0   0    0   0   0  0   0    0   0    1  ...  0   0  0   0  0   0   0   \n",
              "506451  0   0    0   1   0  0   0    0   1    0  ...  0   0  0   0  0   0   0   \n",
              "506456  0   0    0   0   0  0   0    0   0    0  ...  0   0  0   0  0   0   0   \n",
              "\n",
              "        ma-p  mp  rF  \n",
              "121        0   0   0  \n",
              "129        0   0   0  \n",
              "130        0   0   0  \n",
              "144        0   0   0  \n",
              "155        0   0   0  \n",
              "...      ...  ..  ..  \n",
              "506392     0   0   0  \n",
              "506395     0   0   0  \n",
              "506398     0   0   0  \n",
              "506451     0   0   0  \n",
              "506456     0   0   0  \n",
              "\n",
              "[14351 rows x 29 columns]"
            ]
          },
          "execution_count": 24,
          "metadata": {},
          "output_type": "execute_result"
        }
      ],
      "source": [
        "labels_determinants"
      ]
    },
    {
      "cell_type": "code",
      "execution_count": 29,
      "metadata": {},
      "outputs": [
        {
          "data": {
            "text/plain": [
              "['C',\n",
              " \"C'\",\n",
              " \"C'F\",\n",
              " 'CF',\n",
              " 'C_1_3',\n",
              " 'Cn',\n",
              " 'EF_1_2',\n",
              " 'EF_2_3',\n",
              " 'EF_3_3',\n",
              " 'E_1_3',\n",
              " 'E_2_3',\n",
              " 'E_3_3',\n",
              " 'F',\n",
              " 'FC',\n",
              " \"FC'\",\n",
              " 'FE_1_3',\n",
              " 'FE_2_3',\n",
              " 'FE_3_3',\n",
              " 'FE_4_3',\n",
              " 'FMp',\n",
              " 'F_1_2',\n",
              " 'K_1_1',\n",
              " 'K_1_2',\n",
              " 'K_2_1',\n",
              " 'K_2_2',\n",
              " 'K_3_1',\n",
              " 'K_3_2',\n",
              " 'kan_1_2',\n",
              " 'kan_2_2']"
            ]
          },
          "execution_count": 29,
          "metadata": {},
          "output_type": "execute_result"
        }
      ],
      "source": [
        "labels_determinants = labels_determinants.rename(columns=translation_determinants)\n",
        "list_changes = sorted(list(labels_determinants.columns))\n",
        "list_changes"
      ]
    },
    {
      "cell_type": "code",
      "execution_count": null,
      "metadata": {},
      "outputs": [],
      "source": [
        "# some columns that have been modified by the translations\n",
        "\n",
        "C = [\"C\", \"C_1_3\"]\n",
        "EF = ['EF_1_2', 'EF_2_3', 'EF_3_3']\n",
        "E = ['E_1_3', 'E_2_3', 'E_3_3']\n",
        "F = [ 'F', 'F_1_2']\n",
        "FE = ['FE_1_3', 'FE_2_3', 'FE_3_3', 'FE_4_3']\n",
        "kan = ['kan_1_2', 'kan_2_2']\n",
        "K = [ 'K_1_1','K_1_2', 'K_2_1', 'K_2_2', 'K_3_1', 'K_3_2']"
      ]
    },
    {
      "cell_type": "code",
      "execution_count": 26,
      "metadata": {},
      "outputs": [
        {
          "data": {
            "text/plain": [
              "{'C': 159,\n",
              " \"C'\": 88,\n",
              " \"C'F\": 226,\n",
              " 'CF': 588,\n",
              " 'Cn': 23,\n",
              " 'F': 4859,\n",
              " 'FC': 1033,\n",
              " \"FC'\": 1060,\n",
              " 'FE_1_3': 922,\n",
              " 'kan_1_2': 1161,\n",
              " 'kan_2_2': 26,\n",
              " 'FMp': 497,\n",
              " 'FE_2_3': 314,\n",
              " 'FE_3_3': 217,\n",
              " 'FE_4_3': 457,\n",
              " 'EF_1_2': 321,\n",
              " 'K_1_2': 3378,\n",
              " 'K_2_2': 76,\n",
              " 'K_3_2': 2118,\n",
              " 'E_3_3': 39,\n",
              " 'EF_2_3': 100,\n",
              " 'E_2_3': 16,\n",
              " 'C_1_3': 65,\n",
              " 'EF_3_3': 35,\n",
              " 'E_1_3': 118,\n",
              " 'K_1_1': 343,\n",
              " 'K_2_1': 9,\n",
              " 'K_3_1': 321,\n",
              " 'F_1_2': 35,\n",
              " 'total': 18604}"
            ]
          },
          "execution_count": 26,
          "metadata": {},
          "output_type": "execute_result"
        }
      ],
      "source": [
        "agg_dict_determinants = {}\n",
        "total = 0\n",
        "for label in labels_determinants.columns:\n",
        "    total_label = sum(labels_determinants[label])\n",
        "    total = total + total_label\n",
        "    agg_dict_determinants[label] = total_label\n",
        "agg_dict_determinants[\"total\"] = total\n",
        "agg_dict_determinants"
      ]
    },
    {
      "cell_type": "code",
      "execution_count": 27,
      "metadata": {},
      "outputs": [
        {
          "data": {
            "text/plain": [
              "{'C': 159,\n",
              " \"C'\": 88,\n",
              " \"C'F\": 226,\n",
              " 'CF': 588,\n",
              " 'Cn': 23,\n",
              " 'F': 4859,\n",
              " 'FC': 1033,\n",
              " \"FC'\": 1060,\n",
              " 'FE_1_3': 922,\n",
              " 'FMp': 497,\n",
              " 'FE_2_3': 314,\n",
              " 'FE_3_3': 217,\n",
              " 'FE_4_3': 457,\n",
              " 'EF_1_2': 321,\n",
              " 'K_1_2': 3378,\n",
              " 'K_2_2': 76,\n",
              " 'K_3_2': 2118,\n",
              " 'E_3_3': 39,\n",
              " 'EF_2_3': 100,\n",
              " 'E_2_3': 16,\n",
              " 'C_1_3': 65,\n",
              " 'EF_3_3': 35,\n",
              " 'E_1_3': 118,\n",
              " 'K_1_1': 343,\n",
              " 'K_2_1': 9,\n",
              " 'K_3_1': 321,\n",
              " 'F_1_2': 35,\n",
              " 'total': 17417}"
            ]
          },
          "execution_count": 27,
          "metadata": {},
          "output_type": "execute_result"
        }
      ],
      "source": [
        "# actual count for the labels in the dataset\n",
        "\n",
        "for col in labels_determinants:\n",
        "    lower_case_col = str(col).lower()\n",
        "    if lower_case_col in labels_determinants.columns:\n",
        "        labels_determinants[col] = labels_determinants[col] + labels_determinants[lower_case_col]\n",
        "        del labels_determinants[lower_case_col]\n",
        "\n",
        "# to check the sum was done correctly\n",
        "agg_dict_determinants = {}\n",
        "total = 0\n",
        "for label in labels_determinants.columns:\n",
        "    total_label = sum(labels_determinants[label])\n",
        "    total = total + total_label\n",
        "    agg_dict_determinants[label] = total_label\n",
        "agg_dict_determinants[\"total\"] = total\n",
        "agg_dict_determinants"
      ]
    },
    {
      "cell_type": "code",
      "execution_count": null,
      "metadata": {},
      "outputs": [],
      "source": []
    },
    {
      "cell_type": "code",
      "execution_count": 28,
      "metadata": {},
      "outputs": [],
      "source": [
        "list_dets = []\n",
        "for k, v in agg_dict_determinants.items():\n",
        "    list_dets.append(k)"
      ]
    },
    {
      "cell_type": "code",
      "execution_count": 29,
      "metadata": {},
      "outputs": [
        {
          "name": "stdout",
          "output_type": "stream",
          "text": [
            "['C', \"C'\", \"C'F\", 'CF', 'Cn', 'F', 'FC', \"FC'\", 'FE_1_3', 'FMp', 'FE_2_3', 'FE_3_3', 'FE_4_3', 'EF_1_2', 'K_1_2', 'K_2_2', 'K_3_2', 'E_3_3', 'EF_2_3', 'E_2_3', 'C_1_3', 'EF_3_3', 'E_1_3', 'K_1_1', 'K_2_1', 'K_3_1', 'F_1_2', 'total']\n"
          ]
        }
      ],
      "source": [
        "print(list_dets)"
      ]
    },
    {
      "cell_type": "markdown",
      "metadata": {},
      "source": [
        "Now we can see the actual distribution of the labels in the data!"
      ]
    },
    {
      "cell_type": "code",
      "execution_count": 30,
      "metadata": {},
      "outputs": [
        {
          "data": {
            "image/png": "[encoded data removed]",
            "text/plain": [
              "<Figure size 1200x800 with 1 Axes>"
            ]
          },
          "metadata": {},
          "output_type": "display_data"
        }
      ],
      "source": [
        "# distribution of the labels\n",
        "\n",
        "fig, ax = plt.subplots(figsize=(12,8))\n",
        "sns.barplot(data=labels_determinants)\n",
        "ax.set_xlabel(\"Determinant Classification\")\n",
        "ax.set_ylabel(\"Frequency\")\n",
        "plt.show()"
      ]
    },
    {
      "cell_type": "code",
      "execution_count": 31,
      "metadata": {},
      "outputs": [
        {
          "name": "stdout",
          "output_type": "stream",
          "text": [
            "Determinant:  Cn                                                     count\n",
            "FQText                                                   \n",
            "Insect                                                  4\n",
            "Art (Abstract)                                          3\n",
            "Humans or Human-Like Figures (As D1 in a scene ...      2\n",
            "Animals (Unspecified)                                   2\n",
            "Animals (Two, unspecified)                              1\n",
            "Humans (Two with D7 as separate object)                 1\n",
            "Head (Animal)                                           1\n",
            "Face (Human or animal)                                  1\n",
            "Boat (With sails, front view)                           1\n",
            "Animal(s)                                               1\n",
            "Animal (Four legged, and appropriate to contour...      1\n",
            "Body                                                    1\n",
            "Pelvis                                                  1\n",
            "Walkway (As center space and other areas as flo...      1\n",
            "Anatomy                                                 1\n",
            "Island                                                  1 \n",
            "\n",
            "Determinant:  E_3_3 Empty DataFrame\n",
            "Columns: [count]\n",
            "Index: [] \n",
            "\n",
            "Determinant:  E_2_3 Empty DataFrame\n",
            "Columns: [count]\n",
            "Index: [] \n",
            "\n",
            "Determinant:  EF_3_3 Empty DataFrame\n",
            "Columns: [count]\n",
            "Index: [] \n",
            "\n",
            "Determinant:  K_2_1 Empty DataFrame\n",
            "Columns: [count]\n",
            "Index: [] \n",
            "\n",
            "Determinant:  F_1_2 Empty DataFrame\n",
            "Columns: [count]\n",
            "Index: [] \n",
            "\n"
          ]
        }
      ],
      "source": [
        "# looking at the common values for these more niche determinants\n",
        "# cutoff = 0.05 * \n",
        "\n",
        "list_niche_dets = [key for key, value in agg_dict_determinants.items() if value < 50]\n",
        "\n",
        "for det in list_niche_dets:\n",
        "    example_values = pd.DataFrame(df[df[\"Determinants\"].str.contains(det)][\"FQText\"].value_counts())\n",
        "    print(\"Determinant: \",det, example_values, \"\\n\")"
      ]
    },
    {
      "cell_type": "markdown",
      "metadata": {},
      "source": [
        "As we can see some responses seem to be repeated for different determinant labels but that could be due to various labels usually appearing together"
      ]
    },
    {
      "cell_type": "code",
      "execution_count": 32,
      "metadata": {},
      "outputs": [
        {
          "data": {
            "text/plain": [
              "['Cn', 'E_3_3', 'E_2_3', 'EF_3_3', 'K_2_1', 'F_1_2']"
            ]
          },
          "execution_count": 32,
          "metadata": {},
          "output_type": "execute_result"
        }
      ],
      "source": [
        "list_niche_dets"
      ]
    },
    {
      "cell_type": "code",
      "execution_count": 33,
      "metadata": {},
      "outputs": [
        {
          "data": {
            "text/html": [
              "<div>\n",
              "<style scoped>\n",
              "    .dataframe tbody tr th:only-of-type {\n",
              "        vertical-align: middle;\n",
              "    }\n",
              "\n",
              "    .dataframe tbody tr th {\n",
              "        vertical-align: top;\n",
              "    }\n",
              "\n",
              "    .dataframe thead th {\n",
              "        text-align: right;\n",
              "    }\n",
              "</style>\n",
              "<table border=\"1\" class=\"dataframe\">\n",
              "  <thead>\n",
              "    <tr style=\"text-align: right;\">\n",
              "      <th></th>\n",
              "      <th>User</th>\n",
              "      <th>PQLevel</th>\n",
              "      <th>Client</th>\n",
              "      <th>Age</th>\n",
              "      <th>Gender</th>\n",
              "      <th>Country</th>\n",
              "      <th>Protocol</th>\n",
              "      <th>TestDate</th>\n",
              "      <th>R</th>\n",
              "      <th>ResponseOrder</th>\n",
              "      <th>...</th>\n",
              "      <th>Determinants</th>\n",
              "      <th>Pair</th>\n",
              "      <th>FormQuality</th>\n",
              "      <th>FQText</th>\n",
              "      <th>Contents</th>\n",
              "      <th>Popular</th>\n",
              "      <th>ZCode</th>\n",
              "      <th>ZScore</th>\n",
              "      <th>SpecialScores</th>\n",
              "      <th>Rejection</th>\n",
              "    </tr>\n",
              "  </thead>\n",
              "  <tbody>\n",
              "  </tbody>\n",
              "</table>\n",
              "<p>0 rows × 24 columns</p>\n",
              "</div>"
            ],
            "text/plain": [
              "Empty DataFrame\n",
              "Columns: [User, PQLevel, Client, Age, Gender, Country, Protocol, TestDate, R, ResponseOrder, cardID, Location, LocationNumber, DevelopmentalQuality, Determinants, Pair, FormQuality, FQText, Contents, Popular, ZCode, ZScore, SpecialScores, Rejection]\n",
              "Index: []\n",
              "\n",
              "[0 rows x 24 columns]"
            ]
          },
          "execution_count": 33,
          "metadata": {},
          "output_type": "execute_result"
        }
      ],
      "source": [
        "deter_counts_composed = df[\"Determinants\"].isin(list_niche_dets)\n",
        "df[deter_counts_composed]\n",
        "\n"
      ]
    },
    {
      "cell_type": "markdown",
      "metadata": {},
      "source": [
        "From the underrepresented determinants, FMA-p and rf are the only ones that show up on their own, it is safe to assume the other determinants appear alongside others."
      ]
    },
    {
      "cell_type": "code",
      "execution_count": 34,
      "metadata": {},
      "outputs": [
        {
          "data": {
            "text/html": [
              "<div>\n",
              "<style scoped>\n",
              "    .dataframe tbody tr th:only-of-type {\n",
              "        vertical-align: middle;\n",
              "    }\n",
              "\n",
              "    .dataframe tbody tr th {\n",
              "        vertical-align: top;\n",
              "    }\n",
              "\n",
              "    .dataframe thead th {\n",
              "        text-align: right;\n",
              "    }\n",
              "</style>\n",
              "<table border=\"1\" class=\"dataframe\">\n",
              "  <thead>\n",
              "    <tr style=\"text-align: right;\">\n",
              "      <th></th>\n",
              "      <th>User</th>\n",
              "      <th>PQLevel</th>\n",
              "      <th>Client</th>\n",
              "      <th>Age</th>\n",
              "      <th>Gender</th>\n",
              "      <th>Country</th>\n",
              "      <th>Protocol</th>\n",
              "      <th>TestDate</th>\n",
              "      <th>R</th>\n",
              "      <th>ResponseOrder</th>\n",
              "      <th>...</th>\n",
              "      <th>Determinants</th>\n",
              "      <th>Pair</th>\n",
              "      <th>FormQuality</th>\n",
              "      <th>FQText</th>\n",
              "      <th>Contents</th>\n",
              "      <th>Popular</th>\n",
              "      <th>ZCode</th>\n",
              "      <th>ZScore</th>\n",
              "      <th>SpecialScores</th>\n",
              "      <th>Rejection</th>\n",
              "    </tr>\n",
              "  </thead>\n",
              "  <tbody>\n",
              "    <tr>\n",
              "      <th>30966</th>\n",
              "      <td>3468</td>\n",
              "      <td>C</td>\n",
              "      <td>47957</td>\n",
              "      <td>48</td>\n",
              "      <td>Female</td>\n",
              "      <td>United States (USA)</td>\n",
              "      <td>49022</td>\n",
              "      <td>4/21/2019 18:14</td>\n",
              "      <td>12</td>\n",
              "      <td>9</td>\n",
              "      <td>...</td>\n",
              "      <td>Ma,TF</td>\n",
              "      <td>1</td>\n",
              "      <td>o</td>\n",
              "      <td>Humans (Two)</td>\n",
              "      <td>Hd,Cl,Cg</td>\n",
              "      <td>1</td>\n",
              "      <td>ZW</td>\n",
              "      <td>2.5</td>\n",
              "      <td>GHR</td>\n",
              "      <td>0</td>\n",
              "    </tr>\n",
              "    <tr>\n",
              "      <th>47837</th>\n",
              "      <td>5998</td>\n",
              "      <td>C</td>\n",
              "      <td>35855</td>\n",
              "      <td>13</td>\n",
              "      <td>Female</td>\n",
              "      <td>United States (USA)</td>\n",
              "      <td>36753</td>\n",
              "      <td>11/8/2017 20:23</td>\n",
              "      <td>14</td>\n",
              "      <td>14</td>\n",
              "      <td>...</td>\n",
              "      <td>CF,TF,FD</td>\n",
              "      <td>0</td>\n",
              "      <td>-</td>\n",
              "      <td>Face</td>\n",
              "      <td>Hd,Cg</td>\n",
              "      <td>0</td>\n",
              "      <td>ZS</td>\n",
              "      <td>6.0</td>\n",
              "      <td>ALOG,PHR</td>\n",
              "      <td>0</td>\n",
              "    </tr>\n",
              "    <tr>\n",
              "      <th>51425</th>\n",
              "      <td>6872</td>\n",
              "      <td>C</td>\n",
              "      <td>57084</td>\n",
              "      <td>100</td>\n",
              "      <td>Not Specified</td>\n",
              "      <td>Czech Republic</td>\n",
              "      <td>58231</td>\n",
              "      <td>6/23/2020 4:58</td>\n",
              "      <td>9</td>\n",
              "      <td>9</td>\n",
              "      <td>...</td>\n",
              "      <td>Mp,FD,TF</td>\n",
              "      <td>0</td>\n",
              "      <td>o</td>\n",
              "      <td>Giant</td>\n",
              "      <td>H,Cg</td>\n",
              "      <td>1</td>\n",
              "      <td>ZW</td>\n",
              "      <td>2.0</td>\n",
              "      <td>GHR</td>\n",
              "      <td>0</td>\n",
              "    </tr>\n",
              "    <tr>\n",
              "      <th>66444</th>\n",
              "      <td>9020</td>\n",
              "      <td>C</td>\n",
              "      <td>33199</td>\n",
              "      <td>25</td>\n",
              "      <td>Female</td>\n",
              "      <td>Afghanistan</td>\n",
              "      <td>34070</td>\n",
              "      <td>6/20/2017 13:33</td>\n",
              "      <td>19</td>\n",
              "      <td>8</td>\n",
              "      <td>...</td>\n",
              "      <td>VF,FD,TF,FC'</td>\n",
              "      <td>0</td>\n",
              "      <td>-</td>\n",
              "      <td>Mountain</td>\n",
              "      <td>Ay,Ls</td>\n",
              "      <td>0</td>\n",
              "      <td>ZW</td>\n",
              "      <td>2.5</td>\n",
              "      <td>DR,ALOG</td>\n",
              "      <td>0</td>\n",
              "    </tr>\n",
              "    <tr>\n",
              "      <th>67183</th>\n",
              "      <td>9092</td>\n",
              "      <td>C</td>\n",
              "      <td>43211</td>\n",
              "      <td>38</td>\n",
              "      <td>Female</td>\n",
              "      <td>Philippines</td>\n",
              "      <td>44212</td>\n",
              "      <td>9/24/2018 1:49</td>\n",
              "      <td>46</td>\n",
              "      <td>20</td>\n",
              "      <td>...</td>\n",
              "      <td>F,TF</td>\n",
              "      <td>0</td>\n",
              "      <td>o</td>\n",
              "      <td>Bone (Skeletal)</td>\n",
              "      <td>An</td>\n",
              "      <td>0</td>\n",
              "      <td>ZD</td>\n",
              "      <td>3.5</td>\n",
              "      <td>AB</td>\n",
              "      <td>0</td>\n",
              "    </tr>\n",
              "    <tr>\n",
              "      <th>...</th>\n",
              "      <td>...</td>\n",
              "      <td>...</td>\n",
              "      <td>...</td>\n",
              "      <td>...</td>\n",
              "      <td>...</td>\n",
              "      <td>...</td>\n",
              "      <td>...</td>\n",
              "      <td>...</td>\n",
              "      <td>...</td>\n",
              "      <td>...</td>\n",
              "      <td>...</td>\n",
              "      <td>...</td>\n",
              "      <td>...</td>\n",
              "      <td>...</td>\n",
              "      <td>...</td>\n",
              "      <td>...</td>\n",
              "      <td>...</td>\n",
              "      <td>...</td>\n",
              "      <td>...</td>\n",
              "      <td>...</td>\n",
              "      <td>...</td>\n",
              "    </tr>\n",
              "    <tr>\n",
              "      <th>496648</th>\n",
              "      <td>28720</td>\n",
              "      <td>C</td>\n",
              "      <td>55284</td>\n",
              "      <td>27</td>\n",
              "      <td>Male</td>\n",
              "      <td>Philippines</td>\n",
              "      <td>56537</td>\n",
              "      <td>3/4/2020 21:45</td>\n",
              "      <td>16</td>\n",
              "      <td>12</td>\n",
              "      <td>...</td>\n",
              "      <td>F,CF,FMa,TF</td>\n",
              "      <td>1</td>\n",
              "      <td>-</td>\n",
              "      <td>Animal</td>\n",
              "      <td>A</td>\n",
              "      <td>1</td>\n",
              "      <td>ZW</td>\n",
              "      <td>4.5</td>\n",
              "      <td>PER</td>\n",
              "      <td>0</td>\n",
              "    </tr>\n",
              "    <tr>\n",
              "      <th>496649</th>\n",
              "      <td>28720</td>\n",
              "      <td>C</td>\n",
              "      <td>55284</td>\n",
              "      <td>27</td>\n",
              "      <td>Male</td>\n",
              "      <td>Philippines</td>\n",
              "      <td>56537</td>\n",
              "      <td>3/4/2020 21:45</td>\n",
              "      <td>16</td>\n",
              "      <td>13</td>\n",
              "      <td>...</td>\n",
              "      <td>FD,rF,mp,TF</td>\n",
              "      <td>0</td>\n",
              "      <td>u</td>\n",
              "      <td>Face (Monster)</td>\n",
              "      <td>(Hd)</td>\n",
              "      <td>0</td>\n",
              "      <td>ZW</td>\n",
              "      <td>5.5</td>\n",
              "      <td>AB,PHR,PER</td>\n",
              "      <td>0</td>\n",
              "    </tr>\n",
              "    <tr>\n",
              "      <th>496651</th>\n",
              "      <td>28720</td>\n",
              "      <td>C</td>\n",
              "      <td>55284</td>\n",
              "      <td>27</td>\n",
              "      <td>Male</td>\n",
              "      <td>Philippines</td>\n",
              "      <td>56537</td>\n",
              "      <td>3/4/2020 21:45</td>\n",
              "      <td>16</td>\n",
              "      <td>15</td>\n",
              "      <td>...</td>\n",
              "      <td>FD,CF,FMp,TF</td>\n",
              "      <td>1</td>\n",
              "      <td>-</td>\n",
              "      <td>Animal</td>\n",
              "      <td>Ad</td>\n",
              "      <td>0</td>\n",
              "      <td>ZA</td>\n",
              "      <td>4.0</td>\n",
              "      <td>PER</td>\n",
              "      <td>0</td>\n",
              "    </tr>\n",
              "    <tr>\n",
              "      <th>496652</th>\n",
              "      <td>28720</td>\n",
              "      <td>C</td>\n",
              "      <td>55284</td>\n",
              "      <td>27</td>\n",
              "      <td>Male</td>\n",
              "      <td>Philippines</td>\n",
              "      <td>56537</td>\n",
              "      <td>3/4/2020 21:45</td>\n",
              "      <td>16</td>\n",
              "      <td>16</td>\n",
              "      <td>...</td>\n",
              "      <td>FD,CF,FMp,TF</td>\n",
              "      <td>1</td>\n",
              "      <td>-</td>\n",
              "      <td>Animal</td>\n",
              "      <td>Ad</td>\n",
              "      <td>0</td>\n",
              "      <td>ZA</td>\n",
              "      <td>4.0</td>\n",
              "      <td>PER</td>\n",
              "      <td>0</td>\n",
              "    </tr>\n",
              "    <tr>\n",
              "      <th>506363</th>\n",
              "      <td>29924</td>\n",
              "      <td>C</td>\n",
              "      <td>58318</td>\n",
              "      <td>65</td>\n",
              "      <td>Female</td>\n",
              "      <td>United States (USA)</td>\n",
              "      <td>59476</td>\n",
              "      <td>9/11/2020 17:04</td>\n",
              "      <td>29</td>\n",
              "      <td>8</td>\n",
              "      <td>...</td>\n",
              "      <td>FC',mp,T</td>\n",
              "      <td>0</td>\n",
              "      <td>o</td>\n",
              "      <td>Lamp</td>\n",
              "      <td>Hh</td>\n",
              "      <td>0</td>\n",
              "      <td>ZS</td>\n",
              "      <td>4.5</td>\n",
              "      <td>CP</td>\n",
              "      <td>0</td>\n",
              "    </tr>\n",
              "  </tbody>\n",
              "</table>\n",
              "<p>91 rows × 24 columns</p>\n",
              "</div>"
            ],
            "text/plain": [
              "         User PQLevel  Client  Age         Gender              Country  \\\n",
              "30966    3468       C   47957   48         Female  United States (USA)   \n",
              "47837    5998       C   35855   13         Female  United States (USA)   \n",
              "51425    6872       C   57084  100  Not Specified       Czech Republic   \n",
              "66444    9020       C   33199   25         Female          Afghanistan   \n",
              "67183    9092       C   43211   38         Female          Philippines   \n",
              "...       ...     ...     ...  ...            ...                  ...   \n",
              "496648  28720       C   55284   27           Male          Philippines   \n",
              "496649  28720       C   55284   27           Male          Philippines   \n",
              "496651  28720       C   55284   27           Male          Philippines   \n",
              "496652  28720       C   55284   27           Male          Philippines   \n",
              "506363  29924       C   58318   65         Female  United States (USA)   \n",
              "\n",
              "        Protocol         TestDate   R  ResponseOrder  ...  Determinants Pair  \\\n",
              "30966      49022  4/21/2019 18:14  12              9  ...         Ma,TF    1   \n",
              "47837      36753  11/8/2017 20:23  14             14  ...      CF,TF,FD    0   \n",
              "51425      58231   6/23/2020 4:58   9              9  ...      Mp,FD,TF    0   \n",
              "66444      34070  6/20/2017 13:33  19              8  ...  VF,FD,TF,FC'    0   \n",
              "67183      44212   9/24/2018 1:49  46             20  ...          F,TF    0   \n",
              "...          ...              ...  ..            ...  ...           ...  ...   \n",
              "496648     56537   3/4/2020 21:45  16             12  ...   F,CF,FMa,TF    1   \n",
              "496649     56537   3/4/2020 21:45  16             13  ...   FD,rF,mp,TF    0   \n",
              "496651     56537   3/4/2020 21:45  16             15  ...  FD,CF,FMp,TF    1   \n",
              "496652     56537   3/4/2020 21:45  16             16  ...  FD,CF,FMp,TF    1   \n",
              "506363     59476  9/11/2020 17:04  29              8  ...      FC',mp,T    0   \n",
              "\n",
              "        FormQuality           FQText  Contents  Popular ZCode ZScore  \\\n",
              "30966             o     Humans (Two)  Hd,Cl,Cg        1    ZW    2.5   \n",
              "47837             -             Face     Hd,Cg        0    ZS    6.0   \n",
              "51425             o            Giant      H,Cg        1    ZW    2.0   \n",
              "66444             -         Mountain     Ay,Ls        0    ZW    2.5   \n",
              "67183             o  Bone (Skeletal)        An        0    ZD    3.5   \n",
              "...             ...              ...       ...      ...   ...    ...   \n",
              "496648            -           Animal         A        1    ZW    4.5   \n",
              "496649            u   Face (Monster)      (Hd)        0    ZW    5.5   \n",
              "496651            -           Animal        Ad        0    ZA    4.0   \n",
              "496652            -           Animal        Ad        0    ZA    4.0   \n",
              "506363            o             Lamp        Hh        0    ZS    4.5   \n",
              "\n",
              "       SpecialScores  Rejection  \n",
              "30966            GHR          0  \n",
              "47837       ALOG,PHR          0  \n",
              "51425            GHR          0  \n",
              "66444        DR,ALOG          0  \n",
              "67183             AB          0  \n",
              "...              ...        ...  \n",
              "496648           PER          0  \n",
              "496649    AB,PHR,PER          0  \n",
              "496651           PER          0  \n",
              "496652           PER          0  \n",
              "506363            CP          0  \n",
              "\n",
              "[91 rows x 24 columns]"
            ]
          },
          "execution_count": 34,
          "metadata": {},
          "output_type": "execute_result"
        }
      ],
      "source": [
        "df[df[\"Determinants\"].str.contains(\",T\")]"
      ]
    },
    {
      "cell_type": "markdown",
      "metadata": {},
      "source": [
        "Since there is so little data with just those labels, we may have to delete them altogether and aim for a more basic model."
      ]
    },
    {
      "cell_type": "markdown",
      "metadata": {},
      "source": [
        "However, it is still crucial to check the reliability of the data. I will look at cardID as well in case there are two determinant annotations  for the same answer in the same card."
      ]
    },
    {
      "cell_type": "code",
      "execution_count": 35,
      "metadata": {},
      "outputs": [],
      "source": [
        "# df[[\"FQText\", \"Determinants\", \"cardID\"]].value_counts().sort_index()"
      ]
    },
    {
      "cell_type": "code",
      "execution_count": 36,
      "metadata": {},
      "outputs": [
        {
          "data": {
            "text/html": [
              "<div>\n",
              "<style scoped>\n",
              "    .dataframe tbody tr th:only-of-type {\n",
              "        vertical-align: middle;\n",
              "    }\n",
              "\n",
              "    .dataframe tbody tr th {\n",
              "        vertical-align: top;\n",
              "    }\n",
              "\n",
              "    .dataframe thead tr th {\n",
              "        text-align: left;\n",
              "    }\n",
              "\n",
              "    .dataframe thead tr:last-of-type th {\n",
              "        text-align: right;\n",
              "    }\n",
              "</style>\n",
              "<table border=\"1\" class=\"dataframe\">\n",
              "  <thead>\n",
              "    <tr>\n",
              "      <th></th>\n",
              "      <th></th>\n",
              "      <th></th>\n",
              "      <th>FQText</th>\n",
              "    </tr>\n",
              "    <tr>\n",
              "      <th></th>\n",
              "      <th></th>\n",
              "      <th></th>\n",
              "      <th>count</th>\n",
              "    </tr>\n",
              "    <tr>\n",
              "      <th>FQText</th>\n",
              "      <th>Determinants</th>\n",
              "      <th>cardID</th>\n",
              "      <th></th>\n",
              "    </tr>\n",
              "  </thead>\n",
              "  <tbody>\n",
              "    <tr>\n",
              "      <th rowspan=\"4\" valign=\"top\">Abstract</th>\n",
              "      <th>F</th>\n",
              "      <th>7</th>\n",
              "      <td>2</td>\n",
              "    </tr>\n",
              "    <tr>\n",
              "      <th>Fr</th>\n",
              "      <th>7</th>\n",
              "      <td>1</td>\n",
              "    </tr>\n",
              "    <tr>\n",
              "      <th rowspan=\"2\" valign=\"top\">Mp</th>\n",
              "      <th>1</th>\n",
              "      <td>1</td>\n",
              "    </tr>\n",
              "    <tr>\n",
              "      <th>7</th>\n",
              "      <td>1</td>\n",
              "    </tr>\n",
              "    <tr>\n",
              "      <th>Abstract Drawing</th>\n",
              "      <th>F</th>\n",
              "      <th>6</th>\n",
              "      <td>1</td>\n",
              "    </tr>\n",
              "    <tr>\n",
              "      <th>...</th>\n",
              "      <th>...</th>\n",
              "      <th>...</th>\n",
              "      <td>...</td>\n",
              "    </tr>\n",
              "    <tr>\n",
              "      <th rowspan=\"5\" valign=\"top\">X-ray (Unspecified)</th>\n",
              "      <th>F</th>\n",
              "      <th>6</th>\n",
              "      <td>1</td>\n",
              "    </tr>\n",
              "    <tr>\n",
              "      <th rowspan=\"2\" valign=\"top\">FC'</th>\n",
              "      <th>3</th>\n",
              "      <td>2</td>\n",
              "    </tr>\n",
              "    <tr>\n",
              "      <th>6</th>\n",
              "      <td>1</td>\n",
              "    </tr>\n",
              "    <tr>\n",
              "      <th>FT,C'</th>\n",
              "      <th>3</th>\n",
              "      <td>1</td>\n",
              "    </tr>\n",
              "    <tr>\n",
              "      <th>FY</th>\n",
              "      <th>7</th>\n",
              "      <td>1</td>\n",
              "    </tr>\n",
              "  </tbody>\n",
              "</table>\n",
              "<p>5561 rows × 1 columns</p>\n",
              "</div>"
            ],
            "text/plain": [
              "                                        FQText\n",
              "                                         count\n",
              "FQText              Determinants cardID       \n",
              "Abstract            F            7           2\n",
              "                    Fr           7           1\n",
              "                    Mp           1           1\n",
              "                                 7           1\n",
              "Abstract Drawing    F            6           1\n",
              "...                                        ...\n",
              "X-ray (Unspecified) F            6           1\n",
              "                    FC'          3           2\n",
              "                                 6           1\n",
              "                    FT,C'        3           1\n",
              "                    FY           7           1\n",
              "\n",
              "[5561 rows x 1 columns]"
            ]
          },
          "execution_count": 36,
          "metadata": {},
          "output_type": "execute_result"
        }
      ],
      "source": [
        "card_ids_dets = df[[\"FQText\", \"Determinants\", \"cardID\"]]\n",
        "group = card_ids_dets.groupby([\"FQText\", \"Determinants\", \"cardID\"]).agg({\"FQText\" : [\"count\"]})\n",
        "group"
      ]
    },
    {
      "cell_type": "code",
      "execution_count": 37,
      "metadata": {},
      "outputs": [
        {
          "data": {
            "text/html": [
              "<div>\n",
              "<style scoped>\n",
              "    .dataframe tbody tr th:only-of-type {\n",
              "        vertical-align: middle;\n",
              "    }\n",
              "\n",
              "    .dataframe tbody tr th {\n",
              "        vertical-align: top;\n",
              "    }\n",
              "\n",
              "    .dataframe thead th {\n",
              "        text-align: right;\n",
              "    }\n",
              "</style>\n",
              "<table border=\"1\" class=\"dataframe\">\n",
              "  <thead>\n",
              "    <tr style=\"text-align: right;\">\n",
              "      <th></th>\n",
              "      <th>FQText</th>\n",
              "      <th>cardID</th>\n",
              "      <th>Determinants</th>\n",
              "      <th>Contents</th>\n",
              "    </tr>\n",
              "  </thead>\n",
              "  <tbody>\n",
              "    <tr>\n",
              "      <th>398851</th>\n",
              "      <td>Abstract</td>\n",
              "      <td>7</td>\n",
              "      <td>Mp</td>\n",
              "      <td>Hd,Hx</td>\n",
              "    </tr>\n",
              "    <tr>\n",
              "      <th>259663</th>\n",
              "      <td>Abstract</td>\n",
              "      <td>7</td>\n",
              "      <td>Fr</td>\n",
              "      <td>Art,A</td>\n",
              "    </tr>\n",
              "    <tr>\n",
              "      <th>203209</th>\n",
              "      <td>Abstract</td>\n",
              "      <td>7</td>\n",
              "      <td>F</td>\n",
              "      <td>Art,H</td>\n",
              "    </tr>\n",
              "    <tr>\n",
              "      <th>401257</th>\n",
              "      <td>Abstract Drawing</td>\n",
              "      <td>6</td>\n",
              "      <td>FMa,FD</td>\n",
              "      <td>Ad,A,Hd</td>\n",
              "    </tr>\n",
              "    <tr>\n",
              "      <th>374178</th>\n",
              "      <td>Abstract Drawing</td>\n",
              "      <td>6</td>\n",
              "      <td>ma</td>\n",
              "      <td>Hx</td>\n",
              "    </tr>\n",
              "    <tr>\n",
              "      <th>...</th>\n",
              "      <td>...</td>\n",
              "      <td>...</td>\n",
              "      <td>...</td>\n",
              "      <td>...</td>\n",
              "    </tr>\n",
              "    <tr>\n",
              "      <th>473568</th>\n",
              "      <td>X-ray (Specific)</td>\n",
              "      <td>6</td>\n",
              "      <td>FD,C'F</td>\n",
              "      <td>Xy,Hd</td>\n",
              "    </tr>\n",
              "    <tr>\n",
              "      <th>280932</th>\n",
              "      <td>X-ray (Unspecified)</td>\n",
              "      <td>3</td>\n",
              "      <td>FC'</td>\n",
              "      <td>Hd,H</td>\n",
              "    </tr>\n",
              "    <tr>\n",
              "      <th>145050</th>\n",
              "      <td>X-ray (Unspecified)</td>\n",
              "      <td>3</td>\n",
              "      <td>FC'</td>\n",
              "      <td>Art,An</td>\n",
              "    </tr>\n",
              "    <tr>\n",
              "      <th>145034</th>\n",
              "      <td>X-ray (Unspecified)</td>\n",
              "      <td>3</td>\n",
              "      <td>FT,C'</td>\n",
              "      <td>Xy,Hd</td>\n",
              "    </tr>\n",
              "    <tr>\n",
              "      <th>237600</th>\n",
              "      <td>X-ray (Unspecified)</td>\n",
              "      <td>6</td>\n",
              "      <td>F</td>\n",
              "      <td>Xy</td>\n",
              "    </tr>\n",
              "  </tbody>\n",
              "</table>\n",
              "<p>13115 rows × 4 columns</p>\n",
              "</div>"
            ],
            "text/plain": [
              "                     FQText  cardID Determinants Contents\n",
              "398851             Abstract       7           Mp    Hd,Hx\n",
              "259663             Abstract       7           Fr    Art,A\n",
              "203209             Abstract       7            F    Art,H\n",
              "401257     Abstract Drawing       6       FMa,FD  Ad,A,Hd\n",
              "374178     Abstract Drawing       6           ma       Hx\n",
              "...                     ...     ...          ...      ...\n",
              "473568     X-ray (Specific)       6       FD,C'F    Xy,Hd\n",
              "280932  X-ray (Unspecified)       3          FC'     Hd,H\n",
              "145050  X-ray (Unspecified)       3          FC'   Art,An\n",
              "145034  X-ray (Unspecified)       3        FT,C'    Xy,Hd\n",
              "237600  X-ray (Unspecified)       6            F       Xy\n",
              "\n",
              "[13115 rows x 4 columns]"
            ]
          },
          "execution_count": 37,
          "metadata": {},
          "output_type": "execute_result"
        }
      ],
      "source": [
        "# Looking at the entries that have the same text and cardID\n",
        "\n",
        "duplicate = df.duplicated(subset=[\"FQText\", \"cardID\"])\n",
        "df_same_response_same_card_diff_determinant = df[duplicate]\n",
        "df_same_response_same_card_diff_determinant[[\"FQText\",\"cardID\", \"Determinants\", \"Contents\"]].sort_values(\"FQText\")"
      ]
    },
    {
      "cell_type": "markdown",
      "metadata": {},
      "source": [
        "We can also tell that we have the same issue with some of the Contents labels."
      ]
    },
    {
      "cell_type": "markdown",
      "metadata": {},
      "source": [
        "Unfortunately, we can see that there are responses that have been annotated inconsistently. Ideally we would consult a psychologist or try to validate the dataset but for the sake of having a POC up and running, I will drop the second instance of the data points that have the same FQText and cardID"
      ]
    },
    {
      "cell_type": "code",
      "execution_count": 38,
      "metadata": {},
      "outputs": [
        {
          "data": {
            "text/plain": [
              "(14351, 24)"
            ]
          },
          "execution_count": 38,
          "metadata": {},
          "output_type": "execute_result"
        }
      ],
      "source": [
        "df.shape"
      ]
    },
    {
      "cell_type": "code",
      "execution_count": 39,
      "metadata": {},
      "outputs": [
        {
          "data": {
            "text/plain": [
              "(1236, 24)"
            ]
          },
          "execution_count": 39,
          "metadata": {},
          "output_type": "execute_result"
        }
      ],
      "source": [
        "df_1 = df.drop_duplicates(subset=[\"FQText\",\"cardID\"], keep=\"first\")\n",
        "df_1.shape"
      ]
    },
    {
      "cell_type": "code",
      "execution_count": 40,
      "metadata": {},
      "outputs": [
        {
          "data": {
            "text/plain": [
              "(747, 24)"
            ]
          },
          "execution_count": 40,
          "metadata": {},
          "output_type": "execute_result"
        }
      ],
      "source": [
        "# if we dropped all the double texts not taking into account cardID\n",
        "\n",
        "# we are feeding df2 to everything\n",
        "\n",
        "df_2 = df.sort_values(\"PQLevel\", ascending=False).drop_duplicates(subset=[\"FQText\"], keep=\"first\")\n",
        "df_2.shape"
      ]
    },
    {
      "cell_type": "markdown",
      "metadata": {},
      "source": [
        "We have dropped a lot of data points which is not ideal. Moreover, it may be helpful to use the cardID as a feature as we can see it is relevant by the amount of text whose label varies according to it. At a first glance, it seems obvious that the models we trained won't have satisfactory results given the low quality of the data but we'll proceed just to make a POC."
      ]
    },
    {
      "cell_type": "markdown",
      "metadata": {},
      "source": [
        "Exploring the content labels"
      ]
    },
    {
      "cell_type": "code",
      "execution_count": 41,
      "metadata": {},
      "outputs": [],
      "source": [
        "labels_contents = df_2[[\"Contents\"]]"
      ]
    },
    {
      "cell_type": "code",
      "execution_count": 42,
      "metadata": {},
      "outputs": [],
      "source": [
        "\n",
        "labels_contents = labels_contents.apply(lambda labels: [x.split(\",\") for x in labels])\n",
        "labels_contents = labels_contents['Contents'].str.join('|').str.get_dummies()\n"
      ]
    },
    {
      "cell_type": "code",
      "execution_count": 43,
      "metadata": {},
      "outputs": [
        {
          "data": {
            "text/html": [
              "<div>\n",
              "<style scoped>\n",
              "    .dataframe tbody tr th:only-of-type {\n",
              "        vertical-align: middle;\n",
              "    }\n",
              "\n",
              "    .dataframe tbody tr th {\n",
              "        vertical-align: top;\n",
              "    }\n",
              "\n",
              "    .dataframe thead th {\n",
              "        text-align: right;\n",
              "    }\n",
              "</style>\n",
              "<table border=\"1\" class=\"dataframe\">\n",
              "  <thead>\n",
              "    <tr style=\"text-align: right;\">\n",
              "      <th></th>\n",
              "      <th>(A)</th>\n",
              "      <th>(Ad)</th>\n",
              "      <th>(H)</th>\n",
              "      <th>(Hd)</th>\n",
              "      <th>A</th>\n",
              "      <th>Ad</th>\n",
              "      <th>An</th>\n",
              "      <th>Art</th>\n",
              "      <th>Ay</th>\n",
              "      <th>Bl</th>\n",
              "      <th>...</th>\n",
              "      <th>H</th>\n",
              "      <th>Hd</th>\n",
              "      <th>Hh</th>\n",
              "      <th>Hx</th>\n",
              "      <th>Id</th>\n",
              "      <th>Ls</th>\n",
              "      <th>Na</th>\n",
              "      <th>Sc</th>\n",
              "      <th>Sx</th>\n",
              "      <th>Xy</th>\n",
              "    </tr>\n",
              "  </thead>\n",
              "  <tbody>\n",
              "    <tr>\n",
              "      <th>121</th>\n",
              "      <td>0</td>\n",
              "      <td>0</td>\n",
              "      <td>0</td>\n",
              "      <td>0</td>\n",
              "      <td>1</td>\n",
              "      <td>0</td>\n",
              "      <td>0</td>\n",
              "      <td>0</td>\n",
              "      <td>0</td>\n",
              "      <td>0</td>\n",
              "      <td>...</td>\n",
              "      <td>0</td>\n",
              "      <td>0</td>\n",
              "      <td>0</td>\n",
              "      <td>0</td>\n",
              "      <td>0</td>\n",
              "      <td>0</td>\n",
              "      <td>0</td>\n",
              "      <td>0</td>\n",
              "      <td>0</td>\n",
              "      <td>0</td>\n",
              "    </tr>\n",
              "    <tr>\n",
              "      <th>313396</th>\n",
              "      <td>0</td>\n",
              "      <td>0</td>\n",
              "      <td>0</td>\n",
              "      <td>0</td>\n",
              "      <td>0</td>\n",
              "      <td>0</td>\n",
              "      <td>0</td>\n",
              "      <td>0</td>\n",
              "      <td>0</td>\n",
              "      <td>0</td>\n",
              "      <td>...</td>\n",
              "      <td>0</td>\n",
              "      <td>0</td>\n",
              "      <td>0</td>\n",
              "      <td>0</td>\n",
              "      <td>0</td>\n",
              "      <td>0</td>\n",
              "      <td>1</td>\n",
              "      <td>0</td>\n",
              "      <td>0</td>\n",
              "      <td>0</td>\n",
              "    </tr>\n",
              "    <tr>\n",
              "      <th>313400</th>\n",
              "      <td>0</td>\n",
              "      <td>0</td>\n",
              "      <td>0</td>\n",
              "      <td>0</td>\n",
              "      <td>0</td>\n",
              "      <td>0</td>\n",
              "      <td>0</td>\n",
              "      <td>0</td>\n",
              "      <td>0</td>\n",
              "      <td>0</td>\n",
              "      <td>...</td>\n",
              "      <td>0</td>\n",
              "      <td>0</td>\n",
              "      <td>0</td>\n",
              "      <td>0</td>\n",
              "      <td>0</td>\n",
              "      <td>0</td>\n",
              "      <td>1</td>\n",
              "      <td>0</td>\n",
              "      <td>0</td>\n",
              "      <td>0</td>\n",
              "    </tr>\n",
              "    <tr>\n",
              "      <th>313749</th>\n",
              "      <td>0</td>\n",
              "      <td>0</td>\n",
              "      <td>0</td>\n",
              "      <td>1</td>\n",
              "      <td>0</td>\n",
              "      <td>0</td>\n",
              "      <td>0</td>\n",
              "      <td>0</td>\n",
              "      <td>0</td>\n",
              "      <td>0</td>\n",
              "      <td>...</td>\n",
              "      <td>0</td>\n",
              "      <td>0</td>\n",
              "      <td>0</td>\n",
              "      <td>0</td>\n",
              "      <td>0</td>\n",
              "      <td>0</td>\n",
              "      <td>0</td>\n",
              "      <td>0</td>\n",
              "      <td>0</td>\n",
              "      <td>0</td>\n",
              "    </tr>\n",
              "    <tr>\n",
              "      <th>313760</th>\n",
              "      <td>0</td>\n",
              "      <td>0</td>\n",
              "      <td>0</td>\n",
              "      <td>0</td>\n",
              "      <td>0</td>\n",
              "      <td>0</td>\n",
              "      <td>0</td>\n",
              "      <td>0</td>\n",
              "      <td>0</td>\n",
              "      <td>0</td>\n",
              "      <td>...</td>\n",
              "      <td>1</td>\n",
              "      <td>0</td>\n",
              "      <td>0</td>\n",
              "      <td>0</td>\n",
              "      <td>0</td>\n",
              "      <td>0</td>\n",
              "      <td>0</td>\n",
              "      <td>0</td>\n",
              "      <td>0</td>\n",
              "      <td>0</td>\n",
              "    </tr>\n",
              "    <tr>\n",
              "      <th>...</th>\n",
              "      <td>...</td>\n",
              "      <td>...</td>\n",
              "      <td>...</td>\n",
              "      <td>...</td>\n",
              "      <td>...</td>\n",
              "      <td>...</td>\n",
              "      <td>...</td>\n",
              "      <td>...</td>\n",
              "      <td>...</td>\n",
              "      <td>...</td>\n",
              "      <td>...</td>\n",
              "      <td>...</td>\n",
              "      <td>...</td>\n",
              "      <td>...</td>\n",
              "      <td>...</td>\n",
              "      <td>...</td>\n",
              "      <td>...</td>\n",
              "      <td>...</td>\n",
              "      <td>...</td>\n",
              "      <td>...</td>\n",
              "      <td>...</td>\n",
              "    </tr>\n",
              "    <tr>\n",
              "      <th>433526</th>\n",
              "      <td>0</td>\n",
              "      <td>0</td>\n",
              "      <td>0</td>\n",
              "      <td>0</td>\n",
              "      <td>0</td>\n",
              "      <td>0</td>\n",
              "      <td>0</td>\n",
              "      <td>0</td>\n",
              "      <td>0</td>\n",
              "      <td>0</td>\n",
              "      <td>...</td>\n",
              "      <td>0</td>\n",
              "      <td>0</td>\n",
              "      <td>0</td>\n",
              "      <td>0</td>\n",
              "      <td>0</td>\n",
              "      <td>0</td>\n",
              "      <td>0</td>\n",
              "      <td>0</td>\n",
              "      <td>0</td>\n",
              "      <td>0</td>\n",
              "    </tr>\n",
              "    <tr>\n",
              "      <th>258760</th>\n",
              "      <td>0</td>\n",
              "      <td>0</td>\n",
              "      <td>0</td>\n",
              "      <td>0</td>\n",
              "      <td>0</td>\n",
              "      <td>0</td>\n",
              "      <td>0</td>\n",
              "      <td>0</td>\n",
              "      <td>0</td>\n",
              "      <td>0</td>\n",
              "      <td>...</td>\n",
              "      <td>0</td>\n",
              "      <td>1</td>\n",
              "      <td>0</td>\n",
              "      <td>0</td>\n",
              "      <td>0</td>\n",
              "      <td>0</td>\n",
              "      <td>0</td>\n",
              "      <td>0</td>\n",
              "      <td>1</td>\n",
              "      <td>0</td>\n",
              "    </tr>\n",
              "    <tr>\n",
              "      <th>440801</th>\n",
              "      <td>0</td>\n",
              "      <td>0</td>\n",
              "      <td>0</td>\n",
              "      <td>1</td>\n",
              "      <td>0</td>\n",
              "      <td>0</td>\n",
              "      <td>0</td>\n",
              "      <td>0</td>\n",
              "      <td>0</td>\n",
              "      <td>0</td>\n",
              "      <td>...</td>\n",
              "      <td>0</td>\n",
              "      <td>0</td>\n",
              "      <td>0</td>\n",
              "      <td>0</td>\n",
              "      <td>0</td>\n",
              "      <td>0</td>\n",
              "      <td>0</td>\n",
              "      <td>0</td>\n",
              "      <td>0</td>\n",
              "      <td>0</td>\n",
              "    </tr>\n",
              "    <tr>\n",
              "      <th>324198</th>\n",
              "      <td>0</td>\n",
              "      <td>0</td>\n",
              "      <td>0</td>\n",
              "      <td>0</td>\n",
              "      <td>0</td>\n",
              "      <td>0</td>\n",
              "      <td>0</td>\n",
              "      <td>0</td>\n",
              "      <td>0</td>\n",
              "      <td>0</td>\n",
              "      <td>...</td>\n",
              "      <td>1</td>\n",
              "      <td>0</td>\n",
              "      <td>0</td>\n",
              "      <td>0</td>\n",
              "      <td>0</td>\n",
              "      <td>0</td>\n",
              "      <td>0</td>\n",
              "      <td>0</td>\n",
              "      <td>0</td>\n",
              "      <td>0</td>\n",
              "    </tr>\n",
              "    <tr>\n",
              "      <th>408890</th>\n",
              "      <td>0</td>\n",
              "      <td>0</td>\n",
              "      <td>0</td>\n",
              "      <td>0</td>\n",
              "      <td>0</td>\n",
              "      <td>0</td>\n",
              "      <td>1</td>\n",
              "      <td>0</td>\n",
              "      <td>0</td>\n",
              "      <td>0</td>\n",
              "      <td>...</td>\n",
              "      <td>0</td>\n",
              "      <td>1</td>\n",
              "      <td>0</td>\n",
              "      <td>0</td>\n",
              "      <td>0</td>\n",
              "      <td>0</td>\n",
              "      <td>0</td>\n",
              "      <td>0</td>\n",
              "      <td>0</td>\n",
              "      <td>0</td>\n",
              "    </tr>\n",
              "  </tbody>\n",
              "</table>\n",
              "<p>747 rows × 27 columns</p>\n",
              "</div>"
            ],
            "text/plain": [
              "        (A)  (Ad)  (H)  (Hd)  A  Ad  An  Art  Ay  Bl  ...  H  Hd  Hh  Hx  Id  \\\n",
              "121       0     0    0     0  1   0   0    0   0   0  ...  0   0   0   0   0   \n",
              "313396    0     0    0     0  0   0   0    0   0   0  ...  0   0   0   0   0   \n",
              "313400    0     0    0     0  0   0   0    0   0   0  ...  0   0   0   0   0   \n",
              "313749    0     0    0     1  0   0   0    0   0   0  ...  0   0   0   0   0   \n",
              "313760    0     0    0     0  0   0   0    0   0   0  ...  1   0   0   0   0   \n",
              "...     ...   ...  ...   ... ..  ..  ..  ...  ..  ..  ... ..  ..  ..  ..  ..   \n",
              "433526    0     0    0     0  0   0   0    0   0   0  ...  0   0   0   0   0   \n",
              "258760    0     0    0     0  0   0   0    0   0   0  ...  0   1   0   0   0   \n",
              "440801    0     0    0     1  0   0   0    0   0   0  ...  0   0   0   0   0   \n",
              "324198    0     0    0     0  0   0   0    0   0   0  ...  1   0   0   0   0   \n",
              "408890    0     0    0     0  0   0   1    0   0   0  ...  0   1   0   0   0   \n",
              "\n",
              "        Ls  Na  Sc  Sx  Xy  \n",
              "121      0   0   0   0   0  \n",
              "313396   0   1   0   0   0  \n",
              "313400   0   1   0   0   0  \n",
              "313749   0   0   0   0   0  \n",
              "313760   0   0   0   0   0  \n",
              "...     ..  ..  ..  ..  ..  \n",
              "433526   0   0   0   0   0  \n",
              "258760   0   0   0   1   0  \n",
              "440801   0   0   0   0   0  \n",
              "324198   0   0   0   0   0  \n",
              "408890   0   0   0   0   0  \n",
              "\n",
              "[747 rows x 27 columns]"
            ]
          },
          "execution_count": 43,
          "metadata": {},
          "output_type": "execute_result"
        }
      ],
      "source": [
        "labels_contents"
      ]
    },
    {
      "cell_type": "code",
      "execution_count": 44,
      "metadata": {},
      "outputs": [
        {
          "ename": "IndentationError",
          "evalue": "expected an indented block after 'for' statement on line 2 (135870876.py, line 4)",
          "output_type": "error",
          "traceback": [
            "\u001b[1;36m  Cell \u001b[1;32mIn[44], line 4\u001b[1;36m\u001b[0m\n\u001b[1;33m    labels_contents\u001b[0m\n\u001b[1;37m    ^\u001b[0m\n\u001b[1;31mIndentationError\u001b[0m\u001b[1;31m:\u001b[0m expected an indented block after 'for' statement on line 2\n"
          ]
        }
      ],
      "source": [
        "labels_contents = labels_contents.rename(columns=translation_contents)\n",
        "for col in labels_contents:\n",
        "    \n",
        "labels_contents"
      ]
    },
    {
      "cell_type": "code",
      "execution_count": null,
      "metadata": {},
      "outputs": [
        {
          "data": {
            "text/plain": [
              "dict_keys(['(A)', '(Ad)', '(H)', '(Hd)', 'A', 'ANatt', 'Abs', 'Ad', 'Alim', 'Art', 'Bot', 'Elem', 'Frag', 'Ge', 'H', 'Hd', 'Id', 'Nat', 'Obj', 'Pays', 'Radio', 'Sc', 'Sex', 'Sg', 'Vet', 'total'])"
            ]
          },
          "execution_count": 576,
          "metadata": {},
          "output_type": "execute_result"
        }
      ],
      "source": [
        "agg_dict_contents = {}\n",
        "total = 0\n",
        "for label in labels_contents.columns:\n",
        "    total_label = sum(labels_contents[label])\n",
        "    total = total + total_label\n",
        "    agg_dict_contents[label] = total_label\n",
        "agg_dict_contents[\"total\"] = total\n",
        "agg_dict_contents.keys()"
      ]
    },
    {
      "cell_type": "code",
      "execution_count": null,
      "metadata": {},
      "outputs": [
        {
          "data": {
            "image/png": "[encoded data removed]",
            "text/plain": [
              "<Figure size 1200x800 with 1 Axes>"
            ]
          },
          "metadata": {},
          "output_type": "display_data"
        }
      ],
      "source": [
        "# distribution of the labels\n",
        "\n",
        "fig, ax = plt.subplots(figsize=(12,8))\n",
        "sns.barplot(data=labels_contents)\n",
        "ax.set_xlabel(\"Content Classification\")\n",
        "ax.set_ylabel(\"Frequency\")\n",
        "plt.show()"
      ]
    },
    {
      "cell_type": "markdown",
      "metadata": {},
      "source": [
        "The low proportion of edge cases doesn't seem to be that much of a problem when speaking about content labels"
      ]
    },
    {
      "cell_type": "markdown",
      "metadata": {},
      "source": [
        "# Model development"
      ]
    },
    {
      "cell_type": "markdown",
      "metadata": {},
      "source": [
        "So far, we have been looking at the labels for the whole dataset but since we dropped a lot of inconsistent entries we should have a look at the labels proportion again."
      ]
    },
    {
      "cell_type": "code",
      "execution_count": null,
      "metadata": {},
      "outputs": [],
      "source": [
        "labels_contents = df_2[[\"Contents\"]]\n",
        "labels_determinants = df_2[[\"Determinants\"]]\n",
        "\n",
        "labels_determinants = labels_determinants.apply(lambda labels: [x.split(\",\") for x in labels])\n",
        "y_determinants = labels_determinants['Determinants'].str.join('|').str.get_dummies()\n",
        "\n",
        "# merging the repeated labels\n",
        "for col in y_determinants:\n",
        "    lower_case_col = str(col).lower()\n",
        "    if lower_case_col in y_determinants.columns: \n",
        "        y_determinants[col] = y_determinants[col] + y_determinants[lower_case_col].where(((y_determinants[col] == 0 ) & (y_determinants[lower_case_col] != 0)) | ((y_determinants[col] != 0 ) & (y_determinants[lower_case_col] == 0))) \n",
        "        # y_determinants[col] = y_determinants[col] + y_determinants[lower_case_col]\n",
        "        del y_determinants[lower_case_col]\n",
        "y_determinants = y_determinants.fillna(0)\n",
        "\n",
        "# print(np.unique(y_determinants))\n",
        "\n",
        "labels_contents = labels_contents.apply(lambda labels: [x.split(\",\") for x in labels])\n",
        "y_contents = labels_contents['Contents'].str.join('|').str.get_dummies()"
      ]
    },
    {
      "cell_type": "code",
      "execution_count": null,
      "metadata": {},
      "outputs": [],
      "source": [
        "y_contents = y_contents.astype(\"int\")\n",
        "y_determinants = y_determinants.astype(\"int\")"
      ]
    },
    {
      "cell_type": "code",
      "execution_count": null,
      "metadata": {},
      "outputs": [
        {
          "data": {
            "text/plain": [
              "array([0, 1])"
            ]
          },
          "execution_count": 580,
          "metadata": {},
          "output_type": "execute_result"
        }
      ],
      "source": [
        "np.unique(y_determinants)"
      ]
    },
    {
      "cell_type": "code",
      "execution_count": null,
      "metadata": {},
      "outputs": [
        {
          "data": {
            "text/plain": [
              "array([0, 1])"
            ]
          },
          "execution_count": 581,
          "metadata": {},
          "output_type": "execute_result"
        }
      ],
      "source": [
        "np.unique(y_contents)"
      ]
    },
    {
      "cell_type": "code",
      "execution_count": null,
      "metadata": {},
      "outputs": [
        {
          "data": {
            "image/png": "[encoded data removed]",
            "text/plain": [
              "<Figure size 1200x800 with 1 Axes>"
            ]
          },
          "metadata": {},
          "output_type": "display_data"
        }
      ],
      "source": [
        "fig, ax = plt.subplots(figsize=(12,8))\n",
        "sns.barplot(data = y_determinants)\n",
        "ax.set_xlabel(\"Determinant Classification\")\n",
        "ax.set_ylabel(\"Frequency\")\n",
        "plt.show()"
      ]
    },
    {
      "cell_type": "code",
      "execution_count": null,
      "metadata": {},
      "outputs": [
        {
          "data": {
            "image/png": "[encoded data removed]",
            "text/plain": [
              "<Figure size 1200x800 with 1 Axes>"
            ]
          },
          "metadata": {},
          "output_type": "display_data"
        }
      ],
      "source": [
        "fig, ax = plt.subplots(figsize=(12,8))\n",
        "sns.barplot(data = y_contents)\n",
        "ax.set_xlabel(\"Content Classification\")\n",
        "ax.set_ylabel(\"Frequency\")\n",
        "plt.show()"
      ]
    },
    {
      "cell_type": "code",
      "execution_count": null,
      "metadata": {},
      "outputs": [
        {
          "data": {
            "text/plain": [
              "{'(A)': 19,\n",
              " '(Ad)': 13,\n",
              " '(H)': 69,\n",
              " '(Hd)': 35,\n",
              " 'A': 165,\n",
              " 'ANatt': 52,\n",
              " 'Abs': 29,\n",
              " 'Ad': 64,\n",
              " 'Alim': 19,\n",
              " 'Art': 42,\n",
              " 'Bot': 24,\n",
              " 'Elem': 17,\n",
              " 'Frag': 14,\n",
              " 'Ge': 8,\n",
              " 'H': 86,\n",
              " 'Hd': 117,\n",
              " 'Id': 12,\n",
              " 'Nat': 51,\n",
              " 'Obj': 57,\n",
              " 'Pays': 37,\n",
              " 'Radio': 8,\n",
              " 'Sc': 79,\n",
              " 'Sex': 13,\n",
              " 'Sg': 13,\n",
              " 'Vet': 68,\n",
              " 'total': 1111}"
            ]
          },
          "execution_count": 584,
          "metadata": {},
          "output_type": "execute_result"
        }
      ],
      "source": [
        "agg_dict_contents = {}\n",
        "total = 0\n",
        "for label in y_contents.columns:\n",
        "    total_label = sum(y_contents[label])\n",
        "    total = total + total_label\n",
        "    agg_dict_contents[label] = total_label\n",
        "agg_dict_contents[\"total\"] = total\n",
        "agg_dict_contents"
      ]
    },
    {
      "cell_type": "code",
      "execution_count": null,
      "metadata": {},
      "outputs": [
        {
          "data": {
            "text/plain": [
              "{'C': 7,\n",
              " \"C'\": 7,\n",
              " \"C'F\": 16,\n",
              " 'CF': 46,\n",
              " 'E': 6,\n",
              " 'EF': 33,\n",
              " 'EFF': 13,\n",
              " 'F': 253,\n",
              " 'FC': 70,\n",
              " \"FC'\": 40,\n",
              " 'FE': 111,\n",
              " 'FK': 39,\n",
              " 'K': 253,\n",
              " 'K-p': 6,\n",
              " 'total': 900}"
            ]
          },
          "execution_count": 585,
          "metadata": {},
          "output_type": "execute_result"
        }
      ],
      "source": [
        "agg_dict_contents = {}\n",
        "total = 0\n",
        "for label in y_determinants.columns:\n",
        "    total_label = sum(y_determinants[label])\n",
        "    total = total + total_label\n",
        "    agg_dict_contents[label] = total_label\n",
        "agg_dict_contents[\"total\"] = total\n",
        "agg_dict_contents"
      ]
    },
    {
      "cell_type": "markdown",
      "metadata": {},
      "source": [
        "As we can see, there are many labels for which the number of samples us really small."
      ]
    },
    {
      "cell_type": "markdown",
      "metadata": {},
      "source": [
        "Since the names of the columns for the binary content / determinant labels are not intuitive at all, I'll save the columns in new variables. That way we will be able to get our y by indexing by the list of columns."
      ]
    },
    {
      "cell_type": "code",
      "execution_count": null,
      "metadata": {},
      "outputs": [],
      "source": [
        "cols_determinants = list(labels_determinants.columns)\n",
        "cols_contents = list(labels_contents.columns)"
      ]
    },
    {
      "cell_type": "markdown",
      "metadata": {},
      "source": [
        "Merging the labels back to the main df to create our dataset with the dummies"
      ]
    },
    {
      "cell_type": "code",
      "execution_count": null,
      "metadata": {},
      "outputs": [
        {
          "data": {
            "text/html": [
              "<div>\n",
              "<style scoped>\n",
              "    .dataframe tbody tr th:only-of-type {\n",
              "        vertical-align: middle;\n",
              "    }\n",
              "\n",
              "    .dataframe tbody tr th {\n",
              "        vertical-align: top;\n",
              "    }\n",
              "\n",
              "    .dataframe thead th {\n",
              "        text-align: right;\n",
              "    }\n",
              "</style>\n",
              "<table border=\"1\" class=\"dataframe\">\n",
              "  <thead>\n",
              "    <tr style=\"text-align: right;\">\n",
              "      <th></th>\n",
              "      <th>User</th>\n",
              "      <th>PQLevel</th>\n",
              "      <th>Client</th>\n",
              "      <th>Age</th>\n",
              "      <th>Gender</th>\n",
              "      <th>Country</th>\n",
              "      <th>Protocol</th>\n",
              "      <th>TestDate</th>\n",
              "      <th>R</th>\n",
              "      <th>ResponseOrder</th>\n",
              "      <th>...</th>\n",
              "      <th>E</th>\n",
              "      <th>EF</th>\n",
              "      <th>EFF</th>\n",
              "      <th>F</th>\n",
              "      <th>FC</th>\n",
              "      <th>FC'</th>\n",
              "      <th>FE</th>\n",
              "      <th>FK</th>\n",
              "      <th>K</th>\n",
              "      <th>K-p</th>\n",
              "    </tr>\n",
              "  </thead>\n",
              "  <tbody>\n",
              "    <tr>\n",
              "      <th>121</th>\n",
              "      <td>272</td>\n",
              "      <td>C</td>\n",
              "      <td>40624</td>\n",
              "      <td>10</td>\n",
              "      <td>Male</td>\n",
              "      <td>Chile</td>\n",
              "      <td>41595</td>\n",
              "      <td>5/22/2018 14:27</td>\n",
              "      <td>15</td>\n",
              "      <td>1</td>\n",
              "      <td>...</td>\n",
              "      <td>0</td>\n",
              "      <td>0</td>\n",
              "      <td>0</td>\n",
              "      <td>0</td>\n",
              "      <td>0</td>\n",
              "      <td>0</td>\n",
              "      <td>0</td>\n",
              "      <td>0</td>\n",
              "      <td>1</td>\n",
              "      <td>0</td>\n",
              "    </tr>\n",
              "    <tr>\n",
              "      <th>313396</th>\n",
              "      <td>20436</td>\n",
              "      <td>C</td>\n",
              "      <td>34937</td>\n",
              "      <td>21</td>\n",
              "      <td>Not Specified</td>\n",
              "      <td>United States (USA)</td>\n",
              "      <td>35822</td>\n",
              "      <td>9/29/2017 4:08</td>\n",
              "      <td>17</td>\n",
              "      <td>9</td>\n",
              "      <td>...</td>\n",
              "      <td>0</td>\n",
              "      <td>0</td>\n",
              "      <td>0</td>\n",
              "      <td>0</td>\n",
              "      <td>0</td>\n",
              "      <td>0</td>\n",
              "      <td>1</td>\n",
              "      <td>0</td>\n",
              "      <td>1</td>\n",
              "      <td>0</td>\n",
              "    </tr>\n",
              "    <tr>\n",
              "      <th>313400</th>\n",
              "      <td>20436</td>\n",
              "      <td>C</td>\n",
              "      <td>34937</td>\n",
              "      <td>21</td>\n",
              "      <td>Not Specified</td>\n",
              "      <td>United States (USA)</td>\n",
              "      <td>35822</td>\n",
              "      <td>9/29/2017 4:08</td>\n",
              "      <td>17</td>\n",
              "      <td>13</td>\n",
              "      <td>...</td>\n",
              "      <td>0</td>\n",
              "      <td>0</td>\n",
              "      <td>0</td>\n",
              "      <td>0</td>\n",
              "      <td>0</td>\n",
              "      <td>0</td>\n",
              "      <td>1</td>\n",
              "      <td>0</td>\n",
              "      <td>0</td>\n",
              "      <td>0</td>\n",
              "    </tr>\n",
              "    <tr>\n",
              "      <th>313749</th>\n",
              "      <td>20464</td>\n",
              "      <td>C</td>\n",
              "      <td>34983</td>\n",
              "      <td>30</td>\n",
              "      <td>Male</td>\n",
              "      <td>United States (USA)</td>\n",
              "      <td>35871</td>\n",
              "      <td>10/2/2017 20:20</td>\n",
              "      <td>61</td>\n",
              "      <td>6</td>\n",
              "      <td>...</td>\n",
              "      <td>0</td>\n",
              "      <td>0</td>\n",
              "      <td>0</td>\n",
              "      <td>1</td>\n",
              "      <td>0</td>\n",
              "      <td>0</td>\n",
              "      <td>0</td>\n",
              "      <td>0</td>\n",
              "      <td>0</td>\n",
              "      <td>0</td>\n",
              "    </tr>\n",
              "    <tr>\n",
              "      <th>313760</th>\n",
              "      <td>20464</td>\n",
              "      <td>C</td>\n",
              "      <td>34983</td>\n",
              "      <td>30</td>\n",
              "      <td>Male</td>\n",
              "      <td>United States (USA)</td>\n",
              "      <td>35871</td>\n",
              "      <td>10/2/2017 20:20</td>\n",
              "      <td>61</td>\n",
              "      <td>17</td>\n",
              "      <td>...</td>\n",
              "      <td>0</td>\n",
              "      <td>0</td>\n",
              "      <td>0</td>\n",
              "      <td>0</td>\n",
              "      <td>0</td>\n",
              "      <td>0</td>\n",
              "      <td>0</td>\n",
              "      <td>0</td>\n",
              "      <td>1</td>\n",
              "      <td>0</td>\n",
              "    </tr>\n",
              "    <tr>\n",
              "      <th>...</th>\n",
              "      <td>...</td>\n",
              "      <td>...</td>\n",
              "      <td>...</td>\n",
              "      <td>...</td>\n",
              "      <td>...</td>\n",
              "      <td>...</td>\n",
              "      <td>...</td>\n",
              "      <td>...</td>\n",
              "      <td>...</td>\n",
              "      <td>...</td>\n",
              "      <td>...</td>\n",
              "      <td>...</td>\n",
              "      <td>...</td>\n",
              "      <td>...</td>\n",
              "      <td>...</td>\n",
              "      <td>...</td>\n",
              "      <td>...</td>\n",
              "      <td>...</td>\n",
              "      <td>...</td>\n",
              "      <td>...</td>\n",
              "      <td>...</td>\n",
              "    </tr>\n",
              "    <tr>\n",
              "      <th>433526</th>\n",
              "      <td>25114</td>\n",
              "      <td>B</td>\n",
              "      <td>45405</td>\n",
              "      <td>27</td>\n",
              "      <td>Male</td>\n",
              "      <td>Lebanon</td>\n",
              "      <td>46441</td>\n",
              "      <td>12/29/2018 15:54</td>\n",
              "      <td>22</td>\n",
              "      <td>20</td>\n",
              "      <td>...</td>\n",
              "      <td>0</td>\n",
              "      <td>0</td>\n",
              "      <td>0</td>\n",
              "      <td>0</td>\n",
              "      <td>1</td>\n",
              "      <td>0</td>\n",
              "      <td>0</td>\n",
              "      <td>0</td>\n",
              "      <td>1</td>\n",
              "      <td>0</td>\n",
              "    </tr>\n",
              "    <tr>\n",
              "      <th>258760</th>\n",
              "      <td>18780</td>\n",
              "      <td>B</td>\n",
              "      <td>31482</td>\n",
              "      <td>23</td>\n",
              "      <td>Female</td>\n",
              "      <td>Liberia</td>\n",
              "      <td>32256</td>\n",
              "      <td>4/13/2017 14:39</td>\n",
              "      <td>18</td>\n",
              "      <td>7</td>\n",
              "      <td>...</td>\n",
              "      <td>0</td>\n",
              "      <td>0</td>\n",
              "      <td>0</td>\n",
              "      <td>0</td>\n",
              "      <td>0</td>\n",
              "      <td>0</td>\n",
              "      <td>0</td>\n",
              "      <td>0</td>\n",
              "      <td>0</td>\n",
              "      <td>1</td>\n",
              "    </tr>\n",
              "    <tr>\n",
              "      <th>440801</th>\n",
              "      <td>25472</td>\n",
              "      <td>B</td>\n",
              "      <td>48473</td>\n",
              "      <td>97</td>\n",
              "      <td>Not Specified</td>\n",
              "      <td>United States (USA)</td>\n",
              "      <td>49541</td>\n",
              "      <td>5/12/2019 21:54</td>\n",
              "      <td>20</td>\n",
              "      <td>1</td>\n",
              "      <td>...</td>\n",
              "      <td>0</td>\n",
              "      <td>0</td>\n",
              "      <td>0</td>\n",
              "      <td>1</td>\n",
              "      <td>0</td>\n",
              "      <td>0</td>\n",
              "      <td>0</td>\n",
              "      <td>0</td>\n",
              "      <td>0</td>\n",
              "      <td>0</td>\n",
              "    </tr>\n",
              "    <tr>\n",
              "      <th>324198</th>\n",
              "      <td>20670</td>\n",
              "      <td>B</td>\n",
              "      <td>36511</td>\n",
              "      <td>42</td>\n",
              "      <td>Female</td>\n",
              "      <td>United States (USA)</td>\n",
              "      <td>37419</td>\n",
              "      <td>12/3/2017 18:21</td>\n",
              "      <td>21</td>\n",
              "      <td>9</td>\n",
              "      <td>...</td>\n",
              "      <td>0</td>\n",
              "      <td>0</td>\n",
              "      <td>0</td>\n",
              "      <td>1</td>\n",
              "      <td>0</td>\n",
              "      <td>0</td>\n",
              "      <td>0</td>\n",
              "      <td>0</td>\n",
              "      <td>0</td>\n",
              "      <td>0</td>\n",
              "    </tr>\n",
              "    <tr>\n",
              "      <th>408890</th>\n",
              "      <td>24130</td>\n",
              "      <td>A</td>\n",
              "      <td>43165</td>\n",
              "      <td>38</td>\n",
              "      <td>Female</td>\n",
              "      <td>Philippines</td>\n",
              "      <td>44166</td>\n",
              "      <td>9/21/2018 1:49</td>\n",
              "      <td>47</td>\n",
              "      <td>8</td>\n",
              "      <td>...</td>\n",
              "      <td>0</td>\n",
              "      <td>0</td>\n",
              "      <td>0</td>\n",
              "      <td>1</td>\n",
              "      <td>0</td>\n",
              "      <td>0</td>\n",
              "      <td>0</td>\n",
              "      <td>0</td>\n",
              "      <td>0</td>\n",
              "      <td>1</td>\n",
              "    </tr>\n",
              "  </tbody>\n",
              "</table>\n",
              "<p>747 rows × 61 columns</p>\n",
              "</div>"
            ],
            "text/plain": [
              "         User PQLevel  Client  Age         Gender              Country  \\\n",
              "121       272       C   40624   10           Male                Chile   \n",
              "313396  20436       C   34937   21  Not Specified  United States (USA)   \n",
              "313400  20436       C   34937   21  Not Specified  United States (USA)   \n",
              "313749  20464       C   34983   30           Male  United States (USA)   \n",
              "313760  20464       C   34983   30           Male  United States (USA)   \n",
              "...       ...     ...     ...  ...            ...                  ...   \n",
              "433526  25114       B   45405   27           Male              Lebanon   \n",
              "258760  18780       B   31482   23         Female              Liberia   \n",
              "440801  25472       B   48473   97  Not Specified  United States (USA)   \n",
              "324198  20670       B   36511   42         Female  United States (USA)   \n",
              "408890  24130       A   43165   38         Female          Philippines   \n",
              "\n",
              "        Protocol          TestDate   R  ResponseOrder  ...  E EF  EFF  F  FC  \\\n",
              "121        41595   5/22/2018 14:27  15              1  ...  0  0    0  0   0   \n",
              "313396     35822    9/29/2017 4:08  17              9  ...  0  0    0  0   0   \n",
              "313400     35822    9/29/2017 4:08  17             13  ...  0  0    0  0   0   \n",
              "313749     35871   10/2/2017 20:20  61              6  ...  0  0    0  1   0   \n",
              "313760     35871   10/2/2017 20:20  61             17  ...  0  0    0  0   0   \n",
              "...          ...               ...  ..            ...  ... .. ..  ... ..  ..   \n",
              "433526     46441  12/29/2018 15:54  22             20  ...  0  0    0  0   1   \n",
              "258760     32256   4/13/2017 14:39  18              7  ...  0  0    0  0   0   \n",
              "440801     49541   5/12/2019 21:54  20              1  ...  0  0    0  1   0   \n",
              "324198     37419   12/3/2017 18:21  21              9  ...  0  0    0  1   0   \n",
              "408890     44166    9/21/2018 1:49  47              8  ...  0  0    0  1   0   \n",
              "\n",
              "       FC' FE  FK  K  K-p  \n",
              "121      0  0   0  1    0  \n",
              "313396   0  1   0  1    0  \n",
              "313400   0  1   0  0    0  \n",
              "313749   0  0   0  0    0  \n",
              "313760   0  0   0  1    0  \n",
              "...     .. ..  .. ..  ...  \n",
              "433526   0  0   0  1    0  \n",
              "258760   0  0   0  0    1  \n",
              "440801   0  0   0  0    0  \n",
              "324198   0  0   0  0    0  \n",
              "408890   0  0   0  0    1  \n",
              "\n",
              "[747 rows x 61 columns]"
            ]
          },
          "execution_count": 587,
          "metadata": {},
          "output_type": "execute_result"
        }
      ],
      "source": [
        "dfs = [df_2.drop([\"Contents\", \"Determinants\"], axis=1), y_contents, y_determinants]\n",
        "data = pd.concat(dfs, axis = 1)\n",
        "data"
      ]
    },
    {
      "cell_type": "code",
      "execution_count": null,
      "metadata": {},
      "outputs": [
        {
          "data": {
            "text/plain": [
              "Index(['User', 'PQLevel', 'Client', 'Age', 'Gender', 'Country', 'Protocol',\n",
              "       'TestDate', 'R', 'ResponseOrder', 'cardID', 'Location',\n",
              "       'LocationNumber', 'DevelopmentalQuality', 'Determinants', 'Pair',\n",
              "       'FormQuality', 'FQText', 'Contents', 'Popular', 'ZCode', 'ZScore',\n",
              "       'SpecialScores', 'Rejection'],\n",
              "      dtype='object')"
            ]
          },
          "execution_count": 588,
          "metadata": {},
          "output_type": "execute_result"
        }
      ],
      "source": [
        "df_2.columns"
      ]
    },
    {
      "cell_type": "code",
      "execution_count": null,
      "metadata": {},
      "outputs": [
        {
          "data": {
            "text/plain": [
              "Index(['User', 'PQLevel', 'Client', 'Age', 'Gender', 'Country', 'Protocol',\n",
              "       'TestDate', 'R', 'ResponseOrder', 'cardID', 'Location',\n",
              "       'LocationNumber', 'DevelopmentalQuality', 'Pair', 'FormQuality',\n",
              "       'FQText', 'Popular', 'ZCode', 'ZScore', 'SpecialScores', 'Rejection',\n",
              "       '(A)', '(Ad)', '(H)', '(Hd)', 'A', 'ANatt', 'Abs', 'Ad', 'Alim', 'Art',\n",
              "       'Bot', 'Elem', 'Frag', 'Ge', 'H', 'Hd', 'Id', 'Nat', 'Obj', 'Pays',\n",
              "       'Radio', 'Sc', 'Sex', 'Sg', 'Vet', 'C', 'C'', 'C'F', 'CF', 'E', 'EF',\n",
              "       'EFF', 'F', 'FC', 'FC'', 'FE', 'FK', 'K', 'K-p'],\n",
              "      dtype='object')"
            ]
          },
          "execution_count": 589,
          "metadata": {},
          "output_type": "execute_result"
        }
      ],
      "source": [
        "data.columns"
      ]
    },
    {
      "cell_type": "code",
      "execution_count": null,
      "metadata": {},
      "outputs": [],
      "source": [
        "# dropping everything aside from the text and content/determinant labels\n",
        "\n",
        "classification_data = data.drop(['User', 'PQLevel', 'Client', 'Age', 'Gender', 'Country', 'Protocol',\n",
        "       'TestDate', 'R', 'ResponseOrder', 'cardID', 'Location',\n",
        "       'LocationNumber', 'DevelopmentalQuality', 'Pair', 'FormQuality'\n",
        "       , 'Popular', 'ZCode', 'ZScore', 'SpecialScores', 'Rejection',]\n",
        "                                , axis = 1)\n"
      ]
    },
    {
      "cell_type": "markdown",
      "metadata": {},
      "source": [
        "Using the clean entries"
      ]
    },
    {
      "cell_type": "code",
      "execution_count": null,
      "metadata": {},
      "outputs": [],
      "source": [
        "# classification_data = classification_data.drop_duplicates(subset=[\"FQText\"], keep=\"first\")"
      ]
    },
    {
      "cell_type": "code",
      "execution_count": null,
      "metadata": {},
      "outputs": [
        {
          "data": {
            "text/html": [
              "<div>\n",
              "<style scoped>\n",
              "    .dataframe tbody tr th:only-of-type {\n",
              "        vertical-align: middle;\n",
              "    }\n",
              "\n",
              "    .dataframe tbody tr th {\n",
              "        vertical-align: top;\n",
              "    }\n",
              "\n",
              "    .dataframe thead th {\n",
              "        text-align: right;\n",
              "    }\n",
              "</style>\n",
              "<table border=\"1\" class=\"dataframe\">\n",
              "  <thead>\n",
              "    <tr style=\"text-align: right;\">\n",
              "      <th></th>\n",
              "      <th>FQText</th>\n",
              "      <th>(A)</th>\n",
              "      <th>(Ad)</th>\n",
              "      <th>(H)</th>\n",
              "      <th>(Hd)</th>\n",
              "      <th>A</th>\n",
              "      <th>ANatt</th>\n",
              "      <th>Abs</th>\n",
              "      <th>Ad</th>\n",
              "      <th>Alim</th>\n",
              "      <th>...</th>\n",
              "      <th>E</th>\n",
              "      <th>EF</th>\n",
              "      <th>EFF</th>\n",
              "      <th>F</th>\n",
              "      <th>FC</th>\n",
              "      <th>FC'</th>\n",
              "      <th>FE</th>\n",
              "      <th>FK</th>\n",
              "      <th>K</th>\n",
              "      <th>K-p</th>\n",
              "    </tr>\n",
              "  </thead>\n",
              "  <tbody>\n",
              "    <tr>\n",
              "      <th>121</th>\n",
              "      <td>Animal (Winged but unspecified)</td>\n",
              "      <td>0</td>\n",
              "      <td>0</td>\n",
              "      <td>0</td>\n",
              "      <td>0</td>\n",
              "      <td>1</td>\n",
              "      <td>0</td>\n",
              "      <td>0</td>\n",
              "      <td>0</td>\n",
              "      <td>0</td>\n",
              "      <td>...</td>\n",
              "      <td>0</td>\n",
              "      <td>0</td>\n",
              "      <td>0</td>\n",
              "      <td>0</td>\n",
              "      <td>0</td>\n",
              "      <td>0</td>\n",
              "      <td>0</td>\n",
              "      <td>0</td>\n",
              "      <td>1</td>\n",
              "      <td>0</td>\n",
              "    </tr>\n",
              "    <tr>\n",
              "      <th>313396</th>\n",
              "      <td>Tree</td>\n",
              "      <td>0</td>\n",
              "      <td>0</td>\n",
              "      <td>0</td>\n",
              "      <td>0</td>\n",
              "      <td>0</td>\n",
              "      <td>0</td>\n",
              "      <td>0</td>\n",
              "      <td>0</td>\n",
              "      <td>0</td>\n",
              "      <td>...</td>\n",
              "      <td>0</td>\n",
              "      <td>0</td>\n",
              "      <td>0</td>\n",
              "      <td>0</td>\n",
              "      <td>0</td>\n",
              "      <td>0</td>\n",
              "      <td>1</td>\n",
              "      <td>0</td>\n",
              "      <td>1</td>\n",
              "      <td>0</td>\n",
              "    </tr>\n",
              "    <tr>\n",
              "      <th>313400</th>\n",
              "      <td>Lobster and Seaweed</td>\n",
              "      <td>0</td>\n",
              "      <td>0</td>\n",
              "      <td>0</td>\n",
              "      <td>0</td>\n",
              "      <td>0</td>\n",
              "      <td>0</td>\n",
              "      <td>0</td>\n",
              "      <td>0</td>\n",
              "      <td>0</td>\n",
              "      <td>...</td>\n",
              "      <td>0</td>\n",
              "      <td>0</td>\n",
              "      <td>0</td>\n",
              "      <td>0</td>\n",
              "      <td>0</td>\n",
              "      <td>0</td>\n",
              "      <td>1</td>\n",
              "      <td>0</td>\n",
              "      <td>0</td>\n",
              "      <td>0</td>\n",
              "    </tr>\n",
              "    <tr>\n",
              "      <th>313749</th>\n",
              "      <td>Eyes (Abstract)</td>\n",
              "      <td>0</td>\n",
              "      <td>0</td>\n",
              "      <td>0</td>\n",
              "      <td>1</td>\n",
              "      <td>0</td>\n",
              "      <td>0</td>\n",
              "      <td>0</td>\n",
              "      <td>0</td>\n",
              "      <td>0</td>\n",
              "      <td>...</td>\n",
              "      <td>0</td>\n",
              "      <td>0</td>\n",
              "      <td>0</td>\n",
              "      <td>1</td>\n",
              "      <td>0</td>\n",
              "      <td>0</td>\n",
              "      <td>0</td>\n",
              "      <td>0</td>\n",
              "      <td>0</td>\n",
              "      <td>0</td>\n",
              "    </tr>\n",
              "    <tr>\n",
              "      <th>313760</th>\n",
              "      <td>Humans or Human-Like Figures (As D1 in a scene...</td>\n",
              "      <td>0</td>\n",
              "      <td>0</td>\n",
              "      <td>0</td>\n",
              "      <td>0</td>\n",
              "      <td>0</td>\n",
              "      <td>0</td>\n",
              "      <td>0</td>\n",
              "      <td>0</td>\n",
              "      <td>0</td>\n",
              "      <td>...</td>\n",
              "      <td>0</td>\n",
              "      <td>0</td>\n",
              "      <td>0</td>\n",
              "      <td>0</td>\n",
              "      <td>0</td>\n",
              "      <td>0</td>\n",
              "      <td>0</td>\n",
              "      <td>0</td>\n",
              "      <td>1</td>\n",
              "      <td>0</td>\n",
              "    </tr>\n",
              "    <tr>\n",
              "      <th>...</th>\n",
              "      <td>...</td>\n",
              "      <td>...</td>\n",
              "      <td>...</td>\n",
              "      <td>...</td>\n",
              "      <td>...</td>\n",
              "      <td>...</td>\n",
              "      <td>...</td>\n",
              "      <td>...</td>\n",
              "      <td>...</td>\n",
              "      <td>...</td>\n",
              "      <td>...</td>\n",
              "      <td>...</td>\n",
              "      <td>...</td>\n",
              "      <td>...</td>\n",
              "      <td>...</td>\n",
              "      <td>...</td>\n",
              "      <td>...</td>\n",
              "      <td>...</td>\n",
              "      <td>...</td>\n",
              "      <td>...</td>\n",
              "      <td>...</td>\n",
              "    </tr>\n",
              "    <tr>\n",
              "      <th>433526</th>\n",
              "      <td>Bud (Flower)</td>\n",
              "      <td>0</td>\n",
              "      <td>0</td>\n",
              "      <td>0</td>\n",
              "      <td>0</td>\n",
              "      <td>0</td>\n",
              "      <td>0</td>\n",
              "      <td>0</td>\n",
              "      <td>0</td>\n",
              "      <td>0</td>\n",
              "      <td>...</td>\n",
              "      <td>0</td>\n",
              "      <td>0</td>\n",
              "      <td>0</td>\n",
              "      <td>0</td>\n",
              "      <td>1</td>\n",
              "      <td>0</td>\n",
              "      <td>0</td>\n",
              "      <td>0</td>\n",
              "      <td>1</td>\n",
              "      <td>0</td>\n",
              "    </tr>\n",
              "    <tr>\n",
              "      <th>258760</th>\n",
              "      <td>Breasts</td>\n",
              "      <td>0</td>\n",
              "      <td>0</td>\n",
              "      <td>0</td>\n",
              "      <td>0</td>\n",
              "      <td>0</td>\n",
              "      <td>0</td>\n",
              "      <td>0</td>\n",
              "      <td>0</td>\n",
              "      <td>0</td>\n",
              "      <td>...</td>\n",
              "      <td>0</td>\n",
              "      <td>0</td>\n",
              "      <td>0</td>\n",
              "      <td>0</td>\n",
              "      <td>0</td>\n",
              "      <td>0</td>\n",
              "      <td>0</td>\n",
              "      <td>0</td>\n",
              "      <td>0</td>\n",
              "      <td>1</td>\n",
              "    </tr>\n",
              "    <tr>\n",
              "      <th>440801</th>\n",
              "      <td>Clouds</td>\n",
              "      <td>0</td>\n",
              "      <td>0</td>\n",
              "      <td>0</td>\n",
              "      <td>1</td>\n",
              "      <td>0</td>\n",
              "      <td>0</td>\n",
              "      <td>0</td>\n",
              "      <td>0</td>\n",
              "      <td>0</td>\n",
              "      <td>...</td>\n",
              "      <td>0</td>\n",
              "      <td>0</td>\n",
              "      <td>0</td>\n",
              "      <td>1</td>\n",
              "      <td>0</td>\n",
              "      <td>0</td>\n",
              "      <td>0</td>\n",
              "      <td>0</td>\n",
              "      <td>0</td>\n",
              "      <td>0</td>\n",
              "    </tr>\n",
              "    <tr>\n",
              "      <th>324198</th>\n",
              "      <td>Ballerina (In costume)</td>\n",
              "      <td>0</td>\n",
              "      <td>0</td>\n",
              "      <td>0</td>\n",
              "      <td>0</td>\n",
              "      <td>0</td>\n",
              "      <td>0</td>\n",
              "      <td>0</td>\n",
              "      <td>0</td>\n",
              "      <td>0</td>\n",
              "      <td>...</td>\n",
              "      <td>0</td>\n",
              "      <td>0</td>\n",
              "      <td>0</td>\n",
              "      <td>1</td>\n",
              "      <td>0</td>\n",
              "      <td>0</td>\n",
              "      <td>0</td>\n",
              "      <td>0</td>\n",
              "      <td>0</td>\n",
              "      <td>0</td>\n",
              "    </tr>\n",
              "    <tr>\n",
              "      <th>408890</th>\n",
              "      <td>Antennae</td>\n",
              "      <td>0</td>\n",
              "      <td>0</td>\n",
              "      <td>0</td>\n",
              "      <td>0</td>\n",
              "      <td>0</td>\n",
              "      <td>1</td>\n",
              "      <td>0</td>\n",
              "      <td>0</td>\n",
              "      <td>0</td>\n",
              "      <td>...</td>\n",
              "      <td>0</td>\n",
              "      <td>0</td>\n",
              "      <td>0</td>\n",
              "      <td>1</td>\n",
              "      <td>0</td>\n",
              "      <td>0</td>\n",
              "      <td>0</td>\n",
              "      <td>0</td>\n",
              "      <td>0</td>\n",
              "      <td>1</td>\n",
              "    </tr>\n",
              "  </tbody>\n",
              "</table>\n",
              "<p>747 rows × 40 columns</p>\n",
              "</div>"
            ],
            "text/plain": [
              "                                                   FQText  (A)  (Ad)  (H)  \\\n",
              "121                       Animal (Winged but unspecified)    0     0    0   \n",
              "313396                                               Tree    0     0    0   \n",
              "313400                                Lobster and Seaweed    0     0    0   \n",
              "313749                                    Eyes (Abstract)    0     0    0   \n",
              "313760  Humans or Human-Like Figures (As D1 in a scene...    0     0    0   \n",
              "...                                                   ...  ...   ...  ...   \n",
              "433526                                       Bud (Flower)    0     0    0   \n",
              "258760                                            Breasts    0     0    0   \n",
              "440801                                             Clouds    0     0    0   \n",
              "324198                             Ballerina (In costume)    0     0    0   \n",
              "408890                                           Antennae    0     0    0   \n",
              "\n",
              "        (Hd)  A  ANatt  Abs  Ad  Alim  ...  E  EF  EFF  F  FC  FC'  FE  FK  K  \\\n",
              "121        0  1      0    0   0     0  ...  0   0    0  0   0    0   0   0  1   \n",
              "313396     0  0      0    0   0     0  ...  0   0    0  0   0    0   1   0  1   \n",
              "313400     0  0      0    0   0     0  ...  0   0    0  0   0    0   1   0  0   \n",
              "313749     1  0      0    0   0     0  ...  0   0    0  1   0    0   0   0  0   \n",
              "313760     0  0      0    0   0     0  ...  0   0    0  0   0    0   0   0  1   \n",
              "...      ... ..    ...  ...  ..   ...  ... ..  ..  ... ..  ..  ...  ..  .. ..   \n",
              "433526     0  0      0    0   0     0  ...  0   0    0  0   1    0   0   0  1   \n",
              "258760     0  0      0    0   0     0  ...  0   0    0  0   0    0   0   0  0   \n",
              "440801     1  0      0    0   0     0  ...  0   0    0  1   0    0   0   0  0   \n",
              "324198     0  0      0    0   0     0  ...  0   0    0  1   0    0   0   0  0   \n",
              "408890     0  0      1    0   0     0  ...  0   0    0  1   0    0   0   0  0   \n",
              "\n",
              "        K-p  \n",
              "121       0  \n",
              "313396    0  \n",
              "313400    0  \n",
              "313749    0  \n",
              "313760    0  \n",
              "...     ...  \n",
              "433526    0  \n",
              "258760    1  \n",
              "440801    0  \n",
              "324198    0  \n",
              "408890    1  \n",
              "\n",
              "[747 rows x 40 columns]"
            ]
          },
          "execution_count": 592,
          "metadata": {},
          "output_type": "execute_result"
        }
      ],
      "source": [
        "# final text-content df \n",
        "\n",
        "classification_data"
      ]
    },
    {
      "cell_type": "markdown",
      "metadata": {},
      "source": [
        "# Multilabel-classification Models"
      ]
    },
    {
      "cell_type": "code",
      "execution_count": null,
      "metadata": {},
      "outputs": [],
      "source": [
        "from sklearn.multiclass import OneVsRestClassifier\n",
        "\n",
        "from sklearn.linear_model import LogisticRegression\n",
        "from sklearn.neighbors import KNeighborsClassifier\n",
        "from sklearn.ensemble import RandomForestClassifier\n",
        "from sklearn.svm import SVC\n",
        "\n",
        "from sklearn.pipeline import Pipeline\n",
        "from sklearn.feature_extraction.text import TfidfVectorizer\n",
        "from sklearn.model_selection import train_test_split\n",
        "\n",
        "from sklearn.metrics import accuracy_score\n",
        "from sklearn.metrics import f1_score\n",
        "from sklearn.metrics import classification_report"
      ]
    },
    {
      "cell_type": "code",
      "execution_count": null,
      "metadata": {},
      "outputs": [
        {
          "name": "stdout",
          "output_type": "stream",
          "text": [
            "<class 'pandas.core.frame.DataFrame'>\n",
            "Index: 747 entries, 121 to 408890\n",
            "Data columns (total 25 columns):\n",
            " #   Column  Non-Null Count  Dtype\n",
            "---  ------  --------------  -----\n",
            " 0   (A)     747 non-null    int32\n",
            " 1   (Ad)    747 non-null    int32\n",
            " 2   (H)     747 non-null    int32\n",
            " 3   (Hd)    747 non-null    int32\n",
            " 4   A       747 non-null    int32\n",
            " 5   ANatt   747 non-null    int32\n",
            " 6   Abs     747 non-null    int32\n",
            " 7   Ad      747 non-null    int32\n",
            " 8   Alim    747 non-null    int32\n",
            " 9   Art     747 non-null    int32\n",
            " 10  Bot     747 non-null    int32\n",
            " 11  Elem    747 non-null    int32\n",
            " 12  Frag    747 non-null    int32\n",
            " 13  Ge      747 non-null    int32\n",
            " 14  H       747 non-null    int32\n",
            " 15  Hd      747 non-null    int32\n",
            " 16  Id      747 non-null    int32\n",
            " 17  Nat     747 non-null    int32\n",
            " 18  Obj     747 non-null    int32\n",
            " 19  Pays    747 non-null    int32\n",
            " 20  Radio   747 non-null    int32\n",
            " 21  Sc      747 non-null    int32\n",
            " 22  Sex     747 non-null    int32\n",
            " 23  Sg      747 non-null    int32\n",
            " 24  Vet     747 non-null    int32\n",
            "dtypes: int32(25)\n",
            "memory usage: 78.8 KB\n"
          ]
        }
      ],
      "source": [
        "y_contents.info()"
      ]
    },
    {
      "cell_type": "code",
      "execution_count": null,
      "metadata": {},
      "outputs": [
        {
          "data": {
            "text/plain": [
              "array([0, 1])"
            ]
          },
          "execution_count": 595,
          "metadata": {},
          "output_type": "execute_result"
        }
      ],
      "source": [
        "np.unique(y_contents)"
      ]
    },
    {
      "cell_type": "code",
      "execution_count": null,
      "metadata": {},
      "outputs": [
        {
          "data": {
            "text/plain": [
              "(747, 25)"
            ]
          },
          "execution_count": 596,
          "metadata": {},
          "output_type": "execute_result"
        }
      ],
      "source": [
        "y_contents.shape"
      ]
    },
    {
      "cell_type": "markdown",
      "metadata": {},
      "source": [
        "Model for Contents"
      ]
    },
    {
      "cell_type": "code",
      "execution_count": null,
      "metadata": {},
      "outputs": [
        {
          "name": "stdout",
          "output_type": "stream",
          "text": [
            "KNeighborsClassifier() 0.09333333333333334 0.13333333333333333\n",
            "LogisticRegression(random_state=42, solver='sag') 0.02666666666666667 0.033898305084745756\n"
          ]
        },
        {
          "name": "stdout",
          "output_type": "stream",
          "text": [
            "SVC() 0.06666666666666667 0.10852713178294573\n",
            "RandomForestClassifier(random_state=42) 0.05333333333333334 0.13793103448275862\n"
          ]
        }
      ],
      "source": [
        "X = classification_data[\"FQText\"]\n",
        "y = y_contents\n",
        "\n",
        "\n",
        "X_train, X_test, y_train, y_test = train_test_split(X, y, test_size = 0.10, random_state = 42)\n",
        "\n",
        "models = [KNeighborsClassifier(), LogisticRegression(random_state=42, solver = \"sag\"), SVC(), RandomForestClassifier(random_state=42)]\n",
        "\n",
        "for clf in models:\n",
        "\n",
        "    pipeline = Pipeline([\n",
        "                    ('text_tfidf', TfidfVectorizer(min_df = 2, max_df = 0.3, ngram_range = (1,3))),\n",
        "                    ('clf', OneVsRestClassifier(clf))\n",
        "                ])\n",
        "\n",
        "    model = pipeline.fit(X_train, y_train)\n",
        "\n",
        "    predictions = model.predict(X_test)\n",
        "\n",
        "    accuracy = accuracy_score(y_test, predictions)\n",
        "    f1 = f1_score(y_test, predictions, average=\"micro\")\n",
        "\n",
        "    print(clf, accuracy, f1)"
      ]
    },
    {
      "cell_type": "code",
      "execution_count": null,
      "metadata": {},
      "outputs": [
        {
          "name": "stdout",
          "output_type": "stream",
          "text": [
            "              precision    recall  f1-score   support\n",
            "\n",
            "           0       0.00      0.00      0.00         1\n",
            "           1       0.00      0.00      0.00         1\n",
            "           2       0.00      0.00      0.00         4\n",
            "           3       0.00      0.00      0.00         4\n",
            "           4       0.33      0.17      0.22        12\n",
            "           5       0.50      0.40      0.44         5\n",
            "           6       0.00      0.00      0.00         1\n",
            "           7       1.00      0.20      0.33         5\n",
            "           8       0.00      0.00      0.00         0\n",
            "           9       0.00      0.00      0.00         5\n",
            "          10       0.00      0.00      0.00         1\n",
            "          11       1.00      0.25      0.40         4\n",
            "          12       0.00      0.00      0.00         3\n",
            "          13       0.00      0.00      0.00         1\n",
            "          14       0.17      0.12      0.14         8\n",
            "          15       0.29      0.10      0.14        21\n",
            "          16       0.00      0.00      0.00         2\n",
            "          17       0.00      0.00      0.00         7\n",
            "          18       0.00      0.00      0.00         2\n",
            "          19       0.00      0.00      0.00         3\n",
            "          20       0.00      0.00      0.00         2\n",
            "          21       0.00      0.00      0.00         9\n",
            "          22       0.00      0.00      0.00         2\n",
            "          23       0.00      0.00      0.00         2\n",
            "          24       0.50      0.11      0.18         9\n",
            "\n",
            "   micro avg       0.32      0.09      0.14       114\n",
            "   macro avg       0.15      0.05      0.07       114\n",
            "weighted avg       0.24      0.09      0.12       114\n",
            " samples avg       0.10      0.10      0.10       114\n",
            "\n"
          ]
        },
        {
          "name": "stderr",
          "output_type": "stream",
          "text": [
            "c:\\Users\\alber\\AppData\\Local\\Programs\\Python\\Python312\\Lib\\site-packages\\sklearn\\metrics\\_classification.py:1471: UndefinedMetricWarning: Precision and F-score are ill-defined and being set to 0.0 in labels with no predicted samples. Use `zero_division` parameter to control this behavior.\n",
            "  _warn_prf(average, modifier, msg_start, len(result))\n",
            "c:\\Users\\alber\\AppData\\Local\\Programs\\Python\\Python312\\Lib\\site-packages\\sklearn\\metrics\\_classification.py:1471: UndefinedMetricWarning: Recall and F-score are ill-defined and being set to 0.0 in labels with no true samples. Use `zero_division` parameter to control this behavior.\n",
            "  _warn_prf(average, modifier, msg_start, len(result))\n",
            "c:\\Users\\alber\\AppData\\Local\\Programs\\Python\\Python312\\Lib\\site-packages\\sklearn\\metrics\\_classification.py:1471: UndefinedMetricWarning: Precision and F-score are ill-defined and being set to 0.0 in samples with no predicted labels. Use `zero_division` parameter to control this behavior.\n",
            "  _warn_prf(average, modifier, msg_start, len(result))\n"
          ]
        }
      ],
      "source": [
        "list_labels = list(y_contents.columns)\n",
        "\n",
        "class_report = classification_report(y_test, predictions)\n",
        "print(class_report)"
      ]
    },
    {
      "cell_type": "markdown",
      "metadata": {},
      "source": [
        "Looking at the classification report it is evident that the imbalanced dataset is causing problems"
      ]
    },
    {
      "cell_type": "code",
      "execution_count": null,
      "metadata": {},
      "outputs": [],
      "source": [
        "# pickle.dump(model, open(r\"Models\\Contents\\pipeline_contents_One-Many_V2-07-04.sav\", 'wb')) \n",
        "\n",
        "# will save the RF model since it was at the end of the list"
      ]
    },
    {
      "cell_type": "markdown",
      "metadata": {},
      "source": [
        "Model for Determinants"
      ]
    },
    {
      "cell_type": "markdown",
      "metadata": {},
      "source": [
        "Our models are not doing too good, maybe we could \"cascade\" the classifiers if the predictions of a previous classifier were good.\n",
        "For example, computing content labels first and then using the content label prediction to inform the determinant prediction model\n",
        "IFF one of the models was good "
      ]
    },
    {
      "cell_type": "code",
      "execution_count": null,
      "metadata": {},
      "outputs": [
        {
          "data": {
            "text/plain": [
              "Index(['User', 'PQLevel', 'Client', 'Age', 'Gender', 'Country', 'Protocol',\n",
              "       'TestDate', 'R', 'ResponseOrder', 'cardID', 'Location',\n",
              "       'LocationNumber', 'DevelopmentalQuality', 'Pair', 'FormQuality',\n",
              "       'FQText', 'Popular', 'ZCode', 'ZScore', 'SpecialScores', 'Rejection',\n",
              "       '(A)', '(Ad)', '(H)', '(Hd)', 'A', 'ANatt', 'Abs', 'Ad', 'Alim', 'Art',\n",
              "       'Bot', 'Elem', 'Frag', 'Ge', 'H', 'Hd', 'Id', 'Nat', 'Obj', 'Pays',\n",
              "       'Radio', 'Sc', 'Sex', 'Sg', 'Vet', 'C', 'C'', 'C'F', 'CF', 'E', 'EF',\n",
              "       'EFF', 'F', 'FC', 'FC'', 'FE', 'FK', 'K', 'K-p'],\n",
              "      dtype='object')"
            ]
          },
          "execution_count": 600,
          "metadata": {},
          "output_type": "execute_result"
        }
      ],
      "source": [
        "data.columns"
      ]
    },
    {
      "cell_type": "code",
      "execution_count": null,
      "metadata": {},
      "outputs": [
        {
          "data": {
            "text/plain": [
              "121                         Animal (Winged but unspecified)\n",
              "313396                                                 Tree\n",
              "313400                                  Lobster and Seaweed\n",
              "313749                                      Eyes (Abstract)\n",
              "313760    Humans or Human-Like Figures (As D1 in a scene...\n",
              "                                ...                        \n",
              "433526                                         Bud (Flower)\n",
              "258760                                              Breasts\n",
              "440801                                               Clouds\n",
              "324198                               Ballerina (In costume)\n",
              "408890                                             Antennae\n",
              "Name: FQText, Length: 747, dtype: object"
            ]
          },
          "execution_count": 601,
          "metadata": {},
          "output_type": "execute_result"
        }
      ],
      "source": [
        "X"
      ]
    },
    {
      "cell_type": "code",
      "execution_count": null,
      "metadata": {},
      "outputs": [
        {
          "name": "stdout",
          "output_type": "stream",
          "text": [
            "<class 'pandas.core.frame.DataFrame'>\n",
            "Index: 747 entries, 121 to 408890\n",
            "Data columns (total 14 columns):\n",
            " #   Column  Non-Null Count  Dtype\n",
            "---  ------  --------------  -----\n",
            " 0   C       747 non-null    int32\n",
            " 1   C'      747 non-null    int32\n",
            " 2   C'F     747 non-null    int32\n",
            " 3   CF      747 non-null    int32\n",
            " 4   E       747 non-null    int32\n",
            " 5   EF      747 non-null    int32\n",
            " 6   EFF     747 non-null    int32\n",
            " 7   F       747 non-null    int32\n",
            " 8   FC      747 non-null    int32\n",
            " 9   FC'     747 non-null    int32\n",
            " 10  FE      747 non-null    int32\n",
            " 11  FK      747 non-null    int32\n",
            " 12  K       747 non-null    int32\n",
            " 13  K-p     747 non-null    int32\n",
            "dtypes: int32(14)\n",
            "memory usage: 46.7 KB\n"
          ]
        }
      ],
      "source": [
        "y_determinants.info()"
      ]
    },
    {
      "cell_type": "code",
      "execution_count": null,
      "metadata": {},
      "outputs": [
        {
          "data": {
            "text/plain": [
              "array([0, 1])"
            ]
          },
          "execution_count": 603,
          "metadata": {},
          "output_type": "execute_result"
        }
      ],
      "source": [
        "np.unique(y_determinants)"
      ]
    },
    {
      "cell_type": "code",
      "execution_count": null,
      "metadata": {},
      "outputs": [
        {
          "data": {
            "text/plain": [
              "(747, 14)"
            ]
          },
          "execution_count": 604,
          "metadata": {},
          "output_type": "execute_result"
        }
      ],
      "source": [
        "y_determinants.shape"
      ]
    },
    {
      "cell_type": "code",
      "execution_count": null,
      "metadata": {},
      "outputs": [
        {
          "name": "stdout",
          "output_type": "stream",
          "text": [
            "KNeighborsClassifier() 0.02666666666666667 0.08759124087591239\n"
          ]
        },
        {
          "name": "stdout",
          "output_type": "stream",
          "text": [
            "LogisticRegression(random_state=42, solver='sag') 0.04 0.02127659574468085\n",
            "SVC() 0.04 0.09999999999999999\n",
            "RandomForestClassifier(random_state=42) 0.06666666666666667 0.11965811965811966\n"
          ]
        }
      ],
      "source": [
        "y = y_determinants\n",
        "\n",
        "X_train, X_test, y_train, y_test = train_test_split(X, y, test_size = 0.10, random_state = 42)\n",
        "\n",
        "models = [KNeighborsClassifier(), LogisticRegression(random_state=42, solver = \"sag\"), SVC(), RandomForestClassifier(random_state=42)]\n",
        "\n",
        "for clf in models:\n",
        "\n",
        "    pipeline = Pipeline([\n",
        "                    ('text_tfidf', TfidfVectorizer(min_df = 2, max_df = 0.3, ngram_range = (1,3))),\n",
        "                    ('clf', OneVsRestClassifier(clf))\n",
        "                ])\n",
        "\n",
        "    model = pipeline.fit(X_train, y_train)\n",
        "\n",
        "    predictions = model.predict(X_test)\n",
        "\n",
        "    accuracy = accuracy_score(y_test, predictions)\n",
        "    f1 = f1_score(y_test, predictions, average=\"micro\")\n",
        "\n",
        "    print(clf, accuracy, f1)\n"
      ]
    },
    {
      "cell_type": "code",
      "execution_count": null,
      "metadata": {},
      "outputs": [
        {
          "name": "stdout",
          "output_type": "stream",
          "text": [
            "              precision    recall  f1-score   support\n",
            "\n",
            "           0       0.00      0.00      0.00         1\n",
            "           1       0.00      0.00      0.00         0\n",
            "           2       0.00      0.00      0.00         0\n",
            "           3       0.00      0.00      0.00         5\n",
            "           4       0.00      0.00      0.00         0\n",
            "           5       0.00      0.00      0.00         2\n",
            "           6       0.00      0.00      0.00         1\n",
            "           7       0.25      0.09      0.13        35\n",
            "           8       0.00      0.00      0.00        11\n",
            "           9       0.00      0.00      0.00         2\n",
            "          10       0.00      0.00      0.00        10\n",
            "          11       0.00      0.00      0.00         1\n",
            "          12       0.36      0.19      0.25        21\n",
            "          13       0.00      0.00      0.00         1\n",
            "\n",
            "   micro avg       0.26      0.08      0.12        90\n",
            "   macro avg       0.04      0.02      0.03        90\n",
            "weighted avg       0.18      0.08      0.11        90\n",
            " samples avg       0.09      0.06      0.07        90\n",
            "\n"
          ]
        },
        {
          "name": "stderr",
          "output_type": "stream",
          "text": [
            "c:\\Users\\alber\\AppData\\Local\\Programs\\Python\\Python312\\Lib\\site-packages\\sklearn\\metrics\\_classification.py:1471: UndefinedMetricWarning: Precision and F-score are ill-defined and being set to 0.0 in labels with no predicted samples. Use `zero_division` parameter to control this behavior.\n",
            "  _warn_prf(average, modifier, msg_start, len(result))\n",
            "c:\\Users\\alber\\AppData\\Local\\Programs\\Python\\Python312\\Lib\\site-packages\\sklearn\\metrics\\_classification.py:1471: UndefinedMetricWarning: Recall and F-score are ill-defined and being set to 0.0 in labels with no true samples. Use `zero_division` parameter to control this behavior.\n",
            "  _warn_prf(average, modifier, msg_start, len(result))\n",
            "c:\\Users\\alber\\AppData\\Local\\Programs\\Python\\Python312\\Lib\\site-packages\\sklearn\\metrics\\_classification.py:1471: UndefinedMetricWarning: Precision and F-score are ill-defined and being set to 0.0 in samples with no predicted labels. Use `zero_division` parameter to control this behavior.\n",
            "  _warn_prf(average, modifier, msg_start, len(result))\n",
            "c:\\Users\\alber\\AppData\\Local\\Programs\\Python\\Python312\\Lib\\site-packages\\sklearn\\metrics\\_classification.py:1471: UndefinedMetricWarning: Recall and F-score are ill-defined and being set to 0.0 in samples with no true labels. Use `zero_division` parameter to control this behavior.\n",
            "  _warn_prf(average, modifier, msg_start, len(result))\n"
          ]
        }
      ],
      "source": [
        "class_report = classification_report(y_test, predictions)\n",
        "print(class_report)"
      ]
    },
    {
      "cell_type": "markdown",
      "metadata": {},
      "source": [
        "Looking at the classification report it is evident that the imbalanced dataset is causing problems"
      ]
    },
    {
      "cell_type": "code",
      "execution_count": null,
      "metadata": {},
      "outputs": [],
      "source": [
        "\n",
        "pickle.dump(model, open(r\"..\\Models\\Determinants\\pipeline_determinants_One-Many_V2-07-04.sav\", 'wb'))\n",
        "\n",
        "# will save the RF model by default"
      ]
    },
    {
      "cell_type": "markdown",
      "metadata": {},
      "source": [
        "# Function to get the predictions back from the classifier"
      ]
    },
    {
      "cell_type": "code",
      "execution_count": null,
      "metadata": {},
      "outputs": [
        {
          "data": {
            "text/plain": [
              "Index(['C', 'C'', 'C'F', 'CF', 'E', 'EF', 'EFF', 'F', 'FC', 'FC'', 'FE', 'FK',\n",
              "       'K', 'K-p'],\n",
              "      dtype='object')"
            ]
          },
          "execution_count": 608,
          "metadata": {},
          "output_type": "execute_result"
        }
      ],
      "source": [
        "y_determinants.columns"
      ]
    },
    {
      "cell_type": "code",
      "execution_count": null,
      "metadata": {},
      "outputs": [
        {
          "data": {
            "text/plain": [
              "Index(['(A)', '(Ad)', '(H)', '(Hd)', 'A', 'ANatt', 'Abs', 'Ad', 'Alim', 'Art',\n",
              "       'Bot', 'Elem', 'Frag', 'Ge', 'H', 'Hd', 'Id', 'Nat', 'Obj', 'Pays',\n",
              "       'Radio', 'Sc', 'Sex', 'Sg', 'Vet'],\n",
              "      dtype='object')"
            ]
          },
          "execution_count": 609,
          "metadata": {},
          "output_type": "execute_result"
        }
      ],
      "source": [
        "y_contents.columns"
      ]
    },
    {
      "cell_type": "code",
      "execution_count": null,
      "metadata": {},
      "outputs": [],
      "source": [
        "def evaluate_one_vs_rest(path, text):\n",
        "    \n",
        "    pipeline = pickle.load(open(path, \"rb\"))\n",
        "    \n",
        "    if \"content\" in path:\n",
        "        # print(\"content found\")\n",
        "        possible_outcomes = ['(A)', '(Ad)', '(H)', '(Hd)', 'A', 'Ad', 'An', 'Art', 'Ay', 'Bl', 'Bt',\n",
        "       'Cg', 'Cl', 'Ex', 'Fd', 'Fi', 'Ge', 'H', 'Hd', 'Hh', 'Hx', 'Id', 'Ls',\n",
        "       'Na', 'Sc', 'Sx', 'Xy']\n",
        "        \n",
        "    elif \"determinant\" in path:\n",
        "        # print(\"determinant found\")\n",
        "        possible_outcomes = ['C', 'C\\'', 'C\\'F', 'CF', 'F', 'FC', 'FC\\'', 'FD', 'FMa', 'FMa-p', 'FMp',\n",
        "       'FT', 'FV', 'FY', 'Fr', 'Ma', 'Ma-p', 'Mp', 'T', 'TF', 'V', 'VF', 'Y',\n",
        "       'YF', 'rF']\n",
        "\n",
        "    prediction = pipeline.predict([text])\n",
        "    probabilities = pipeline.predict_proba([text]) # sometimes no prediction is given back so we can take the outcome with the highest P instead\n",
        "\n",
        "    # print(\"prediction:\", prediction)\n",
        "    # print(\"probabilities:\", probabilities)\n",
        "    \n",
        "    list_predictions = prediction.tolist()\n",
        "    list_predictions = [x for sublist in list_predictions for x in sublist] # avoid lists with sublists\n",
        "\n",
        "    \n",
        "    if len(list_predictions) != len(possible_outcomes): # sanity check\n",
        "        print(prediction)\n",
        "        print( len(list_predictions)  )\n",
        "        print(possible_outcomes)\n",
        "        print( len(possible_outcomes)  )\n",
        "        print(\"Error encountered in the predictions\")\n",
        "        \n",
        "    results = ([possible_outcomes[i] for i in range(len(list_predictions)) if list_predictions[i] == 1]) \n",
        "\n",
        "    if results == []:\n",
        "        # print(\"No result\")\n",
        "        i = probabilities.argmax(1).item()\n",
        "        # print(ix)\n",
        "        final_results = possible_outcomes[i]\n",
        "    \n",
        "    else:\n",
        "        final_results = str(results).replace(\"\\'\", \"\").replace(\"[\", \"\").replace(\"]\", \"\")\n",
        "    \n",
        "    return final_results"
      ]
    },
    {
      "cell_type": "code",
      "execution_count": null,
      "metadata": {},
      "outputs": [
        {
          "data": {
            "text/plain": [
              "'A'"
            ]
          },
          "execution_count": 611,
          "metadata": {},
          "output_type": "execute_result"
        }
      ],
      "source": [
        "evaluate_one_vs_rest(r\"..\\Models\\Contents\\pipeline_contents_One-Many_V2-07-04.sav\", \"Dog\")"
      ]
    },
    {
      "cell_type": "code",
      "execution_count": null,
      "metadata": {},
      "outputs": [
        {
          "name": "stdout",
          "output_type": "stream",
          "text": [
            "[[0 0 0 0 0 0 0 0 0 0 1 1 0 0]]\n",
            "14\n",
            "['C', \"C'\", \"C'F\", 'CF', 'F', 'FC', \"FC'\", 'FD', 'FMa', 'FMa-p', 'FMp', 'FT', 'FV', 'FY', 'Fr', 'Ma', 'Ma-p', 'Mp', 'T', 'TF', 'V', 'VF', 'Y', 'YF', 'rF']\n",
            "25\n",
            "Error encountered in the predictions\n"
          ]
        },
        {
          "data": {
            "text/plain": [
              "'FMp, FT'"
            ]
          },
          "execution_count": 612,
          "metadata": {},
          "output_type": "execute_result"
        }
      ],
      "source": [
        "evaluate_one_vs_rest(r\"..\\Models\\Determinants\\pipeline_determinants_One-Many_V2-07-04.sav\", \"Dog\")"
      ]
    },
    {
      "cell_type": "markdown",
      "metadata": {},
      "source": [
        "Trying out Sentence Transformers as vectorizer (in progress)\n"
      ]
    },
    {
      "cell_type": "code",
      "execution_count": null,
      "metadata": {},
      "outputs": [],
      "source": [
        "from sentence_transformers import SentenceTransformer, util\n",
        "\n",
        "X = classification_data['FQText'] \n"
      ]
    },
    {
      "cell_type": "code",
      "execution_count": null,
      "metadata": {},
      "outputs": [
        {
          "data": {
            "text/plain": [
              "dtype('O')"
            ]
          },
          "execution_count": 614,
          "metadata": {},
          "output_type": "execute_result"
        }
      ],
      "source": [
        "X.dtype"
      ]
    },
    {
      "cell_type": "code",
      "execution_count": null,
      "metadata": {},
      "outputs": [],
      "source": [
        "X = X.astype(\"str\")"
      ]
    },
    {
      "cell_type": "code",
      "execution_count": null,
      "metadata": {},
      "outputs": [],
      "source": [
        "embeddigngs_model = SentenceTransformer(\"all-MiniLM-L6-v2\")"
      ]
    },
    {
      "cell_type": "code",
      "execution_count": null,
      "metadata": {},
      "outputs": [],
      "source": [
        "\n",
        "X_transformers = X.apply(lambda x: embeddigngs_model.encode(x, convert_to_numpy=True)) # getting the embeddings for each row\n"
      ]
    },
    {
      "cell_type": "code",
      "execution_count": null,
      "metadata": {},
      "outputs": [
        {
          "data": {
            "text/plain": [
              "121       [0.0072814045, 0.07968267, -0.0016847255, 0.07...\n",
              "313396    [-0.015146702, 0.06298704, 0.0040923823, 0.077...\n",
              "313400    [-0.014556069, 0.035231598, -0.006662325, 0.02...\n",
              "313749    [-0.026726907, -0.032455858, -0.009256876, 0.0...\n",
              "313760    [0.008407356, 0.009018475, -0.022378609, 0.025...\n",
              "                                ...                        \n",
              "433526    [-0.013565106, 0.04037332, -0.025116038, 0.009...\n",
              "258760    [0.030037312, 0.017546179, -0.0316938, 0.04874...\n",
              "440801    [-0.013337994, 0.021053419, 0.06364362, 0.0480...\n",
              "324198    [-0.004651827, -0.0034870668, -0.019736633, -0...\n",
              "408890    [-0.025608167, 0.031198695, -0.042901326, -0.0...\n",
              "Name: FQText, Length: 747, dtype: object"
            ]
          },
          "execution_count": 618,
          "metadata": {},
          "output_type": "execute_result"
        }
      ],
      "source": [
        "X_transformers"
      ]
    },
    {
      "cell_type": "code",
      "execution_count": null,
      "metadata": {},
      "outputs": [],
      "source": [
        "X_transformers = X_transformers.apply(lambda x: np.mean(x)) # getting the centroid of each embedding array, we cna't just feed the classifier vectors\n",
        "X_transformers = np.array(X_transformers).reshape(-1,1)\n"
      ]
    },
    {
      "cell_type": "code",
      "execution_count": null,
      "metadata": {},
      "outputs": [
        {
          "name": "stdout",
          "output_type": "stream",
          "text": [
            "KNeighborsClassifier() 0.12 0.21311475409836064\n",
            "LogisticRegression(random_state=42, solver='sag') 0.05333333333333334 0.0\n",
            "SVC() 0.05333333333333334 0.0\n",
            "RandomForestClassifier(random_state=42) 0.17333333333333334 0.2777777777777778\n"
          ]
        }
      ],
      "source": [
        "y = y_determinants\n",
        "\n",
        "X_train, X_test, y_train, y_test = train_test_split(X_transformers, y, test_size = 0.10, random_state = 42)\n",
        "\n",
        "models = [KNeighborsClassifier(), LogisticRegression(random_state=42, solver = \"sag\"), SVC(), RandomForestClassifier(random_state=42)]\n",
        "\n",
        "for clf in models:\n",
        "        \n",
        "        pipeline = Pipeline([\n",
        "                        ('clf', OneVsRestClassifier(clf)),\n",
        "                ])\n",
        "\n",
        "        model = pipeline.fit(X_train, y_train)\n",
        "\n",
        "        predictions = model.predict(X_test)\n",
        "\n",
        "        accuracy = accuracy_score(y_test, predictions)\n",
        "        f1 = f1_score(y_test, predictions, average=\"micro\")\n",
        "\n",
        "        print(clf, accuracy, f1)"
      ]
    },
    {
      "cell_type": "code",
      "execution_count": null,
      "metadata": {},
      "outputs": [
        {
          "name": "stdout",
          "output_type": "stream",
          "text": [
            "KNeighborsClassifier() 0.013333333333333334 0.04615384615384615\n",
            "LogisticRegression(random_state=42, solver='sag') 0.0 0.0\n",
            "SVC() 0.0 0.0\n",
            "RandomForestClassifier(random_state=42) 0.04 0.1643835616438356\n"
          ]
        }
      ],
      "source": [
        "y = y_contents\n",
        "\n",
        "X_train, X_test, y_train, y_test = train_test_split(X_transformers, y, test_size = 0.10, random_state = 42)\n",
        "\n",
        "models = [KNeighborsClassifier(), LogisticRegression(random_state=42, solver = \"sag\"), SVC(), RandomForestClassifier(random_state=42)]\n",
        "\n",
        "for clf in models:\n",
        "        \n",
        "        pipeline = Pipeline([\n",
        "                        ('clf', OneVsRestClassifier(clf)),\n",
        "                ])\n",
        "\n",
        "        model = pipeline.fit(X_train, y_train)\n",
        "\n",
        "        predictions = model.predict(X_test)\n",
        "\n",
        "        accuracy = accuracy_score(y_test, predictions)\n",
        "        f1 = f1_score(y_test, predictions, average=\"micro\")\n",
        "\n",
        "        print(clf, accuracy, f1)"
      ]
    }
  ],
  "metadata": {
    "accelerator": "GPU",
    "colab": {
      "gpuType": "T4",
      "provenance": []
    },
    "kernelspec": {
      "display_name": "Python 3",
      "name": "python3"
    },
    "language_info": {
      "codemirror_mode": {
        "name": "ipython",
        "version": 3
      },
      "file_extension": ".py",
      "mimetype": "text/x-python",
      "name": "python",
      "nbconvert_exporter": "python",
      "pygments_lexer": "ipython3",
      "version": "3.12.0"
    }
  },
  "nbformat": 4,
  "nbformat_minor": 0
}

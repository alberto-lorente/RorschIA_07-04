{
  "cells": [
    {
      "cell_type": "markdown",
      "metadata": {},
      "source": [
        "# DATA"
      ]
    },
    {
      "cell_type": "markdown",
      "metadata": {},
      "source": [
        "Source of the data: \n",
        "https://www.kaggle.com/code/surekharamireddy/covid-19-rorschach-test-dataset/"
      ]
    },
    {
      "cell_type": "markdown",
      "metadata": {},
      "source": [
        "Straight away, the dataset was used for a study about the evolution of Rorschach protocols before and after the Pandemic: \"Perform between-subject statistical analysis (covariance & clustering) of all the sample variables, to detect changes between pre and post pandemic responses to the Rorschach test.\""
      ]
    },
    {
      "cell_type": "markdown",
      "metadata": {},
      "source": [
        "Some important information about the data: \n",
        "\n",
        "    User : User Id number\n",
        "    PQlevel : Professional qualifications levels are based on the\n",
        "    Clinet : Client Id number\n",
        "    Age : Client age in Years\n",
        "    Gender : Client Gender\n",
        "    Country : Client Country\n",
        "    Protocol : Protocol Id Number\n",
        "    Test Date : The Date the RAP3 protocol was created\n",
        "    R : The total number of the responses associated with the protocol\n",
        "    ResponseOrder : The order of responses in the protocol\n",
        "    CardId : Rorschach cardnumber 1 to 10\n",
        "    Location : Indicated to which area of the blot the responses referred to\n",
        "    LocationNumber : The location Normative Number\n",
        "    Developmental Quality : The quality of processing that has been involved in the formation of the responses\n",
        "    Determinants : All the visual stimulli in the blot that shaped the reported objects in the response .\n",
        "    Pair : Two identical objects are reported , based on the symmetry of the blot\n",
        "    Form Quality : Indicates how good is the fitness between the area of blot being used and the form requirements of the object specified in the response\n",
        "    FQtext : The form quality associated Normative Text\n",
        "    Contents : Content Coding is consisting of abbrevations for the category to which the responded object Belongs\n",
        "    Popular : Responses that occur with a high frequency with a normative sample .\n",
        "    ZCode : ZCode is coded in responses that involve organizational activity of relationships between distinct blot areas .\n",
        "    ZScore : A Numerical value assigned to responses in which such Organizational activity occurs .\n",
        "    Special Scores : Indicate the presence of special features in the response\n",
        "    Rejection : The number of card rejections in the Protocol .\n"
      ]
    },
    {
      "cell_type": "markdown",
      "metadata": {},
      "source": [
        "The translation for the French version is in the Dev folder"
      ]
    },
    {
      "cell_type": "markdown",
      "metadata": {},
      "source": [
        "# Data exploration and cleaning"
      ]
    },
    {
      "cell_type": "code",
      "execution_count": 2,
      "metadata": {
        "id": "hxOZDGR-S4oq"
      },
      "outputs": [],
      "source": [
        "import pandas as pd\n",
        "import numpy as np\n",
        "import matplotlib.pyplot as plt\n",
        "import seaborn as sns\n",
        "import pickle\n"
      ]
    },
    {
      "cell_type": "code",
      "execution_count": 3,
      "metadata": {},
      "outputs": [],
      "source": [
        "data = pd.read_csv(r\"rap_dataset.tsv\", sep = \"\\t\")"
      ]
    },
    {
      "cell_type": "code",
      "execution_count": 4,
      "metadata": {},
      "outputs": [
        {
          "data": {
            "text/plain": [
              "User                         0\n",
              "PQLevel                      0\n",
              "Client                       0\n",
              "Age                          0\n",
              "Gender                       0\n",
              "Country                      0\n",
              "Protocol                     0\n",
              "TestDate                     0\n",
              "R                            0\n",
              "ResponseOrder                0\n",
              "cardID                       0\n",
              "Location                     0\n",
              "LocationNumber          119435\n",
              "DevelopmentalQuality         0\n",
              "Determinants                 0\n",
              "Pair                         0\n",
              "FormQuality                  0\n",
              "FQText                  442103\n",
              "Contents                     0\n",
              "Popular                      0\n",
              "ZCode                   238068\n",
              "ZScore                  238069\n",
              "SpecialScores           298146\n",
              "Rejection                    0\n",
              "dtype: int64"
            ]
          },
          "execution_count": 4,
          "metadata": {},
          "output_type": "execute_result"
        }
      ],
      "source": [
        "data.isna().sum()"
      ]
    },
    {
      "cell_type": "code",
      "execution_count": 5,
      "metadata": {},
      "outputs": [],
      "source": [
        "df = data.dropna()"
      ]
    },
    {
      "cell_type": "code",
      "execution_count": 6,
      "metadata": {},
      "outputs": [
        {
          "data": {
            "text/plain": [
              "Index(['User', 'PQLevel', 'Client', 'Age', 'Gender', 'Country', 'Protocol',\n",
              "       'TestDate', 'R', 'ResponseOrder', 'cardID', 'Location',\n",
              "       'LocationNumber', 'DevelopmentalQuality', 'Determinants', 'Pair',\n",
              "       'FormQuality', 'FQText', 'Contents', 'Popular', 'ZCode', 'ZScore',\n",
              "       'SpecialScores', 'Rejection'],\n",
              "      dtype='object')"
            ]
          },
          "execution_count": 6,
          "metadata": {},
          "output_type": "execute_result"
        }
      ],
      "source": [
        "df.columns"
      ]
    },
    {
      "cell_type": "code",
      "execution_count": 7,
      "metadata": {},
      "outputs": [
        {
          "data": {
            "text/plain": [
              "(14351, 24)"
            ]
          },
          "execution_count": 7,
          "metadata": {},
          "output_type": "execute_result"
        }
      ],
      "source": [
        "df.shape"
      ]
    },
    {
      "cell_type": "code",
      "execution_count": 8,
      "metadata": {},
      "outputs": [
        {
          "data": {
            "text/plain": [
              "FQText\n",
              "Human                                      825\n",
              "Humans (Two with D7 as separate object)    696\n",
              "Humans (Two)                               683\n",
              "Human-Like Figure                          547\n",
              "Humans or Human-Like Figures               547\n",
              "                                          ... \n",
              "Branch                                       1\n",
              "Head (Animal, large)                         1\n",
              "Flesh                                        1\n",
              "Doorframe                                    1\n",
              "Shrimp (Two, natural form)                   1\n",
              "Name: count, Length: 747, dtype: int64"
            ]
          },
          "execution_count": 8,
          "metadata": {},
          "output_type": "execute_result"
        }
      ],
      "source": [
        "df[\"FQText\"].value_counts()"
      ]
    },
    {
      "cell_type": "markdown",
      "metadata": {},
      "source": [
        "As we can se above, there are many duplicate texts with the corresponding annotations. "
      ]
    },
    {
      "cell_type": "code",
      "execution_count": 9,
      "metadata": {},
      "outputs": [
        {
          "data": {
            "text/html": [
              "<div>\n",
              "<style scoped>\n",
              "    .dataframe tbody tr th:only-of-type {\n",
              "        vertical-align: middle;\n",
              "    }\n",
              "\n",
              "    .dataframe tbody tr th {\n",
              "        vertical-align: top;\n",
              "    }\n",
              "\n",
              "    .dataframe thead th {\n",
              "        text-align: right;\n",
              "    }\n",
              "</style>\n",
              "<table border=\"1\" class=\"dataframe\">\n",
              "  <thead>\n",
              "    <tr style=\"text-align: right;\">\n",
              "      <th></th>\n",
              "      <th>FQText</th>\n",
              "      <th>cardID</th>\n",
              "      <th>Determinants</th>\n",
              "      <th>Contents</th>\n",
              "    </tr>\n",
              "  </thead>\n",
              "  <tbody>\n",
              "    <tr>\n",
              "      <th>398851</th>\n",
              "      <td>Abstract</td>\n",
              "      <td>7</td>\n",
              "      <td>Mp</td>\n",
              "      <td>Hd,Hx</td>\n",
              "    </tr>\n",
              "    <tr>\n",
              "      <th>259663</th>\n",
              "      <td>Abstract</td>\n",
              "      <td>7</td>\n",
              "      <td>Fr</td>\n",
              "      <td>Art,A</td>\n",
              "    </tr>\n",
              "    <tr>\n",
              "      <th>203209</th>\n",
              "      <td>Abstract</td>\n",
              "      <td>7</td>\n",
              "      <td>F</td>\n",
              "      <td>Art,H</td>\n",
              "    </tr>\n",
              "    <tr>\n",
              "      <th>401257</th>\n",
              "      <td>Abstract Drawing</td>\n",
              "      <td>6</td>\n",
              "      <td>FMa,FD</td>\n",
              "      <td>Ad,A,Hd</td>\n",
              "    </tr>\n",
              "    <tr>\n",
              "      <th>374178</th>\n",
              "      <td>Abstract Drawing</td>\n",
              "      <td>6</td>\n",
              "      <td>ma</td>\n",
              "      <td>Hx</td>\n",
              "    </tr>\n",
              "    <tr>\n",
              "      <th>...</th>\n",
              "      <td>...</td>\n",
              "      <td>...</td>\n",
              "      <td>...</td>\n",
              "      <td>...</td>\n",
              "    </tr>\n",
              "    <tr>\n",
              "      <th>473568</th>\n",
              "      <td>X-ray (Specific)</td>\n",
              "      <td>6</td>\n",
              "      <td>FD,C'F</td>\n",
              "      <td>Xy,Hd</td>\n",
              "    </tr>\n",
              "    <tr>\n",
              "      <th>280932</th>\n",
              "      <td>X-ray (Unspecified)</td>\n",
              "      <td>3</td>\n",
              "      <td>FC'</td>\n",
              "      <td>Hd,H</td>\n",
              "    </tr>\n",
              "    <tr>\n",
              "      <th>145050</th>\n",
              "      <td>X-ray (Unspecified)</td>\n",
              "      <td>3</td>\n",
              "      <td>FC'</td>\n",
              "      <td>Art,An</td>\n",
              "    </tr>\n",
              "    <tr>\n",
              "      <th>145034</th>\n",
              "      <td>X-ray (Unspecified)</td>\n",
              "      <td>3</td>\n",
              "      <td>FT,C'</td>\n",
              "      <td>Xy,Hd</td>\n",
              "    </tr>\n",
              "    <tr>\n",
              "      <th>237600</th>\n",
              "      <td>X-ray (Unspecified)</td>\n",
              "      <td>6</td>\n",
              "      <td>F</td>\n",
              "      <td>Xy</td>\n",
              "    </tr>\n",
              "  </tbody>\n",
              "</table>\n",
              "<p>13115 rows × 4 columns</p>\n",
              "</div>"
            ],
            "text/plain": [
              "                     FQText  cardID Determinants Contents\n",
              "398851             Abstract       7           Mp    Hd,Hx\n",
              "259663             Abstract       7           Fr    Art,A\n",
              "203209             Abstract       7            F    Art,H\n",
              "401257     Abstract Drawing       6       FMa,FD  Ad,A,Hd\n",
              "374178     Abstract Drawing       6           ma       Hx\n",
              "...                     ...     ...          ...      ...\n",
              "473568     X-ray (Specific)       6       FD,C'F    Xy,Hd\n",
              "280932  X-ray (Unspecified)       3          FC'     Hd,H\n",
              "145050  X-ray (Unspecified)       3          FC'   Art,An\n",
              "145034  X-ray (Unspecified)       3        FT,C'    Xy,Hd\n",
              "237600  X-ray (Unspecified)       6            F       Xy\n",
              "\n",
              "[13115 rows x 4 columns]"
            ]
          },
          "execution_count": 9,
          "metadata": {},
          "output_type": "execute_result"
        }
      ],
      "source": [
        "# Looking at the entries that have the same text and cardID\n",
        "\n",
        "duplicate = df.duplicated(subset=[\"FQText\", \"cardID\"])\n",
        "df_same_response_same_card_diff_determinant = df[duplicate]\n",
        "df_same_response_same_card_diff_determinant[[\"FQText\",\"cardID\", \"Determinants\", \"Contents\"]].sort_values(\"FQText\")"
      ]
    },
    {
      "cell_type": "markdown",
      "metadata": {},
      "source": [
        "And we also observe that the annotations are not consistent!\n",
        "\n",
        "Ideally we would consult a psychologist or try to validate the dataset but for the sake of having a POC up and running, I will drop repeated responses.\n",
        "\n",
        "Since we have a column that tells us the qualification level of the psychologist who evaluated the text, we'll order the texts alphabetically first and then we will order the text by the qualifications of the psychologist. This way, we'll get the texts with the most qualified psychologist first and we can drop duplicates while keeping the evaluations of \"higher quality.\""
      ]
    },
    {
      "cell_type": "markdown",
      "metadata": {},
      "source": []
    },
    {
      "cell_type": "code",
      "execution_count": 10,
      "metadata": {},
      "outputs": [
        {
          "data": {
            "text/plain": [
              "(747, 24)"
            ]
          },
          "execution_count": 10,
          "metadata": {},
          "output_type": "execute_result"
        }
      ],
      "source": [
        "df_2 = df.sort_values(\"PQLevel\", ascending=False).drop_duplicates(subset=[\"FQText\"], keep=\"first\")\n",
        "df_2.shape"
      ]
    },
    {
      "cell_type": "markdown",
      "metadata": {},
      "source": [
        "We have dropped a lot of data points which is not ideal. Moreover, it may be helpful to use the cardID as a feature as we can see it is relevant by the amount of text whose label varies according to it. At a first glance, it seems obvious that the models we trained won't have satisfactory results given the low quality of the data but we'll proceed just to make a POC."
      ]
    },
    {
      "cell_type": "markdown",
      "metadata": {},
      "source": [
        "## Cleaning the labels"
      ]
    },
    {
      "cell_type": "code",
      "execution_count": 11,
      "metadata": {},
      "outputs": [],
      "source": [
        "labels = df_2[['Contents']]"
      ]
    },
    {
      "cell_type": "code",
      "execution_count": 12,
      "metadata": {},
      "outputs": [
        {
          "data": {
            "text/plain": [
              "209"
            ]
          },
          "execution_count": 12,
          "metadata": {},
          "output_type": "execute_result"
        }
      ],
      "source": [
        "len(df_2['Contents'].unique())"
      ]
    },
    {
      "cell_type": "markdown",
      "metadata": {},
      "source": [
        "The explanation for the amount of unqiue labels is that there are different possible combinations of labels and they appear all together the the columns separated by commas."
      ]
    },
    {
      "cell_type": "code",
      "execution_count": 13,
      "metadata": {},
      "outputs": [
        {
          "data": {
            "text/html": [
              "<div>\n",
              "<style scoped>\n",
              "    .dataframe tbody tr th:only-of-type {\n",
              "        vertical-align: middle;\n",
              "    }\n",
              "\n",
              "    .dataframe tbody tr th {\n",
              "        vertical-align: top;\n",
              "    }\n",
              "\n",
              "    .dataframe thead th {\n",
              "        text-align: right;\n",
              "    }\n",
              "</style>\n",
              "<table border=\"1\" class=\"dataframe\">\n",
              "  <thead>\n",
              "    <tr style=\"text-align: right;\">\n",
              "      <th></th>\n",
              "      <th>count</th>\n",
              "    </tr>\n",
              "    <tr>\n",
              "      <th>Contents</th>\n",
              "      <th></th>\n",
              "    </tr>\n",
              "  </thead>\n",
              "  <tbody>\n",
              "    <tr>\n",
              "      <th>H,Sc</th>\n",
              "      <td>9</td>\n",
              "    </tr>\n",
              "    <tr>\n",
              "      <th>(A)</th>\n",
              "      <td>9</td>\n",
              "    </tr>\n",
              "    <tr>\n",
              "      <th>Fd</th>\n",
              "      <td>9</td>\n",
              "    </tr>\n",
              "    <tr>\n",
              "      <th>Cg</th>\n",
              "      <td>8</td>\n",
              "    </tr>\n",
              "    <tr>\n",
              "      <th>Hd,An</th>\n",
              "      <td>8</td>\n",
              "    </tr>\n",
              "    <tr>\n",
              "      <th>...</th>\n",
              "      <td>...</td>\n",
              "    </tr>\n",
              "    <tr>\n",
              "      <th>Ay,Bt,Hh</th>\n",
              "      <td>1</td>\n",
              "    </tr>\n",
              "    <tr>\n",
              "      <th>Ay,Cg,Hd</th>\n",
              "      <td>1</td>\n",
              "    </tr>\n",
              "    <tr>\n",
              "      <th>Ay,Fi</th>\n",
              "      <td>1</td>\n",
              "    </tr>\n",
              "    <tr>\n",
              "      <th>Ay,H,Cg</th>\n",
              "      <td>1</td>\n",
              "    </tr>\n",
              "    <tr>\n",
              "      <th>Xy,Hd</th>\n",
              "      <td>1</td>\n",
              "    </tr>\n",
              "  </tbody>\n",
              "</table>\n",
              "<p>194 rows × 1 columns</p>\n",
              "</div>"
            ],
            "text/plain": [
              "          count\n",
              "Contents       \n",
              "H,Sc          9\n",
              "(A)           9\n",
              "Fd            9\n",
              "Cg            8\n",
              "Hd,An         8\n",
              "...         ...\n",
              "Ay,Bt,Hh      1\n",
              "Ay,Cg,Hd      1\n",
              "Ay,Fi         1\n",
              "Ay,H,Cg       1\n",
              "Xy,Hd         1\n",
              "\n",
              "[194 rows x 1 columns]"
            ]
          },
          "execution_count": 13,
          "metadata": {},
          "output_type": "execute_result"
        }
      ],
      "source": [
        "counts = pd.DataFrame(labels.value_counts(), columns=[\"count\"])\n",
        "counts = counts[counts[\"count\"] < 10]\n",
        "counts"
      ]
    },
    {
      "cell_type": "code",
      "execution_count": 14,
      "metadata": {},
      "outputs": [
        {
          "data": {
            "text/plain": [
              "313203         Hd\n",
              "313207      Hd,Xy\n",
              "313234          H\n",
              "320126          H\n",
              "320597         Hd\n",
              "320608    H,Hx,Hh\n",
              "320612        (H)\n",
              "325685        (A)\n",
              "330258          A\n",
              "330264         Ad\n",
              "330292       (Hd)\n",
              "330297         Ad\n",
              "330313          A\n",
              "330331    Ad,(Hd)\n",
              "330503      Na,Ex\n",
              "330508    (H),Art\n",
              "325680         An\n",
              "323718         An\n",
              "320617      Sc,Ex\n",
              "322179         Hd\n",
              "Name: Contents, dtype: object"
            ]
          },
          "execution_count": 14,
          "metadata": {},
          "output_type": "execute_result"
        }
      ],
      "source": [
        "df_2['Contents'].iloc[30:50]"
      ]
    },
    {
      "cell_type": "markdown",
      "metadata": {},
      "source": [
        "And that is the case for the determinants as well."
      ]
    },
    {
      "cell_type": "code",
      "execution_count": 15,
      "metadata": {},
      "outputs": [
        {
          "data": {
            "text/html": [
              "<div>\n",
              "<style scoped>\n",
              "    .dataframe tbody tr th:only-of-type {\n",
              "        vertical-align: middle;\n",
              "    }\n",
              "\n",
              "    .dataframe tbody tr th {\n",
              "        vertical-align: top;\n",
              "    }\n",
              "\n",
              "    .dataframe thead th {\n",
              "        text-align: right;\n",
              "    }\n",
              "</style>\n",
              "<table border=\"1\" class=\"dataframe\">\n",
              "  <thead>\n",
              "    <tr style=\"text-align: right;\">\n",
              "      <th></th>\n",
              "      <th>Determinants</th>\n",
              "    </tr>\n",
              "  </thead>\n",
              "  <tbody>\n",
              "    <tr>\n",
              "      <th>121</th>\n",
              "      <td>Ma</td>\n",
              "    </tr>\n",
              "    <tr>\n",
              "      <th>313396</th>\n",
              "      <td>FD,ma,FT</td>\n",
              "    </tr>\n",
              "    <tr>\n",
              "      <th>313400</th>\n",
              "      <td>FD,C</td>\n",
              "    </tr>\n",
              "    <tr>\n",
              "      <th>313749</th>\n",
              "      <td>F</td>\n",
              "    </tr>\n",
              "    <tr>\n",
              "      <th>313760</th>\n",
              "      <td>Mp</td>\n",
              "    </tr>\n",
              "    <tr>\n",
              "      <th>...</th>\n",
              "      <td>...</td>\n",
              "    </tr>\n",
              "    <tr>\n",
              "      <th>433526</th>\n",
              "      <td>FC,ma</td>\n",
              "    </tr>\n",
              "    <tr>\n",
              "      <th>258760</th>\n",
              "      <td>ma-p</td>\n",
              "    </tr>\n",
              "    <tr>\n",
              "      <th>440801</th>\n",
              "      <td>C',F</td>\n",
              "    </tr>\n",
              "    <tr>\n",
              "      <th>324198</th>\n",
              "      <td>F</td>\n",
              "    </tr>\n",
              "    <tr>\n",
              "      <th>408890</th>\n",
              "      <td>F,C'F,Ma-p</td>\n",
              "    </tr>\n",
              "  </tbody>\n",
              "</table>\n",
              "<p>747 rows × 1 columns</p>\n",
              "</div>"
            ],
            "text/plain": [
              "       Determinants\n",
              "121              Ma\n",
              "313396     FD,ma,FT\n",
              "313400         FD,C\n",
              "313749            F\n",
              "313760           Mp\n",
              "...             ...\n",
              "433526        FC,ma\n",
              "258760         ma-p\n",
              "440801         C',F\n",
              "324198            F\n",
              "408890   F,C'F,Ma-p\n",
              "\n",
              "[747 rows x 1 columns]"
            ]
          },
          "execution_count": 15,
          "metadata": {},
          "output_type": "execute_result"
        }
      ],
      "source": [
        "df_2[[\"Determinants\"]]"
      ]
    },
    {
      "cell_type": "markdown",
      "metadata": {},
      "source": [
        "First we will translate the labels to the way they are written in the French version of the texts and then we will create dummies."
      ]
    },
    {
      "cell_type": "markdown",
      "metadata": {},
      "source": [
        "### Translating the labels to the French version of the test"
      ]
    },
    {
      "cell_type": "code",
      "execution_count": 16,
      "metadata": {},
      "outputs": [],
      "source": [
        "import json"
      ]
    },
    {
      "cell_type": "code",
      "execution_count": 17,
      "metadata": {},
      "outputs": [],
      "source": [
        "with open(\"translation_contents.json\", \"r\") as f:\n",
        "    translation_conts = json.load(f)\n",
        "    \n",
        "with open(\"translation_determinant.json\", \"r\") as f:\n",
        "    translation_dets = json.load(f)"
      ]
    },
    {
      "cell_type": "markdown",
      "metadata": {},
      "source": [
        "There are some duplicate (upper and lowercase) determinants in the original dataset so we'll deal with those now as well."
      ]
    },
    {
      "cell_type": "code",
      "execution_count": 18,
      "metadata": {},
      "outputs": [],
      "source": [
        "translation_determinants = {} \n",
        "\n",
        "for k, v in translation_dets.items():\n",
        "    translation_determinants[k] = v\n",
        "    translation_determinants[str(k).lower()] = v # accounting for upper/lower case variants\n",
        "    translation_determinants[str(k).upper()] = v  \n"
      ]
    },
    {
      "cell_type": "code",
      "execution_count": 19,
      "metadata": {},
      "outputs": [
        {
          "data": {
            "text/plain": [
              "{'FD': 'FE',\n",
              " 'fd': 'FE',\n",
              " 'FMa': 'kan',\n",
              " 'fma': 'kan',\n",
              " 'FMA': 'kan',\n",
              " 'FMa-p': 'kan',\n",
              " 'fma-p': 'kan',\n",
              " 'FMA-P': 'kan',\n",
              " 'FMap': 'kan',\n",
              " 'fmap': 'kan',\n",
              " 'FMAP': 'kan',\n",
              " 'FMp': 'kan',\n",
              " 'fmp': 'kan',\n",
              " 'FMP': 'kan',\n",
              " 'FT': 'FE',\n",
              " 'ft': 'FE',\n",
              " 'FV': 'FE',\n",
              " 'fv': 'FE',\n",
              " 'FY': 'FE',\n",
              " 'fy': 'FE',\n",
              " 'Ma': 'K',\n",
              " 'ma': 'K',\n",
              " 'MA': 'K',\n",
              " 'Ma-p': 'K',\n",
              " 'ma-p': 'K',\n",
              " 'MA-P': 'K',\n",
              " 'Mp': 'K',\n",
              " 'mp': 'K',\n",
              " 'MP': 'K',\n",
              " 'T': 'E',\n",
              " 't': 'E',\n",
              " 'TF': 'EF',\n",
              " 'tf': 'EF',\n",
              " 'V': 'E',\n",
              " 'v': 'E',\n",
              " 'VF': 'C',\n",
              " 'vf': 'C',\n",
              " 'Y': 'EF',\n",
              " 'y': 'EF',\n",
              " 'YF': 'E',\n",
              " 'yf': 'E',\n",
              " 'Fr': 'EF',\n",
              " 'fr': 'EF',\n",
              " 'FR': 'EF',\n",
              " 'rF': 'F',\n",
              " 'rf': 'F',\n",
              " 'RF': 'F'}"
            ]
          },
          "execution_count": 19,
          "metadata": {},
          "output_type": "execute_result"
        }
      ],
      "source": [
        "translation_determinants"
      ]
    },
    {
      "cell_type": "code",
      "execution_count": 20,
      "metadata": {},
      "outputs": [],
      "source": [
        "translation_contents = {}\n",
        "\n",
        "for k, v in translation_conts.items():\n",
        "    translation_contents[k] = v\n",
        "    translation_contents[str(k).lower()] = v # accounting for upper/lower case variants\n",
        "    translation_contents[str(k).upper()] = v \n"
      ]
    },
    {
      "cell_type": "code",
      "execution_count": 21,
      "metadata": {},
      "outputs": [],
      "source": [
        "# translation_contents"
      ]
    },
    {
      "cell_type": "code",
      "execution_count": 22,
      "metadata": {},
      "outputs": [
        {
          "data": {
            "text/html": [
              "<div>\n",
              "<style scoped>\n",
              "    .dataframe tbody tr th:only-of-type {\n",
              "        vertical-align: middle;\n",
              "    }\n",
              "\n",
              "    .dataframe tbody tr th {\n",
              "        vertical-align: top;\n",
              "    }\n",
              "\n",
              "    .dataframe thead th {\n",
              "        text-align: right;\n",
              "    }\n",
              "</style>\n",
              "<table border=\"1\" class=\"dataframe\">\n",
              "  <thead>\n",
              "    <tr style=\"text-align: right;\">\n",
              "      <th></th>\n",
              "      <th>Determinants</th>\n",
              "    </tr>\n",
              "  </thead>\n",
              "  <tbody>\n",
              "    <tr>\n",
              "      <th>121</th>\n",
              "      <td>Ma</td>\n",
              "    </tr>\n",
              "    <tr>\n",
              "      <th>313396</th>\n",
              "      <td>FD,ma,FT</td>\n",
              "    </tr>\n",
              "    <tr>\n",
              "      <th>313400</th>\n",
              "      <td>FD,C</td>\n",
              "    </tr>\n",
              "    <tr>\n",
              "      <th>313749</th>\n",
              "      <td>F</td>\n",
              "    </tr>\n",
              "    <tr>\n",
              "      <th>313760</th>\n",
              "      <td>Mp</td>\n",
              "    </tr>\n",
              "    <tr>\n",
              "      <th>...</th>\n",
              "      <td>...</td>\n",
              "    </tr>\n",
              "    <tr>\n",
              "      <th>433526</th>\n",
              "      <td>FC,ma</td>\n",
              "    </tr>\n",
              "    <tr>\n",
              "      <th>258760</th>\n",
              "      <td>ma-p</td>\n",
              "    </tr>\n",
              "    <tr>\n",
              "      <th>440801</th>\n",
              "      <td>C',F</td>\n",
              "    </tr>\n",
              "    <tr>\n",
              "      <th>324198</th>\n",
              "      <td>F</td>\n",
              "    </tr>\n",
              "    <tr>\n",
              "      <th>408890</th>\n",
              "      <td>F,C'F,Ma-p</td>\n",
              "    </tr>\n",
              "  </tbody>\n",
              "</table>\n",
              "<p>747 rows × 1 columns</p>\n",
              "</div>"
            ],
            "text/plain": [
              "       Determinants\n",
              "121              Ma\n",
              "313396     FD,ma,FT\n",
              "313400         FD,C\n",
              "313749            F\n",
              "313760           Mp\n",
              "...             ...\n",
              "433526        FC,ma\n",
              "258760         ma-p\n",
              "440801         C',F\n",
              "324198            F\n",
              "408890   F,C'F,Ma-p\n",
              "\n",
              "[747 rows x 1 columns]"
            ]
          },
          "execution_count": 22,
          "metadata": {},
          "output_type": "execute_result"
        }
      ],
      "source": [
        "labels = df_2[[\"Determinants\"]]\n",
        "labels"
      ]
    },
    {
      "cell_type": "code",
      "execution_count": 23,
      "metadata": {},
      "outputs": [
        {
          "name": "stderr",
          "output_type": "stream",
          "text": [
            "C:\\Users\\alber\\AppData\\Local\\Temp\\ipykernel_8356\\1758615046.py:11: SettingWithCopyWarning: \n",
            "A value is trying to be set on a copy of a slice from a DataFrame.\n",
            "Try using .loc[row_indexer,col_indexer] = value instead\n",
            "\n",
            "See the caveats in the documentation: https://pandas.pydata.org/pandas-docs/stable/user_guide/indexing.html#returning-a-view-versus-a-copy\n",
            "  labels[\"Determinants\"] = labels[\"Determinants\"].apply(translate_df)\n"
          ]
        }
      ],
      "source": [
        "def translate_df(text, translation_dict=translation_determinants):\n",
        "    # print(text)\n",
        "    list_tags = text.split(\",\")\n",
        "    for k, v in translation_dict.items():\n",
        "        if k in list_tags:\n",
        "            list_tags.append(v)\n",
        "            list_tags.remove(k)\n",
        "    new_text = \",\".join(list_tags)\n",
        "    return new_text\n",
        "    \n",
        "labels[\"Determinants\"] = labels[\"Determinants\"].apply(translate_df)\n",
        "# labels"
      ]
    },
    {
      "cell_type": "code",
      "execution_count": 24,
      "metadata": {},
      "outputs": [],
      "source": [
        "labels_contents = df_2[[\"Contents\"]]"
      ]
    },
    {
      "cell_type": "code",
      "execution_count": 25,
      "metadata": {},
      "outputs": [
        {
          "name": "stderr",
          "output_type": "stream",
          "text": [
            "C:\\Users\\alber\\AppData\\Local\\Temp\\ipykernel_8356\\339835643.py:11: SettingWithCopyWarning: \n",
            "A value is trying to be set on a copy of a slice from a DataFrame.\n",
            "Try using .loc[row_indexer,col_indexer] = value instead\n",
            "\n",
            "See the caveats in the documentation: https://pandas.pydata.org/pandas-docs/stable/user_guide/indexing.html#returning-a-view-versus-a-copy\n",
            "  labels_contents[\"Contents\"] = labels_contents[\"Contents\"].apply(translate_df)\n"
          ]
        }
      ],
      "source": [
        "def translate_df(text, translation_dict=translation_contents):\n",
        "    # print(text)\n",
        "    list_tags = text.split(\",\")\n",
        "    for k, v in translation_dict.items():\n",
        "        if k in list_tags:\n",
        "            list_tags.append(v)\n",
        "            list_tags.remove(k)\n",
        "    new_text = \",\".join(list_tags)\n",
        "    return new_text\n",
        "    \n",
        "labels_contents[\"Contents\"] = labels_contents[\"Contents\"].apply(translate_df)\n",
        "# labels_contents"
      ]
    },
    {
      "cell_type": "markdown",
      "metadata": {},
      "source": [
        "### Creating dummies for the determinant labels"
      ]
    },
    {
      "cell_type": "code",
      "execution_count": 26,
      "metadata": {},
      "outputs": [],
      "source": [
        "labels_determinants = labels.apply(lambda labels: [x.split(\",\") for x in labels])\n",
        "labels_determinants = labels_determinants['Determinants'].str.join('|').str.get_dummies()"
      ]
    },
    {
      "cell_type": "code",
      "execution_count": 27,
      "metadata": {},
      "outputs": [
        {
          "data": {
            "text/html": [
              "<div>\n",
              "<style scoped>\n",
              "    .dataframe tbody tr th:only-of-type {\n",
              "        vertical-align: middle;\n",
              "    }\n",
              "\n",
              "    .dataframe tbody tr th {\n",
              "        vertical-align: top;\n",
              "    }\n",
              "\n",
              "    .dataframe thead th {\n",
              "        text-align: right;\n",
              "    }\n",
              "</style>\n",
              "<table border=\"1\" class=\"dataframe\">\n",
              "  <thead>\n",
              "    <tr style=\"text-align: right;\">\n",
              "      <th></th>\n",
              "      <th>C</th>\n",
              "      <th>C'</th>\n",
              "      <th>C'F</th>\n",
              "      <th>CF</th>\n",
              "      <th>E</th>\n",
              "      <th>EF</th>\n",
              "      <th>F</th>\n",
              "      <th>FC</th>\n",
              "      <th>FC'</th>\n",
              "      <th>FE</th>\n",
              "      <th>K</th>\n",
              "      <th>kan</th>\n",
              "    </tr>\n",
              "  </thead>\n",
              "  <tbody>\n",
              "    <tr>\n",
              "      <th>121</th>\n",
              "      <td>0</td>\n",
              "      <td>0</td>\n",
              "      <td>0</td>\n",
              "      <td>0</td>\n",
              "      <td>0</td>\n",
              "      <td>0</td>\n",
              "      <td>0</td>\n",
              "      <td>0</td>\n",
              "      <td>0</td>\n",
              "      <td>0</td>\n",
              "      <td>1</td>\n",
              "      <td>0</td>\n",
              "    </tr>\n",
              "    <tr>\n",
              "      <th>313396</th>\n",
              "      <td>0</td>\n",
              "      <td>0</td>\n",
              "      <td>0</td>\n",
              "      <td>0</td>\n",
              "      <td>0</td>\n",
              "      <td>0</td>\n",
              "      <td>0</td>\n",
              "      <td>0</td>\n",
              "      <td>0</td>\n",
              "      <td>1</td>\n",
              "      <td>1</td>\n",
              "      <td>0</td>\n",
              "    </tr>\n",
              "    <tr>\n",
              "      <th>313400</th>\n",
              "      <td>1</td>\n",
              "      <td>0</td>\n",
              "      <td>0</td>\n",
              "      <td>0</td>\n",
              "      <td>0</td>\n",
              "      <td>0</td>\n",
              "      <td>0</td>\n",
              "      <td>0</td>\n",
              "      <td>0</td>\n",
              "      <td>1</td>\n",
              "      <td>0</td>\n",
              "      <td>0</td>\n",
              "    </tr>\n",
              "    <tr>\n",
              "      <th>313749</th>\n",
              "      <td>0</td>\n",
              "      <td>0</td>\n",
              "      <td>0</td>\n",
              "      <td>0</td>\n",
              "      <td>0</td>\n",
              "      <td>0</td>\n",
              "      <td>1</td>\n",
              "      <td>0</td>\n",
              "      <td>0</td>\n",
              "      <td>0</td>\n",
              "      <td>0</td>\n",
              "      <td>0</td>\n",
              "    </tr>\n",
              "    <tr>\n",
              "      <th>313760</th>\n",
              "      <td>0</td>\n",
              "      <td>0</td>\n",
              "      <td>0</td>\n",
              "      <td>0</td>\n",
              "      <td>0</td>\n",
              "      <td>0</td>\n",
              "      <td>0</td>\n",
              "      <td>0</td>\n",
              "      <td>0</td>\n",
              "      <td>0</td>\n",
              "      <td>1</td>\n",
              "      <td>0</td>\n",
              "    </tr>\n",
              "    <tr>\n",
              "      <th>...</th>\n",
              "      <td>...</td>\n",
              "      <td>...</td>\n",
              "      <td>...</td>\n",
              "      <td>...</td>\n",
              "      <td>...</td>\n",
              "      <td>...</td>\n",
              "      <td>...</td>\n",
              "      <td>...</td>\n",
              "      <td>...</td>\n",
              "      <td>...</td>\n",
              "      <td>...</td>\n",
              "      <td>...</td>\n",
              "    </tr>\n",
              "    <tr>\n",
              "      <th>433526</th>\n",
              "      <td>0</td>\n",
              "      <td>0</td>\n",
              "      <td>0</td>\n",
              "      <td>0</td>\n",
              "      <td>0</td>\n",
              "      <td>0</td>\n",
              "      <td>0</td>\n",
              "      <td>1</td>\n",
              "      <td>0</td>\n",
              "      <td>0</td>\n",
              "      <td>1</td>\n",
              "      <td>0</td>\n",
              "    </tr>\n",
              "    <tr>\n",
              "      <th>258760</th>\n",
              "      <td>0</td>\n",
              "      <td>0</td>\n",
              "      <td>0</td>\n",
              "      <td>0</td>\n",
              "      <td>0</td>\n",
              "      <td>0</td>\n",
              "      <td>0</td>\n",
              "      <td>0</td>\n",
              "      <td>0</td>\n",
              "      <td>0</td>\n",
              "      <td>1</td>\n",
              "      <td>0</td>\n",
              "    </tr>\n",
              "    <tr>\n",
              "      <th>440801</th>\n",
              "      <td>0</td>\n",
              "      <td>1</td>\n",
              "      <td>0</td>\n",
              "      <td>0</td>\n",
              "      <td>0</td>\n",
              "      <td>0</td>\n",
              "      <td>1</td>\n",
              "      <td>0</td>\n",
              "      <td>0</td>\n",
              "      <td>0</td>\n",
              "      <td>0</td>\n",
              "      <td>0</td>\n",
              "    </tr>\n",
              "    <tr>\n",
              "      <th>324198</th>\n",
              "      <td>0</td>\n",
              "      <td>0</td>\n",
              "      <td>0</td>\n",
              "      <td>0</td>\n",
              "      <td>0</td>\n",
              "      <td>0</td>\n",
              "      <td>1</td>\n",
              "      <td>0</td>\n",
              "      <td>0</td>\n",
              "      <td>0</td>\n",
              "      <td>0</td>\n",
              "      <td>0</td>\n",
              "    </tr>\n",
              "    <tr>\n",
              "      <th>408890</th>\n",
              "      <td>0</td>\n",
              "      <td>0</td>\n",
              "      <td>1</td>\n",
              "      <td>0</td>\n",
              "      <td>0</td>\n",
              "      <td>0</td>\n",
              "      <td>1</td>\n",
              "      <td>0</td>\n",
              "      <td>0</td>\n",
              "      <td>0</td>\n",
              "      <td>1</td>\n",
              "      <td>0</td>\n",
              "    </tr>\n",
              "  </tbody>\n",
              "</table>\n",
              "<p>747 rows × 12 columns</p>\n",
              "</div>"
            ],
            "text/plain": [
              "        C  C'  C'F  CF  E  EF  F  FC  FC'  FE  K  kan\n",
              "121     0   0    0   0  0   0  0   0    0   0  1    0\n",
              "313396  0   0    0   0  0   0  0   0    0   1  1    0\n",
              "313400  1   0    0   0  0   0  0   0    0   1  0    0\n",
              "313749  0   0    0   0  0   0  1   0    0   0  0    0\n",
              "313760  0   0    0   0  0   0  0   0    0   0  1    0\n",
              "...    ..  ..  ...  .. ..  .. ..  ..  ...  .. ..  ...\n",
              "433526  0   0    0   0  0   0  0   1    0   0  1    0\n",
              "258760  0   0    0   0  0   0  0   0    0   0  1    0\n",
              "440801  0   1    0   0  0   0  1   0    0   0  0    0\n",
              "324198  0   0    0   0  0   0  1   0    0   0  0    0\n",
              "408890  0   0    1   0  0   0  1   0    0   0  1    0\n",
              "\n",
              "[747 rows x 12 columns]"
            ]
          },
          "execution_count": 27,
          "metadata": {},
          "output_type": "execute_result"
        }
      ],
      "source": [
        "labels_determinants"
      ]
    },
    {
      "cell_type": "code",
      "execution_count": 28,
      "metadata": {},
      "outputs": [
        {
          "data": {
            "text/plain": [
              "{'C': 15,\n",
              " \"C'\": 7,\n",
              " \"C'F\": 16,\n",
              " 'CF': 46,\n",
              " 'E': 19,\n",
              " 'EF': 25,\n",
              " 'F': 253,\n",
              " 'FC': 70,\n",
              " \"FC'\": 40,\n",
              " 'FE': 111,\n",
              " 'K': 259,\n",
              " 'kan': 114,\n",
              " 'total': 975}"
            ]
          },
          "execution_count": 28,
          "metadata": {},
          "output_type": "execute_result"
        }
      ],
      "source": [
        "agg_dict_determinants = {}\n",
        "total = 0\n",
        "for label in labels_determinants.columns:\n",
        "    total_label = sum(labels_determinants[label])\n",
        "    total = total + total_label\n",
        "    agg_dict_determinants[label] = total_label\n",
        "agg_dict_determinants[\"total\"] = total\n",
        "agg_dict_determinants"
      ]
    },
    {
      "cell_type": "markdown",
      "metadata": {},
      "source": [
        "Now we can see the actual distribution of the labels in the data!"
      ]
    },
    {
      "cell_type": "code",
      "execution_count": 29,
      "metadata": {},
      "outputs": [
        {
          "data": {
            "image/png": "[encoded data removed]",
            "text/plain": [
              "<Figure size 1200x800 with 1 Axes>"
            ]
          },
          "metadata": {},
          "output_type": "display_data"
        }
      ],
      "source": [
        "fig, ax = plt.subplots(figsize=(12,8))\n",
        "sns.barplot(data=labels_determinants)\n",
        "ax.set_xlabel(\"Determinant Classification\")\n",
        "ax.set_ylabel(\"Frequency\")\n",
        "plt.show()"
      ]
    },
    {
      "cell_type": "markdown",
      "metadata": {},
      "source": [
        "<!-- We can see that there are barely any examples of the Cn label -->"
      ]
    },
    {
      "cell_type": "code",
      "execution_count": 30,
      "metadata": {},
      "outputs": [],
      "source": [
        "# df_2[df_2[\"Determinants\"].str.contains(\",Cn\")]"
      ]
    },
    {
      "cell_type": "markdown",
      "metadata": {},
      "source": [
        "And we can also note that in 16/23 of the times it appears, the Cn label is accompanied by other label."
      ]
    },
    {
      "cell_type": "markdown",
      "metadata": {},
      "source": [
        "### Creating Dummies for the content labels"
      ]
    },
    {
      "cell_type": "code",
      "execution_count": 31,
      "metadata": {},
      "outputs": [
        {
          "data": {
            "text/html": [
              "<div>\n",
              "<style scoped>\n",
              "    .dataframe tbody tr th:only-of-type {\n",
              "        vertical-align: middle;\n",
              "    }\n",
              "\n",
              "    .dataframe tbody tr th {\n",
              "        vertical-align: top;\n",
              "    }\n",
              "\n",
              "    .dataframe thead th {\n",
              "        text-align: right;\n",
              "    }\n",
              "</style>\n",
              "<table border=\"1\" class=\"dataframe\">\n",
              "  <thead>\n",
              "    <tr style=\"text-align: right;\">\n",
              "      <th></th>\n",
              "      <th>Contents</th>\n",
              "    </tr>\n",
              "  </thead>\n",
              "  <tbody>\n",
              "    <tr>\n",
              "      <th>121</th>\n",
              "      <td>A</td>\n",
              "    </tr>\n",
              "    <tr>\n",
              "      <th>313396</th>\n",
              "      <td>Nat</td>\n",
              "    </tr>\n",
              "    <tr>\n",
              "      <th>313400</th>\n",
              "      <td>Nat</td>\n",
              "    </tr>\n",
              "    <tr>\n",
              "      <th>313749</th>\n",
              "      <td>(Hd)</td>\n",
              "    </tr>\n",
              "    <tr>\n",
              "      <th>313760</th>\n",
              "      <td>H</td>\n",
              "    </tr>\n",
              "    <tr>\n",
              "      <th>...</th>\n",
              "      <td>...</td>\n",
              "    </tr>\n",
              "    <tr>\n",
              "      <th>433526</th>\n",
              "      <td>Bot</td>\n",
              "    </tr>\n",
              "    <tr>\n",
              "      <th>258760</th>\n",
              "      <td>Hd,Sex</td>\n",
              "    </tr>\n",
              "    <tr>\n",
              "      <th>440801</th>\n",
              "      <td>(Hd)</td>\n",
              "    </tr>\n",
              "    <tr>\n",
              "      <th>324198</th>\n",
              "      <td>H,Vet</td>\n",
              "    </tr>\n",
              "    <tr>\n",
              "      <th>408890</th>\n",
              "      <td>Hd,Anat</td>\n",
              "    </tr>\n",
              "  </tbody>\n",
              "</table>\n",
              "<p>747 rows × 1 columns</p>\n",
              "</div>"
            ],
            "text/plain": [
              "       Contents\n",
              "121           A\n",
              "313396      Nat\n",
              "313400      Nat\n",
              "313749     (Hd)\n",
              "313760        H\n",
              "...         ...\n",
              "433526      Bot\n",
              "258760   Hd,Sex\n",
              "440801     (Hd)\n",
              "324198    H,Vet\n",
              "408890  Hd,Anat\n",
              "\n",
              "[747 rows x 1 columns]"
            ]
          },
          "execution_count": 31,
          "metadata": {},
          "output_type": "execute_result"
        }
      ],
      "source": [
        "labels_contents"
      ]
    },
    {
      "cell_type": "code",
      "execution_count": 32,
      "metadata": {},
      "outputs": [],
      "source": [
        "\n",
        "labels_contents = labels_contents.apply(lambda labels: [x.split(\",\") for x in labels])\n",
        "labels_contents = labels_contents['Contents'].str.join('|').str.get_dummies()\n"
      ]
    },
    {
      "cell_type": "code",
      "execution_count": 33,
      "metadata": {},
      "outputs": [
        {
          "data": {
            "text/html": [
              "<div>\n",
              "<style scoped>\n",
              "    .dataframe tbody tr th:only-of-type {\n",
              "        vertical-align: middle;\n",
              "    }\n",
              "\n",
              "    .dataframe tbody tr th {\n",
              "        vertical-align: top;\n",
              "    }\n",
              "\n",
              "    .dataframe thead th {\n",
              "        text-align: right;\n",
              "    }\n",
              "</style>\n",
              "<table border=\"1\" class=\"dataframe\">\n",
              "  <thead>\n",
              "    <tr style=\"text-align: right;\">\n",
              "      <th></th>\n",
              "      <th>(A)</th>\n",
              "      <th>(Ad)</th>\n",
              "      <th>(H)</th>\n",
              "      <th>(Hd)</th>\n",
              "      <th>A</th>\n",
              "      <th>Abs</th>\n",
              "      <th>Ad</th>\n",
              "      <th>Alim</th>\n",
              "      <th>Anat</th>\n",
              "      <th>Art</th>\n",
              "      <th>...</th>\n",
              "      <th>Hd</th>\n",
              "      <th>Id</th>\n",
              "      <th>Nat</th>\n",
              "      <th>Obj</th>\n",
              "      <th>Pays</th>\n",
              "      <th>Radio</th>\n",
              "      <th>Sc</th>\n",
              "      <th>Sex</th>\n",
              "      <th>Sg</th>\n",
              "      <th>Vet</th>\n",
              "    </tr>\n",
              "  </thead>\n",
              "  <tbody>\n",
              "    <tr>\n",
              "      <th>121</th>\n",
              "      <td>0</td>\n",
              "      <td>0</td>\n",
              "      <td>0</td>\n",
              "      <td>0</td>\n",
              "      <td>1</td>\n",
              "      <td>0</td>\n",
              "      <td>0</td>\n",
              "      <td>0</td>\n",
              "      <td>0</td>\n",
              "      <td>0</td>\n",
              "      <td>...</td>\n",
              "      <td>0</td>\n",
              "      <td>0</td>\n",
              "      <td>0</td>\n",
              "      <td>0</td>\n",
              "      <td>0</td>\n",
              "      <td>0</td>\n",
              "      <td>0</td>\n",
              "      <td>0</td>\n",
              "      <td>0</td>\n",
              "      <td>0</td>\n",
              "    </tr>\n",
              "    <tr>\n",
              "      <th>313396</th>\n",
              "      <td>0</td>\n",
              "      <td>0</td>\n",
              "      <td>0</td>\n",
              "      <td>0</td>\n",
              "      <td>0</td>\n",
              "      <td>0</td>\n",
              "      <td>0</td>\n",
              "      <td>0</td>\n",
              "      <td>0</td>\n",
              "      <td>0</td>\n",
              "      <td>...</td>\n",
              "      <td>0</td>\n",
              "      <td>0</td>\n",
              "      <td>1</td>\n",
              "      <td>0</td>\n",
              "      <td>0</td>\n",
              "      <td>0</td>\n",
              "      <td>0</td>\n",
              "      <td>0</td>\n",
              "      <td>0</td>\n",
              "      <td>0</td>\n",
              "    </tr>\n",
              "    <tr>\n",
              "      <th>313400</th>\n",
              "      <td>0</td>\n",
              "      <td>0</td>\n",
              "      <td>0</td>\n",
              "      <td>0</td>\n",
              "      <td>0</td>\n",
              "      <td>0</td>\n",
              "      <td>0</td>\n",
              "      <td>0</td>\n",
              "      <td>0</td>\n",
              "      <td>0</td>\n",
              "      <td>...</td>\n",
              "      <td>0</td>\n",
              "      <td>0</td>\n",
              "      <td>1</td>\n",
              "      <td>0</td>\n",
              "      <td>0</td>\n",
              "      <td>0</td>\n",
              "      <td>0</td>\n",
              "      <td>0</td>\n",
              "      <td>0</td>\n",
              "      <td>0</td>\n",
              "    </tr>\n",
              "    <tr>\n",
              "      <th>313749</th>\n",
              "      <td>0</td>\n",
              "      <td>0</td>\n",
              "      <td>0</td>\n",
              "      <td>1</td>\n",
              "      <td>0</td>\n",
              "      <td>0</td>\n",
              "      <td>0</td>\n",
              "      <td>0</td>\n",
              "      <td>0</td>\n",
              "      <td>0</td>\n",
              "      <td>...</td>\n",
              "      <td>0</td>\n",
              "      <td>0</td>\n",
              "      <td>0</td>\n",
              "      <td>0</td>\n",
              "      <td>0</td>\n",
              "      <td>0</td>\n",
              "      <td>0</td>\n",
              "      <td>0</td>\n",
              "      <td>0</td>\n",
              "      <td>0</td>\n",
              "    </tr>\n",
              "    <tr>\n",
              "      <th>313760</th>\n",
              "      <td>0</td>\n",
              "      <td>0</td>\n",
              "      <td>0</td>\n",
              "      <td>0</td>\n",
              "      <td>0</td>\n",
              "      <td>0</td>\n",
              "      <td>0</td>\n",
              "      <td>0</td>\n",
              "      <td>0</td>\n",
              "      <td>0</td>\n",
              "      <td>...</td>\n",
              "      <td>0</td>\n",
              "      <td>0</td>\n",
              "      <td>0</td>\n",
              "      <td>0</td>\n",
              "      <td>0</td>\n",
              "      <td>0</td>\n",
              "      <td>0</td>\n",
              "      <td>0</td>\n",
              "      <td>0</td>\n",
              "      <td>0</td>\n",
              "    </tr>\n",
              "    <tr>\n",
              "      <th>...</th>\n",
              "      <td>...</td>\n",
              "      <td>...</td>\n",
              "      <td>...</td>\n",
              "      <td>...</td>\n",
              "      <td>...</td>\n",
              "      <td>...</td>\n",
              "      <td>...</td>\n",
              "      <td>...</td>\n",
              "      <td>...</td>\n",
              "      <td>...</td>\n",
              "      <td>...</td>\n",
              "      <td>...</td>\n",
              "      <td>...</td>\n",
              "      <td>...</td>\n",
              "      <td>...</td>\n",
              "      <td>...</td>\n",
              "      <td>...</td>\n",
              "      <td>...</td>\n",
              "      <td>...</td>\n",
              "      <td>...</td>\n",
              "      <td>...</td>\n",
              "    </tr>\n",
              "    <tr>\n",
              "      <th>433526</th>\n",
              "      <td>0</td>\n",
              "      <td>0</td>\n",
              "      <td>0</td>\n",
              "      <td>0</td>\n",
              "      <td>0</td>\n",
              "      <td>0</td>\n",
              "      <td>0</td>\n",
              "      <td>0</td>\n",
              "      <td>0</td>\n",
              "      <td>0</td>\n",
              "      <td>...</td>\n",
              "      <td>0</td>\n",
              "      <td>0</td>\n",
              "      <td>0</td>\n",
              "      <td>0</td>\n",
              "      <td>0</td>\n",
              "      <td>0</td>\n",
              "      <td>0</td>\n",
              "      <td>0</td>\n",
              "      <td>0</td>\n",
              "      <td>0</td>\n",
              "    </tr>\n",
              "    <tr>\n",
              "      <th>258760</th>\n",
              "      <td>0</td>\n",
              "      <td>0</td>\n",
              "      <td>0</td>\n",
              "      <td>0</td>\n",
              "      <td>0</td>\n",
              "      <td>0</td>\n",
              "      <td>0</td>\n",
              "      <td>0</td>\n",
              "      <td>0</td>\n",
              "      <td>0</td>\n",
              "      <td>...</td>\n",
              "      <td>1</td>\n",
              "      <td>0</td>\n",
              "      <td>0</td>\n",
              "      <td>0</td>\n",
              "      <td>0</td>\n",
              "      <td>0</td>\n",
              "      <td>0</td>\n",
              "      <td>1</td>\n",
              "      <td>0</td>\n",
              "      <td>0</td>\n",
              "    </tr>\n",
              "    <tr>\n",
              "      <th>440801</th>\n",
              "      <td>0</td>\n",
              "      <td>0</td>\n",
              "      <td>0</td>\n",
              "      <td>1</td>\n",
              "      <td>0</td>\n",
              "      <td>0</td>\n",
              "      <td>0</td>\n",
              "      <td>0</td>\n",
              "      <td>0</td>\n",
              "      <td>0</td>\n",
              "      <td>...</td>\n",
              "      <td>0</td>\n",
              "      <td>0</td>\n",
              "      <td>0</td>\n",
              "      <td>0</td>\n",
              "      <td>0</td>\n",
              "      <td>0</td>\n",
              "      <td>0</td>\n",
              "      <td>0</td>\n",
              "      <td>0</td>\n",
              "      <td>0</td>\n",
              "    </tr>\n",
              "    <tr>\n",
              "      <th>324198</th>\n",
              "      <td>0</td>\n",
              "      <td>0</td>\n",
              "      <td>0</td>\n",
              "      <td>0</td>\n",
              "      <td>0</td>\n",
              "      <td>0</td>\n",
              "      <td>0</td>\n",
              "      <td>0</td>\n",
              "      <td>0</td>\n",
              "      <td>0</td>\n",
              "      <td>...</td>\n",
              "      <td>0</td>\n",
              "      <td>0</td>\n",
              "      <td>0</td>\n",
              "      <td>0</td>\n",
              "      <td>0</td>\n",
              "      <td>0</td>\n",
              "      <td>0</td>\n",
              "      <td>0</td>\n",
              "      <td>0</td>\n",
              "      <td>1</td>\n",
              "    </tr>\n",
              "    <tr>\n",
              "      <th>408890</th>\n",
              "      <td>0</td>\n",
              "      <td>0</td>\n",
              "      <td>0</td>\n",
              "      <td>0</td>\n",
              "      <td>0</td>\n",
              "      <td>0</td>\n",
              "      <td>0</td>\n",
              "      <td>0</td>\n",
              "      <td>1</td>\n",
              "      <td>0</td>\n",
              "      <td>...</td>\n",
              "      <td>1</td>\n",
              "      <td>0</td>\n",
              "      <td>0</td>\n",
              "      <td>0</td>\n",
              "      <td>0</td>\n",
              "      <td>0</td>\n",
              "      <td>0</td>\n",
              "      <td>0</td>\n",
              "      <td>0</td>\n",
              "      <td>0</td>\n",
              "    </tr>\n",
              "  </tbody>\n",
              "</table>\n",
              "<p>747 rows × 25 columns</p>\n",
              "</div>"
            ],
            "text/plain": [
              "        (A)  (Ad)  (H)  (Hd)  A  Abs  Ad  Alim  Anat  Art  ...  Hd  Id  Nat  \\\n",
              "121       0     0    0     0  1    0   0     0     0    0  ...   0   0    0   \n",
              "313396    0     0    0     0  0    0   0     0     0    0  ...   0   0    1   \n",
              "313400    0     0    0     0  0    0   0     0     0    0  ...   0   0    1   \n",
              "313749    0     0    0     1  0    0   0     0     0    0  ...   0   0    0   \n",
              "313760    0     0    0     0  0    0   0     0     0    0  ...   0   0    0   \n",
              "...     ...   ...  ...   ... ..  ...  ..   ...   ...  ...  ...  ..  ..  ...   \n",
              "433526    0     0    0     0  0    0   0     0     0    0  ...   0   0    0   \n",
              "258760    0     0    0     0  0    0   0     0     0    0  ...   1   0    0   \n",
              "440801    0     0    0     1  0    0   0     0     0    0  ...   0   0    0   \n",
              "324198    0     0    0     0  0    0   0     0     0    0  ...   0   0    0   \n",
              "408890    0     0    0     0  0    0   0     0     1    0  ...   1   0    0   \n",
              "\n",
              "        Obj  Pays  Radio  Sc  Sex  Sg  Vet  \n",
              "121       0     0      0   0    0   0    0  \n",
              "313396    0     0      0   0    0   0    0  \n",
              "313400    0     0      0   0    0   0    0  \n",
              "313749    0     0      0   0    0   0    0  \n",
              "313760    0     0      0   0    0   0    0  \n",
              "...     ...   ...    ...  ..  ...  ..  ...  \n",
              "433526    0     0      0   0    0   0    0  \n",
              "258760    0     0      0   0    1   0    0  \n",
              "440801    0     0      0   0    0   0    0  \n",
              "324198    0     0      0   0    0   0    1  \n",
              "408890    0     0      0   0    0   0    0  \n",
              "\n",
              "[747 rows x 25 columns]"
            ]
          },
          "execution_count": 33,
          "metadata": {},
          "output_type": "execute_result"
        }
      ],
      "source": [
        "labels_contents"
      ]
    },
    {
      "cell_type": "code",
      "execution_count": 34,
      "metadata": {},
      "outputs": [
        {
          "data": {
            "text/plain": [
              "{'(A)': 19,\n",
              " '(Ad)': 13,\n",
              " '(H)': 69,\n",
              " '(Hd)': 35,\n",
              " 'A': 165,\n",
              " 'Abs': 29,\n",
              " 'Ad': 64,\n",
              " 'Alim': 19,\n",
              " 'Anat': 52,\n",
              " 'Art': 42,\n",
              " 'Bot': 24,\n",
              " 'Elem': 17,\n",
              " 'Frag': 14,\n",
              " 'Ge': 8,\n",
              " 'H': 86,\n",
              " 'Hd': 117,\n",
              " 'Id': 12,\n",
              " 'Nat': 51,\n",
              " 'Obj': 57,\n",
              " 'Pays': 37,\n",
              " 'Radio': 8,\n",
              " 'Sc': 79,\n",
              " 'Sex': 13,\n",
              " 'Sg': 13,\n",
              " 'Vet': 68,\n",
              " 'total': 1111}"
            ]
          },
          "execution_count": 34,
          "metadata": {},
          "output_type": "execute_result"
        }
      ],
      "source": [
        "agg_dict_contents = {}\n",
        "total = 0\n",
        "for label in labels_contents.columns:\n",
        "    total_label = sum(labels_contents[label])\n",
        "    total = total + total_label\n",
        "    agg_dict_contents[label] = total_label\n",
        "agg_dict_contents[\"total\"] = total\n",
        "agg_dict_contents"
      ]
    },
    {
      "cell_type": "code",
      "execution_count": 35,
      "metadata": {},
      "outputs": [
        {
          "data": {
            "image/png": "[encoded data removed]",
            "text/plain": [
              "<Figure size 1200x800 with 1 Axes>"
            ]
          },
          "metadata": {},
          "output_type": "display_data"
        }
      ],
      "source": [
        "fig, ax = plt.subplots(figsize=(12,8))\n",
        "sns.barplot(data=labels_contents)\n",
        "ax.set_xlabel(\"Content Classification\")\n",
        "ax.set_ylabel(\"Frequency\")\n",
        "plt.show()"
      ]
    },
    {
      "cell_type": "markdown",
      "metadata": {},
      "source": [
        "# Model development with TF-IDF"
      ]
    },
    {
      "cell_type": "markdown",
      "metadata": {},
      "source": [
        "Since the names of the columns for the binary content / determinant labels are not intuitive at all, I'll save the columns in new variables. That way we will be able to get our y by indexing by the list of columns."
      ]
    },
    {
      "cell_type": "code",
      "execution_count": 36,
      "metadata": {},
      "outputs": [],
      "source": [
        "cols_determinants = list(labels_determinants.columns)\n",
        "cols_contents = list(labels_contents.columns)\n"
      ]
    },
    {
      "cell_type": "code",
      "execution_count": 37,
      "metadata": {},
      "outputs": [],
      "source": [
        "X = df_2[\"FQText\"].to_numpy()\n",
        "y_determinants = labels_determinants.to_numpy()\n",
        "y_contents = labels_contents.to_numpy()"
      ]
    },
    {
      "cell_type": "code",
      "execution_count": 38,
      "metadata": {},
      "outputs": [
        {
          "name": "stdout",
          "output_type": "stream",
          "text": [
            "(747,)\n",
            "(747, 25)\n",
            "(747, 12)\n"
          ]
        }
      ],
      "source": [
        "# X\n",
        "# y_determinants\n",
        "# y_contents\n",
        "print(X.shape)\n",
        "print(y_contents.shape)\n",
        "print(y_determinants.shape)"
      ]
    },
    {
      "cell_type": "markdown",
      "metadata": {},
      "source": [
        "# Multilabel-classification Models"
      ]
    },
    {
      "cell_type": "code",
      "execution_count": 39,
      "metadata": {},
      "outputs": [],
      "source": [
        "from sklearn.multiclass import OneVsRestClassifier\n",
        "\n",
        "from sklearn.linear_model import LogisticRegression\n",
        "from sklearn.neighbors import KNeighborsClassifier\n",
        "from sklearn.ensemble import RandomForestClassifier\n",
        "from sklearn.svm import SVC\n",
        "\n",
        "from sklearn.pipeline import Pipeline\n",
        "from sklearn.feature_extraction.text import TfidfVectorizer\n",
        "from sklearn.model_selection import train_test_split\n",
        "\n",
        "from sklearn.metrics import accuracy_score\n",
        "from sklearn.metrics import f1_score\n",
        "from sklearn.metrics import classification_report"
      ]
    },
    {
      "cell_type": "markdown",
      "metadata": {},
      "source": [
        "## Model for Contents"
      ]
    },
    {
      "cell_type": "code",
      "execution_count": 40,
      "metadata": {},
      "outputs": [
        {
          "name": "stdout",
          "output_type": "stream",
          "text": [
            "KNeighborsClassifier() 0.09333333333333334 0.13333333333333333\n",
            "LogisticRegression(random_state=42, solver='sag') 0.02666666666666667 0.033898305084745756\n",
            "SVC() 0.06666666666666667 0.10852713178294573\n"
          ]
        },
        {
          "name": "stdout",
          "output_type": "stream",
          "text": [
            "RandomForestClassifier(random_state=42) 0.05333333333333334 0.13793103448275862\n"
          ]
        }
      ],
      "source": [
        "X_train, X_test, y_train, y_test = train_test_split(X, y_contents, test_size = 0.10, random_state = 42)\n",
        "\n",
        "models = [KNeighborsClassifier(), LogisticRegression(random_state=42, solver = \"sag\"), SVC(), RandomForestClassifier(random_state=42)]\n",
        "\n",
        "for clf in models:\n",
        "\n",
        "    pipeline = Pipeline([\n",
        "                    ('text_tfidf', TfidfVectorizer(min_df = 2, max_df = 0.3, ngram_range = (1,3))),\n",
        "                    ('clf', OneVsRestClassifier(clf))\n",
        "                ])\n",
        "\n",
        "    model = pipeline.fit(X_train, y_train)\n",
        "\n",
        "    predictions = model.predict(X_test)\n",
        "\n",
        "    accuracy = accuracy_score(y_test, predictions)\n",
        "    f1 = f1_score(y_test, predictions, average=\"micro\")\n",
        "\n",
        "    print(clf, accuracy, f1)"
      ]
    },
    {
      "cell_type": "code",
      "execution_count": 41,
      "metadata": {},
      "outputs": [
        {
          "name": "stdout",
          "output_type": "stream",
          "text": [
            "              precision    recall  f1-score   support\n",
            "\n",
            "           0       0.00      0.00      0.00         1\n",
            "           1       0.00      0.00      0.00         1\n",
            "           2       0.00      0.00      0.00         4\n",
            "           3       0.00      0.00      0.00         4\n",
            "           4       0.33      0.17      0.22        12\n",
            "           5       0.00      0.00      0.00         1\n",
            "           6       1.00      0.20      0.33         5\n",
            "           7       0.00      0.00      0.00         0\n",
            "           8       0.50      0.40      0.44         5\n",
            "           9       0.00      0.00      0.00         5\n",
            "          10       0.00      0.00      0.00         1\n",
            "          11       1.00      0.25      0.40         4\n",
            "          12       0.00      0.00      0.00         3\n",
            "          13       0.00      0.00      0.00         1\n",
            "          14       0.17      0.12      0.14         8\n",
            "          15       0.29      0.10      0.14        21\n",
            "          16       0.00      0.00      0.00         2\n",
            "          17       0.00      0.00      0.00         7\n",
            "          18       0.00      0.00      0.00         2\n",
            "          19       0.00      0.00      0.00         3\n",
            "          20       0.00      0.00      0.00         2\n",
            "          21       0.00      0.00      0.00         9\n",
            "          22       0.00      0.00      0.00         2\n",
            "          23       0.00      0.00      0.00         2\n",
            "          24       0.50      0.11      0.18         9\n",
            "\n",
            "   micro avg       0.32      0.09      0.14       114\n",
            "   macro avg       0.15      0.05      0.07       114\n",
            "weighted avg       0.24      0.09      0.12       114\n",
            " samples avg       0.10      0.10      0.10       114\n",
            "\n"
          ]
        },
        {
          "name": "stderr",
          "output_type": "stream",
          "text": [
            "c:\\Users\\alber\\AppData\\Local\\Programs\\Python\\Python312\\Lib\\site-packages\\sklearn\\metrics\\_classification.py:1471: UndefinedMetricWarning: Precision and F-score are ill-defined and being set to 0.0 in labels with no predicted samples. Use `zero_division` parameter to control this behavior.\n",
            "  _warn_prf(average, modifier, msg_start, len(result))\n",
            "c:\\Users\\alber\\AppData\\Local\\Programs\\Python\\Python312\\Lib\\site-packages\\sklearn\\metrics\\_classification.py:1471: UndefinedMetricWarning: Recall and F-score are ill-defined and being set to 0.0 in labels with no true samples. Use `zero_division` parameter to control this behavior.\n",
            "  _warn_prf(average, modifier, msg_start, len(result))\n",
            "c:\\Users\\alber\\AppData\\Local\\Programs\\Python\\Python312\\Lib\\site-packages\\sklearn\\metrics\\_classification.py:1471: UndefinedMetricWarning: Precision and F-score are ill-defined and being set to 0.0 in samples with no predicted labels. Use `zero_division` parameter to control this behavior.\n",
            "  _warn_prf(average, modifier, msg_start, len(result))\n"
          ]
        }
      ],
      "source": [
        "class_report = classification_report(y_test, predictions)\n",
        "print(class_report)"
      ]
    },
    {
      "cell_type": "markdown",
      "metadata": {},
      "source": [
        "Looking at the classification report it is evident that the imbalanced dataset is causing problems"
      ]
    },
    {
      "cell_type": "code",
      "execution_count": 42,
      "metadata": {},
      "outputs": [],
      "source": [
        "# pickle.dump(model, open(r\"Models\\Contents\\pipeline_contents_One-Many_V2-07-04.sav\", 'wb')) \n",
        "\n",
        "# will save the RF model since it was at the end of the list"
      ]
    },
    {
      "cell_type": "markdown",
      "metadata": {},
      "source": [
        "## Model for Determinants"
      ]
    },
    {
      "cell_type": "markdown",
      "metadata": {},
      "source": [
        "Our models are not doing too good, maybe we could \"cascade\" the classifiers if the predictions of a previous classifier were good.\n",
        "For example, computing content labels first and then using the content label prediction to inform the determinant prediction model\n",
        "IFF one of the models was good "
      ]
    },
    {
      "cell_type": "code",
      "execution_count": 43,
      "metadata": {},
      "outputs": [
        {
          "name": "stdout",
          "output_type": "stream",
          "text": [
            "KNeighborsClassifier() 0.013333333333333334 0.08275862068965519\n",
            "LogisticRegression(random_state=42, solver='sag') 0.0 0.019607843137254898\n"
          ]
        },
        {
          "name": "stdout",
          "output_type": "stream",
          "text": [
            "SVC() 0.013333333333333334 0.0925925925925926\n",
            "RandomForestClassifier(random_state=42) 0.04 0.096\n"
          ]
        }
      ],
      "source": [
        "X_train, X_test, y_train, y_test = train_test_split(X, y_determinants, test_size = 0.10, random_state = 42)\n",
        "\n",
        "models = [KNeighborsClassifier(), LogisticRegression(random_state=42, solver = \"sag\"), SVC(), RandomForestClassifier(random_state=42)]\n",
        "\n",
        "for clf in models:\n",
        "\n",
        "    pipeline = Pipeline([\n",
        "                    ('text_tfidf', TfidfVectorizer(min_df = 2, max_df = 0.3, ngram_range = (1,3))),\n",
        "                    ('clf', OneVsRestClassifier(clf))\n",
        "                ])\n",
        "\n",
        "    model = pipeline.fit(X_train, y_train)\n",
        "\n",
        "    predictions = model.predict(X_test)\n",
        "\n",
        "    accuracy = accuracy_score(y_test, predictions)\n",
        "    f1 = f1_score(y_test, predictions, average=\"micro\")\n",
        "\n",
        "    print(clf, accuracy, f1)\n"
      ]
    },
    {
      "cell_type": "code",
      "execution_count": 44,
      "metadata": {},
      "outputs": [
        {
          "name": "stdout",
          "output_type": "stream",
          "text": [
            "              precision    recall  f1-score   support\n",
            "\n",
            "           0       0.00      0.00      0.00         2\n",
            "           1       0.00      0.00      0.00         0\n",
            "           2       0.00      0.00      0.00         0\n",
            "           3       0.00      0.00      0.00         5\n",
            "           4       0.00      0.00      0.00         1\n",
            "           5       0.00      0.00      0.00         1\n",
            "           6       0.25      0.09      0.13        35\n",
            "           7       0.00      0.00      0.00        11\n",
            "           8       0.00      0.00      0.00         2\n",
            "           9       0.00      0.00      0.00        10\n",
            "          10       0.27      0.14      0.18        22\n",
            "          11       0.00      0.00      0.00         9\n",
            "\n",
            "   micro avg       0.22      0.06      0.10        98\n",
            "   macro avg       0.04      0.02      0.03        98\n",
            "weighted avg       0.15      0.06      0.09        98\n",
            " samples avg       0.08      0.06      0.06        98\n",
            "\n"
          ]
        },
        {
          "name": "stderr",
          "output_type": "stream",
          "text": [
            "c:\\Users\\alber\\AppData\\Local\\Programs\\Python\\Python312\\Lib\\site-packages\\sklearn\\metrics\\_classification.py:1471: UndefinedMetricWarning: Precision and F-score are ill-defined and being set to 0.0 in labels with no predicted samples. Use `zero_division` parameter to control this behavior.\n",
            "  _warn_prf(average, modifier, msg_start, len(result))\n",
            "c:\\Users\\alber\\AppData\\Local\\Programs\\Python\\Python312\\Lib\\site-packages\\sklearn\\metrics\\_classification.py:1471: UndefinedMetricWarning: Recall and F-score are ill-defined and being set to 0.0 in labels with no true samples. Use `zero_division` parameter to control this behavior.\n",
            "  _warn_prf(average, modifier, msg_start, len(result))\n",
            "c:\\Users\\alber\\AppData\\Local\\Programs\\Python\\Python312\\Lib\\site-packages\\sklearn\\metrics\\_classification.py:1471: UndefinedMetricWarning: Precision and F-score are ill-defined and being set to 0.0 in samples with no predicted labels. Use `zero_division` parameter to control this behavior.\n",
            "  _warn_prf(average, modifier, msg_start, len(result))\n"
          ]
        }
      ],
      "source": [
        "class_report = classification_report(y_test, predictions)\n",
        "print(class_report)"
      ]
    },
    {
      "cell_type": "markdown",
      "metadata": {},
      "source": [
        "Looking at the classification report it is evident that the imbalanced dataset is causing problems"
      ]
    },
    {
      "cell_type": "code",
      "execution_count": 45,
      "metadata": {},
      "outputs": [],
      "source": [
        "\n",
        "pickle.dump(model, open(r\"..\\Models\\Determinants\\pipeline_determinants_One-Many_V2-07-04.sav\", 'wb'))\n",
        "\n",
        "# will save the RF model by default"
      ]
    },
    {
      "cell_type": "markdown",
      "metadata": {},
      "source": [
        "# Function to get the predictions back from the classifier"
      ]
    },
    {
      "cell_type": "code",
      "execution_count": 46,
      "metadata": {},
      "outputs": [],
      "source": [
        "def evaluate_one_vs_rest(path, text):\n",
        "    \n",
        "    pipeline = pickle.load(open(path, \"rb\"))\n",
        "    \n",
        "    if \"content\" in path:\n",
        "        # print(\"content found\")\n",
        "        possible_outcomes = ['(A)', '(Ad)', '(H)', '(Hd)', 'A', 'Ad', 'An', 'Art', 'Ay', 'Bl', 'Bt',\n",
        "       'Cg', 'Cl', 'Ex', 'Fd', 'Fi', 'Ge', 'H', 'Hd', 'Hh', 'Hx', 'Id', 'Ls',\n",
        "       'Na', 'Sc', 'Sx', 'Xy']\n",
        "        \n",
        "    elif \"determinant\" in path:\n",
        "        # print(\"determinant found\")\n",
        "        possible_outcomes = ['C', 'C\\'', 'C\\'F', 'CF', 'F', 'FC', 'FC\\'', 'FD', 'FMa', 'FMa-p', 'FMp',\n",
        "       'FT', 'FV', 'FY', 'Fr', 'Ma', 'Ma-p', 'Mp', 'T', 'TF', 'V', 'VF', 'Y',\n",
        "       'YF', 'rF']\n",
        "\n",
        "    prediction = pipeline.predict([text])\n",
        "    probabilities = pipeline.predict_proba([text]) # sometimes no prediction is given back so we can take the outcome with the highest P instead\n",
        "\n",
        "    # print(\"prediction:\", prediction)\n",
        "    # print(\"probabilities:\", probabilities)\n",
        "    \n",
        "    list_predictions = prediction.tolist()\n",
        "    list_predictions = [x for sublist in list_predictions for x in sublist] # avoid lists with sublists\n",
        "\n",
        "    \n",
        "    if len(list_predictions) != len(possible_outcomes): # sanity check\n",
        "        print(prediction)\n",
        "        print( len(list_predictions)  )\n",
        "        print(possible_outcomes)\n",
        "        print( len(possible_outcomes)  )\n",
        "        print(\"Error encountered in the predictions\")\n",
        "        \n",
        "    results = ([possible_outcomes[i] for i in range(len(list_predictions)) if list_predictions[i] == 1]) \n",
        "\n",
        "    if results == []:\n",
        "        # print(\"No result\")\n",
        "        i = probabilities.argmax(1).item()\n",
        "        # print(ix)\n",
        "        final_results = possible_outcomes[i]\n",
        "    \n",
        "    else:\n",
        "        final_results = str(results).replace(\"\\'\", \"\").replace(\"[\", \"\").replace(\"]\", \"\")\n",
        "    \n",
        "    return final_results"
      ]
    },
    {
      "cell_type": "code",
      "execution_count": 47,
      "metadata": {},
      "outputs": [
        {
          "data": {
            "text/plain": [
              "'A'"
            ]
          },
          "execution_count": 47,
          "metadata": {},
          "output_type": "execute_result"
        }
      ],
      "source": [
        "evaluate_one_vs_rest(r\"..\\Models\\Contents\\pipeline_contents_One-Many_V2-07-04.sav\", \"Dog\")"
      ]
    },
    {
      "cell_type": "code",
      "execution_count": 48,
      "metadata": {},
      "outputs": [
        {
          "name": "stdout",
          "output_type": "stream",
          "text": [
            "[[0 0 0 0 0 0 0 0 0 1 0 1]]\n",
            "12\n",
            "['C', \"C'\", \"C'F\", 'CF', 'F', 'FC', \"FC'\", 'FD', 'FMa', 'FMa-p', 'FMp', 'FT', 'FV', 'FY', 'Fr', 'Ma', 'Ma-p', 'Mp', 'T', 'TF', 'V', 'VF', 'Y', 'YF', 'rF']\n",
            "25\n",
            "Error encountered in the predictions\n"
          ]
        },
        {
          "data": {
            "text/plain": [
              "'FMa-p, FT'"
            ]
          },
          "execution_count": 48,
          "metadata": {},
          "output_type": "execute_result"
        }
      ],
      "source": [
        "evaluate_one_vs_rest(r\"..\\Models\\Determinants\\pipeline_determinants_One-Many_V2-07-04.sav\", \"Dog\")"
      ]
    },
    {
      "cell_type": "markdown",
      "metadata": {},
      "source": [
        "# Model development with SentenceTransformers\n"
      ]
    },
    {
      "cell_type": "code",
      "execution_count": 49,
      "metadata": {},
      "outputs": [
        {
          "name": "stderr",
          "output_type": "stream",
          "text": [
            "c:\\Users\\alber\\AppData\\Local\\Programs\\Python\\Python312\\Lib\\site-packages\\tqdm\\auto.py:21: TqdmWarning: IProgress not found. Please update jupyter and ipywidgets. See https://ipywidgets.readthedocs.io/en/stable/user_install.html\n",
            "  from .autonotebook import tqdm as notebook_tqdm\n"
          ]
        }
      ],
      "source": [
        "from sentence_transformers import SentenceTransformer, util"
      ]
    },
    {
      "cell_type": "code",
      "execution_count": 50,
      "metadata": {},
      "outputs": [],
      "source": [
        "X = df_2[\"FQText\"]"
      ]
    },
    {
      "cell_type": "code",
      "execution_count": 51,
      "metadata": {},
      "outputs": [
        {
          "data": {
            "text/plain": [
              "dtype('O')"
            ]
          },
          "execution_count": 51,
          "metadata": {},
          "output_type": "execute_result"
        }
      ],
      "source": [
        "X.dtype"
      ]
    },
    {
      "cell_type": "code",
      "execution_count": 52,
      "metadata": {},
      "outputs": [],
      "source": [
        "X = X.astype(\"str\")"
      ]
    },
    {
      "cell_type": "code",
      "execution_count": 53,
      "metadata": {},
      "outputs": [],
      "source": [
        "embeddigngs_model = SentenceTransformer(\"all-MiniLM-L6-v2\")"
      ]
    },
    {
      "cell_type": "code",
      "execution_count": 54,
      "metadata": {},
      "outputs": [],
      "source": [
        "\n",
        "X_transformers = X.apply(lambda x: embeddigngs_model.encode(x, convert_to_numpy=True)) # getting the embeddings for each row\n"
      ]
    },
    {
      "cell_type": "code",
      "execution_count": 55,
      "metadata": {},
      "outputs": [
        {
          "data": {
            "text/plain": [
              "121       [0.0072814045, 0.07968267, -0.0016847255, 0.07...\n",
              "313396    [-0.015146702, 0.06298704, 0.0040923823, 0.077...\n",
              "313400    [-0.014556069, 0.035231598, -0.006662325, 0.02...\n",
              "313749    [-0.026726907, -0.032455858, -0.009256876, 0.0...\n",
              "313760    [0.008407356, 0.009018475, -0.022378609, 0.025...\n",
              "                                ...                        \n",
              "433526    [-0.013565106, 0.04037332, -0.025116038, 0.009...\n",
              "258760    [0.030037312, 0.017546179, -0.0316938, 0.04874...\n",
              "440801    [-0.013337994, 0.021053419, 0.06364362, 0.0480...\n",
              "324198    [-0.004651827, -0.0034870668, -0.019736633, -0...\n",
              "408890    [-0.025608167, 0.031198695, -0.042901326, -0.0...\n",
              "Name: FQText, Length: 747, dtype: object"
            ]
          },
          "execution_count": 55,
          "metadata": {},
          "output_type": "execute_result"
        }
      ],
      "source": [
        "X_transformers"
      ]
    },
    {
      "cell_type": "code",
      "execution_count": 56,
      "metadata": {},
      "outputs": [],
      "source": [
        "X_transformers = X_transformers.apply(lambda x: np.mean(x)) # getting the centroid of each embedding array, we cna't just feed the classifier vectors\n",
        "X_transformers = np.array(X_transformers).reshape(-1,1)\n"
      ]
    },
    {
      "cell_type": "markdown",
      "metadata": {},
      "source": [
        "Determinants"
      ]
    },
    {
      "cell_type": "code",
      "execution_count": 57,
      "metadata": {},
      "outputs": [
        {
          "name": "stdout",
          "output_type": "stream",
          "text": [
            "KNeighborsClassifier() 0.09333333333333334 0.2153846153846154\n",
            "LogisticRegression(random_state=42, solver='sag') 0.0 0.0\n",
            "SVC() 0.0 0.0\n"
          ]
        },
        {
          "name": "stdout",
          "output_type": "stream",
          "text": [
            "RandomForestClassifier(random_state=42) 0.17333333333333334 0.2931937172774869\n"
          ]
        }
      ],
      "source": [
        "y = y_determinants\n",
        "\n",
        "X_train, X_test, y_train, y_test = train_test_split(X_transformers, y, test_size = 0.10, random_state = 42)\n",
        "\n",
        "models = [KNeighborsClassifier(), LogisticRegression(random_state=42, solver = \"sag\"), SVC(), RandomForestClassifier(random_state=42)]\n",
        "\n",
        "for clf in models:\n",
        "        \n",
        "        pipeline = Pipeline([\n",
        "                        ('clf', OneVsRestClassifier(clf)),\n",
        "                ])\n",
        "\n",
        "        model = pipeline.fit(X_train, y_train)\n",
        "\n",
        "        predictions = model.predict(X_test)\n",
        "\n",
        "        accuracy = accuracy_score(y_test, predictions)\n",
        "        f1 = f1_score(y_test, predictions, average=\"micro\")\n",
        "\n",
        "        print(clf, accuracy, f1)"
      ]
    },
    {
      "cell_type": "code",
      "execution_count": 58,
      "metadata": {},
      "outputs": [
        {
          "name": "stdout",
          "output_type": "stream",
          "text": [
            "              precision    recall  f1-score   support\n",
            "\n",
            "           0       0.00      0.00      0.00         2\n",
            "           1       0.00      0.00      0.00         0\n",
            "           2       0.00      0.00      0.00         0\n",
            "           3       0.00      0.00      0.00         5\n",
            "           4       0.00      0.00      0.00         1\n",
            "           5       0.00      0.00      0.00         1\n",
            "           6       0.52      0.40      0.45        35\n",
            "           7       0.22      0.18      0.20        11\n",
            "           8       0.00      0.00      0.00         2\n",
            "           9       0.10      0.10      0.10        10\n",
            "          10       0.40      0.36      0.38        22\n",
            "          11       0.60      0.33      0.43         9\n",
            "\n",
            "   micro avg       0.30      0.29      0.29        98\n",
            "   macro avg       0.15      0.11      0.13        98\n",
            "weighted avg       0.37      0.29      0.32        98\n",
            " samples avg       0.31      0.30      0.29        98\n",
            "\n"
          ]
        },
        {
          "name": "stderr",
          "output_type": "stream",
          "text": [
            "c:\\Users\\alber\\AppData\\Local\\Programs\\Python\\Python312\\Lib\\site-packages\\sklearn\\metrics\\_classification.py:1471: UndefinedMetricWarning: Recall and F-score are ill-defined and being set to 0.0 in labels with no true samples. Use `zero_division` parameter to control this behavior.\n",
            "  _warn_prf(average, modifier, msg_start, len(result))\n",
            "c:\\Users\\alber\\AppData\\Local\\Programs\\Python\\Python312\\Lib\\site-packages\\sklearn\\metrics\\_classification.py:1471: UndefinedMetricWarning: Precision and F-score are ill-defined and being set to 0.0 in samples with no predicted labels. Use `zero_division` parameter to control this behavior.\n",
            "  _warn_prf(average, modifier, msg_start, len(result))\n"
          ]
        }
      ],
      "source": [
        "class_report = classification_report(y_test, predictions)\n",
        "print(class_report)"
      ]
    },
    {
      "cell_type": "markdown",
      "metadata": {},
      "source": [
        "Contents"
      ]
    },
    {
      "cell_type": "code",
      "execution_count": 59,
      "metadata": {},
      "outputs": [
        {
          "name": "stdout",
          "output_type": "stream",
          "text": [
            "KNeighborsClassifier() 0.013333333333333334 0.04615384615384615\n",
            "LogisticRegression(random_state=42, solver='sag') 0.0 0.0\n",
            "SVC() 0.0 0.0\n",
            "RandomForestClassifier(random_state=42) 0.04 0.1643835616438356\n"
          ]
        }
      ],
      "source": [
        "y = y_contents\n",
        "\n",
        "X_train, X_test, y_train, y_test = train_test_split(X_transformers, y, test_size = 0.10, random_state = 42)\n",
        "\n",
        "models = [KNeighborsClassifier(), LogisticRegression(random_state=42, solver = \"sag\"), SVC(), RandomForestClassifier(random_state=42)]\n",
        "\n",
        "for clf in models:\n",
        "        \n",
        "        pipeline = Pipeline([\n",
        "                        ('clf', OneVsRestClassifier(clf)),\n",
        "                ])\n",
        "\n",
        "        model = pipeline.fit(X_train, y_train)\n",
        "\n",
        "        predictions = model.predict(X_test)\n",
        "\n",
        "        accuracy = accuracy_score(y_test, predictions)\n",
        "        f1 = f1_score(y_test, predictions, average=\"micro\")\n",
        "\n",
        "        print(clf, accuracy, f1)"
      ]
    },
    {
      "cell_type": "code",
      "execution_count": 60,
      "metadata": {},
      "outputs": [
        {
          "name": "stdout",
          "output_type": "stream",
          "text": [
            "              precision    recall  f1-score   support\n",
            "\n",
            "           0       1.00      1.00      1.00         1\n",
            "           1       0.00      0.00      0.00         1\n",
            "           2       0.00      0.00      0.00         4\n",
            "           3       0.00      0.00      0.00         4\n",
            "           4       0.31      0.33      0.32        12\n",
            "           5       0.00      0.00      0.00         1\n",
            "           6       0.33      0.20      0.25         5\n",
            "           7       0.00      0.00      0.00         0\n",
            "           8       0.29      0.40      0.33         5\n",
            "           9       0.00      0.00      0.00         5\n",
            "          10       0.00      0.00      0.00         1\n",
            "          11       0.00      0.00      0.00         4\n",
            "          12       0.00      0.00      0.00         3\n",
            "          13       1.00      1.00      1.00         1\n",
            "          14       0.00      0.00      0.00         8\n",
            "          15       0.26      0.24      0.25        21\n",
            "          16       0.00      0.00      0.00         2\n",
            "          17       0.20      0.14      0.17         7\n",
            "          18       0.17      0.50      0.25         2\n",
            "          19       0.25      0.33      0.29         3\n",
            "          20       0.00      0.00      0.00         2\n",
            "          21       0.11      0.11      0.11         9\n",
            "          22       0.00      0.00      0.00         2\n",
            "          23       0.00      0.00      0.00         2\n",
            "          24       0.00      0.00      0.00         9\n",
            "\n",
            "   micro avg       0.17      0.16      0.16       114\n",
            "   macro avg       0.16      0.17      0.16       114\n",
            "weighted avg       0.16      0.16      0.15       114\n",
            " samples avg       0.16      0.16      0.15       114\n",
            "\n"
          ]
        },
        {
          "name": "stderr",
          "output_type": "stream",
          "text": [
            "c:\\Users\\alber\\AppData\\Local\\Programs\\Python\\Python312\\Lib\\site-packages\\sklearn\\metrics\\_classification.py:1471: UndefinedMetricWarning: Precision and F-score are ill-defined and being set to 0.0 in labels with no predicted samples. Use `zero_division` parameter to control this behavior.\n",
            "  _warn_prf(average, modifier, msg_start, len(result))\n",
            "c:\\Users\\alber\\AppData\\Local\\Programs\\Python\\Python312\\Lib\\site-packages\\sklearn\\metrics\\_classification.py:1471: UndefinedMetricWarning: Recall and F-score are ill-defined and being set to 0.0 in labels with no true samples. Use `zero_division` parameter to control this behavior.\n",
            "  _warn_prf(average, modifier, msg_start, len(result))\n",
            "c:\\Users\\alber\\AppData\\Local\\Programs\\Python\\Python312\\Lib\\site-packages\\sklearn\\metrics\\_classification.py:1471: UndefinedMetricWarning: Precision and F-score are ill-defined and being set to 0.0 in samples with no predicted labels. Use `zero_division` parameter to control this behavior.\n",
            "  _warn_prf(average, modifier, msg_start, len(result))\n"
          ]
        }
      ],
      "source": [
        "class_report = classification_report(y_test, predictions)\n",
        "print(class_report)"
      ]
    }
  ],
  "metadata": {
    "accelerator": "GPU",
    "colab": {
      "gpuType": "T4",
      "provenance": []
    },
    "kernelspec": {
      "display_name": "Python 3",
      "name": "python3"
    },
    "language_info": {
      "codemirror_mode": {
        "name": "ipython",
        "version": 3
      },
      "file_extension": ".py",
      "mimetype": "text/x-python",
      "name": "python",
      "nbconvert_exporter": "python",
      "pygments_lexer": "ipython3",
      "version": "3.12.0"
    }
  },
  "nbformat": 4,
  "nbformat_minor": 0
}

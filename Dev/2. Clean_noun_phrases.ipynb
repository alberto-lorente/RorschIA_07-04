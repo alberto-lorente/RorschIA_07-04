{
 "cells": [
  {
   "cell_type": "code",
   "execution_count": 4,
   "metadata": {},
   "outputs": [],
   "source": [
    "import json"
   ]
  },
  {
   "cell_type": "code",
   "execution_count": 5,
   "metadata": {},
   "outputs": [],
   "source": [
    "with open(r\"..\\protocol example\\list_responses_clean.json\", \"r\") as f:\n",
    "    list_dicts = json.load(f)"
   ]
  },
  {
   "cell_type": "code",
   "execution_count": 6,
   "metadata": {},
   "outputs": [
    {
     "data": {
      "text/plain": [
       "[{'response_1': 'Some kind of beetle with big wings, or it could be some kind of frog.',\n",
       "  'response_2': 'Some kind of iking mask with four eyes.',\n",
       "  'response_3': 'Some kind of silhouette.',\n",
       "  'response_4': 'A small character with an open mouth who looks surprised and his reflection there.'},\n",
       " {'response_1': \"Two characters making contact or fighting because there's blood or a leg has been cut off.\",\n",
       "  'response_2': 'Lungs.',\n",
       "  'response_3': \"A rooster's head with a crest Fighter plane, glider, jet engine fire; again, it could be a larger one sending missiles Trunk men, perhaps irrational or some kind of caterpillar with a big belly.\"},\n",
       " {'response_1': 'Two oddly shaped guitars with twisted necks.',\n",
       "  'response_2': 'Again, two figures face to face, strangely constituted, like Picasso.',\n",
       "  'response_3': 'Or two figures as one.',\n",
       "  'response_4': 'Two kinds of missiles or torpedoes.',\n",
       "  'response_5': 'Lungs or a butterfly.',\n",
       "  'response_6': 'Just part of an old man with his cane, or an embryo.',\n",
       "  'response_7': 'Some kind of big beast, you can see the inside of its body, the mandibles.'},\n",
       " {'response_1': 'I see yet another bizarre creature, a colossus, with wings there and strange legs.',\n",
       "  'response_2': 'Two figures under a kind of burka.',\n",
       "  'response_3': \"The fly's head (film).\",\n",
       "  'response_4': \"A baby crocodile's head, or a pig's since there's no ear, or maybe a mole, some kind of trunk.\"},\n",
       " {'response_1': 'I also see a sort of cross between a bat and a snail, and the legs are a bit strange.',\n",
       "  'response_2': \"Otherwise, I don't see anything else.\",\n",
       "  'response_3': 'Maybe two very small heads, back to back.',\n",
       "  'response_4': 'The ACDC guitarist: his head with his hair.'},\n",
       " {'response_1': 'A rather bizarre dragonfly with half-destroyed wings.',\n",
       "  'response_2': \"Here, the jaw of a beast with fangs inside its mouth, but there's no eye, so maybe it's a carnivorous plant.\",\n",
       "  'response_3': 'The Sandman (in Spiderman) returning to human form.',\n",
       "  'response_4': \"Otherwise, that's all I can see.\",\n",
       "  'response_5': 'Or lungs hidden right there, or some kind of flageolet seeds.',\n",
       "  'response_6': 'Or some kind of figure with something to leap on.',\n",
       "  'response_7': \"Finally, maybe it's some kind of extraterrestrial angel going to an island because it's got wings.\",\n",
       "  'response_8': \"He comes down that way, so maybe it's a child about to be born.\"},\n",
       " {'response_1': \"Two species of seahorse with a proboscis here; they're both connected by something that's there; they look frozen because there are stalactites, like perhaps prehistoric animals that have been frozen.\",\n",
       "  'response_2': 'Or over there, you can see some kind of figures with chainsaw-like arms trying to get closer.',\n",
       "  'response_3': 'Prussian army soldiers with spikes on their helmets.',\n",
       "  'response_4': \"Here we can see a kind of head with a snout, but given the prominence, it could be the king's jester.\",\n",
       "  'response_5': 'If you integrate the white, you can see a mask.',\n",
       "  'response_6': 'A Mayan weapon; or perhaps not a weapon, a Mayan cult object or some kind of mushroom.'},\n",
       " {'response_1': 'A microscope view with the right dyes.',\n",
       "  'response_2': \"Two species of insect foraging on what's there.\",\n",
       "  'response_3': \"A fly's head with something dripping from it (orange).\",\n",
       "  'response_4': 'Vocal cords (green lines).',\n",
       "  'response_5': 'A character with antennae of some kind, disregarding the vocal cords.',\n",
       "  'response_6': \"Two chameleons climbing a mountain; it looks like they're shaking hands; there's a transaction or something: they're giving money or recharging energy.\"},\n",
       " {'response_1': 'Two kinds of deformed creatures approaching.',\n",
       "  'response_2': 'Two nostrils, perhaps a skull hidden by everything else.',\n",
       "  'response_3': \"A ghost's head partly hidden by the rest, or some kind of magnetic field.\",\n",
       "  'response_4': 'Two islands or countries that reflect each other (green).',\n",
       "  'response_5': 'A piece of Parma ham (pink).',\n",
       "  'response_6': 'Some kind of roots, like the Sepultura logo (orange lines) Some kind of symbiotic matter that fuses together.',\n",
       "  'response_7': 'A character with wings (green).'},\n",
       " {'response_1': \"It's quite contemporary art, like Miro.\",\n",
       "  'response_2': \"Two species of little bugs fighting over what's in the middle (black).\",\n",
       "  'response_3': 'Octopuses or alien policemen trying to separate them (blue).',\n",
       "  'response_4': 'Two little suns or comets (yellow).',\n",
       "  'response_5': 'Two caterpillars or the letter Omega with a spider or tuning fork at the tip (green).',\n",
       "  'response_6': 'Two kinds of embryos spitting out blue matter (pink).',\n",
       "  'response_7': \"Two kinds of ants with a flame (black+yellow), catching up with the two things there (orange) or the Ghostrider's motorcycle.\",\n",
       "  'response_8': 'I also see two eyes with strange mouths: the green is the horns, the blue the mouth, the gray an electric razor or some kind of sonic screwdriver.',\n",
       "  'response_9': 'Two figures with a blue ponpon are liquefying, perhaps made of skin and air (pink).',\n",
       "  'response_10': 'The two ants will try to put a cap on them to stop them deflating.',\n",
       "  'response_11': 'Two back brushes, a hairbrush or an odd compass (orange).',\n",
       "  'response_12': 'Finally, the two caterpillars have their astral projections coming out of their bodies.',\n",
       "  'response_13': 'Two people supporting each other so as not to lose their balance and fall (central blue).'}]"
      ]
     },
     "execution_count": 6,
     "metadata": {},
     "output_type": "execute_result"
    }
   ],
   "source": [
    "list_dicts\n"
   ]
  },
  {
   "cell_type": "code",
   "execution_count": 7,
   "metadata": {},
   "outputs": [],
   "source": [
    "import spacy\n",
    "from spacy import displacy\n",
    "nlp = spacy.load('en_core_web_sm')\n",
    "import string"
   ]
  },
  {
   "cell_type": "code",
   "execution_count": 8,
   "metadata": {},
   "outputs": [],
   "source": [
    "def get_noun_phrase(doc):\n",
    "    \"\"\"Takes a NLP spaCy doc as an input and outputs the noun phrase subtree at the highest depth within the syntax tree\n",
    "    \"\"\"\n",
    "    # print(doc)\n",
    "    list_dependencies = [\"nsubj\", \"pobj\", \"attr\", \"agent\", \"csubj\", \"csubjpass\", \"npmod\", \"oprd\", \"pobj\", \"dative\", \"appos\", \"ROOT\"]\n",
    "    pos = [\"NOUN\", \"PROPN\", \"NUM\"]\n",
    "    \n",
    "    trans_dictionary = {\"[\": \"\", \n",
    "                    \"]\": \"\", \n",
    "                    \",\": \"\",\n",
    "                    \".\": \"\",\n",
    "                    \"  \": \"\",\n",
    "                    \" '\": \"'\",\n",
    "                    \".\":\",\",\n",
    "                    \" )\": \")\",\n",
    "                    \"( \": \"(\"}\n",
    "    \n",
    "    for token in doc:\n",
    "        # print(token)\n",
    "\n",
    "\n",
    "        if token.dep_ in list_dependencies and token.pos_ in pos and token.pos_ != \"PRON\":  # remove personal pronouns?\n",
    "            ancestors = [t for t in token.ancestors if t.dep_ in list_dependencies and t.pos_ != \"PRON\" and t.dep_ !=\"ROOT\"]\n",
    "            \n",
    "            # in the above code, verify that the \"ROOT\" dependency acts the way we intend\n",
    "            \n",
    "            # print(token,\"ancestors:\", ancestors)\n",
    "            \n",
    "            len_ancestors = len(ancestors)\n",
    "            # print(ancestors, len_ancestors)\n",
    "            if len_ancestors > 0 :\n",
    "                continue\n",
    "                \n",
    "            elif len_ancestors == 0 :\n",
    "                \n",
    "                og_ancestor = token\n",
    "\n",
    "                final_children = [t for t in og_ancestor.children]\n",
    "                \n",
    "                for child in final_children:\n",
    "                    grand_children = [t for t in child.children] # this way we get all the tree under the og ancestor\n",
    "                    for item in grand_children:\n",
    "                        if item != None:\n",
    "                            final_children.append(item)\n",
    "                            \n",
    "                final_children = final_children + [og_ancestor]  \n",
    "                \n",
    "                sorted_sentence = sorted(final_children) # if needed, we can access the token's index with token.i\n",
    "                response = str(sorted_sentence).replace(\"[\", \"\").replace(\"]\", \"\").replace(\",\", \"\").replace(\"  \", \" \").replace(\".\", \"\").replace(\" )\", \")\").replace(\"( \", \"(\").strip(\" \") #to clean the response\n",
    "                # print(response)\n",
    "                return response\n",
    "                # sometimes the response will be empty\n",
    "\n",
    "    "
   ]
  },
  {
   "cell_type": "code",
   "execution_count": 9,
   "metadata": {},
   "outputs": [],
   "source": [
    "def get_clean_NP_responses(list_of_dictionary_responses):\n",
    "    \"\"\"Takes a dictionary with responses as input \n",
    "    and outputs a dictionary with the noun phrases from those responses\n",
    "    \"\"\"\n",
    "    clean_np_list = []\n",
    "    \n",
    "    for dictionary_response in list_of_dictionary_responses:\n",
    "            \n",
    "        clean_np_responses = {}\n",
    "\n",
    "        for key, sentence in list(dictionary_response.items()):\n",
    "            \n",
    "            response_dict = {}\n",
    "             \n",
    "            # i will be using this to reintroduce sliced sentences into the dictionary at the end\n",
    "            list_keys = list(dictionary_response.keys())\n",
    "            last_key = list_keys[-1]\n",
    "            key_template = str(last_key[:-1])+\"{}\"\n",
    "            last_number = last_key[-1]\n",
    "\n",
    "            doc = nlp(sentence)\n",
    "            \n",
    "            coordination = [(token, token.dep_, token.i) for token in doc if token.dep_ == \"cc\"] \n",
    "            \n",
    "            if len(coordination) > 0 :  # slice the sentence by a token and add another response to the list\n",
    "                \n",
    "                # print(coordination)\n",
    "                list_indexes = []\n",
    "                \n",
    "                for tuple in coordination:  # if there are more than one instances of coordination we'll need access to the indexes of every cc to know where to cut the sentences\n",
    "                    index_cut = tuple[2]\n",
    "                    list_indexes.append(index_cut)\n",
    "                    \n",
    "                new_sentences = []\n",
    "                \n",
    "                for i in range(len(list_indexes)):\n",
    "                    \n",
    "                    first_new_sentence = doc[:list_indexes[i]].text\n",
    "                    try:\n",
    "                        second_new_sentence = doc[list_indexes[i]+1:list_indexes[i+1]].text # will execute if there are more than one \"cc\"s\n",
    "                    except:\n",
    "                        second_new_sentence = doc[list_indexes[i]+1:].text\n",
    "                    \n",
    "                    new_sentences.append(first_new_sentence)\n",
    "                    new_sentences.append(second_new_sentence)\n",
    "                \n",
    "                del dictionary_response[key]\n",
    "                list_keys = list(dictionary_response.keys())\n",
    "                last_key = list_keys[-1]\n",
    "                key_template = str(last_key[:-1])+\"{}\"\n",
    "                last_number = last_key[-1]\n",
    "                \n",
    "                for i in range(len(new_sentences)):\n",
    "                    new_index_key = int(last_number) + i + 1 # since i will be 0 we have to add one so that we don't overwrite the last key\n",
    "                    new_key = key_template.format(new_index_key)\n",
    "            \n",
    "                    doc = nlp(new_sentences[i])\n",
    "                    # print(doc)\n",
    "                    response_chopped_sentence = get_noun_phrase(doc)\n",
    "                    np_key = len(list(clean_np_responses.keys())) + 1\n",
    "                    clean_np_responses[\"response_{}\".format(np_key)] = response_chopped_sentence\n",
    "                    # response_dict[sentence] = response_chopped_sentence\n",
    "                    \n",
    "            elif len(coordination) == 0:\n",
    "                # print(doc)\n",
    "                response = get_noun_phrase(doc)\n",
    "                np_key = len(list(clean_np_responses.keys())) + 1\n",
    "                clean_np_responses[\"response_{}\".format(np_key)] = response\n",
    "                # response_dict[sentence] = response_chopped_sentence\n",
    "                \n",
    "        clean_np_list.append(clean_np_responses)\n",
    "        \n",
    "    return clean_np_list"
   ]
  },
  {
   "cell_type": "code",
   "execution_count": 10,
   "metadata": {},
   "outputs": [
    {
     "data": {
      "text/plain": [
       "[{'response_1': 'Some kind of beetle with big wings',\n",
       "  'response_2': 'some kind of frog',\n",
       "  'response_3': 'Some kind of iking mask with four eyes',\n",
       "  'response_4': 'Some kind of silhouette',\n",
       "  'response_5': 'A small character with an open mouth who looks surprised',\n",
       "  'response_6': 'his reflection there'},\n",
       " {'response_1': 'Two characters',\n",
       "  'response_2': 'blood',\n",
       "  'response_3': \"Two characters making contact or fighting because there 's blood\",\n",
       "  'response_4': None,\n",
       "  'response_5': 'Lungs',\n",
       "  'response_6': \"A rooster 's head with a crest Fighter plane glider jet engine fire\",\n",
       "  'response_7': 'some kind of caterpillar with a big belly'},\n",
       " {'response_1': 'Two',\n",
       "  'response_2': 'two figures',\n",
       "  'response_3': None,\n",
       "  'response_4': 'two figures as one',\n",
       "  'response_5': 'Two kinds of missiles',\n",
       "  'response_6': None,\n",
       "  'response_7': 'Lungs',\n",
       "  'response_8': 'a butterfly',\n",
       "  'response_9': 'Just part of an old man with his cane',\n",
       "  'response_10': 'an embryo',\n",
       "  'response_11': 'big beast'},\n",
       " {'response_1': 'a colossus',\n",
       "  'response_2': 'strange legs',\n",
       "  'response_3': 'Two figures under a kind of burka',\n",
       "  'response_4': \"The fly 's head (film)\",\n",
       "  'response_5': \"A baby crocodile 's head\",\n",
       "  'response_6': \"a pig 's since there 's no ear\",\n",
       "  'response_7': \"A baby crocodile 's head or a pig 's since there 's no ear\",\n",
       "  'response_8': 'maybe a mole some kind of trunk'},\n",
       " {'response_1': 'cross',\n",
       "  'response_2': 'a snail',\n",
       "  'response_3': 'cross',\n",
       "  'response_4': 'the legs',\n",
       "  'response_5': None,\n",
       "  'response_6': 'Maybe two very small heads back to back',\n",
       "  'response_7': 'The ACDC guitarist : his head with his hair'},\n",
       " {'response_1': 'half - destroyed wings',\n",
       "  'response_2': 'Here the jaw of a beast with fangs inside its mouth',\n",
       "  'response_3': 'no eye',\n",
       "  'response_4': 'The Sandman (in Spiderman) returning to human form',\n",
       "  'response_5': None,\n",
       "  'response_6': None,\n",
       "  'response_7': 'lungs hidden right there',\n",
       "  'response_8': 'Or lungs hidden right there',\n",
       "  'response_9': 'some kind of flageolet seeds',\n",
       "  'response_10': None,\n",
       "  'response_11': 'some kind of figure with something to leap on',\n",
       "  'response_12': \"some kind of extraterrestrial angel going to an island because it 's got wings\",\n",
       "  'response_13': 'a child about'},\n",
       " {'response_1': 'seahorse',\n",
       "  'response_2': None,\n",
       "  'response_3': 'figures with chainsaw - like arms',\n",
       "  'response_4': 'Prussian army soldiers with spikes on their helmets',\n",
       "  'response_5': 'head',\n",
       "  'response_6': 'the prominence',\n",
       "  'response_7': None,\n",
       "  'response_8': 'A Mayan weapon ;',\n",
       "  'response_9': 'perhaps not a weapon a Mayan cult object',\n",
       "  'response_10': 'A Mayan weapon ; or perhaps not a weapon a Mayan cult object',\n",
       "  'response_11': 'some kind of mushroom'},\n",
       " {'response_1': 'A microscope view with the right dyes',\n",
       "  'response_2': \"Two species of insect foraging on what 's there\",\n",
       "  'response_3': \"A fly 's head with something dripping from it (orange)\",\n",
       "  'response_4': 'Vocal cords (green lines)',\n",
       "  'response_5': 'A character with antennae of some kind disregarding the vocal cords',\n",
       "  'response_6': 'a transaction',\n",
       "  'response_7': None,\n",
       "  'response_8': 'a transaction or something',\n",
       "  'response_9': None},\n",
       " {'response_1': 'Two kinds of deformed creatures approaching',\n",
       "  'response_2': 'Two nostrils perhaps a skull hidden by everything else',\n",
       "  'response_3': \"A ghost 's head partly hidden by the rest\",\n",
       "  'response_4': 'some kind of magnetic field',\n",
       "  'response_5': 'Two islands',\n",
       "  'response_6': 'countries that reflect each other (green)',\n",
       "  'response_7': 'A piece of Parma ham (pink)',\n",
       "  'response_8': 'Some kind of roots like the Sepultura logo (orange lines) Some kind of symbiotic matter that fuses together',\n",
       "  'response_9': 'A character with wings (green)'},\n",
       " {'response_1': 'quite contemporary art like Miro',\n",
       "  'response_2': \"Two species of little bugs fighting over what 's in the middle (black)\",\n",
       "  'response_3': 'Octopuses',\n",
       "  'response_4': 'alien policemen',\n",
       "  'response_5': 'Two little suns',\n",
       "  'response_6': 'comets (yellow)',\n",
       "  'response_7': 'Two',\n",
       "  'response_8': 'the letter Omega with a spider',\n",
       "  'response_9': 'Two caterpillars or the letter Omega with a spider',\n",
       "  'response_10': 'the tip (green)',\n",
       "  'response_11': 'Two kinds of embryos',\n",
       "  'response_12': 'Two kinds of ants with a flame (black+yellow) catching up with the two things there (orange)',\n",
       "  'response_13': \"the Ghostrider 's motorcycle\",\n",
       "  'response_14': 'strange mouths',\n",
       "  'response_15': 'some kind of sonic screwdriver',\n",
       "  'response_16': 'Two figures with a blue ponpon',\n",
       "  'response_17': 'air (pink)',\n",
       "  'response_18': 'The two ants',\n",
       "  'response_19': 'Two back brushes a hairbrush',\n",
       "  'response_20': 'an odd compass (orange)',\n",
       "  'response_21': 'the two caterpillars',\n",
       "  'response_22': 'Two people supporting each other so as not to lose their balance',\n",
       "  'response_23': '(central blue)'}]"
      ]
     },
     "execution_count": 10,
     "metadata": {},
     "output_type": "execute_result"
    }
   ],
   "source": [
    "get_clean_NP_responses(list_dicts)"
   ]
  },
  {
   "cell_type": "code",
   "execution_count": 11,
   "metadata": {},
   "outputs": [],
   "source": [
    "import itertools"
   ]
  },
  {
   "cell_type": "markdown",
   "metadata": {},
   "source": [
    "Sanity check"
   ]
  },
  {
   "cell_type": "code",
   "execution_count": 12,
   "metadata": {},
   "outputs": [
    {
     "data": {
      "text/plain": [
       "34"
      ]
     },
     "execution_count": 12,
     "metadata": {},
     "output_type": "execute_result"
    }
   ],
   "source": [
    "list_resp = [[v for k, v in dicts.items()] for dicts in list_dicts]\n",
    "mege = list(itertools.chain(*list_resp))\n",
    "len(mege)"
   ]
  },
  {
   "cell_type": "code",
   "execution_count": 13,
   "metadata": {},
   "outputs": [
    {
     "data": {
      "text/plain": [
       "34"
      ]
     },
     "execution_count": 13,
     "metadata": {},
     "output_type": "execute_result"
    }
   ],
   "source": [
    "clean_np_responses = get_clean_NP_responses(list_dicts)\n",
    "\n",
    "list_resp = [[v for k, v in dicts.items()] for dicts in clean_np_responses]\n",
    "mege = list(itertools.chain(*list_resp))\n",
    "len(mege)"
   ]
  },
  {
   "cell_type": "code",
   "execution_count": 14,
   "metadata": {},
   "outputs": [
    {
     "data": {
      "text/plain": [
       "[{'response_2': 'Some kind of iking mask with four eyes.',\n",
       "  'response_3': 'Some kind of silhouette.'},\n",
       " {'response_2': 'Lungs.'},\n",
       " {'response_1': 'Two oddly shaped guitars with twisted necks.',\n",
       "  'response_2': 'Again, two figures face to face, strangely constituted, like Picasso.',\n",
       "  'response_7': 'Some kind of big beast, you can see the inside of its body, the mandibles.'},\n",
       " {'response_2': 'Two figures under a kind of burka.',\n",
       "  'response_3': \"The fly's head (film).\"},\n",
       " {'response_2': \"Otherwise, I don't see anything else.\",\n",
       "  'response_3': 'Maybe two very small heads, back to back.',\n",
       "  'response_4': 'The ACDC guitarist: his head with his hair.'},\n",
       " {'response_1': 'A rather bizarre dragonfly with half-destroyed wings.',\n",
       "  'response_3': 'The Sandman (in Spiderman) returning to human form.',\n",
       "  'response_4': \"Otherwise, that's all I can see.\",\n",
       "  'response_7': \"Finally, maybe it's some kind of extraterrestrial angel going to an island because it's got wings.\",\n",
       "  'response_8': \"He comes down that way, so maybe it's a child about to be born.\"},\n",
       " {'response_1': \"Two species of seahorse with a proboscis here; they're both connected by something that's there; they look frozen because there are stalactites, like perhaps prehistoric animals that have been frozen.\",\n",
       "  'response_3': 'Prussian army soldiers with spikes on their helmets.',\n",
       "  'response_5': 'If you integrate the white, you can see a mask.'},\n",
       " {'response_1': 'A microscope view with the right dyes.',\n",
       "  'response_2': \"Two species of insect foraging on what's there.\",\n",
       "  'response_3': \"A fly's head with something dripping from it (orange).\",\n",
       "  'response_4': 'Vocal cords (green lines).',\n",
       "  'response_5': 'A character with antennae of some kind, disregarding the vocal cords.'},\n",
       " {'response_1': 'Two kinds of deformed creatures approaching.',\n",
       "  'response_2': 'Two nostrils, perhaps a skull hidden by everything else.',\n",
       "  'response_5': 'A piece of Parma ham (pink).',\n",
       "  'response_6': 'Some kind of roots, like the Sepultura logo (orange lines) Some kind of symbiotic matter that fuses together.',\n",
       "  'response_7': 'A character with wings (green).'},\n",
       " {'response_1': \"It's quite contemporary art, like Miro.\",\n",
       "  'response_2': \"Two species of little bugs fighting over what's in the middle (black).\",\n",
       "  'response_6': 'Two kinds of embryos spitting out blue matter (pink).',\n",
       "  'response_10': 'The two ants will try to put a cap on them to stop them deflating.',\n",
       "  'response_12': 'Finally, the two caterpillars have their astral projections coming out of their bodies.'}]"
      ]
     },
     "execution_count": 14,
     "metadata": {},
     "output_type": "execute_result"
    }
   ],
   "source": [
    "list_dicts"
   ]
  },
  {
   "cell_type": "code",
   "execution_count": 15,
   "metadata": {},
   "outputs": [
    {
     "data": {
      "text/plain": [
       "[{'response_1': 'Some kind of iking mask with four eyes',\n",
       "  'response_2': 'Some kind of silhouette'},\n",
       " {'response_1': 'Lungs'},\n",
       " {'response_1': 'Two', 'response_2': 'two figures', 'response_3': 'big beast'},\n",
       " {'response_1': 'Two figures under a kind of burka',\n",
       "  'response_2': \"The fly 's head (film)\"},\n",
       " {'response_1': None,\n",
       "  'response_2': 'Maybe two very small heads back to back',\n",
       "  'response_3': 'The ACDC guitarist : his head with his hair'},\n",
       " {'response_1': 'half - destroyed wings',\n",
       "  'response_2': 'The Sandman (in Spiderman) returning to human form',\n",
       "  'response_3': None,\n",
       "  'response_4': \"some kind of extraterrestrial angel going to an island because it 's got wings\",\n",
       "  'response_5': 'a child about'},\n",
       " {'response_1': 'seahorse',\n",
       "  'response_2': 'Prussian army soldiers with spikes on their helmets',\n",
       "  'response_3': None},\n",
       " {'response_1': 'A microscope view with the right dyes',\n",
       "  'response_2': \"Two species of insect foraging on what 's there\",\n",
       "  'response_3': \"A fly 's head with something dripping from it (orange)\",\n",
       "  'response_4': 'Vocal cords (green lines)',\n",
       "  'response_5': 'A character with antennae of some kind disregarding the vocal cords'},\n",
       " {'response_1': 'Two kinds of deformed creatures approaching',\n",
       "  'response_2': 'Two nostrils perhaps a skull hidden by everything else',\n",
       "  'response_3': 'A piece of Parma ham (pink)',\n",
       "  'response_4': 'Some kind of roots like the Sepultura logo (orange lines) Some kind of symbiotic matter that fuses together',\n",
       "  'response_5': 'A character with wings (green)'},\n",
       " {'response_1': 'quite contemporary art like Miro',\n",
       "  'response_2': \"Two species of little bugs fighting over what 's in the middle (black)\",\n",
       "  'response_3': 'Two kinds of embryos',\n",
       "  'response_4': 'The two ants',\n",
       "  'response_5': 'the two caterpillars'}]"
      ]
     },
     "execution_count": 15,
     "metadata": {},
     "output_type": "execute_result"
    }
   ],
   "source": [
    "clean_np_responses"
   ]
  },
  {
   "cell_type": "code",
   "execution_count": 16,
   "metadata": {},
   "outputs": [
    {
     "data": {
      "text/plain": [
       "'I see some kind of iking mask with four eyes or a frog.'"
      ]
     },
     "execution_count": 16,
     "metadata": {},
     "output_type": "execute_result"
    }
   ],
   "source": [
    "sentence = \"I see some kind of iking mask with four eyes or a frog.\"\n",
    "sentence"
   ]
  },
  {
   "cell_type": "code",
   "execution_count": 17,
   "metadata": {},
   "outputs": [],
   "source": [
    "def get_np(sentence):\n",
    "    \n",
    "    doc = nlp(sentence)\n",
    "\n",
    "    coordination = [(token, token.dep_, token.i) for token in doc if token.dep_ == \"cc\"]\n",
    "    \n",
    "    if len(coordination) > 0 :  # slice the sentence by a token and add another response to the list\n",
    "        \n",
    "        # print(coordination)\n",
    "        list_indexes = []\n",
    "        \n",
    "        for tuple in coordination:  # if there are more than one instances of coordination we'll need access to the indexes of every cc to know where to cut the sentences\n",
    "            index_cut = tuple[2]\n",
    "            list_indexes.append(index_cut)\n",
    "            \n",
    "        new_sentences = []\n",
    "        \n",
    "        for i in range(len(list_indexes)):\n",
    "            \n",
    "            first_new_sentence = doc[:list_indexes[i]].text\n",
    "            try:\n",
    "                second_new_sentence = doc[list_indexes[i]+1:list_indexes[i+1]].text # will execute if there are more than one \"cc\"s\n",
    "            except:\n",
    "                second_new_sentence = doc[list_indexes[i]+1:].text\n",
    "            \n",
    "            new_sentences.append(first_new_sentence)\n",
    "            new_sentences.append(second_new_sentence)\n",
    "            \n",
    "        # print(new_sentences)\n",
    "        \n",
    "        for i in range(len(new_sentences)):\n",
    "\n",
    "            doc = nlp(new_sentences[i])\n",
    "            # print(doc)\n",
    "            response_chopped_sentence = get_noun_phrase(doc)\n",
    "            \n",
    "            # print(response_chopped_sentence)\n",
    "            \n",
    "            new_sentences[i] = response_chopped_sentence\n",
    "                    \n",
    "        # print(new_sentences)\n",
    "        return new_sentences\n",
    "\n",
    "    elif len(coordination) == 0:\n",
    "        # print(doc)\n",
    "        response = get_noun_phrase(doc)\n",
    "        \n",
    "        return response"
   ]
  },
  {
   "cell_type": "code",
   "execution_count": 18,
   "metadata": {},
   "outputs": [
    {
     "data": {
      "text/plain": [
       "['iking mask with four eyes', 'a frog']"
      ]
     },
     "execution_count": 18,
     "metadata": {},
     "output_type": "execute_result"
    }
   ],
   "source": [
    "get_np(\"I see some kind of iking mask with four eyes or a frog.\")"
   ]
  }
 ],
 "metadata": {
  "kernelspec": {
   "display_name": "Python 3",
   "language": "python",
   "name": "python3"
  },
  "language_info": {
   "codemirror_mode": {
    "name": "ipython",
    "version": 3
   },
   "file_extension": ".py",
   "mimetype": "text/x-python",
   "name": "python",
   "nbconvert_exporter": "python",
   "pygments_lexer": "ipython3",
   "version": "3.12.0"
  }
 },
 "nbformat": 4,
 "nbformat_minor": 2
}

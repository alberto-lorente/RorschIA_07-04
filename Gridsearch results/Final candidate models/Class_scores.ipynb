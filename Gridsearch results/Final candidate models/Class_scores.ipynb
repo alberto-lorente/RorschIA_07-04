{
 "cells": [
  {
   "cell_type": "code",
   "execution_count": 20,
   "metadata": {},
   "outputs": [],
   "source": [
    "import json\n",
    "import pandas as pd"
   ]
  },
  {
   "cell_type": "code",
   "execution_count": 21,
   "metadata": {},
   "outputs": [],
   "source": [
    "def grid_dicto_to_df_list(grid_list):\n",
    "    list_to_df = []\n",
    "    non_metrics = ['proba_outputs', 'actual_classes', 'proba_outputs', 'actual_classes', 'test_proba', 'test_actual_classes']\n",
    "    for dict_hyper in grid_list:\n",
    "        dict_to_df = {}\n",
    "        # print(dict_hyper)\n",
    "        for val in dict_hyper.values():\n",
    "            for item in val.items():\n",
    "                if type(item[1]) != dict:\n",
    "                    dict_to_df[item[0]] = item[1]\n",
    "                else:\n",
    "                    dictionary_results = item[1]\n",
    "                    for item in dictionary_results.items(): \n",
    "                        if item[0] not in non_metrics:\n",
    "                            dict_to_df[item[0]] = item[1]\n",
    "        list_to_df.append(dict_to_df)\n",
    "    return list_to_df"
   ]
  },
  {
   "cell_type": "code",
   "execution_count": 22,
   "metadata": {},
   "outputs": [],
   "source": [
    "with open(\"metrics_ind_dets_final.json\") as f:\n",
    "    grids = json.load(f)"
   ]
  },
  {
   "cell_type": "code",
   "execution_count": 23,
   "metadata": {},
   "outputs": [
    {
     "data": {
      "text/plain": [
       "dict_keys(['train_loss_epoch_1', 'valid_loss_epoch_1', 'f1_epoch_1', 'accuracy_epoch_1', 'roc_auc_epoch_1', 'hamming_epoch_1', 'proba_outputs_epoch_1', 'actual_classes_epoch_1'])"
      ]
     },
     "execution_count": 23,
     "metadata": {},
     "output_type": "execute_result"
    }
   ],
   "source": [
    "grids[0][\"metrics\"][\"epoch_0\"].keys()"
   ]
  },
  {
   "cell_type": "code",
   "execution_count": 24,
   "metadata": {},
   "outputs": [],
   "source": [
    "proba = grids[0][\"metrics\"][\"epoch_39\"][\"proba_outputs_epoch_40\"]\n",
    "\n",
    "targets = grids[0][\"metrics\"][\"epoch_39\"][\"actual_classes_epoch_40\"]"
   ]
  },
  {
   "cell_type": "code",
   "execution_count": 25,
   "metadata": {},
   "outputs": [],
   "source": [
    "import numpy as np"
   ]
  },
  {
   "cell_type": "markdown",
   "metadata": {},
   "source": [
    "# Why hamming score is not ideal"
   ]
  },
  {
   "cell_type": "code",
   "execution_count": 26,
   "metadata": {},
   "outputs": [],
   "source": [
    "list_indexes = []\n",
    "targets_study = []\n",
    "for target in targets:\n",
    "    index_1 = targets.index(target)\n",
    "    counts = target.count(1.0)\n",
    "    # print(counts)\n",
    "    if counts > 1:\n",
    "        # print(target)\n",
    "        # print(index_1)\n",
    "        list_indexes.append(index_1)\n",
    "        targets_study.append(target)"
   ]
  },
  {
   "cell_type": "code",
   "execution_count": 34,
   "metadata": {},
   "outputs": [
    {
     "data": {
      "text/plain": [
       "18"
      ]
     },
     "execution_count": 34,
     "metadata": {},
     "output_type": "execute_result"
    }
   ],
   "source": [
    "len(targets_study[0])"
   ]
  },
  {
   "cell_type": "code",
   "execution_count": 29,
   "metadata": {},
   "outputs": [],
   "source": [
    "pro_study = []\n",
    "for probs in proba:\n",
    "    for prob in probs:\n",
    "        index = probs.index(prob)\n",
    "        if index in list_indexes:\n",
    "            # print(prob)\n",
    "            pro_study.append(prob)"
   ]
  },
  {
   "cell_type": "code",
   "execution_count": 35,
   "metadata": {},
   "outputs": [
    {
     "data": {
      "text/plain": [
       "18"
      ]
     },
     "execution_count": 35,
     "metadata": {},
     "output_type": "execute_result"
    }
   ],
   "source": [
    "len(pro_study[1])"
   ]
  },
  {
   "cell_type": "code",
   "execution_count": 30,
   "metadata": {},
   "outputs": [],
   "source": [
    "df = pd.read_csv(\"nancy_determinants_individual_labels_eng.csv\")\n",
    "categories = list(df.columns[1:])"
   ]
  },
  {
   "cell_type": "code",
   "execution_count": 36,
   "metadata": {},
   "outputs": [
    {
     "data": {
      "text/plain": [
       "18"
      ]
     },
     "execution_count": 36,
     "metadata": {},
     "output_type": "execute_result"
    }
   ],
   "source": [
    "len(categories)"
   ]
  },
  {
   "cell_type": "code",
   "execution_count": 37,
   "metadata": {},
   "outputs": [],
   "source": [
    "df_hammer = pd.DataFrame([targets_study[0], pro_study[0]], columns=categories)"
   ]
  },
  {
   "cell_type": "code",
   "execution_count": 43,
   "metadata": {},
   "outputs": [],
   "source": [
    "df_hammer.index = [\"Actual class\", \"Probability\"]"
   ]
  },
  {
   "cell_type": "code",
   "execution_count": 47,
   "metadata": {},
   "outputs": [
    {
     "name": "stdout",
     "output_type": "stream",
     "text": [
      "\\begin{tabular}{lrr}\n",
      "\\toprule\n",
      " & Actual class & Probability \\\\\n",
      "\\midrule\n",
      "C & 1.000000 & 0.166108 \\\\\n",
      "C' & 0.000000 & 0.005703 \\\\\n",
      "C'F & 0.000000 & 0.002555 \\\\\n",
      "CF & 0.000000 & 0.004314 \\\\\n",
      "CF' & 0.000000 & 0.002793 \\\\\n",
      "CLOB & 0.000000 & 0.009092 \\\\\n",
      "CLOBF & 0.000000 & 0.002442 \\\\\n",
      "E & 0.000000 & 0.012736 \\\\\n",
      "EF & 0.000000 & 0.003250 \\\\\n",
      "F & 0.000000 & 0.006959 \\\\\n",
      "FC & 0.000000 & 0.005460 \\\\\n",
      "FC' & 0.000000 & 0.004787 \\\\\n",
      "FCLOB & 0.000000 & 0.004081 \\\\\n",
      "FE & 0.000000 & 0.002069 \\\\\n",
      "K & 1.000000 & 0.946964 \\\\\n",
      "KAN & 0.000000 & 0.018132 \\\\\n",
      "KOB & 0.000000 & 0.002614 \\\\\n",
      "KP & 0.000000 & 0.009034 \\\\\n",
      "\\bottomrule\n",
      "\\end{tabular}\n",
      "\n"
     ]
    }
   ],
   "source": [
    "print(df_hammer.T.to_latex())"
   ]
  },
  {
   "cell_type": "markdown",
   "metadata": {},
   "source": [
    "Same but for macros"
   ]
  },
  {
   "cell_type": "code",
   "execution_count": 62,
   "metadata": {},
   "outputs": [],
   "source": [
    "with open(\"metrics_macro_dets_final.json\") as f:\n",
    "    grids = json.load(f)"
   ]
  },
  {
   "cell_type": "code",
   "execution_count": 63,
   "metadata": {},
   "outputs": [],
   "source": [
    "proba = grids[0][\"metrics\"][\"epoch_39\"][\"proba_outputs_epoch_40\"]\n",
    "\n",
    "targets = grids[0][\"metrics\"][\"epoch_39\"][\"actual_classes_epoch_40\"]"
   ]
  },
  {
   "cell_type": "code",
   "execution_count": 66,
   "metadata": {},
   "outputs": [
    {
     "data": {
      "text/plain": [
       "[0.9941744208335876,\n",
       " 0.003322105621919036,\n",
       " 0.0016201183898374438,\n",
       " 0.001091857091523707,\n",
       " 0.0010845869546756148,\n",
       " 0.0016021255869418383,\n",
       " 0.0010661340784281492,\n",
       " 0.0015613246941938996,\n",
       " 0.0018880752613767982,\n",
       " 0.0013919611228629947,\n",
       " 0.0022954228334128857]"
      ]
     },
     "execution_count": 66,
     "metadata": {},
     "output_type": "execute_result"
    }
   ],
   "source": [
    "proba[0][0]"
   ]
  },
  {
   "cell_type": "code",
   "execution_count": 54,
   "metadata": {},
   "outputs": [
    {
     "name": "stdout",
     "output_type": "stream",
     "text": [
      "11\n"
     ]
    }
   ],
   "source": [
    "list_indexes = []\n",
    "targets_study = []\n",
    "for target in targets:\n",
    "    index_1 = targets.index(target)\n",
    "    counts = target.count(1.0)\n",
    "    # print(counts)\n",
    "    if counts > 1:\n",
    "        # print(target)\n",
    "        # print(index_1)\n",
    "        list_indexes.append(index_1)\n",
    "        targets_study.append(target)\n",
    "        \n",
    "print(len(targets_study[0]))"
   ]
  },
  {
   "cell_type": "code",
   "execution_count": 55,
   "metadata": {},
   "outputs": [],
   "source": [
    "pro_study = []\n",
    "for probs in proba:\n",
    "    for prob in probs:\n",
    "        index = probs.index(prob)\n",
    "        if index in list_indexes:\n",
    "            # print(prob)\n",
    "            pro_study.append(prob)"
   ]
  },
  {
   "cell_type": "code",
   "execution_count": 56,
   "metadata": {},
   "outputs": [
    {
     "data": {
      "text/plain": [
       "11"
      ]
     },
     "execution_count": 56,
     "metadata": {},
     "output_type": "execute_result"
    }
   ],
   "source": [
    "len(pro_study[0])"
   ]
  },
  {
   "cell_type": "code",
   "execution_count": 60,
   "metadata": {},
   "outputs": [],
   "source": [
    "df = pd.read_csv(\"nancy_determinants_macro_labels_english.csv\")\n",
    "categories = list(df.columns[1:])"
   ]
  },
  {
   "cell_type": "code",
   "execution_count": 67,
   "metadata": {},
   "outputs": [
    {
     "data": {
      "text/html": [
       "<div>\n",
       "<style scoped>\n",
       "    .dataframe tbody tr th:only-of-type {\n",
       "        vertical-align: middle;\n",
       "    }\n",
       "\n",
       "    .dataframe tbody tr th {\n",
       "        vertical-align: top;\n",
       "    }\n",
       "\n",
       "    .dataframe thead th {\n",
       "        text-align: right;\n",
       "    }\n",
       "</style>\n",
       "<table border=\"1\" class=\"dataframe\">\n",
       "  <thead>\n",
       "    <tr style=\"text-align: right;\">\n",
       "      <th></th>\n",
       "      <th>Answer (English)</th>\n",
       "      <th>color_sum</th>\n",
       "      <th>threat_sum</th>\n",
       "      <th>fading_sum</th>\n",
       "      <th>form_sum</th>\n",
       "      <th>kinesthetics_sum</th>\n",
       "    </tr>\n",
       "  </thead>\n",
       "  <tbody>\n",
       "    <tr>\n",
       "      <th>0</th>\n",
       "      <td>It reminds me of a moth with mandibles. It lo...</td>\n",
       "      <td>1</td>\n",
       "      <td>0</td>\n",
       "      <td>0</td>\n",
       "      <td>0</td>\n",
       "      <td>0</td>\n",
       "    </tr>\n",
       "    <tr>\n",
       "      <th>1</th>\n",
       "      <td>One person on each side (obviously, it’s symme...</td>\n",
       "      <td>0</td>\n",
       "      <td>0</td>\n",
       "      <td>0</td>\n",
       "      <td>0</td>\n",
       "      <td>1</td>\n",
       "    </tr>\n",
       "    <tr>\n",
       "      <th>2</th>\n",
       "      <td>A saucepan on a…camping gas stove. The gas sto...</td>\n",
       "      <td>0</td>\n",
       "      <td>0</td>\n",
       "      <td>1</td>\n",
       "      <td>0</td>\n",
       "      <td>0</td>\n",
       "    </tr>\n",
       "    <tr>\n",
       "      <th>3</th>\n",
       "      <td>Ah two rabbits hitting each other's hands with...</td>\n",
       "      <td>0</td>\n",
       "      <td>0</td>\n",
       "      <td>0</td>\n",
       "      <td>0</td>\n",
       "      <td>1</td>\n",
       "    </tr>\n",
       "    <tr>\n",
       "      <th>4</th>\n",
       "      <td>And... A person with big lips, his eyes, his e...</td>\n",
       "      <td>0</td>\n",
       "      <td>0</td>\n",
       "      <td>1</td>\n",
       "      <td>0</td>\n",
       "      <td>0</td>\n",
       "    </tr>\n",
       "    <tr>\n",
       "      <th>...</th>\n",
       "      <td>...</td>\n",
       "      <td>...</td>\n",
       "      <td>...</td>\n",
       "      <td>...</td>\n",
       "      <td>...</td>\n",
       "      <td>...</td>\n",
       "    </tr>\n",
       "    <tr>\n",
       "      <th>375</th>\n",
       "      <td>You see that, it reminds me\\n reminds me of sh...</td>\n",
       "      <td>1</td>\n",
       "      <td>0</td>\n",
       "      <td>0</td>\n",
       "      <td>0</td>\n",
       "      <td>0</td>\n",
       "    </tr>\n",
       "    <tr>\n",
       "      <th>376</th>\n",
       "      <td>I really can't\\n see the whole thing, it makes...</td>\n",
       "      <td>1</td>\n",
       "      <td>0</td>\n",
       "      <td>0</td>\n",
       "      <td>0</td>\n",
       "      <td>0</td>\n",
       "    </tr>\n",
       "    <tr>\n",
       "      <th>377</th>\n",
       "      <td>It's a bit capillotint\\n a bit afterwards, but...</td>\n",
       "      <td>0</td>\n",
       "      <td>0</td>\n",
       "      <td>1</td>\n",
       "      <td>0</td>\n",
       "      <td>1</td>\n",
       "    </tr>\n",
       "    <tr>\n",
       "      <th>378</th>\n",
       "      <td>: It reminds me of a goat\\n goat (laughs), and...</td>\n",
       "      <td>1</td>\n",
       "      <td>0</td>\n",
       "      <td>0</td>\n",
       "      <td>0</td>\n",
       "      <td>0</td>\n",
       "    </tr>\n",
       "    <tr>\n",
       "      <th>379</th>\n",
       "      <td>You've got a chasm, you see,\\n you've got the ...</td>\n",
       "      <td>0</td>\n",
       "      <td>0</td>\n",
       "      <td>1</td>\n",
       "      <td>0</td>\n",
       "      <td>1</td>\n",
       "    </tr>\n",
       "  </tbody>\n",
       "</table>\n",
       "<p>380 rows × 6 columns</p>\n",
       "</div>"
      ],
      "text/plain": [
       "                                      Answer (English)  color_sum  threat_sum  \\\n",
       "0     It reminds me of a moth with mandibles. It lo...          1           0   \n",
       "1    One person on each side (obviously, it’s symme...          0           0   \n",
       "2    A saucepan on a…camping gas stove. The gas sto...          0           0   \n",
       "3    Ah two rabbits hitting each other's hands with...          0           0   \n",
       "4    And... A person with big lips, his eyes, his e...          0           0   \n",
       "..                                                 ...        ...         ...   \n",
       "375  You see that, it reminds me\\n reminds me of sh...          1           0   \n",
       "376  I really can't\\n see the whole thing, it makes...          1           0   \n",
       "377  It's a bit capillotint\\n a bit afterwards, but...          0           0   \n",
       "378  : It reminds me of a goat\\n goat (laughs), and...          1           0   \n",
       "379  You've got a chasm, you see,\\n you've got the ...          0           0   \n",
       "\n",
       "     fading_sum  form_sum  kinesthetics_sum  \n",
       "0             0         0                 0  \n",
       "1             0         0                 1  \n",
       "2             1         0                 0  \n",
       "3             0         0                 1  \n",
       "4             1         0                 0  \n",
       "..          ...       ...               ...  \n",
       "375           0         0                 0  \n",
       "376           0         0                 0  \n",
       "377           1         0                 1  \n",
       "378           0         0                 0  \n",
       "379           1         0                 1  \n",
       "\n",
       "[380 rows x 6 columns]"
      ]
     },
     "execution_count": 67,
     "metadata": {},
     "output_type": "execute_result"
    }
   ],
   "source": [
    "df"
   ]
  },
  {
   "cell_type": "code",
   "execution_count": 61,
   "metadata": {},
   "outputs": [
    {
     "data": {
      "text/plain": [
       "5"
      ]
     },
     "execution_count": 61,
     "metadata": {},
     "output_type": "execute_result"
    }
   ],
   "source": [
    "len(categories)"
   ]
  },
  {
   "cell_type": "markdown",
   "metadata": {},
   "source": [
    "# Scoring per label"
   ]
  },
  {
   "cell_type": "code",
   "execution_count": 32,
   "metadata": {},
   "outputs": [
    {
     "name": "stdout",
     "output_type": "stream",
     "text": [
      "[0. 0. 0. 0. 0. 0. 0. 0. 0. 1. 0. 0. 0. 0. 0. 0. 0. 0.]\n",
      "18\n",
      "[0. 0. 0. 0. 0. 0. 0. 0. 0. 1. 0. 0. 0. 0. 0. 0. 0. 0.]\n",
      "18\n",
      "[0. 0. 0. 0. 0. 0. 0. 0. 0. 1. 0. 0. 0. 0. 0. 0. 0. 0.]\n",
      "18\n",
      "[0. 0. 0. 0. 0. 0. 0. 0. 0. 1. 0. 0. 0. 0. 0. 0. 0. 0.]\n",
      "18\n",
      "[0. 0. 0. 0. 0. 0. 0. 0. 0. 0. 1. 0. 0. 0. 0. 0. 0. 0.]\n",
      "18\n",
      "[0. 0. 0. 0. 0. 0. 0. 0. 0. 0. 0. 0. 0. 0. 1. 0. 0. 0.]\n",
      "18\n",
      "[0. 0. 0. 0. 0. 0. 0. 0. 0. 1. 0. 0. 0. 0. 0. 0. 0. 0.]\n",
      "18\n",
      "[0. 0. 0. 1. 0. 0. 0. 0. 0. 0. 0. 0. 0. 0. 0. 0. 0. 0.]\n",
      "18\n",
      "[0. 0. 0. 0. 0. 0. 0. 0. 0. 1. 0. 0. 0. 0. 0. 0. 0. 0.]\n",
      "18\n",
      "[0. 0. 0. 0. 0. 0. 0. 0. 0. 1. 0. 0. 0. 0. 0. 0. 0. 0.]\n",
      "18\n",
      "[0. 0. 0. 0. 0. 0. 0. 0. 0. 1. 0. 0. 0. 0. 0. 0. 0. 0.]\n",
      "18\n",
      "[0. 0. 0. 1. 0. 0. 0. 0. 0. 0. 0. 0. 0. 0. 0. 0. 0. 0.]\n",
      "18\n",
      "[0. 0. 0. 0. 0. 0. 0. 0. 0. 0. 0. 0. 0. 1. 0. 0. 0. 0.]\n",
      "18\n",
      "[0. 0. 0. 0. 0. 0. 0. 0. 0. 1. 0. 0. 0. 0. 0. 0. 0. 0.]\n",
      "18\n",
      "[0. 0. 0. 0. 0. 0. 0. 0. 0. 0. 0. 0. 0. 0. 0. 1. 0. 0.]\n",
      "18\n",
      "[0. 0. 0. 0. 0. 0. 0. 0. 0. 0. 0. 0. 0. 0. 0. 0. 0. 1.]\n",
      "18\n",
      "[0. 0. 0. 0. 0. 0. 0. 0. 0. 1. 0. 0. 0. 0. 0. 0. 0. 0.]\n",
      "18\n",
      "[0. 0. 0. 0. 0. 0. 0. 0. 0. 1. 0. 0. 0. 0. 0. 0. 0. 0.]\n",
      "18\n",
      "[0. 1. 0. 0. 0. 0. 0. 1. 0. 0. 0. 0. 0. 0. 0. 0. 1. 0.]\n",
      "18\n",
      "[0. 0. 0. 0. 0. 0. 0. 0. 0. 1. 0. 0. 0. 0. 0. 0. 0. 0.]\n",
      "18\n",
      "[0. 0. 0. 0. 0. 0. 0. 0. 0. 0. 0. 0. 0. 0. 0. 0. 0. 1.]\n",
      "18\n",
      "[0. 0. 0. 0. 0. 0. 0. 0. 0. 0. 0. 0. 0. 0. 0. 1. 0. 0.]\n",
      "18\n",
      "[0. 0. 0. 0. 0. 0. 0. 0. 0. 1. 0. 0. 0. 0. 0. 0. 0. 0.]\n",
      "18\n",
      "[0. 0. 0. 0. 0. 0. 0. 0. 0. 1. 0. 0. 0. 0. 0. 0. 0. 0.]\n",
      "18\n",
      "[0. 0. 0. 0. 0. 0. 0. 0. 0. 1. 0. 0. 0. 0. 0. 0. 0. 0.]\n",
      "18\n",
      "[0. 0. 0. 0. 0. 0. 0. 0. 0. 1. 0. 0. 0. 0. 0. 0. 0. 0.]\n",
      "18\n",
      "[0. 0. 0. 0. 0. 0. 0. 0. 0. 1. 0. 0. 0. 0. 0. 0. 0. 0.]\n",
      "18\n",
      "[0. 0. 0. 0. 0. 0. 0. 0. 0. 1. 0. 0. 0. 0. 0. 0. 0. 0.]\n",
      "18\n",
      "[0. 0. 0. 0. 0. 0. 0. 0. 0. 0. 0. 0. 0. 0. 1. 0. 0. 0.]\n",
      "18\n",
      "[0. 0. 0. 0. 0. 0. 0. 0. 0. 0. 0. 0. 0. 0. 0. 1. 0. 0.]\n",
      "18\n",
      "[0. 0. 0. 0. 0. 0. 0. 0. 0. 0. 0. 0. 0. 0. 1. 0. 0. 0.]\n",
      "18\n",
      "[0. 0. 0. 0. 0. 0. 0. 0. 0. 0. 0. 0. 0. 0. 1. 0. 0. 0.]\n",
      "18\n",
      "[0. 0. 0. 0. 0. 0. 0. 0. 0. 0. 1. 0. 0. 0. 0. 0. 0. 0.]\n",
      "18\n",
      "[0. 0. 0. 0. 0. 0. 0. 0. 0. 1. 0. 0. 0. 0. 0. 0. 0. 0.]\n",
      "18\n",
      "[0. 0. 0. 0. 0. 0. 0. 0. 0. 0. 1. 0. 0. 0. 0. 0. 0. 0.]\n",
      "18\n",
      "[0. 0. 0. 0. 0. 0. 0. 0. 0. 1. 0. 0. 0. 0. 0. 0. 0. 0.]\n",
      "18\n"
     ]
    }
   ],
   "source": [
    "# calculating predictions\n",
    "\n",
    "threshold = 0.5\n",
    "for prob in proba:\n",
    "    for pro in prob:\n",
    "        pro = np.array(pro)\n",
    "        y_pred = np.zeros(pro.shape)\n",
    "        y_pred[np.where(pro>=threshold)] = 1\n",
    "        # print(pro)\n",
    "        if 1 not in y_pred:\n",
    "            idx = np.argmax(pro)\n",
    "            y_pred[idx] = 1.0\n",
    "        print(y_pred)\n",
    "        print(len(y_pred))"
   ]
  }
 ],
 "metadata": {
  "kernelspec": {
   "display_name": "Python 3",
   "language": "python",
   "name": "python3"
  },
  "language_info": {
   "codemirror_mode": {
    "name": "ipython",
    "version": 3
   },
   "file_extension": ".py",
   "mimetype": "text/x-python",
   "name": "python",
   "nbconvert_exporter": "python",
   "pygments_lexer": "ipython3",
   "version": "3.12.0"
  }
 },
 "nbformat": 4,
 "nbformat_minor": 2
}

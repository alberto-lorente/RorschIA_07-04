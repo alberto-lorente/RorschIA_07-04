{
 "cells": [
  {
   "cell_type": "code",
   "execution_count": 9,
   "metadata": {},
   "outputs": [],
   "source": [
    "import os\n",
    "import pandas as pd "
   ]
  },
  {
   "cell_type": "code",
   "execution_count": 10,
   "metadata": {},
   "outputs": [],
   "source": [
    "list_files = os.listdir()[1:]"
   ]
  },
  {
   "cell_type": "code",
   "execution_count": 42,
   "metadata": {},
   "outputs": [],
   "source": [
    "nancy_df = pd.DataFrame()"
   ]
  },
  {
   "cell_type": "code",
   "execution_count": 43,
   "metadata": {},
   "outputs": [],
   "source": [
    "for data in list_files:\n",
    "    df = pd.read_csv(data)\n",
    "    nancy_df = pd.concat([nancy_df, df])"
   ]
  },
  {
   "cell_type": "code",
   "execution_count": 44,
   "metadata": {},
   "outputs": [
    {
     "data": {
      "text/plain": [
       "Index([ 0,  1,  2,  3,  4,  5,  6,  7,  8,  9,\n",
       "       ...\n",
       "       41, 42, 43, 44, 45, 46, 47, 48, 49, 50],\n",
       "      dtype='int64', length=567)"
      ]
     },
     "execution_count": 44,
     "metadata": {},
     "output_type": "execute_result"
    }
   ],
   "source": [
    "nancy_df.index"
   ]
  },
  {
   "cell_type": "code",
   "execution_count": 45,
   "metadata": {},
   "outputs": [
    {
     "data": {
      "text/plain": [
       "(567, 20)"
      ]
     },
     "execution_count": 45,
     "metadata": {},
     "output_type": "execute_result"
    }
   ],
   "source": [
    "nancy_df.shape"
   ]
  },
  {
   "cell_type": "code",
   "execution_count": 46,
   "metadata": {},
   "outputs": [
    {
     "data": {
      "text/plain": [
       "Index(['Pl', 'Numéros réponse', 'Position', 'Réponse (French)',\n",
       "       'Answer (English)', 'Enquête (French)', 'Inquiry (English)',\n",
       "       'Localisation', 'Déterminant', 'Contenu', '4e colonne', 'LOC', 'DET',\n",
       "       'CON', 'QUAL', 'Unnamed: 11', 'Unnamed: 7', 'Unnamed: 8', 'Unnamed: 9',\n",
       "       'Unnamed: 10'],\n",
       "      dtype='object')"
      ]
     },
     "execution_count": 46,
     "metadata": {},
     "output_type": "execute_result"
    }
   ],
   "source": [
    "nancy_df.columns"
   ]
  },
  {
   "cell_type": "markdown",
   "metadata": {},
   "source": [
    "We can see that Localisation, Determinant and Contenu are formated in two different columns"
   ]
  },
  {
   "cell_type": "code",
   "execution_count": 16,
   "metadata": {},
   "outputs": [
    {
     "data": {
      "text/plain": [
       "84"
      ]
     },
     "execution_count": 16,
     "metadata": {},
     "output_type": "execute_result"
    }
   ],
   "source": [
    "nancy_df[\"QUAL\"].notna().sum()"
   ]
  },
  {
   "cell_type": "code",
   "execution_count": 17,
   "metadata": {},
   "outputs": [],
   "source": [
    "# nancy_df['Réponse (French)']"
   ]
  },
  {
   "cell_type": "code",
   "execution_count": 47,
   "metadata": {},
   "outputs": [],
   "source": [
    "cols_drop = ['Pl', 'Numéros réponse', 'Position',\n",
    "            'Enquête (French)', 'Inquiry (English)',\n",
    "            'Localisation', '4e colonne',\n",
    "            'LOC', 'QUAL',\n",
    "            'Unnamed: 11', 'Unnamed: 7', \n",
    "            'Unnamed: 8', 'Unnamed: 9',\n",
    "            'Unnamed: 10']"
   ]
  },
  {
   "cell_type": "code",
   "execution_count": 48,
   "metadata": {},
   "outputs": [],
   "source": [
    "nancy_df.drop(cols_drop, axis=1, inplace=True)"
   ]
  },
  {
   "cell_type": "code",
   "execution_count": 49,
   "metadata": {},
   "outputs": [],
   "source": [
    "nancy_df[\"Déterminant\"] = nancy_df[[\"Déterminant\", \"DET\"]].bfill(axis=1).iloc[:,0]\n",
    "nancy_df[\"Contenu\"] = nancy_df[[\"Contenu\", \"CON\"]].bfill(axis=1).iloc[:,0]"
   ]
  },
  {
   "cell_type": "code",
   "execution_count": 50,
   "metadata": {},
   "outputs": [],
   "source": [
    "nancy_df.drop([\"DET\", \"CON\"], axis = 1, inplace=True)"
   ]
  },
  {
   "cell_type": "markdown",
   "metadata": {},
   "source": [
    "We can see that there were a bunch of responses that were not translated"
   ]
  },
  {
   "cell_type": "code",
   "execution_count": 26,
   "metadata": {},
   "outputs": [
    {
     "data": {
      "text/html": [
       "<div>\n",
       "<style scoped>\n",
       "    .dataframe tbody tr th:only-of-type {\n",
       "        vertical-align: middle;\n",
       "    }\n",
       "\n",
       "    .dataframe tbody tr th {\n",
       "        vertical-align: top;\n",
       "    }\n",
       "\n",
       "    .dataframe thead th {\n",
       "        text-align: right;\n",
       "    }\n",
       "</style>\n",
       "<table border=\"1\" class=\"dataframe\">\n",
       "  <thead>\n",
       "    <tr style=\"text-align: right;\">\n",
       "      <th></th>\n",
       "      <th>Réponse (French)</th>\n",
       "      <th>Answer (English)</th>\n",
       "      <th>Déterminant</th>\n",
       "      <th>Contenu</th>\n",
       "    </tr>\n",
       "  </thead>\n",
       "  <tbody>\n",
       "    <tr>\n",
       "      <th>51</th>\n",
       "      <td>Argh en plus on peut\\n même faire un éléphant,...</td>\n",
       "      <td>NaN</td>\n",
       "      <td>F-</td>\n",
       "      <td>A</td>\n",
       "    </tr>\n",
       "    <tr>\n",
       "      <th>52</th>\n",
       "      <td>Ça peut être des chevaux\\n aussi</td>\n",
       "      <td>NaN</td>\n",
       "      <td>F-</td>\n",
       "      <td>A</td>\n",
       "    </tr>\n",
       "    <tr>\n",
       "      <th>53</th>\n",
       "      <td>Mais un peu sur la même\\n logique, en fait, je...</td>\n",
       "      <td>NaN</td>\n",
       "      <td>F-</td>\n",
       "      <td>(A)</td>\n",
       "    </tr>\n",
       "    <tr>\n",
       "      <th>54</th>\n",
       "      <td>Et là dans le sens-là (me\\n montre la planche ...</td>\n",
       "      <td>NaN</td>\n",
       "      <td>FC’E+</td>\n",
       "      <td>H / Vêt</td>\n",
       "    </tr>\n",
       "    <tr>\n",
       "      <th>55</th>\n",
       "      <td>Mais en fait, sur le\\n principe ça me fait plu...</td>\n",
       "      <td>NaN</td>\n",
       "      <td>kobC’E-</td>\n",
       "      <td>Frag / Art</td>\n",
       "    </tr>\n",
       "    <tr>\n",
       "      <th>56</th>\n",
       "      <td>Et aussi un éléphant, avec\\n les yeux, la trom...</td>\n",
       "      <td>NaN</td>\n",
       "      <td>F+</td>\n",
       "      <td>A</td>\n",
       "    </tr>\n",
       "    <tr>\n",
       "      <th>57</th>\n",
       "      <td>Et alors comme ça, ça\\n fait vachement penser ...</td>\n",
       "      <td>NaN</td>\n",
       "      <td>kob -</td>\n",
       "      <td>Elem</td>\n",
       "    </tr>\n",
       "    <tr>\n",
       "      <th>58</th>\n",
       "      <td>T’as une petite île où t’as\\n plein de fumée q...</td>\n",
       "      <td>NaN</td>\n",
       "      <td>kobE-</td>\n",
       "      <td>Pays/ Elem</td>\n",
       "    </tr>\n",
       "    <tr>\n",
       "      <th>59</th>\n",
       "      <td>Et maintenant que j’ai vu\\n ça, de l’autre côt...</td>\n",
       "      <td>NaN</td>\n",
       "      <td>kob-</td>\n",
       "      <td>Elem</td>\n",
       "    </tr>\n",
       "    <tr>\n",
       "      <th>60</th>\n",
       "      <td>Ça me fait penser à un\\n voilier aussi, mais a...</td>\n",
       "      <td>NaN</td>\n",
       "      <td>FC’-</td>\n",
       "      <td>Obj</td>\n",
       "    </tr>\n",
       "    <tr>\n",
       "      <th>61</th>\n",
       "      <td>Je vois et c’est très joli ça\\n un mix entre u...</td>\n",
       "      <td>NaN</td>\n",
       "      <td>FCE+/-</td>\n",
       "      <td>(A)</td>\n",
       "    </tr>\n",
       "    <tr>\n",
       "      <th>62</th>\n",
       "      <td>: Donc en fait t’as une\\n espèce de rocher là,...</td>\n",
       "      <td>NaN</td>\n",
       "      <td>kanC +</td>\n",
       "      <td>Nat / A</td>\n",
       "    </tr>\n",
       "    <tr>\n",
       "      <th>63</th>\n",
       "      <td>mais une fois encore ça\\n me fait penser à un,...</td>\n",
       "      <td>NaN</td>\n",
       "      <td>CF-</td>\n",
       "      <td>Anat</td>\n",
       "    </tr>\n",
       "    <tr>\n",
       "      <th>64</th>\n",
       "      <td>Ça, ça me fait penser à un\\n squelette mais je...</td>\n",
       "      <td>NaN</td>\n",
       "      <td>FC’Clob-</td>\n",
       "      <td>Squel /Ad</td>\n",
       "    </tr>\n",
       "    <tr>\n",
       "      <th>65</th>\n",
       "      <td>Ça fait un peu labyrinthe\\n de Pan</td>\n",
       "      <td>NaN</td>\n",
       "      <td>FC’-</td>\n",
       "      <td>Arch / Art</td>\n",
       "    </tr>\n",
       "    <tr>\n",
       "      <th>66</th>\n",
       "      <td>: Puis pour le coup, si on\\n occulte un peu l’...</td>\n",
       "      <td>NaN</td>\n",
       "      <td>CkobE -</td>\n",
       "      <td>Pays /\\n Elem /\\n Frag / Bot</td>\n",
       "    </tr>\n",
       "    <tr>\n",
       "      <th>67</th>\n",
       "      <td>humhum ; Là si on\\n regarde que le blanc, pas ...</td>\n",
       "      <td>NaN</td>\n",
       "      <td>KC’-</td>\n",
       "      <td>H / obj</td>\n",
       "    </tr>\n",
       "    <tr>\n",
       "      <th>68</th>\n",
       "      <td>là tu as genre les yeux\\n (montre), il y a que...</td>\n",
       "      <td>NaN</td>\n",
       "      <td>FC’-</td>\n",
       "      <td>H / Mq /\\n vêt</td>\n",
       "    </tr>\n",
       "    <tr>\n",
       "      <th>69</th>\n",
       "      <td>Ça me fait même penser\\n un peu au masque japo...</td>\n",
       "      <td>NaN</td>\n",
       "      <td>FC-</td>\n",
       "      <td>Mq</td>\n",
       "    </tr>\n",
       "    <tr>\n",
       "      <th>70</th>\n",
       "      <td>Tu vois on peut encore\\n retrouver le feu que ...</td>\n",
       "      <td>NaN</td>\n",
       "      <td>EC</td>\n",
       "      <td>Elem /\\n Frag</td>\n",
       "    </tr>\n",
       "    <tr>\n",
       "      <th>71</th>\n",
       "      <td>Au sens large, il y a\\n tellement de têtes gen...</td>\n",
       "      <td>NaN</td>\n",
       "      <td>FC’-</td>\n",
       "      <td>Ad</td>\n",
       "    </tr>\n",
       "    <tr>\n",
       "      <th>72</th>\n",
       "      <td>La encore des yeux, des\\n oreilles, ça me fait...</td>\n",
       "      <td>NaN</td>\n",
       "      <td>FC’-</td>\n",
       "      <td>A</td>\n",
       "    </tr>\n",
       "    <tr>\n",
       "      <th>73</th>\n",
       "      <td>Dans ce sens-là, on dirait\\n une robe de marié...</td>\n",
       "      <td>NaN</td>\n",
       "      <td>CF+</td>\n",
       "      <td>Vêt / Hd</td>\n",
       "    </tr>\n",
       "    <tr>\n",
       "      <th>74</th>\n",
       "      <td>Si on va plus loin, ces\\n trucs là, ça peut êt...</td>\n",
       "      <td>NaN</td>\n",
       "      <td>FC-</td>\n",
       "      <td>(Hd)</td>\n",
       "    </tr>\n",
       "    <tr>\n",
       "      <th>75</th>\n",
       "      <td>Après ça peut me faire\\n penser à tous les ani...</td>\n",
       "      <td>NaN</td>\n",
       "      <td>F+</td>\n",
       "      <td>A</td>\n",
       "    </tr>\n",
       "    <tr>\n",
       "      <th>76</th>\n",
       "      <td>Ça (rose), ça m’a fait\\n penser, c’est impossi...</td>\n",
       "      <td>NaN</td>\n",
       "      <td>F-</td>\n",
       "      <td>obj</td>\n",
       "    </tr>\n",
       "    <tr>\n",
       "      <th>77</th>\n",
       "      <td>maintenant si mais ça m’a\\n pris du temps… mai...</td>\n",
       "      <td>NaN</td>\n",
       "      <td>F-</td>\n",
       "      <td>Pays</td>\n",
       "    </tr>\n",
       "    <tr>\n",
       "      <th>78</th>\n",
       "      <td>Là je vais un peu plus loin\\n en termes d’inte...</td>\n",
       "      <td>NaN</td>\n",
       "      <td>CK-</td>\n",
       "      <td>H / Obj</td>\n",
       "    </tr>\n",
       "    <tr>\n",
       "      <th>79</th>\n",
       "      <td>Cette zone-là, une fois\\n encore, de t’façon j...</td>\n",
       "      <td>NaN</td>\n",
       "      <td>FCE-</td>\n",
       "      <td>Pays</td>\n",
       "    </tr>\n",
       "    <tr>\n",
       "      <th>80</th>\n",
       "      <td>Ça me fait penser à une\\n mouche, non à un mou...</td>\n",
       "      <td>NaN</td>\n",
       "      <td>F+/-</td>\n",
       "      <td>A</td>\n",
       "    </tr>\n",
       "    <tr>\n",
       "      <th>81</th>\n",
       "      <td>Bizarre, je vois un\\n bonhomme mais en négatif...</td>\n",
       "      <td>NaN</td>\n",
       "      <td>FC’-</td>\n",
       "      <td>(H) / vêt</td>\n",
       "    </tr>\n",
       "    <tr>\n",
       "      <th>82</th>\n",
       "      <td>Ça, ça me fait penser à la\\n tour Eiffel</td>\n",
       "      <td>NaN</td>\n",
       "      <td>FC+</td>\n",
       "      <td>Arch</td>\n",
       "    </tr>\n",
       "    <tr>\n",
       "      <th>83</th>\n",
       "      <td>Ça, ça me fait penser à\\n genre des crabes qui...</td>\n",
       "      <td>NaN</td>\n",
       "      <td>kan+</td>\n",
       "      <td>A / Bot</td>\n",
       "    </tr>\n",
       "    <tr>\n",
       "      <th>84</th>\n",
       "      <td>Ça, ça me fait penser à\\n une fourmi qui se ba...</td>\n",
       "      <td>NaN</td>\n",
       "      <td>kanC+</td>\n",
       "      <td>A/ Bot</td>\n",
       "    </tr>\n",
       "    <tr>\n",
       "      <th>85</th>\n",
       "      <td>: Ça, ça me fait penser à des\\n œufs Il y a pl...</td>\n",
       "      <td>NaN</td>\n",
       "      <td>CF-</td>\n",
       "      <td>Alim</td>\n",
       "    </tr>\n",
       "    <tr>\n",
       "      <th>86</th>\n",
       "      <td>Tu vois ça, ça me fait\\n penser à des crevette...</td>\n",
       "      <td>NaN</td>\n",
       "      <td>CF-</td>\n",
       "      <td>Alim</td>\n",
       "    </tr>\n",
       "    <tr>\n",
       "      <th>87</th>\n",
       "      <td>J’arrive vraiment pas à\\n voir l’ensemble, ça,...</td>\n",
       "      <td>NaN</td>\n",
       "      <td>FC +</td>\n",
       "      <td>A / Alim</td>\n",
       "    </tr>\n",
       "    <tr>\n",
       "      <th>88</th>\n",
       "      <td>C’est un peu capillotracté\\n un peu après, mai...</td>\n",
       "      <td>NaN</td>\n",
       "      <td>kobE-</td>\n",
       "      <td>Pays / arch\\n / Elem /\\n Frag</td>\n",
       "    </tr>\n",
       "    <tr>\n",
       "      <th>89</th>\n",
       "      <td>: Là ça me fait penser à une\\n chèvre (rires),...</td>\n",
       "      <td>NaN</td>\n",
       "      <td>FC’-</td>\n",
       "      <td>A</td>\n",
       "    </tr>\n",
       "    <tr>\n",
       "      <th>90</th>\n",
       "      <td>T’as un gouffre tu vois,\\n t’as le bord du gou...</td>\n",
       "      <td>NaN</td>\n",
       "      <td>KE-</td>\n",
       "      <td>H / Nat\\n /Scène</td>\n",
       "    </tr>\n",
       "  </tbody>\n",
       "</table>\n",
       "</div>"
      ],
      "text/plain": [
       "                                     Réponse (French) Answer (English)  \\\n",
       "51  Argh en plus on peut\\n même faire un éléphant,...              NaN   \n",
       "52                   Ça peut être des chevaux\\n aussi              NaN   \n",
       "53  Mais un peu sur la même\\n logique, en fait, je...              NaN   \n",
       "54  Et là dans le sens-là (me\\n montre la planche ...              NaN   \n",
       "55  Mais en fait, sur le\\n principe ça me fait plu...              NaN   \n",
       "56  Et aussi un éléphant, avec\\n les yeux, la trom...              NaN   \n",
       "57  Et alors comme ça, ça\\n fait vachement penser ...              NaN   \n",
       "58  T’as une petite île où t’as\\n plein de fumée q...              NaN   \n",
       "59  Et maintenant que j’ai vu\\n ça, de l’autre côt...              NaN   \n",
       "60  Ça me fait penser à un\\n voilier aussi, mais a...              NaN   \n",
       "61  Je vois et c’est très joli ça\\n un mix entre u...              NaN   \n",
       "62  : Donc en fait t’as une\\n espèce de rocher là,...              NaN   \n",
       "63  mais une fois encore ça\\n me fait penser à un,...              NaN   \n",
       "64  Ça, ça me fait penser à un\\n squelette mais je...              NaN   \n",
       "65                 Ça fait un peu labyrinthe\\n de Pan              NaN   \n",
       "66  : Puis pour le coup, si on\\n occulte un peu l’...              NaN   \n",
       "67  humhum ; Là si on\\n regarde que le blanc, pas ...              NaN   \n",
       "68  là tu as genre les yeux\\n (montre), il y a que...              NaN   \n",
       "69  Ça me fait même penser\\n un peu au masque japo...              NaN   \n",
       "70  Tu vois on peut encore\\n retrouver le feu que ...              NaN   \n",
       "71  Au sens large, il y a\\n tellement de têtes gen...              NaN   \n",
       "72  La encore des yeux, des\\n oreilles, ça me fait...              NaN   \n",
       "73  Dans ce sens-là, on dirait\\n une robe de marié...              NaN   \n",
       "74  Si on va plus loin, ces\\n trucs là, ça peut êt...              NaN   \n",
       "75  Après ça peut me faire\\n penser à tous les ani...              NaN   \n",
       "76  Ça (rose), ça m’a fait\\n penser, c’est impossi...              NaN   \n",
       "77  maintenant si mais ça m’a\\n pris du temps… mai...              NaN   \n",
       "78  Là je vais un peu plus loin\\n en termes d’inte...              NaN   \n",
       "79  Cette zone-là, une fois\\n encore, de t’façon j...              NaN   \n",
       "80  Ça me fait penser à une\\n mouche, non à un mou...              NaN   \n",
       "81  Bizarre, je vois un\\n bonhomme mais en négatif...              NaN   \n",
       "82           Ça, ça me fait penser à la\\n tour Eiffel              NaN   \n",
       "83  Ça, ça me fait penser à\\n genre des crabes qui...              NaN   \n",
       "84  Ça, ça me fait penser à\\n une fourmi qui se ba...              NaN   \n",
       "85  : Ça, ça me fait penser à des\\n œufs Il y a pl...              NaN   \n",
       "86  Tu vois ça, ça me fait\\n penser à des crevette...              NaN   \n",
       "87  J’arrive vraiment pas à\\n voir l’ensemble, ça,...              NaN   \n",
       "88  C’est un peu capillotracté\\n un peu après, mai...              NaN   \n",
       "89  : Là ça me fait penser à une\\n chèvre (rires),...              NaN   \n",
       "90  T’as un gouffre tu vois,\\n t’as le bord du gou...              NaN   \n",
       "\n",
       "   Déterminant                        Contenu  \n",
       "51          F-                              A  \n",
       "52          F-                              A  \n",
       "53          F-                            (A)  \n",
       "54       FC’E+                        H / Vêt  \n",
       "55     kobC’E-                     Frag / Art  \n",
       "56          F+                              A  \n",
       "57       kob -                           Elem  \n",
       "58       kobE-                     Pays/ Elem  \n",
       "59        kob-                           Elem  \n",
       "60        FC’-                            Obj  \n",
       "61      FCE+/-                            (A)  \n",
       "62      kanC +                        Nat / A  \n",
       "63         CF-                           Anat  \n",
       "64    FC’Clob-                      Squel /Ad  \n",
       "65        FC’-                     Arch / Art  \n",
       "66     CkobE -   Pays /\\n Elem /\\n Frag / Bot  \n",
       "67        KC’-                        H / obj  \n",
       "68        FC’-                 H / Mq /\\n vêt  \n",
       "69         FC-                             Mq  \n",
       "70          EC                  Elem /\\n Frag  \n",
       "71        FC’-                             Ad  \n",
       "72        FC’-                              A  \n",
       "73         CF+                       Vêt / Hd  \n",
       "74         FC-                           (Hd)  \n",
       "75          F+                              A  \n",
       "76          F-                            obj  \n",
       "77          F-                           Pays  \n",
       "78         CK-                        H / Obj  \n",
       "79        FCE-                           Pays  \n",
       "80        F+/-                              A  \n",
       "81        FC’-                      (H) / vêt  \n",
       "82         FC+                           Arch  \n",
       "83        kan+                        A / Bot  \n",
       "84       kanC+                         A/ Bot  \n",
       "85         CF-                           Alim  \n",
       "86         CF-                           Alim  \n",
       "87        FC +                       A / Alim  \n",
       "88       kobE-  Pays / arch\\n / Elem /\\n Frag  \n",
       "89        FC’-                              A  \n",
       "90         KE-               H / Nat\\n /Scène  "
      ]
     },
     "execution_count": 26,
     "metadata": {},
     "output_type": "execute_result"
    }
   ],
   "source": [
    "nancy_df[(nancy_df[\"Answer (English)\"].isna()) & (nancy_df[\"Réponse (French)\"].notna())]"
   ]
  },
  {
   "cell_type": "code",
   "execution_count": 32,
   "metadata": {},
   "outputs": [],
   "source": [
    "to_translate = nancy_df[(nancy_df[\"Answer (English)\"].isna()) & (nancy_df[\"Réponse (French)\"].notna())]"
   ]
  },
  {
   "cell_type": "code",
   "execution_count": 23,
   "metadata": {},
   "outputs": [],
   "source": [
    "with open(r\"..\\DEEPL_KEY\\DEEPL_API_KEY.txt\", \"r\") as f:\n",
    "    API_KEY = f.read().strip(\"\\n\")"
   ]
  },
  {
   "cell_type": "code",
   "execution_count": 35,
   "metadata": {},
   "outputs": [],
   "source": [
    "import deepl\n",
    "\n",
    "def translate_text(text):\n",
    "    \n",
    "    translator = deepl.Translator(API_KEY)\n",
    "    result = translator.translate_text(text, target_lang=\"EN-US\", preserve_formatting=True)\n",
    "    return result"
   ]
  },
  {
   "cell_type": "code",
   "execution_count": 36,
   "metadata": {},
   "outputs": [
    {
     "name": "stderr",
     "output_type": "stream",
     "text": [
      "C:\\Users\\alber\\AppData\\Local\\Temp\\ipykernel_17964\\993219027.py:1: SettingWithCopyWarning: \n",
      "A value is trying to be set on a copy of a slice from a DataFrame.\n",
      "Try using .loc[row_indexer,col_indexer] = value instead\n",
      "\n",
      "See the caveats in the documentation: https://pandas.pydata.org/pandas-docs/stable/user_guide/indexing.html#returning-a-view-versus-a-copy\n",
      "  to_translate[\"Answer (English)\"] = to_translate[\"Réponse (French)\"].apply(translate_text)\n"
     ]
    }
   ],
   "source": [
    "# to_translate[\"Answer (English)\"] = to_translate[\"Réponse (French)\"].apply(translate_text)"
   ]
  },
  {
   "cell_type": "code",
   "execution_count": 51,
   "metadata": {},
   "outputs": [],
   "source": [
    "nancy_df = pd.concat([nancy_df.reset_index(drop=True), to_translate.reset_index(drop=True)], axis=0)"
   ]
  },
  {
   "cell_type": "code",
   "execution_count": 109,
   "metadata": {},
   "outputs": [],
   "source": [
    "nancy_df.dropna(inplace=True)"
   ]
  },
  {
   "cell_type": "code",
   "execution_count": 110,
   "metadata": {},
   "outputs": [],
   "source": [
    "nancy_df.to_csv(\"Nancy_clean.csv\")"
   ]
  },
  {
   "cell_type": "markdown",
   "metadata": {},
   "source": [
    "Separating the labels from determinants and contents"
   ]
  },
  {
   "cell_type": "code",
   "execution_count": 111,
   "metadata": {},
   "outputs": [],
   "source": [
    "import pandas as pd \n",
    "import re\n",
    "\n",
    "nancy_df = pd.read_csv(\"Nancy_clean.csv\")"
   ]
  },
  {
   "cell_type": "code",
   "execution_count": 112,
   "metadata": {},
   "outputs": [],
   "source": [
    "nancy_contents = nancy_df[[\"Answer (English)\", \"Contenu\"]]\n",
    "nancy_determinants = nancy_df[[\"Answer (English)\", \"Déterminant\"]]"
   ]
  },
  {
   "cell_type": "markdown",
   "metadata": {},
   "source": [
    "### Content labels"
   ]
  },
  {
   "cell_type": "code",
   "execution_count": 113,
   "metadata": {},
   "outputs": [
    {
     "data": {
      "text/plain": [
       "Contenu\n",
       "A                   85\n",
       "Hd                  32\n",
       "Ad                  29\n",
       "Obj                 23\n",
       "Anat                14\n",
       "                    ..\n",
       "H/Obj/Vet            1\n",
       "(Hd)/Symb            1\n",
       "A/Frag/sg            1\n",
       "H/Hd                 1\n",
       "H / Nat\\n /Scène     1\n",
       "Name: count, Length: 109, dtype: int64"
      ]
     },
     "execution_count": 113,
     "metadata": {},
     "output_type": "execute_result"
    }
   ],
   "source": [
    "nancy_contents[\"Contenu\"].value_counts()"
   ]
  },
  {
   "cell_type": "code",
   "execution_count": 114,
   "metadata": {},
   "outputs": [
    {
     "name": "stderr",
     "output_type": "stream",
     "text": [
      "C:\\Users\\alber\\AppData\\Local\\Temp\\ipykernel_17964\\4195384464.py:2: SettingWithCopyWarning: \n",
      "A value is trying to be set on a copy of a slice from a DataFrame.\n",
      "Try using .loc[row_indexer,col_indexer] = value instead\n",
      "\n",
      "See the caveats in the documentation: https://pandas.pydata.org/pandas-docs/stable/user_guide/indexing.html#returning-a-view-versus-a-copy\n",
      "  nancy_contents[\"Contenu\"] = labels\n"
     ]
    }
   ],
   "source": [
    "labels = nancy_contents[\"Contenu\"].str.replace(\"\\n\", \"\")\n",
    "nancy_contents[\"Contenu\"] = labels\n",
    "# nancy_contents"
   ]
  },
  {
   "cell_type": "code",
   "execution_count": 121,
   "metadata": {},
   "outputs": [],
   "source": [
    "def split_labels(text):\n",
    "    text = str(text).replace(\" \", \"\").replace(\"\\r\", \"\").upper()\n",
    "    labels = text.split(\"/\")\n",
    "    return labels"
   ]
  },
  {
   "cell_type": "code",
   "execution_count": 122,
   "metadata": {},
   "outputs": [],
   "source": [
    "labels_contents = nancy_contents[\"Contenu\"].apply(split_labels)"
   ]
  },
  {
   "cell_type": "code",
   "execution_count": 123,
   "metadata": {},
   "outputs": [
    {
     "data": {
      "text/plain": [
       "0                         [(A)]\n",
       "1                           [H]\n",
       "2                         [OBJ]\n",
       "3                           [A]\n",
       "4                          [HD]\n",
       "                 ...           \n",
       "375                      [ALIM]\n",
       "376                   [A, ALIM]\n",
       "377    [PAYS, ARCH, ELEM, FRAG]\n",
       "378                         [A]\n",
       "379             [H, NAT, SCÈNE]\n",
       "Name: Contenu, Length: 380, dtype: object"
      ]
     },
     "execution_count": 123,
     "metadata": {},
     "output_type": "execute_result"
    }
   ],
   "source": [
    "labels_contents"
   ]
  },
  {
   "cell_type": "code",
   "execution_count": 124,
   "metadata": {},
   "outputs": [],
   "source": [
    "labels_contents = labels_contents.str.join('|').str.get_dummies()"
   ]
  },
  {
   "cell_type": "code",
   "execution_count": 126,
   "metadata": {},
   "outputs": [
    {
     "data": {
      "text/plain": [
       "(380, 35)"
      ]
     },
     "execution_count": 126,
     "metadata": {},
     "output_type": "execute_result"
    }
   ],
   "source": [
    "labels_contents.shape"
   ]
  },
  {
   "cell_type": "code",
   "execution_count": 125,
   "metadata": {},
   "outputs": [
    {
     "data": {
      "text/plain": [
       "Index(['(A)', '(AD)', '(H)', '(HD)', 'A', 'ABS', 'AD', 'AENF', 'ALIM', 'ANAT',\n",
       "       'ARCH', 'ART', 'BOT', 'ELEM', 'EXPLOSION', 'FRAG', 'GEO', 'GÉO', 'H',\n",
       "       'HBARRÉ', 'HD', 'HENF', 'MQ', 'NAT', 'OBJ', 'PAYS', 'RADIO', 'SCEN',\n",
       "       'SCÈNE', 'SEX', 'SG', 'SQUEL', 'SYMB', 'VET', 'VÊT'],\n",
       "      dtype='object')"
      ]
     },
     "execution_count": 125,
     "metadata": {},
     "output_type": "execute_result"
    }
   ],
   "source": [
    "labels_contents.columns"
   ]
  },
  {
   "cell_type": "markdown",
   "metadata": {},
   "source": [
    "Some labels have been written in different ways and we'll have to make a translation dictionary of some sorts to pass at the same time as the splitting function"
   ]
  },
  {
   "cell_type": "markdown",
   "metadata": {},
   "source": [
    "### Determinant labels"
   ]
  },
  {
   "cell_type": "code",
   "execution_count": 107,
   "metadata": {},
   "outputs": [
    {
     "data": {
      "text/plain": [
       "Déterminant\n",
       "F-                       87\n",
       "F+                       57\n",
       "FC’-                     15\n",
       "FC-                      14\n",
       "F+/-                      9\n",
       "                         ..\n",
       "EKob\\r\\nclob\\r\\nC’-\\r     1\n",
       "Kob-                      1\n",
       "KobE C'-                  1\n",
       "E KanC-                   1\n",
       "kob +- C                  1\n",
       "Name: count, Length: 114, dtype: int64"
      ]
     },
     "execution_count": 107,
     "metadata": {},
     "output_type": "execute_result"
    }
   ],
   "source": [
    "nancy_determinants[\"Déterminant\"].value_counts()"
   ]
  }
 ],
 "metadata": {
  "kernelspec": {
   "display_name": "Python 3",
   "language": "python",
   "name": "python3"
  },
  "language_info": {
   "codemirror_mode": {
    "name": "ipython",
    "version": 3
   },
   "file_extension": ".py",
   "mimetype": "text/x-python",
   "name": "python",
   "nbconvert_exporter": "python",
   "pygments_lexer": "ipython3",
   "version": "3.12.0"
  }
 },
 "nbformat": 4,
 "nbformat_minor": 2
}
